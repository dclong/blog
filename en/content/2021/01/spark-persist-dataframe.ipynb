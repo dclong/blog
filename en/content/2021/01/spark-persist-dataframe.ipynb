{
 "cells": [
  {
   "cell_type": "markdown",
   "metadata": {},
   "source": [
    "- Title: Persist DataFrame in Spark\n",
    "- Slug: spark-persist-dataframe\n",
    "- Date: 2021-02-28 23:43:44\n",
    "- Category: Computer Science\n",
    "- Tags: programming, Scala, Spark, DataFrame, persist, big data, cache, checkpoint\n",
    "- Author: Ben Du"
   ]
  },
  {
   "cell_type": "markdown",
   "metadata": {},
   "source": [
    "## Tips & Trap\n",
    "\n",
    "1. `DataFrame.cache` caches/persists a DataFrame to the default storage level (`MEMORY_AND_DISK`)\n",
    "    while `DataFrame.persist` is more flexible on storage leve.\n",
    "    Notice that `DataFrame.persist()` is equivalent to `DataFrame.cache()`. \n",
    "    To sum up,\n",
    "    `DataFrame.persist` is preferred over `DataFrame.cache`. \n",
    "    In addition,\n",
    "    `DataFrame.persist` is perferred over `DataFrame.checkpoint`.\n",
    "\n",
    "2. The definition of the class `pyspark.StorageLevel` is as below.\n",
    "\n",
    "        :::python\n",
    "        class pyspark.StorageLevel(useDisk, useMemory, useOffHeap, deserialized, replication = 1)\n",
    "            ...\n",
    "\n",
    "    And it has the following pre-defined instances.\n",
    "\n",
    "    - DISK_ONLY = StorageLevel(True, False, False, False, 1)\n",
    "\n",
    "    - DISK_ONLY_2 = StorageLevel(True, False, False, False, 2)\n",
    "\n",
    "    - MEMORY_AND_DISK = StorageLevel(True, True, False, False, 1)\n",
    "\n",
    "    - MEMORY_AND_DISK_2 = StorageLevel(True, True, False, False, 2)\n",
    "\n",
    "    - MEMORY_AND_DISK_SER = StorageLevel(True, True, False, False, 1)\n",
    "\n",
    "    - MEMORY_AND_DISK_SER_2 = StorageLevel(True, True, False, False, 2)\n",
    "\n",
    "    - MEMORY_ONLY = StorageLevel(False, True, False, False, 1)\n",
    "\n",
    "    - MEMORY_ONLY_2 = StorageLevel(False, True, False, False, 2)\n",
    "\n",
    "    - MEMORY_ONLY_SER = StorageLevel(False, True, False, False, 1)\n",
    "\n",
    "    - MEMORY_ONLY_SER_2 = StorageLevel(False, True, False, False, 2)\n",
    "\n",
    "    - OFF_HEAP = StorageLevel(True, True, True, False, 1)\n",
    "\n",
    "3. The method `DataFrame.persist` returns itself,\n",
    "    which means that you can chain methods after it.\n",
    "\n",
    "2. Persist a DataFrame which is used multiple times and expensive to recompute.\n",
    "    Remembe to unpersist it too when the DataFrame is no longer needed. \n",
    "    Even Spark evict data from memory using the LRU (least recently used) strategy\n",
    "    when the caching layer becomes full,\n",
    "    it is still beneficial to unpersist data as soon as it is no used any more to reduce memory usage.\n",
    "\n",
    "3. Persisting too many DataFrames into memory can cause memory issues.\n",
    "    There are a few ways to address memory issues caused by this.\n",
    "    - Increase memory.\n",
    "    - Persist only the most reused DataFrames into memory.\n",
    "    - Persist other DataFrame into disk. \n",
    "    Generally speaking,\n"
   ]
  },
  {
   "cell_type": "code",
   "execution_count": null,
   "metadata": {},
   "outputs": [],
   "source": [
    "import pandas as pd\n",
    "import findspark\n",
    "findspark.init(\"/opt/spark-3.0.0-bin-hadoop3.2/\")\n",
    "\n",
    "from pyspark.sql import SparkSession, DataFrame\n",
    "from pyspark.sql.functions import *\n",
    "from pyspark.sql.types import IntegerType, StringType, StructType\n",
    "spark = SparkSession.builder.appName(\"PySpark UDF\").enableHiveSupport().getOrCreate()"
   ]
  },
  {
   "cell_type": "code",
   "execution_count": 6,
   "metadata": {},
   "outputs": [
    {
     "data": {
      "text/plain": [
       "org.apache.spark.sql.SparkSession$implicits$@5c525748"
      ]
     },
     "execution_count": 6,
     "metadata": {},
     "output_type": "execute_result"
    }
   ],
   "source": [
    "import org.apache.spark.sql.SparkSession\n",
    "import org.apache.spark.storage.StorageLevel\n",
    "\n",
    "val spark = SparkSession\n",
    "    .builder()\n",
    "    .master(\"local[2]\")\n",
    "    .appName(\"Spark SQL Parser\")\n",
    "    .getOrCreate()\n",
    "import spark.implicits._"
   ]
  },
  {
   "cell_type": "code",
   "execution_count": 8,
   "metadata": {},
   "outputs": [
    {
     "name": "stdout",
     "output_type": "stream",
     "text": [
      "+----+----+----+----+\n",
      "|col1|col2|col3|col4|\n",
      "+----+----+----+----+\n",
      "|   1|   a| foo| 3.0|\n",
      "|   2|   b| bar| 4.0|\n",
      "|   3|   c| foo| 5.0|\n",
      "|   4|   d| bar| 7.0|\n",
      "+----+----+----+----+\n",
      "\n"
     ]
    },
    {
     "data": {
      "text/plain": [
       "null"
      ]
     },
     "execution_count": 8,
     "metadata": {},
     "output_type": "execute_result"
    }
   ],
   "source": [
    "val df = Seq(\n",
    "    (1L, \"a\", \"foo\", 3.0),\n",
    "    (2L, \"b\", \"bar\", 4.0),\n",
    "    (3L, \"c\", \"foo\", 5.0),\n",
    "    (4L, \"d\", \"bar\", 7.0)\n",
    ").toDF(\"col1\", \"col2\", \"col3\", \"col4\")\n",
    "df.show"
   ]
  },
  {
   "cell_type": "markdown",
   "metadata": {},
   "source": [
    "Persist `df` to memory."
   ]
  },
  {
   "cell_type": "code",
   "execution_count": 9,
   "metadata": {},
   "outputs": [
    {
     "data": {
      "text/plain": [
       "[col1: bigint, col2: string ... 2 more fields]"
      ]
     },
     "execution_count": 9,
     "metadata": {},
     "output_type": "execute_result"
    }
   ],
   "source": [
    "df.persist(StorageLevel.MEMORY_ONLY)"
   ]
  },
  {
   "cell_type": "markdown",
   "metadata": {},
   "source": [
    "Verify that `df` has been persisted to memory."
   ]
  },
  {
   "cell_type": "code",
   "execution_count": 12,
   "metadata": {},
   "outputs": [
    {
     "data": {
      "text/plain": [
       "StorageLevel(memory, deserialized, 1 replicas)"
      ]
     },
     "execution_count": 12,
     "metadata": {},
     "output_type": "execute_result"
    }
   ],
   "source": [
    "df.storageLevel"
   ]
  },
  {
   "cell_type": "markdown",
   "metadata": {},
   "source": [
    "## References\n",
    "\n",
    "https://spark.apache.org/docs/latest/api/java/index.html?org/apache/spark/sql/Dataset.html\n",
    "\n",
    "https://spark.apache.org/docs/latest/api/java/index.html?org/apache/spark/sql/functions.html\n",
    "\n",
    "https://spark.apache.org/docs/latest/api/java/org/apache/spark/sql/Row.html\n",
    "\n",
    "https://spark.apache.org/docs/2.3.0/api/java/org/apache/spark/storage/StorageLevel.html\n",
    "\n",
    "[Caching Spark DataFrame \u2014 How & When](https://medium.com/swlh/caching-spark-dataframe-how-when-79a8c13254c0)\n",
    "\n",
    "[PySpark - StorageLevel](https://www.tutorialspoint.com/pyspark/pyspark_storagelevel.htm)\n"
   ]
  },
  {
   "cell_type": "code",
   "execution_count": null,
   "metadata": {},
   "outputs": [],
   "source": []
  }
 ],
 "metadata": {
  "kernelspec": {
   "display_name": "Scala",
   "language": "scala",
   "name": "scala"
  },
  "language_info": {
   "codemirror_mode": "text/x-scala",
   "file_extension": ".sc",
   "mimetype": "text/x-scala",
   "name": "scala",
   "nbconvert_exporter": "script",
   "version": "2.13.3"
  }
 },
 "nbformat": 4,
 "nbformat_minor": 4
}