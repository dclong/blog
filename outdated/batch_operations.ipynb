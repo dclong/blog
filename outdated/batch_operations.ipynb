{
 "cells": [
  {
   "source": [
    "from pathlib import Path"
   ],
   "cell_type": "code",
   "outputs": [],
   "metadata": {},
   "execution_count": 17
  },
  {
   "source": [
    "olds = [\"\"\"\n",
    "Things on this page are\n",
    "fragmentary and immature notes/thoughts of the author.\n",
    "It is not meant to readers\n",
    "but rather for convenient reference of the author and future improvement.\n",
    "\"\"\".strip(),\n",
    "\"\"\"\n",
    "Things on this page are fragmentary and immature notes/thoughts of the author. \n",
    "Please read with your own judgement!\n",
    "\"\"\".strip()\n",
    "]\n",
    "new = \"\"\"\n",
    "Things under legendu.net/outdated are outdated technologies \n",
    "that the author does not plan to update any more. \n",
    "Please look for better alternatives. \n",
    "\"\"\".strip()"
   ],
   "cell_type": "code",
   "outputs": [],
   "metadata": {},
   "execution_count": 18
  },
  {
   "source": [
    "for path in Path(\"content\").glob(\"*.markdown\"):\n",
    "    text = path.read_text()\n",
    "    for old in olds:\n",
    "        text = text.replace(old, new)\n",
    "    with path.open(\"w\") as fout:\n",
    "        fout.write(text)"
   ],
   "cell_type": "code",
   "outputs": [],
   "metadata": {},
   "execution_count": 19
  },
  {
   "source": [
    "import os"
   ],
   "cell_type": "code",
   "outputs": [],
   "metadata": {},
   "execution_count": 21
  },
  {
   "source": [
    "os.getcwd()"
   ],
   "cell_type": "code",
   "outputs": [
    {
     "output_type": "execute_result",
     "data": {
      "text/plain": "'/workspace/blog'"
     },
     "metadata": {},
     "execution_count": 22
    }
   ],
   "metadata": {},
   "execution_count": 22
  },
  {
   "cell_type": "code",
   "execution_count": null,
   "metadata": {},
   "outputs": [],
   "source": []
  }
 ],
 "metadata": {
  "kernelspec": {
   "display_name": "Python 3",
   "language": "python",
   "name": "python3"
  },
  "language_info": {
   "codemirror_mode": {
    "name": "ipython",
    "version": 3
   },
   "file_extension": ".py",
   "mimetype": "text/x-python",
   "name": "python",
   "nbconvert_exporter": "python",
   "pygments_lexer": "ipython3",
   "version": "3.7.5"
  }
 },
 "nbformat": 4,
 "nbformat_minor": 4
}