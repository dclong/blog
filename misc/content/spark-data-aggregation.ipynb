{
 "cells": [
  {
   "cell_type": "markdown",
   "metadata": {},
   "source": [
    "- Title: Aggregate DataFrames in Spark\n",
    "- Slug: spark-dataframe-aggregation\n",
    "- Date: 2019-12-20\n",
    "- Category: Programming\n",
    "- Tags: programming, Scala, Spark, DataFrame, aggregation, group by\n",
    "- Author: Ben Du"
   ]
  },
  {
   "cell_type": "code",
   "execution_count": 1,
   "metadata": {},
   "outputs": [
    {
     "data": {
      "application/vnd.jupyter.widget-view+json": {
       "model_id": "",
       "version_major": 2,
       "version_minor": 0
      },
      "method": "display_data"
     },
     "metadata": {},
     "output_type": "display_data"
    },
    {
     "data": {
      "application/vnd.jupyter.widget-view+json": {
       "model_id": "b9e6c743-879a-469c-8956-e34a3a2e4465",
       "version_major": 2,
       "version_minor": 0
      },
      "method": "display_data"
     },
     "metadata": {},
     "output_type": "display_data"
    }
   ],
   "source": [
    "%%classpath add mvn\n",
    "org.apache.spark spark-core_2.11 2.3.1\n",
    "org.apache.spark spark-sql_2.11 2.3.1"
   ]
  },
  {
   "cell_type": "code",
   "execution_count": 2,
   "metadata": {},
   "outputs": [
    {
     "data": {
      "text/plain": [
       "org.apache.spark.sql.SparkSession$implicits$@3ec6ab2"
      ]
     },
     "execution_count": 2,
     "metadata": {},
     "output_type": "execute_result"
    }
   ],
   "source": [
    "import org.apache.spark.sql.SparkSession\n",
    "\n",
    "val spark = SparkSession\n",
    "    .builder()\n",
    "    .master(\"local[2]\")\n",
    "    .appName(\"Spark Aggregation\")\n",
    "    .getOrCreate()\n",
    "spark\n",
    "\n",
    "import spark.implicits._"
   ]
  },
  {
   "cell_type": "code",
   "execution_count": 3,
   "metadata": {},
   "outputs": [
    {
     "name": "stdout",
     "output_type": "stream",
     "text": [
      "+-----+-----+-----+\n",
      "|fname|lname|score|\n",
      "+-----+-----+-----+\n",
      "|  Ben|   Du|    1|\n",
      "|  Ben|   Du|    2|\n",
      "|  Ben|   Tu|    3|\n",
      "|  Ben|   Tu|    4|\n",
      "|  Ken|   Xu|    1|\n",
      "|  Ken|   Xu|    9|\n",
      "+-----+-----+-----+\n",
      "\n"
     ]
    },
    {
     "data": {
      "text/plain": [
       "null"
      ]
     },
     "execution_count": 3,
     "metadata": {},
     "output_type": "execute_result"
    }
   ],
   "source": [
    "import org.apache.spark.sql.functions._\n",
    "\n",
    "val df = Seq(\n",
    "    (\"Ben\", \"Du\", 1),\n",
    "    (\"Ben\", \"Du\", 2),\n",
    "    (\"Ben\", \"Tu\", 3),\n",
    "    (\"Ben\", \"Tu\", 4),\n",
    "    (\"Ken\", \"Xu\", 1),\n",
    "    (\"Ken\", \"Xu\", 9)\n",
    ").toDF(\"fname\", \"lname\", \"score\")\n",
    "df.show"
   ]
  },
  {
   "cell_type": "markdown",
   "metadata": {},
   "source": [
    "## Aggregation Without Grouping\n",
    "\n",
    "1. You can aggregate all values in Columns of a DataFrame.\n",
    "    Just use aggregation functions in `select` without `groupBy`,\n",
    "    which is very similar to SQL syntax.\n",
    "    \n",
    "2. Spark has no aggregation functions such as `all` and `any`. \n",
    "    However,\n",
    "    they can be achieved using other aggregation functions such as `sum` and `count`."
   ]
  },
  {
   "cell_type": "code",
   "execution_count": 4,
   "metadata": {},
   "outputs": [
    {
     "name": "stdout",
     "output_type": "stream",
     "text": [
      "+--------------+-------------+---------+\n",
      "|num_first_name|num_last_name|sum_score|\n",
      "+--------------+-------------+---------+\n",
      "|             6|            6|       20|\n",
      "+--------------+-------------+---------+\n",
      "\n"
     ]
    }
   ],
   "source": [
    "df.select(\n",
    "    count(\"fname\").alias(\"num_first_name\"),\n",
    "    count(\"lname\").alias(\"num_last_name\"),\n",
    "    sum(\"score\").alias(\"sum_score\")\n",
    ").show"
   ]
  },
  {
   "cell_type": "markdown",
   "metadata": {},
   "source": [
    "## Aggregation Using `groupBy`"
   ]
  },
  {
   "cell_type": "markdown",
   "metadata": {},
   "source": [
    "You can use position alias in group by in Spark SQL!!!"
   ]
  },
  {
   "cell_type": "code",
   "execution_count": 4,
   "metadata": {},
   "outputs": [],
   "source": [
    "df.createOrReplaceTempView(\"people\")"
   ]
  },
  {
   "cell_type": "code",
   "execution_count": 7,
   "metadata": {},
   "outputs": [
    {
     "name": "stdout",
     "output_type": "stream",
     "text": [
      "+-----+---+\n",
      "|fname|  n|\n",
      "+-----+---+\n",
      "|  Ben|  4|\n",
      "|  Ken|  2|\n",
      "+-----+---+\n",
      "\n"
     ]
    }
   ],
   "source": [
    "spark.sql(\"select fname, count(*) as n from people group by 1\").show"
   ]
  },
  {
   "cell_type": "markdown",
   "metadata": {},
   "source": [
    "### sum"
   ]
  },
  {
   "cell_type": "markdown",
   "metadata": {},
   "source": [
    "1. `sum` ignores `null`\n",
    "\n",
    "2. When all values are `null`, `sum` returns `null`."
   ]
  },
  {
   "cell_type": "markdown",
   "metadata": {},
   "source": [
    "`sum` ignores `null`."
   ]
  },
  {
   "cell_type": "code",
   "execution_count": 1,
   "metadata": {},
   "outputs": [
    {
     "name": "stdout",
     "output_type": "stream",
     "text": [
      "+----------+-----+\n",
      "|      date|value|\n",
      "+----------+-----+\n",
      "|2017-01-01|    1|\n",
      "|2017-01-01|   10|\n",
      "|2017-02-01|    2|\n",
      "|2017-02-01| null|\n",
      "+----------+-----+\n",
      "\n"
     ]
    },
    {
     "data": {
      "text/plain": [
       "df = [date: string, value: bigint]\n"
      ]
     },
     "metadata": {},
     "output_type": "display_data",
     "source": "user"
    },
    {
     "data": {
      "text/plain": [
       "[date: string, value: bigint]"
      ]
     },
     "execution_count": 1,
     "metadata": {},
     "output_type": "execute_result"
    }
   ],
   "source": [
    "val df = Seq(\n",
    "    (\"2017-01-01\", 1L),\n",
    "    (\"2017-01-01\", 10L),\n",
    "    (\"2017-02-01\", 2L),\n",
    "    (\"2017-02-01\", 22L)\n",
    ").toDF(\"date\", \"value\").\n",
    "withColumn(\"value\", when($\"value\" > 20, null).otherwise($\"value\"))\n",
    "df.show"
   ]
  },
  {
   "cell_type": "code",
   "execution_count": 16,
   "metadata": {},
   "outputs": [
    {
     "name": "stdout",
     "output_type": "stream",
     "text": [
      "[Stage 0:>                                                          (0 + 4) / 4]+----------+---+\n",
      "|      date|  s|\n",
      "+----------+---+\n",
      "|2017-01-01| 11|\n",
      "|2017-02-01|  2|\n",
      "+----------+---+\n",
      "\n"
     ]
    },
    {
     "data": {
      "text/plain": [
       "lastException: Throwable = null\n"
      ]
     },
     "metadata": {},
     "output_type": "display_data",
     "source": "user"
    }
   ],
   "source": [
    "df.groupBy(\"date\").agg(sum($\"value\").alias(\"s\")).show"
   ]
  },
  {
   "cell_type": "markdown",
   "metadata": {},
   "source": [
    "When all values are `null`, `sum` returns `null`."
   ]
  },
  {
   "cell_type": "code",
   "execution_count": 1,
   "metadata": {},
   "outputs": [
    {
     "name": "stdout",
     "output_type": "stream",
     "text": [
      "+----+-------+-------+\n",
      "| age|   name|is_null|\n",
      "+----+-------+-------+\n",
      "|null|Michael|      1|\n",
      "|  30|   Andy|      0|\n",
      "|  19| Justin|      0|\n",
      "+----+-------+-------+\n",
      "\n"
     ]
    },
    {
     "data": {
      "text/plain": [
       "df = [age: bigint, name: string ... 1 more field]\n"
      ]
     },
     "metadata": {},
     "output_type": "display_data",
     "source": "user"
    },
    {
     "data": {
      "text/plain": [
       "[age: bigint, name: string ... 1 more field]"
      ]
     },
     "execution_count": 1,
     "metadata": {},
     "output_type": "execute_result"
    }
   ],
   "source": [
    "import org.apache.spark.sql.functions._\n",
    "val df = spark.read.json(\"../data/people.json\").\n",
    "    withColumn(\"is_null\", when($\"age\".isNull, 1).otherwise(0))\n",
    "df.show"
   ]
  },
  {
   "cell_type": "markdown",
   "metadata": {},
   "source": [
    "Specify an alias for the column after aggregation."
   ]
  },
  {
   "cell_type": "code",
   "execution_count": 26,
   "metadata": {},
   "outputs": [
    {
     "name": "stdout",
     "output_type": "stream",
     "text": [
      "+-------+----+\n",
      "|is_null|sage|\n",
      "+-------+----+\n",
      "|      1|null|\n",
      "|      0|  49|\n",
      "+-------+----+\n",
      "\n"
     ]
    }
   ],
   "source": [
    "df.groupBy(\"is_null\").agg(sum(\"age\").alias(\"sage\")).show"
   ]
  },
  {
   "cell_type": "markdown",
   "metadata": {},
   "source": [
    "## Group By Multiple Columns"
   ]
  },
  {
   "cell_type": "code",
   "execution_count": 7,
   "metadata": {},
   "outputs": [
    {
     "name": "stdout",
     "output_type": "stream",
     "text": [
      "+-----+-----+----------+\n",
      "|fname|lname|sum(score)|\n",
      "+-----+-----+----------+\n",
      "|  Ben|   Du|         3|\n",
      "|  Ken|   Xu|        10|\n",
      "|  Ben|   Tu|         7|\n",
      "+-----+-----+----------+\n",
      "\n"
     ]
    },
    {
     "data": {
      "text/plain": [
       "null"
      ]
     },
     "execution_count": 7,
     "metadata": {},
     "output_type": "execute_result"
    }
   ],
   "source": [
    "df.groupBy(\"fname\", \"lname\").sum().show"
   ]
  },
  {
   "cell_type": "code",
   "execution_count": 3,
   "metadata": {},
   "outputs": [
    {
     "name": "stdout",
     "output_type": "stream",
     "text": [
      "+----+-------+\n",
      "| age|   name|\n",
      "+----+-------+\n",
      "|null|Michael|\n",
      "|  30|   Andy|\n",
      "|  19| Justin|\n",
      "+----+-------+\n",
      "\n"
     ]
    },
    {
     "data": {
      "text/plain": [
       "null"
      ]
     },
     "execution_count": 3,
     "metadata": {},
     "output_type": "execute_result"
    }
   ],
   "source": [
    "val df = spark.read.json(\"../../data/people.json\")\n",
    "df.show"
   ]
  },
  {
   "cell_type": "markdown",
   "metadata": {},
   "source": [
    "## agg"
   ]
  },
  {
   "cell_type": "code",
   "execution_count": 4,
   "metadata": {},
   "outputs": [
    {
     "name": "stdout",
     "output_type": "stream",
     "text": [
      "+----+-------+-------+\n",
      "| age|   name|is_null|\n",
      "+----+-------+-------+\n",
      "|null|Michael|      1|\n",
      "|  30|   Andy|      0|\n",
      "|  19| Justin|      0|\n",
      "+----+-------+-------+\n",
      "\n"
     ]
    },
    {
     "data": {
      "text/plain": [
       "null"
      ]
     },
     "execution_count": 4,
     "metadata": {},
     "output_type": "execute_result"
    }
   ],
   "source": [
    "import org.apache.spark.sql.functions._\n",
    "val df = spark.read.json(\"../../data/people.json\").withColumn(\"is_null\", when($\"age\".isNull, 1).otherwise(0))\n",
    "df.show"
   ]
  },
  {
   "cell_type": "code",
   "execution_count": 5,
   "metadata": {},
   "outputs": [
    {
     "name": "stdout",
     "output_type": "stream",
     "text": [
      "+-------+----+\n",
      "|is_null|sage|\n",
      "+-------+----+\n",
      "|      1|null|\n",
      "|      0|  49|\n",
      "+-------+----+\n",
      "\n"
     ]
    },
    {
     "data": {
      "text/plain": [
       "null"
      ]
     },
     "execution_count": 5,
     "metadata": {},
     "output_type": "execute_result"
    }
   ],
   "source": [
    "df.groupBy(\"is_null\").agg(sum(\"age\").alias(\"sage\")).show"
   ]
  },
  {
   "cell_type": "code",
   "execution_count": 6,
   "metadata": {},
   "outputs": [
    {
     "name": "stdout",
     "output_type": "stream",
     "text": [
      "+-------+----+---+\n",
      "|is_null|sage|cnt|\n",
      "+-------+----+---+\n",
      "|      1|null|  1|\n",
      "|      0|  49|  2|\n",
      "+-------+----+---+\n",
      "\n"
     ]
    },
    {
     "data": {
      "text/plain": [
       "null"
      ]
     },
     "execution_count": 6,
     "metadata": {},
     "output_type": "execute_result"
    }
   ],
   "source": [
    "df.groupBy(\"is_null\").agg(\n",
    "    sum(\"age\").alias(\"sage\"),\n",
    "    count(\"*\").alias(\"cnt\")\n",
    ").show"
   ]
  },
  {
   "cell_type": "markdown",
   "metadata": {},
   "source": [
    "## Collection"
   ]
  },
  {
   "cell_type": "markdown",
   "metadata": {},
   "source": [
    "### collect_list"
   ]
  },
  {
   "cell_type": "code",
   "execution_count": 7,
   "metadata": {},
   "outputs": [
    {
     "name": "stdout",
     "output_type": "stream",
     "text": [
      "+----+-----+\n",
      "|name|score|\n",
      "+----+-----+\n",
      "| Ben|    1|\n",
      "| Ben|    2|\n",
      "| Ben|    3|\n",
      "| Ken|    1|\n",
      "| Ken|    9|\n",
      "+----+-----+\n",
      "\n"
     ]
    },
    {
     "data": {
      "text/plain": [
       "null"
      ]
     },
     "execution_count": 7,
     "metadata": {},
     "output_type": "execute_result"
    }
   ],
   "source": [
    "import org.apache.spark.sql.functions._\n",
    "\n",
    "val df = Seq(\n",
    "    (\"Ben\", 1),\n",
    "    (\"Ben\" ,2),\n",
    "    (\"Ben\", 3),\n",
    "    (\"Ken\", 1),\n",
    "    (\"Ken\", 9)\n",
    ").toDF(\"name\", \"score\")\n",
    "df.show"
   ]
  },
  {
   "cell_type": "code",
   "execution_count": 13,
   "metadata": {},
   "outputs": [
    {
     "name": "stdout",
     "output_type": "stream",
     "text": [
      "+----+---------+\n",
      "|name|   scores|\n",
      "+----+---------+\n",
      "| Ben|[1, 2, 3]|\n",
      "| Ken|   [1, 9]|\n",
      "+----+---------+\n",
      "\n"
     ]
    },
    {
     "data": {
      "text/plain": [
       "null"
      ]
     },
     "execution_count": 13,
     "metadata": {},
     "output_type": "execute_result"
    }
   ],
   "source": [
    "val df2 = df.groupBy(\"name\").agg(\n",
    "    collect_list(\"score\").alias(\"scores\")\n",
    ")\n",
    "df2.show"
   ]
  },
  {
   "cell_type": "code",
   "execution_count": 14,
   "metadata": {},
   "outputs": [
    {
     "name": "stdout",
     "output_type": "stream",
     "text": [
      "root\n",
      " |-- name: string (nullable = true)\n",
      " |-- scores: array (nullable = true)\n",
      " |    |-- element: integer (containsNull = true)\n",
      "\n"
     ]
    },
    {
     "data": {
      "text/plain": [
       "null"
      ]
     },
     "execution_count": 14,
     "metadata": {},
     "output_type": "execute_result"
    }
   ],
   "source": [
    "df2.printSchema"
   ]
  },
  {
   "cell_type": "markdown",
   "metadata": {},
   "source": [
    "### collect_set"
   ]
  },
  {
   "cell_type": "code",
   "execution_count": 11,
   "metadata": {},
   "outputs": [
    {
     "name": "stdout",
     "output_type": "stream",
     "text": [
      "+----+-----+\n",
      "|name|score|\n",
      "+----+-----+\n",
      "| Ben|    1|\n",
      "| Ben|    1|\n",
      "| Ben|    2|\n",
      "| Ben|    3|\n",
      "| Ken|    1|\n",
      "| Ken|    9|\n",
      "+----+-----+\n",
      "\n",
      "+----+------------+\n",
      "|name|      scores|\n",
      "+----+------------+\n",
      "| Ben|[1, 1, 2, 3]|\n",
      "| Ken|      [1, 9]|\n",
      "+----+------------+\n",
      "\n",
      "+----+---------+\n",
      "|name|   scores|\n",
      "+----+---------+\n",
      "| Ben|[1, 2, 3]|\n",
      "| Ken|   [9, 1]|\n",
      "+----+---------+\n",
      "\n"
     ]
    },
    {
     "data": {
      "text/plain": [
       "null"
      ]
     },
     "execution_count": 11,
     "metadata": {},
     "output_type": "execute_result"
    }
   ],
   "source": [
    "val df_copy = Seq(\n",
    "    (\"Ben\", 1),\n",
    "    (\"Ben\", 1),\n",
    "    (\"Ben\" ,2),\n",
    "    (\"Ben\", 3),\n",
    "    (\"Ken\", 1),\n",
    "    (\"Ken\", 9)\n",
    ").toDF(\"name\", \"score\")\n",
    "df_copy.show\n",
    "\n",
    "val df3 = df_copy.groupBy(\"name\").agg(collect_list(\"score\").alias(\"scores\"))\n",
    "df3.show()\n",
    "\n",
    "val df4 = df_copy.groupBy(\"name\").agg(collect_set(\"score\").alias(\"scores\"))\n",
    "df4.show"
   ]
  },
  {
   "cell_type": "markdown",
   "metadata": {},
   "source": [
    "## First/Last"
   ]
  },
  {
   "cell_type": "markdown",
   "metadata": {},
   "source": [
    "## first"
   ]
  },
  {
   "cell_type": "markdown",
   "metadata": {},
   "source": [
    "## last"
   ]
  },
  {
   "cell_type": "markdown",
   "metadata": {},
   "source": [
    "## Grouping"
   ]
  },
  {
   "cell_type": "markdown",
   "metadata": {},
   "source": [
    "### grouping"
   ]
  },
  {
   "cell_type": "markdown",
   "metadata": {},
   "source": [
    "### grouping_id"
   ]
  },
  {
   "cell_type": "code",
   "execution_count": 3,
   "metadata": {},
   "outputs": [
    {
     "name": "stdout",
     "output_type": "stream",
     "text": [
      "+----+-------+\n",
      "| age|   name|\n",
      "+----+-------+\n",
      "|null|Michael|\n",
      "|  30|   Andy|\n",
      "|  19| Justin|\n",
      "+----+-------+\n",
      "\n"
     ]
    }
   ],
   "source": [
    "val df = spark.read.json(\"../data/people.json\")\n",
    "df.show"
   ]
  },
  {
   "cell_type": "markdown",
   "metadata": {},
   "source": [
    "## Count"
   ]
  },
  {
   "cell_type": "markdown",
   "metadata": {},
   "source": [
    "### count"
   ]
  },
  {
   "cell_type": "code",
   "execution_count": 5,
   "metadata": {},
   "outputs": [
    {
     "name": "stdout",
     "output_type": "stream",
     "text": [
      "[Stage 0:>                                                          (0 + 2) / 2]+----+-------+-------+\n",
      "| age|   name|is_null|\n",
      "+----+-------+-------+\n",
      "|null|Michael|      1|\n",
      "|  30|   Andy|      0|\n",
      "|  19| Justin|      0|\n",
      "+----+-------+-------+\n",
      "\n"
     ]
    },
    {
     "data": {
      "text/plain": [
       "df = [age: bigint, name: string ... 1 more field]\n"
      ]
     },
     "metadata": {},
     "output_type": "display_data",
     "source": "user"
    },
    {
     "data": {
      "text/plain": [
       "lastException: Throwable = null\n"
      ]
     },
     "metadata": {},
     "output_type": "display_data",
     "source": "user"
    },
    {
     "data": {
      "text/plain": [
       "[age: bigint, name: string ... 1 more field]"
      ]
     },
     "execution_count": 5,
     "metadata": {},
     "output_type": "execute_result"
    }
   ],
   "source": [
    "import org.apache.spark.sql.functions._\n",
    "val df = spark.read.json(\"../../../data/people.json\").withColumn(\"is_null\", when($\"age\".isNull, 1).otherwise(0))\n",
    "df.show"
   ]
  },
  {
   "cell_type": "code",
   "execution_count": 6,
   "metadata": {},
   "outputs": [
    {
     "name": "stdout",
     "output_type": "stream",
     "text": [
      "+-------+-----+\n",
      "|is_null|count|\n",
      "+-------+-----+\n",
      "|      1|    1|\n",
      "|      0|    2|\n",
      "+-------+-----+\n",
      "\n"
     ]
    }
   ],
   "source": [
    "df.groupBy(\"is_null\").count().show()"
   ]
  },
  {
   "cell_type": "code",
   "execution_count": 7,
   "metadata": {},
   "outputs": [
    {
     "name": "stdout",
     "output_type": "stream",
     "text": [
      "+-------+-----+\n",
      "|is_null|total|\n",
      "+-------+-----+\n",
      "|      1|    1|\n",
      "|      0|    2|\n",
      "+-------+-----+\n",
      "\n"
     ]
    }
   ],
   "source": [
    "df.groupBy(\"is_null\").agg(count(\"*\").as(\"total\")).show"
   ]
  },
  {
   "cell_type": "code",
   "execution_count": 14,
   "metadata": {},
   "outputs": [
    {
     "name": "stdout",
     "output_type": "stream",
     "text": [
      "+-------+---------------------------------------------------+\n",
      "|is_null|count(CASE WHEN (name = Andy) THEN 1 ELSE NULL END)|\n",
      "+-------+---------------------------------------------------+\n",
      "|      1|                                                  0|\n",
      "|      0|                                                  1|\n",
      "+-------+---------------------------------------------------+\n",
      "\n"
     ]
    }
   ],
   "source": [
    "df.groupBy(\"is_null\").agg(count(when($\"name\" === \"Andy\", 1).otherwise(null))).show"
   ]
  },
  {
   "cell_type": "code",
   "execution_count": 13,
   "metadata": {},
   "outputs": [
    {
     "name": "stdout",
     "output_type": "stream",
     "text": [
      "[Stage 41:================================>                       (44 + 8) / 75]+-------+----------------------------------------------+\n",
      "|is_null|sum(CASE WHEN (name = Andy) THEN 1 ELSE 0 END)|\n",
      "+-------+----------------------------------------------+\n",
      "|      1|                                             0|\n",
      "|      0|                                             1|\n",
      "+-------+----------------------------------------------+\n",
      "\n"
     ]
    }
   ],
   "source": [
    "df.groupBy(\"is_null\").agg(sum(when($\"name\" === \"Andy\", 1).otherwise(0))).show"
   ]
  },
  {
   "cell_type": "code",
   "execution_count": 8,
   "metadata": {},
   "outputs": [
    {
     "name": "stdout",
     "output_type": "stream",
     "text": [
      "+-------+-----+\n",
      "|is_null|total|\n",
      "+-------+-----+\n",
      "|      1|    1|\n",
      "|      0|    2|\n",
      "+-------+-----+\n",
      "\n"
     ]
    }
   ],
   "source": [
    "df.groupBy(\"is_null\").agg(count(\"*\").alias(\"total\")).show"
   ]
  },
  {
   "cell_type": "markdown",
   "metadata": {},
   "source": [
    "### countDistinct"
   ]
  },
  {
   "cell_type": "code",
   "execution_count": 16,
   "metadata": {},
   "outputs": [
    {
     "name": "stdout",
     "output_type": "stream",
     "text": [
      "+-------+-----+\n",
      "|is_null|total|\n",
      "+-------+-----+\n",
      "|      1|    1|\n",
      "|      0|    1|\n",
      "+-------+-----+\n",
      "\n"
     ]
    }
   ],
   "source": [
    "df.groupBy(\"is_null\").agg(countDistinct(\"is_null\").alias(\"total\")).show"
   ]
  },
  {
   "cell_type": "markdown",
   "metadata": {},
   "source": [
    "### approx_count_distinct"
   ]
  },
  {
   "cell_type": "markdown",
   "metadata": {},
   "source": [
    "## Sum"
   ]
  },
  {
   "cell_type": "markdown",
   "metadata": {},
   "source": [
    "### sum"
   ]
  },
  {
   "cell_type": "markdown",
   "metadata": {},
   "source": [
    "### sumDistinct"
   ]
  },
  {
   "cell_type": "markdown",
   "metadata": {},
   "source": [
    "## Extreme Values"
   ]
  },
  {
   "cell_type": "markdown",
   "metadata": {},
   "source": [
    "### max"
   ]
  },
  {
   "cell_type": "markdown",
   "metadata": {},
   "source": [
    "### min"
   ]
  },
  {
   "cell_type": "markdown",
   "metadata": {},
   "source": [
    "## Mean/Average"
   ]
  },
  {
   "cell_type": "markdown",
   "metadata": {},
   "source": [
    "### avg\n",
    "\n",
    "How does average behave on null values?"
   ]
  },
  {
   "cell_type": "markdown",
   "metadata": {},
   "source": [
    "### mean"
   ]
  },
  {
   "cell_type": "markdown",
   "metadata": {},
   "source": [
    "## Standard Deviation"
   ]
  },
  {
   "cell_type": "markdown",
   "metadata": {},
   "source": [
    "### stddev"
   ]
  },
  {
   "cell_type": "markdown",
   "metadata": {},
   "source": [
    "### stddev_pop"
   ]
  },
  {
   "cell_type": "markdown",
   "metadata": {},
   "source": [
    "### stddev_samp"
   ]
  },
  {
   "cell_type": "markdown",
   "metadata": {},
   "source": [
    "## Variance"
   ]
  },
  {
   "cell_type": "markdown",
   "metadata": {},
   "source": [
    "### var_pop"
   ]
  },
  {
   "cell_type": "markdown",
   "metadata": {},
   "source": [
    "### var_sample"
   ]
  },
  {
   "cell_type": "markdown",
   "metadata": {},
   "source": [
    "### variance"
   ]
  },
  {
   "cell_type": "markdown",
   "metadata": {},
   "source": [
    "## Correlation & Covariance"
   ]
  },
  {
   "cell_type": "markdown",
   "metadata": {},
   "source": [
    "## corr "
   ]
  },
  {
   "cell_type": "markdown",
   "metadata": {},
   "source": [
    "## covar_pop"
   ]
  },
  {
   "cell_type": "markdown",
   "metadata": {},
   "source": [
    "## covar_samp"
   ]
  },
  {
   "cell_type": "markdown",
   "metadata": {},
   "source": [
    "## Skewness & Kurtosis"
   ]
  },
  {
   "cell_type": "markdown",
   "metadata": {},
   "source": [
    "## skewness"
   ]
  },
  {
   "cell_type": "markdown",
   "metadata": {},
   "source": [
    "## kurtosis"
   ]
  },
  {
   "cell_type": "markdown",
   "metadata": {},
   "source": [
    "## References\n",
    "\n",
    "https://spark.apache.org/docs/2.0.1/api/java/org/apache/spark/sql/RelationalGroupedDataset.html\n",
    "\n",
    "https://spark.apache.org/docs/latest/sql-programming-guide.html\n",
    "\n",
    "https://spark.apache.org/docs/latest/api/scala/index.html#org.apache.spark.sql.functions$\n"
   ]
  }
 ],
 "metadata": {
  "kernelspec": {
   "display_name": "Scala",
   "language": "scala",
   "name": "scala"
  },
  "language_info": {
   "codemirror_mode": "text/x-scala",
   "file_extension": ".scala",
   "mimetype": "",
   "name": "Scala",
   "nbconverter_exporter": "",
   "version": "2.11.12"
  },
  "widgets": {
   "application/vnd.jupyter.widget-state+json": {
    "state": {
     "0085edd1-96ca-47ed-938d-1530402c8ca7": {
      "model_module": "beakerx",
      "model_module_version": "*",
      "model_name": "FoldoutModel",
      "state": {
       "background_color": null,
       "children": [
        "IPY_MODEL_cf9c34ec-66d8-4e2b-9913-77e5a4f62967"
       ],
       "color": null,
       "description": "",
       "disabled": false,
       "font_family": "",
       "font_size": "",
       "font_style": "",
       "font_weight": "",
       "headerLabel": "Added jars: ",
       "hidePreview": false,
       "layout": "IPY_MODEL_f812eb82-5c3e-4be3-87c6-41b4688535f3",
       "msg_throttle": 3,
       "visible": true
      }
     },
     "04d973d4-e69b-49de-868f-aa3a7d02929f": {
      "model_module": "@jupyter-widgets/base",
      "model_module_version": "*",
      "model_name": "LayoutModel",
      "state": {
       "_model_module_version": "*",
       "_view_module_version": "*",
       "align_content": "",
       "align_self": "",
       "border": "",
       "bottom": "",
       "flex": "",
       "height": "",
       "justify_content": "",
       "left": "",
       "margin": "",
       "max_height": "",
       "max_width": "",
       "min_height": "",
       "min_width": "",
       "msg_throttle": 3,
       "overflow": "",
       "overflow_x": "",
       "overflow_y": "",
       "padding": "",
       "right": "",
       "top": ""
      }
     },
     "6492f97a-3442-4da1-84aa-9c833eec6ffa": {
      "model_module": "@jupyter-widgets/base",
      "model_module_version": "*",
      "model_name": "LayoutModel",
      "state": {
       "_model_module_version": "*",
       "_view_module_version": "*",
       "align_content": "",
       "align_self": "",
       "border": "",
       "bottom": "",
       "flex": "",
       "height": "",
       "justify_content": "",
       "left": "",
       "margin": "",
       "max_height": "",
       "max_width": "",
       "min_height": "",
       "min_width": "",
       "msg_throttle": 3,
       "overflow": "",
       "overflow_x": "",
       "overflow_y": "",
       "padding": "",
       "right": "",
       "top": ""
      }
     },
     "cf9c34ec-66d8-4e2b-9913-77e5a4f62967": {
      "model_module": "beakerx",
      "model_module_version": "*",
      "model_name": "BxHTMLModel",
      "state": {
       "background_color": null,
       "color": null,
       "font_family": "",
       "font_size": "",
       "font_style": "",
       "font_weight": "",
       "layout": "IPY_MODEL_04d973d4-e69b-49de-868f-aa3a7d02929f",
       "msg_throttle": 3,
       "placeholder": "",
       "value": "spark-core_2.11-2.1.1.jar, avro-mapred-1.7.7-hadoop2.jar, avro-ipc-1.7.7.jar, avro-1.7.7.jar, avro-ipc-1.7.7-tests.jar, jackson-core-asl-1.9.13.jar, jackson-mapper-asl-1.9.13.jar, chill_2.11-0.8.0.jar, kryo-shaded-3.0.3.jar, minlog-1.3.0.jar, objenesis-2.1.jar, chill-java-0.8.0.jar, xbean-asm5-shaded-4.4.jar, hadoop-client-2.2.0.jar, hadoop-common-2.2.0.jar, commons-cli-1.2.jar, commons-math-2.1.jar, xmlenc-0.52.jar, commons-io-2.1.jar, commons-lang-2.5.jar, commons-configuration-1.6.jar, commons-collections-3.2.1.jar, commons-digester-1.8.jar, commons-beanutils-1.7.0.jar, commons-beanutils-core-1.8.0.jar, protobuf-java-2.5.0.jar, hadoop-auth-2.2.0.jar, commons-compress-1.4.1.jar, xz-1.0.jar, hadoop-hdfs-2.2.0.jar, jetty-util-6.1.26.jar, hadoop-mapreduce-client-app-2.2.0.jar, hadoop-mapreduce-client-common-2.2.0.jar, hadoop-yarn-client-2.2.0.jar, guice-3.0.jar, javax.inject-1.jar, aopalliance-1.0.jar, hadoop-yarn-server-common-2.2.0.jar, hadoop-mapreduce-client-shuffle-2.2.0.jar, hadoop-yarn-api-2.2.0.jar, hadoop-mapreduce-client-core-2.2.0.jar, hadoop-yarn-common-2.2.0.jar, hadoop-mapreduce-client-jobclient-2.2.0.jar, hadoop-annotations-2.2.0.jar, spark-launcher_2.11-2.1.1.jar, spark-network-common_2.11-2.1.1.jar, leveldbjni-all-1.8.jar, jackson-annotations-2.6.5.jar, spark-network-shuffle_2.11-2.1.1.jar, spark-unsafe_2.11-2.1.1.jar, jets3t-0.7.1.jar, commons-codec-1.3.jar, commons-httpclient-3.1.jar, curator-recipes-2.4.0.jar, curator-framework-2.4.0.jar, curator-client-2.4.0.jar, zookeeper-3.4.5.jar, guava-14.0.1.jar, javax.servlet-api-3.1.0.jar, commons-lang3-3.5.jar, commons-math3-3.4.1.jar, jsr305-1.3.9.jar, slf4j-api-1.7.16.jar, jul-to-slf4j-1.7.16.jar, jcl-over-slf4j-1.7.16.jar, log4j-1.2.17.jar, slf4j-log4j12-1.7.16.jar, compress-lzf-1.0.3.jar, snappy-java-1.1.2.6.jar, lz4-1.3.0.jar, RoaringBitmap-0.5.11.jar, commons-net-2.2.jar, scala-library-2.11.8.jar, json4s-jackson_2.11-3.2.11.jar, json4s-core_2.11-3.2.11.jar, json4s-ast_2.11-3.2.11.jar, paranamer-2.6.jar, scalap-2.11.0.jar, scala-compiler-2.11.0.jar, scala-xml_2.11-1.0.1.jar, scala-parser-combinators_2.11-1.0.1.jar, jersey-client-2.22.2.jar, javax.ws.rs-api-2.0.1.jar, hk2-api-2.4.0-b34.jar, hk2-utils-2.4.0-b34.jar, aopalliance-repackaged-2.4.0-b34.jar, javax.inject-2.4.0-b34.jar, hk2-locator-2.4.0-b34.jar, javassist-3.18.1-GA.jar, jersey-common-2.22.2.jar, javax.annotation-api-1.2.jar, jersey-guava-2.22.2.jar, osgi-resource-locator-1.0.1.jar, jersey-server-2.22.2.jar, jersey-media-jaxb-2.22.2.jar, validation-api-1.1.0.Final.jar, jersey-container-servlet-2.22.2.jar, jersey-container-servlet-core-2.22.2.jar, netty-all-4.0.42.Final.jar, netty-3.8.0.Final.jar, stream-2.7.0.jar, metrics-core-3.1.2.jar, metrics-jvm-3.1.2.jar, metrics-json-3.1.2.jar, metrics-graphite-3.1.2.jar, jackson-databind-2.6.5.jar, jackson-core-2.6.5.jar, jackson-module-scala_2.11-2.6.5.jar, scala-reflect-2.11.7.jar, jackson-module-paranamer-2.6.5.jar, ivy-2.4.0.jar, oro-2.0.8.jar, pyrolite-4.13.jar, py4j-0.10.4.jar, spark-tags_2.11-2.1.1.jar, commons-crypto-1.0.0.jar, unused-1.0.0.jar, spark-sql_2.11-2.1.1.jar, univocity-parsers-2.2.1.jar, spark-sketch_2.11-2.1.1.jar, spark-catalyst_2.11-2.1.1.jar, janino-3.0.0.jar, commons-compiler-3.0.0.jar, antlr4-runtime-4.5.3.jar, parquet-column-1.8.1.jar, parquet-common-1.8.1.jar, parquet-encoding-1.8.1.jar, parquet-hadoop-1.8.1.jar, parquet-format-2.3.0-incubating.jar, parquet-jackson-1.8.1.jar",
       "visible": true
      }
     },
     "f812eb82-5c3e-4be3-87c6-41b4688535f3": {
      "model_module": "@jupyter-widgets/base",
      "model_module_version": "*",
      "model_name": "LayoutModel",
      "state": {
       "_model_module_version": "*",
       "_view_module_version": "*",
       "align_content": "",
       "align_self": "",
       "border": "",
       "bottom": "",
       "flex": "",
       "height": "",
       "justify_content": "",
       "left": "",
       "margin": "",
       "max_height": "",
       "max_width": "",
       "min_height": "",
       "min_width": "",
       "msg_throttle": 3,
       "overflow": "",
       "overflow_x": "",
       "overflow_y": "",
       "padding": "",
       "right": "",
       "top": ""
      }
     }
    },
    "version_major": 2,
    "version_minor": 0
   }
  }
 },
 "nbformat": 4,
 "nbformat_minor": 4
}
