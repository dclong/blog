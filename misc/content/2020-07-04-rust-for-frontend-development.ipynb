{
 "cells": [
  {
   "cell_type": "markdown",
   "metadata": {},
   "source": [
    "- Author: Ben Du\n",
    "- Date: 2020-10-27 22:39:08\n",
    "- Title: Rust for Frontend Development\n",
    "- Slug: rust-for-frontend-development\n",
    "- Category: Computer Science\n",
    "- Tags: Computer Science, Rust, frontend, web, HTML"
   ]
  },
  {
   "source": [
    "## [yewstack/yew](https://github.com/yewstack/yew)"
   ],
   "cell_type": "markdown",
   "metadata": {}
  },
  {
   "cell_type": "markdown",
   "metadata": {},
   "source": [
    "## References\n",
    "\n",
    "https://medium.com/swlh/building-a-front-app-with-rust-yes-you-can-and-yew-11e7835d768f"
   ]
  },
  {
   "cell_type": "code",
   "execution_count": null,
   "metadata": {},
   "outputs": [],
   "source": []
  }
 ],
 "metadata": {
  "language_info": {
   "name": "python",
   "codemirror_mode": {
    "name": "ipython",
    "version": 3
   }
  },
  "orig_nbformat": 2,
  "file_extension": ".py",
  "mimetype": "text/x-python",
  "name": "python",
  "npconvert_exporter": "python",
  "pygments_lexer": "ipython3",
  "version": 3
 },
 "nbformat": 4,
 "nbformat_minor": 2
}