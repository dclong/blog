{
 "cells": [
  {
   "cell_type": "markdown",
   "metadata": {},
   "source": [
    "- Title: Iterate All Descendant Files in a Directory in Python\n",
    "- Slug: python-iterate-all-descendant\n",
    "- Date: 2019-12-02\n",
    "- Category: Computer Science\n",
    "- Tags: programming, Python, iterate, descendant\n",
    "- Author: Ben Du"
   ]
  },
  {
   "cell_type": "markdown",
   "metadata": {},
   "source": [
    "The easiest way is to use the function `os.walk`."
   ]
  },
  {
   "cell_type": "code",
   "execution_count": 1,
   "metadata": {},
   "outputs": [
    {
     "name": "stdout",
     "output_type": "stream",
     "text": [
      "./f2.csv/part-00000-96dab35f-bfbb-4134-babe-14553e963d25-c000.csv\n"
     ]
    }
   ],
   "source": [
    "import os\n",
    "\n",
    "for subdir, dirs, files in os.walk('.'):\n",
    "    for file in files:\n",
    "        filepath = os.path.join(subdir, file)\n",
    "        if filepath.endswith(\".csv\"):\n",
    "            print(filepath)"
   ]
  },
  {
   "cell_type": "code",
   "execution_count": 3,
   "metadata": {},
   "outputs": [
    {
     "name": "stdout",
     "output_type": "stream",
     "text": [
      "./f2.csv\n",
      "[]\n",
      "./f2.csv/part-00000-96dab35f-bfbb-4134-babe-14553e963d25-c000.csv\n"
     ]
    }
   ],
   "source": [
    "import os\n",
    "\n",
    "for subdir, dirs, files in os.walk('.'):\n",
    "    for file in files:\n",
    "        filepath = os.path.join(subdir, file)\n",
    "        if filepath.endswith(\".csv\"):\n",
    "            print(subdir)\n",
    "            print(dirs)\n",
    "            print(filepath)"
   ]
  },
  {
   "cell_type": "markdown",
   "metadata": {},
   "source": [
    "Or you can implement it yourself using `Path.iterdir()`."
   ]
  },
  {
   "cell_type": "markdown",
   "metadata": {},
   "source": [
    "## Reference\n",
    "\n",
    "https://stackoverflow.com/questions/10377998/how-can-i-iterate-over-files-in-a-given-directory\n",
    "\n",
    "https://docs.python.org/3/library/pathlib.html#pathlib.Path.iterdir"
   ]
  },
  {
   "cell_type": "code",
   "execution_count": null,
   "metadata": {},
   "outputs": [],
   "source": []
  }
 ],
 "metadata": {
  "kernelspec": {
   "display_name": "Python 3",
   "language": "python",
   "name": "python3"
  },
  "language_info": {
   "codemirror_mode": {
    "name": "ipython",
    "version": 3
   },
   "file_extension": ".py",
   "mimetype": "text/x-python",
   "name": "python",
   "nbconvert_exporter": "python",
   "pygments_lexer": "ipython3",
   "version": "3.7.3"
  }
 },
 "nbformat": 4,
 "nbformat_minor": 4
}