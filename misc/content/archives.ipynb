{
 "cells": [
  {
   "cell_type": "markdown",
   "metadata": {},
   "source": [
    "- Title: My Configuration Script for a New Ubuntu Machine\n",
    "- Slug: my-configuration-script-for-a-new-ubuntu-machine\n",
    "- Date: 2019-10-21\n",
    "- Category: Linux\n",
    "- Tags: Linux, Python, Ubuntu\n",
    "- Author: Ben Du"
   ]
  },
  {
   "cell_type": "code",
   "execution_count": 10,
   "metadata": {},
   "outputs": [
    {
     "name": "stdout",
     "output_type": "stream",
     "text": [
      "\u001b[00;34m#!/bin/bash\u001b[m\n",
      "\n",
      "\u001b[00;33mif\u001b[m \u001b[00;00m[[\u001b[m $\u001b[00;00m(\u001b[mid \u001b[00;00m-\u001b[mu\u001b[00;00m) ==\u001b[m \u001b[00;34m0\u001b[m \u001b[00;00m]];\u001b[m \u001b[00;33mthen\u001b[m\n",
      "    prefix\u001b[00;00m=\u001b[m\u001b[00;31m''\u001b[m\n",
      "\u001b[00;33melse\u001b[m\n",
      "    prefix\u001b[00;00m=\u001b[msudo\n",
      "\u001b[00;33mfi\u001b[m\n",
      "\u001b[00;32m$prefix\u001b[m apt-get \u001b[00;32minstall\u001b[m python3 python3-setuptools python3-pip\n",
      "pip3 \u001b[00;32minstall\u001b[m \u001b[00;00m--\u001b[muser loguru\n",
      "\n",
      "mkdir \u001b[00;00m-\u001b[mp \u001b[00;32m$HOME\u001b[m\u001b[00;00m/\u001b[marchives\n",
      "git clone git@github.com\u001b[00;00m:\u001b[mdclong\u001b[00;00m/\u001b[mblog.git \u001b[00;32m$HOME\u001b[m\u001b[00;00m/\u001b[marchives\u001b[00;00m/\u001b[mblog\n",
      "git clone git@github.com\u001b[00;00m:\u001b[mdclong\u001b[00;00m/\u001b[mconfig.git \u001b[00;32m$HOME\u001b[m\u001b[00;00m/\u001b[marchives\u001b[00;00m/\u001b[mconfig\n",
      "git clone git@bitbucket.org\u001b[00;00m:\u001b[mdclong\u001b[00;00m/\u001b[mdsutil.git \u001b[00;32m$HOME\u001b[m\u001b[00;00m/\u001b[marchives\u001b[00;00m/\u001b[mdsutil\n",
      "\n",
      "\u001b[00;32m$HOME\u001b[m\u001b[00;00m/\u001b[marchives\u001b[00;00m/\u001b[mconfig\u001b[00;00m/\u001b[mlinstall.py sshc \u001b[00;00m-\u001b[mic\n",
      "\u001b[00;32m$HOME\u001b[m\u001b[00;00m/\u001b[marchives\u001b[00;00m/\u001b[mconfig\u001b[00;00m/\u001b[mlinstall.py ipy3 \u001b[00;00m-\u001b[mic\n",
      "\u001b[00;32m$HOME\u001b[m\u001b[00;00m/\u001b[marchives\u001b[00;00m/\u001b[mconfig\u001b[00;00m/\u001b[mlinstall.py svim \u001b[00;00m-\u001b[mic\n"
     ]
    }
   ],
   "source": [
    "!cat ../../home/media/archives.sh | highlight -O ansi"
   ]
  },
  {
   "cell_type": "markdown",
   "metadata": {},
   "source": [
    "The script can be run directly using the following comamnd. \n",
    "    \n",
    "    :::bash\n",
    "    curl -sSL www.legendu.net/media/archives.sh | bash"
   ]
  },
  {
   "cell_type": "code",
   "execution_count": null,
   "metadata": {},
   "outputs": [],
   "source": []
  }
 ],
 "metadata": {
  "kernelspec": {
   "display_name": "Python 3",
   "language": "python",
   "name": "python3"
  },
  "language_info": {
   "codemirror_mode": {
    "name": "ipython",
    "version": 3
   },
   "file_extension": ".py",
   "mimetype": "text/x-python",
   "name": "python",
   "nbconvert_exporter": "python",
   "pygments_lexer": "ipython3",
   "version": "3.6.8"
  }
 },
 "nbformat": 4,
 "nbformat_minor": 2
}
