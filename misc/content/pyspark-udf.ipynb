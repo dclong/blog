{
 "cells": [
  {
   "cell_type": "markdown",
   "metadata": {},
   "source": [
    "- Title: User-defined Function (UDF) in PySpark\n",
    "- Slug: pyspark-udf\n",
    "- Date: 2020-05-22 12:10:31\n",
    "- Category: Computer Science\n",
    "- Tags: programming, Python, HPC, high performance computing, PySpark, UDF\n",
    "- Author: Ben Du"
   ]
  },
  {
   "cell_type": "code",
   "execution_count": 14,
   "metadata": {},
   "outputs": [],
   "source": [
    "import pandas as pd\n",
    "import findspark\n",
    "# A symbolic link of the Spark Home is made to /opt/spark for convenience\n",
    "findspark.init(\"/opt/spark\")\n",
    "\n",
    "from pyspark.sql import SparkSession, DataFrame\n",
    "from pyspark.sql.functions import *\n",
    "from pyspark.sql.types import StructType\n",
    "spark = SparkSession.builder.appName(\"PySpark UDF\") \\\n",
    "    .enableHiveSupport().getOrCreate()"
   ]
  },
  {
   "cell_type": "code",
   "execution_count": 15,
   "metadata": {},
   "outputs": [
    {
     "name": "stdout",
     "output_type": "stream",
     "text": [
      "+----+---+---+\n",
      "|name| id|age|\n",
      "+----+---+---+\n",
      "| Ben|  2| 30|\n",
      "| Dan|  4| 25|\n",
      "|Will|  1| 26|\n",
      "+----+---+---+\n",
      "\n"
     ]
    }
   ],
   "source": [
    "df_p = pd.DataFrame(data=[\n",
    "    [\"Ben\", 2, 30],\n",
    "    [\"Dan\", 4, 25],\n",
    "    [\"Will\", 1, 26],\n",
    "], columns=[\"name\", \"id\", \"age\"])\n",
    "df = spark.createDataFrame(df_p)\n",
    "df.show()"
   ]
  },
  {
   "cell_type": "markdown",
   "metadata": {},
   "source": [
    "Create a UDF. \n",
    "Notice that the 2nd parameter of the function `udf` \n",
    "is the return type of the underlying Python function passed as the 1st parameter."
   ]
  },
  {
   "cell_type": "code",
   "execution_count": 17,
   "metadata": {},
   "outputs": [],
   "source": [
    "def say_hello(name : str) -> str:\n",
    "     return f\"Hello {name}\"\n",
    "    \n",
    "    \n",
    "say_hello_udf = udf(lambda name: say_hello(name), StringType())"
   ]
  },
  {
   "cell_type": "code",
   "execution_count": 18,
   "metadata": {},
   "outputs": [
    {
     "name": "stdout",
     "output_type": "stream",
     "text": [
      "+----+---+---+----------+\n",
      "|name| id|age| greetings|\n",
      "+----+---+---+----------+\n",
      "| Ben|  2| 30| Hello Ben|\n",
      "| Dan|  4| 25| Hello Dan|\n",
      "|Will|  1| 26|Hello Will|\n",
      "+----+---+---+----------+\n",
      "\n"
     ]
    }
   ],
   "source": [
    "df.withColumn(\"greetings\", say_hello_udf(col(\"name\"))).show()"
   ]
  },
  {
   "cell_type": "markdown",
   "metadata": {},
   "source": [
    "## References\n",
    "\n",
    "https://medium.com/@ayplam/developing-pyspark-udfs-d179db0ccc87\n",
    "    \n",
    "https://docs.databricks.com/spark/latest/spark-sql/udf-python.html\n",
    "    \n",
    "https://changhsinlee.com/pyspark-udf/\n",
    "    \n",
    "https://medium.com/@ayplam/developing-pyspark-udfs-d179db0ccc87\n",
    "\n",
    "https://spark.apache.org/docs/latest/api/python/pyspark.sql.html\n",
    "\n",
    "https://spark.apache.org/docs/latest/api/python/pyspark.sql.html#pyspark.sql.DataFrame\n",
    "\n",
    "https://spark.apache.org/docs/latest/api/python/pyspark.sql.html#pyspark.sql.Column\n",
    "\n",
    "https://spark.apache.org/docs/latest/api/python/pyspark.sql.html#module-pyspark.sql.functions"
   ]
  },
  {
   "cell_type": "code",
   "execution_count": null,
   "metadata": {},
   "outputs": [],
   "source": []
  }
 ],
 "metadata": {
  "kernelspec": {
   "display_name": "Python 3",
   "language": "python",
   "name": "python3"
  },
  "language_info": {
   "codemirror_mode": {
    "name": "ipython",
    "version": 3
   },
   "file_extension": ".py",
   "mimetype": "text/x-python",
   "name": "python",
   "nbconvert_exporter": "python",
   "pygments_lexer": "ipython3",
   "version": "3.7.3"
  },
  "widgets": {
   "application/vnd.jupyter.widget-state+json": {
    "state": {},
    "version_major": 2,
    "version_minor": 0
   }
  }
 },
 "nbformat": 4,
 "nbformat_minor": 4
}