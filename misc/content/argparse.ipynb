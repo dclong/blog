{
 "cells": [
  {
   "cell_type": "markdown",
   "metadata": {},
   "source": [
    "- Title: Hands on the Python module argparse\n",
    "- Slug: hands-on-the-python-module-argparse\n",
    "- Date: 2019-10-21 22:05:36\n",
    "- Category: Programming\n",
    "- Tags: programming, Python, argparse, cli, command line\n",
    "- Author: Ben Du"
   ]
  },
  {
   "cell_type": "markdown",
   "metadata": {},
   "source": [
    "https://docs.python.org/3/library/argparse.html"
   ]
  },
  {
   "cell_type": "markdown",
   "metadata": {},
   "source": [
    "1. The argument `aliases` does not take a geneartor as input.\n",
    "  Generally speaking, \n",
    "  you should be carefule about using a generator as a generator is essentially an iterator \n",
    "  which is invalidated once iterated.\n",
    "  Use a list instead if you have to iterator a collection multiple times.\n",
    "\n",
    "2. It seems that the default value for an argument must be specified\n",
    "    in the first occurrence of the corresponding `add_argument` function.\n",
    "\n",
    "3. It seems that default value must be specified in the first occurrence.\n",
    "\n",
    "4. You can check whether an option is defined for a command or not using `'some_option' in args`\n",
    "  where `args` is a Namespace object returned by `argparse.parse_args`.\n",
    "  So that you can use `args.level if 'level' in args else 'INFO'` \n",
    "  to get the value for the option `args.level` with the fallback value `INFO`.\n",
    "  You can also convert a Namespace object to a dictionary using the function `vars`,\n",
    "  so an even easier way of get the value of an option with a fallback value is use `vars(args).get('level', 'INFO')`."
   ]
  },
  {
   "cell_type": "markdown",
   "metadata": {},
   "source": [
    "## Optional Positional Arguments\n",
    "\n",
    "By design, \n",
    "positional arguments are always required (which is different from options).\n",
    "However, \n",
    "you can leverage the `nargs` option to achive optional positional arguments.\n",
    "Basically, \n",
    "you use `nargs=*` to let argparse knwo that the positonal argument takes 0 or more inputs."
   ]
  },
  {
   "cell_type": "code",
   "execution_count": 5,
   "metadata": {},
   "outputs": [
    {
     "data": {
      "text/plain": [
       "_StoreAction(option_strings=[], dest='numbers', nargs='*', const=None, default=None, type=None, choices=None, help='A list of numbers.', metavar=None)"
      ]
     },
     "execution_count": 5,
     "metadata": {},
     "output_type": "execute_result"
    }
   ],
   "source": [
    "import argparse\n",
    "\n",
    "parser = argparse.ArgumentParser(description='Illustrate an optional positional argument.')\n",
    "parser.add_argument(\n",
    "        'numbers',\n",
    "        nargs='*',\n",
    "        help='A list of numbers.')"
   ]
  },
  {
   "cell_type": "code",
   "execution_count": 6,
   "metadata": {},
   "outputs": [
    {
     "data": {
      "text/plain": [
       "Namespace(numbers=[])"
      ]
     },
     "execution_count": 6,
     "metadata": {},
     "output_type": "execute_result"
    }
   ],
   "source": [
    "parser.parse_args([])"
   ]
  },
  {
   "cell_type": "code",
   "execution_count": 8,
   "metadata": {},
   "outputs": [
    {
     "data": {
      "text/plain": [
       "Namespace(numbers=['1', '2', '3'])"
      ]
     },
     "execution_count": 8,
     "metadata": {},
     "output_type": "execute_result"
    }
   ],
   "source": [
    "parser.parse_args(['1', '2', '3'])"
   ]
  },
  {
   "cell_type": "code",
   "execution_count": null,
   "metadata": {},
   "outputs": [],
   "source": []
  }
 ],
 "metadata": {
  "kernelspec": {
   "display_name": "Python 3",
   "language": "python",
   "name": "python3"
  },
  "language_info": {
   "codemirror_mode": {
    "name": "ipython",
    "version": 3
   },
   "file_extension": ".py",
   "mimetype": "text/x-python",
   "name": "python",
   "nbconvert_exporter": "python",
   "pygments_lexer": "ipython3",
   "version": "3.6.8"
  }
 },
 "nbformat": 4,
 "nbformat_minor": 2
}