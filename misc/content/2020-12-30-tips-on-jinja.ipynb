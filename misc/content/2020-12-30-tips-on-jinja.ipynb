{
 "nbformat": 4,
 "nbformat_minor": 2,
 "metadata": {
  "language_info": {
   "name": "python",
   "codemirror_mode": {
    "name": "ipython",
    "version": 3
   },
   "version": "3.8.6-final"
  },
  "orig_nbformat": 2,
  "file_extension": ".py",
  "mimetype": "text/x-python",
  "name": "python",
  "npconvert_exporter": "python",
  "pygments_lexer": "ipython3",
  "version": 3,
  "kernelspec": {
   "name": "python37664bit63fb4f53efb44350a8fe54ef578d532a",
   "display_name": "Python 3.7.6 64-bit",
   "language": "python"
  }
 },
 "cells": [
  {
   "cell_type": "markdown",
   "metadata": {},
   "source": [
    "- Author: Ben Du\n",
    "- Date: 2020-12-30 14:06:16\n",
    "- Title: Tips on Jinja\n",
    "- Slug: tips-on-jinja\n",
    "- Category: Computer Science\n",
    "- Tags: Computer Science, programming, Jinja, template, Python"
   ]
  },
  {
   "source": [
    " ** Things on this page are fragmentary and immature notes/thoughts of the author. Please read with your own judgement! **  "
   ],
   "cell_type": "markdown",
   "metadata": {}
  },
  {
   "cell_type": "code",
   "execution_count": 2,
   "metadata": {},
   "outputs": [
    {
     "output_type": "stream",
     "name": "stdout",
     "text": [
      "Requirement already satisfied: jinja2 in /usr/local/lib/python3.8/site-packages (2.11.2)\nRequirement already satisfied: MarkupSafe>=0.23 in /usr/local/lib/python3.8/site-packages (from jinja2) (1.1.1)\n"
     ]
    }
   ],
   "source": [
    "!pip3 install jinja2"
   ]
  },
  {
   "cell_type": "code",
   "execution_count": 5,
   "metadata": {},
   "outputs": [],
   "source": [
    "from jinja2 import Template\n",
    "from argparse import Namespace"
   ]
  },
  {
   "cell_type": "code",
   "execution_count": 6,
   "metadata": {},
   "outputs": [
    {
     "output_type": "execute_result",
     "data": {
      "text/plain": [
       "'Hello John Doe!'"
      ]
     },
     "metadata": {},
     "execution_count": 6
    }
   ],
   "source": [
    "template = Template('Hello {{ name }}!')\n",
    "template.render(name='John Doe')"
   ]
  },
  {
   "cell_type": "code",
   "execution_count": 9,
   "metadata": {},
   "outputs": [
    {
     "output_type": "stream",
     "name": "stdout",
     "text": [
      "<title></title>\n    <ul>\n    \n    <li><a href=\"www.legendu.net\">Ben</a></li>\n    \n    </ul>\n    \n"
     ]
    }
   ],
   "source": [
    "s = \"\"\"<title>{% block title %}{% endblock %}</title>\n",
    "    <ul>\n",
    "    {% for user in users %}\n",
    "    <li><a href=\"{{ user.url }}\">{{ user.username }}</a></li>\n",
    "    {% endfor %}\n",
    "    </ul>\n",
    "    \"\"\"\n",
    "s = Template(s).render(users=[\n",
    "    Namespace(username=\"Ben\", url=\"www.legendu.net\")\n",
    "])\n",
    "print(s)"
   ]
  },
  {
   "source": [
    "## References \n",
    "\n",
    "https://jinja.palletsprojects.com/en/2.11.x/intro/#basic-api-usage"
   ],
   "cell_type": "markdown",
   "metadata": {}
  },
  {
   "cell_type": "code",
   "execution_count": null,
   "metadata": {},
   "outputs": [],
   "source": []
  }
 ]
}