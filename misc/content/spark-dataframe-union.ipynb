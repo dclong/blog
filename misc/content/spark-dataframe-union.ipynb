{
 "cells": [
  {
   "cell_type": "markdown",
   "metadata": {},
   "source": [
    "- Title: Union DataFrames in Spark\n",
    "- Slug: spark-dataframe-union\n",
    "- Date: 2019-12-20\n",
    "- Category: Computer Science\n",
    "- Tags: programming, Scala, Spark, DataFrame, union\n",
    "- Author: Ben Du"
   ]
  },
  {
   "cell_type": "code",
   "execution_count": null,
   "metadata": {},
   "outputs": [],
   "source": [
    "%%classpath add mvn\n",
    "org.apache.spark spark-core_2.11 2.3.1\n",
    "org.apache.spark spark-sql_2.11 2.3.1"
   ]
  },
  {
   "cell_type": "code",
   "execution_count": null,
   "metadata": {},
   "outputs": [],
   "source": [
    "import org.apache.spark.sql.SparkSession\n",
    "\n",
    "val spark = SparkSession\n",
    "    .builder()\n",
    "    .master(\"local[2]\")\n",
    "    .appName(\"Spark DataFrame Union\")\n",
    "    .getOrCreate()\n",
    "import spark.implicits._"
   ]
  },
  {
   "cell_type": "code",
   "execution_count": null,
   "metadata": {},
   "outputs": [],
   "source": [
    "val df1 = Seq(\n",
    "    (1L, \"a\", \"foo\", 3.0),\n",
    "    (2L, \"b\", \"bar\", 4.0),\n",
    "    (3L, \"c\", \"foo\", 5.0),\n",
    "    (4L, \"d\", \"bar\", 7.0)\n",
    ").toDF(\"col1\", \"col2\", \"col3\", \"col4\")\n",
    "df.show"
   ]
  },
  {
   "cell_type": "code",
   "execution_count": null,
   "metadata": {},
   "outputs": [],
   "source": [
    "val df2 = df1.filter($\"col1\" <= 2)\n",
    "df2.show"
   ]
  },
  {
   "cell_type": "code",
   "execution_count": null,
   "metadata": {},
   "outputs": [],
   "source": [
    "df1.union(df2).show"
   ]
  },
  {
   "cell_type": "code",
   "execution_count": null,
   "metadata": {},
   "outputs": [],
   "source": [
    "val df3 = df1.filter($\"col1\" > 2)\n",
    "df3.show"
   ]
  },
  {
   "cell_type": "code",
   "execution_count": null,
   "metadata": {},
   "outputs": [],
   "source": [
    "Seq(df1, df2, df3).reduce(_ union _).show"
   ]
  },
  {
   "cell_type": "code",
   "execution_count": 2,
   "metadata": {},
   "outputs": [
    {
     "data": {
      "text/plain": [
       "org.apache.spark.sql.SparkSession$implicits$@3fcbf20"
      ]
     },
     "execution_count": 2,
     "metadata": {},
     "output_type": "execute_result"
    }
   ],
   "source": [
    "import org.apache.spark.sql.SparkSession\n",
    "import org.apache.spark.sql.functions._\n",
    "\n",
    "val spark = SparkSession.builder()\n",
    "    .master(\"local[2]\")\n",
    "    .appName(\"Spark Union Example\")\n",
    "    .config(\"spark.some.config.option\", \"some-value\")\n",
    "    .getOrCreate()\n",
    "\n",
    "import spark.implicits._"
   ]
  },
  {
   "cell_type": "code",
   "execution_count": 3,
   "metadata": {},
   "outputs": [
    {
     "name": "stdout",
     "output_type": "stream",
     "text": [
      "+----+-----+\n",
      "|freq| word|\n",
      "+----+-----+\n",
      "|   1|hello|\n",
      "|   2|world|\n",
      "+----+-----+\n",
      "\n"
     ]
    },
    {
     "data": {
      "text/plain": [
       "null"
      ]
     },
     "execution_count": 3,
     "metadata": {},
     "output_type": "execute_result"
    }
   ],
   "source": [
    "val df1 = Seq(\n",
    "    (1, \"hello\"),\n",
    "    (2, \"world\")\n",
    ").toDF(\"freq\", \"word\")\n",
    "df1.show"
   ]
  },
  {
   "cell_type": "code",
   "execution_count": 4,
   "metadata": {},
   "outputs": [
    {
     "name": "stdout",
     "output_type": "stream",
     "text": [
      "+----+----+\n",
      "|word|freq|\n",
      "+----+----+\n",
      "| how|1000|\n",
      "| are| 300|\n",
      "| you| 100|\n",
      "+----+----+\n",
      "\n"
     ]
    },
    {
     "data": {
      "text/plain": [
       "null"
      ]
     },
     "execution_count": 4,
     "metadata": {},
     "output_type": "execute_result"
    }
   ],
   "source": [
    "val df2 = Seq(\n",
    "    (\"how\", 1000),\n",
    "    (\"are\", 300),\n",
    "    (\"you\", 100)\n",
    ").toDF(\"word\", \"freq\")\n",
    "df2.show"
   ]
  },
  {
   "cell_type": "code",
   "execution_count": 6,
   "metadata": {},
   "outputs": [
    {
     "name": "stdout",
     "output_type": "stream",
     "text": [
      "+----+-----+\n",
      "|freq| word|\n",
      "+----+-----+\n",
      "|   1|hello|\n",
      "|   2|world|\n",
      "|1000|  how|\n",
      "| 300|  are|\n",
      "| 100|  you|\n",
      "+----+-----+\n",
      "\n"
     ]
    }
   ],
   "source": [
    "Seq(df1, df2).reduce(_ unionByName _).show"
   ]
  },
  {
   "cell_type": "code",
   "execution_count": 7,
   "metadata": {},
   "outputs": [
    {
     "name": "stdout",
     "output_type": "stream",
     "text": [
      "+----+-----+\n",
      "|freq| word|\n",
      "+----+-----+\n",
      "|   1|hello|\n",
      "|   2|world|\n",
      "+----+-----+\n",
      "\n"
     ]
    }
   ],
   "source": [
    "Seq(df1).reduce(_ unionByName _).show"
   ]
  },
  {
   "cell_type": "markdown",
   "metadata": {},
   "source": [
    "## Comment \n",
    "\n",
    "`union` relies on column order rather than column names. \n",
    "This is the same as in SQL.\n",
    "For columns that the type don't match, \n",
    "the super type is used.\n",
    "This is really dangerous if you are careful. \n",
    "It is suggested that you define a function call unionByName to hanle this.\n",
    "```\n",
    "def unionByName(df1, df2):\n",
    "    ...\n",
    "```"
   ]
  },
  {
   "cell_type": "code",
   "execution_count": 5,
   "metadata": {},
   "outputs": [
    {
     "name": "stdout",
     "output_type": "stream",
     "text": [
      "+----+-----+\n",
      "|freq| word|\n",
      "+----+-----+\n",
      "|   1|hello|\n",
      "|   2|world|\n",
      "| how| 1000|\n",
      "| are|  300|\n",
      "| you|  100|\n",
      "+----+-----+\n",
      "\n"
     ]
    },
    {
     "data": {
      "text/plain": [
       "null"
      ]
     },
     "execution_count": 5,
     "metadata": {},
     "output_type": "execute_result"
    }
   ],
   "source": [
    "val df3 = df1.union(df2)\n",
    "df3.show"
   ]
  },
  {
   "cell_type": "code",
   "execution_count": 6,
   "metadata": {},
   "outputs": [
    {
     "data": {
      "text/plain": [
       "[[StructField(freq,StringType,true), StructField(word,StringType,true)]]"
      ]
     },
     "execution_count": 6,
     "metadata": {},
     "output_type": "execute_result"
    }
   ],
   "source": [
    "df3.schema"
   ]
  },
  {
   "cell_type": "code",
   "execution_count": 8,
   "metadata": {},
   "outputs": [
    {
     "ename": "<console>",
     "evalue": "104",
     "output_type": "error",
     "text": "<console>:104: error: value union is not a member of org.apache.spark.sql.SparkSession\n       spark.union(Seq(df1, df2))\n             ^\n",
     "traceback": [
      "\u001b[1;31m<console>:104: error: value union is not a member of org.apache.spark.sql.SparkSession\u001b[0;0m",
      "\u001b[1;31m       spark.union(Seq(df1, df2))\u001b[0;0m",
      "\u001b[1;31m             ^\u001b[0;0m"
     ]
    }
   ],
   "source": [
    "spark.union(Seq(df1, df2))"
   ]
  },
  {
   "cell_type": "markdown",
   "metadata": {},
   "source": [
    "## Tips\n",
    "\n",
    "A way to avoid the ordering issue is to select columns\n",
    "to make sure that columns of the 2 DataFrames have the same ordering."
   ]
  },
  {
   "cell_type": "code",
   "execution_count": 15,
   "metadata": {},
   "outputs": [
    {
     "name": "stdout",
     "output_type": "stream",
     "text": [
      "+----+----+\n",
      "|freq|word|\n",
      "+----+----+\n",
      "|1000| how|\n",
      "| 300| are|\n",
      "| 100| you|\n",
      "+----+----+\n",
      "\n"
     ]
    }
   ],
   "source": [
    "df2.select(df1.columns.map(c => col(c)): _*).show"
   ]
  },
  {
   "cell_type": "markdown",
   "metadata": {},
   "source": [
    "## Comment\n",
    "\n",
    "An exception is raised if the numbers of columns of the 2 DataFrames do not match."
   ]
  },
  {
   "cell_type": "code",
   "execution_count": 25,
   "metadata": {},
   "outputs": [
    {
     "name": "stdout",
     "output_type": "stream",
     "text": [
      "+----+-----+\n",
      "|freq| word|\n",
      "+----+-----+\n",
      "|   1|hello|\n",
      "|   2|world|\n",
      "+----+-----+\n",
      "\n"
     ]
    },
    {
     "data": {
      "text/plain": [
       "df1 = [freq: int, word: string]\n"
      ]
     },
     "metadata": {},
     "output_type": "display_data"
    },
    {
     "data": {
      "text/plain": [
       "[freq: int, word: string]"
      ]
     },
     "execution_count": 25,
     "metadata": {},
     "output_type": "execute_result"
    }
   ],
   "source": [
    "val df1 = Seq(\n",
    "    (1, \"hello\"),\n",
    "    (2, \"world\")\n",
    ").toDF(\"freq\", \"word\")\n",
    "df1.show"
   ]
  },
  {
   "cell_type": "code",
   "execution_count": 26,
   "metadata": {},
   "outputs": [
    {
     "name": "stdout",
     "output_type": "stream",
     "text": [
      "+----+----+-----+\n",
      "|word|freq|group|\n",
      "+----+----+-----+\n",
      "| how|1000|    0|\n",
      "| are| 300|    0|\n",
      "| you| 100|    0|\n",
      "+----+----+-----+\n",
      "\n"
     ]
    },
    {
     "data": {
      "text/plain": [
       "df2 = [word: string, freq: int ... 1 more field]\n"
      ]
     },
     "metadata": {},
     "output_type": "display_data"
    },
    {
     "data": {
      "text/plain": [
       "[word: string, freq: int ... 1 more field]"
      ]
     },
     "execution_count": 26,
     "metadata": {},
     "output_type": "execute_result"
    }
   ],
   "source": [
    "val df2 = Seq(\n",
    "    (\"how\", 1000, 0),\n",
    "    (\"are\", 300, 0),\n",
    "    (\"you\", 100, 0)\n",
    ").toDF(\"word\", \"freq\", \"group\")\n",
    "df2.show"
   ]
  },
  {
   "cell_type": "code",
   "execution_count": 27,
   "metadata": {},
   "outputs": [
    {
     "data": {
      "text/plain": [
       "Name: org.apache.spark.sql.AnalysisException\n",
       "Message: Union can only be performed on tables with the same number of columns, but the first table has 2 columns and the second table has 3 columns;;\n",
       "'Union\n",
       ":- Project [_1#156 AS freq#159, _2#157 AS word#160]\n",
       ":  +- LocalRelation [_1#156, _2#157]\n",
       "+- Project [_1#171 AS word#175, _2#172 AS freq#176, _3#173 AS group#177]\n",
       "   +- LocalRelation [_1#171, _2#172, _3#173]\n",
       "\n",
       "StackTrace: 'Union\n",
       ":- Project [_1#156 AS freq#159, _2#157 AS word#160]\n",
       ":  +- LocalRelation [_1#156, _2#157]\n",
       "+- Project [_1#171 AS word#175, _2#172 AS freq#176, _3#173 AS group#177]\n",
       "   +- LocalRelation [_1#171, _2#172, _3#173]\n",
       "  at org.apache.spark.sql.catalyst.analysis.CheckAnalysis$class.failAnalysis(CheckAnalysis.scala:39)\n",
       "  at org.apache.spark.sql.catalyst.analysis.Analyzer.failAnalysis(Analyzer.scala:91)\n",
       "  at org.apache.spark.sql.catalyst.analysis.CheckAnalysis$$anonfun$checkAnalysis$1$$anonfun$apply$13.apply(CheckAnalysis.scala:318)\n",
       "  at org.apache.spark.sql.catalyst.analysis.CheckAnalysis$$anonfun$checkAnalysis$1$$anonfun$apply$13.apply(CheckAnalysis.scala:315)\n",
       "  at scala.collection.immutable.List.foreach(List.scala:381)\n",
       "  at org.apache.spark.sql.catalyst.analysis.CheckAnalysis$$anonfun$checkAnalysis$1.apply(CheckAnalysis.scala:315)\n",
       "  at org.apache.spark.sql.catalyst.analysis.CheckAnalysis$$anonfun$checkAnalysis$1.apply(CheckAnalysis.scala:78)\n",
       "  at org.apache.spark.sql.catalyst.trees.TreeNode.foreachUp(TreeNode.scala:127)\n",
       "  at org.apache.spark.sql.catalyst.analysis.CheckAnalysis$class.checkAnalysis(CheckAnalysis.scala:78)\n",
       "  at org.apache.spark.sql.catalyst.analysis.Analyzer.checkAnalysis(Analyzer.scala:91)\n",
       "  at org.apache.spark.sql.execution.QueryExecution.assertAnalyzed(QueryExecution.scala:52)\n",
       "  at org.apache.spark.sql.Dataset$.ofRows(Dataset.scala:66)\n",
       "  at org.apache.spark.sql.Dataset.withSetOperator(Dataset.scala:2884)\n",
       "  at org.apache.spark.sql.Dataset.union(Dataset.scala:1656)"
      ]
     },
     "execution_count": 27,
     "metadata": {},
     "output_type": "execute_result"
    }
   ],
   "source": [
    "df1.union(df2)"
   ]
  },
  {
   "cell_type": "markdown",
   "metadata": {},
   "source": [
    "## References\n",
    "\n",
    "https://stackoverflow.com/questions/37612622/spark-unionall-multiple-dataframes\n",
    "\n",
    "https://spark.apache.org/docs/latest/api/java/index.html?org/apache/spark/sql/Dataset.html\n",
    "\n",
    "https://spark.apache.org/docs/latest/api/java/index.html?org/apache/spark/sql/functions.html\n",
    "\n",
    "https://spark.apache.org/docs/latest/api/java/org/apache/spark/sql/Row.html"
   ]
  },
  {
   "cell_type": "code",
   "execution_count": null,
   "metadata": {},
   "outputs": [],
   "source": []
  }
 ],
 "metadata": {
  "kernelspec": {
   "display_name": "Scala",
   "language": "scala",
   "name": "scala"
  },
  "language_info": {
   "codemirror_mode": "text/x-scala",
   "file_extension": ".scala",
   "mimetype": "text/x-scala",
   "name": "scala",
   "nbconvert_exporter": "script",
   "version": "2.12.10"
  }
 },
 "nbformat": 4,
 "nbformat_minor": 4
}
