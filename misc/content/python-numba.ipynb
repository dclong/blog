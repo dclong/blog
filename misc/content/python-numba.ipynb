{
 "cells": [
  {
   "cell_type": "markdown",
   "metadata": {},
   "source": [
    "- Title: Hands on the Python module numba\n",
    "- Slug: python-numba\n",
    "- Date: 2020-01-29 01:39:59\n",
    "- Category: Programming\n",
    "- Tags: programming, Python, numba, JIT, HPC, high performance computing\n",
    "- Author: Ben Du"
   ]
  },
  {
   "cell_type": "code",
   "execution_count": 1,
   "metadata": {},
   "outputs": [],
   "source": [
    "from __future__ import division\n",
    "import time\n",
    "import random\n",
    "\n",
    "data = []\n",
    "data_length = 100000\n",
    "ma_length = 500\n",
    "test_times = 10\n",
    "\n",
    "for i in range(data_length):\n",
    "    data.append(random.randint(1, 100))"
   ]
  },
  {
   "cell_type": "code",
   "execution_count": 2,
   "metadata": {},
   "outputs": [
    {
     "name": "stderr",
     "output_type": "stream",
     "text": [
      "/workspace/.pip-modules/lib/python3.7/site-packages/numba/ir_utils.py:1969: NumbaPendingDeprecationWarning: \u001b[1m\n",
      "Encountered the use of a type that is scheduled for deprecation: type 'reflected list' found for argument 'data' of function 'ma_numba'.\n",
      "\n",
      "For more information visit http://numba.pydata.org/numba-doc/latest/reference/deprecation.html#deprecation-of-reflection-for-list-and-set-types\n",
      "\u001b[1m\n",
      "File \"<ipython-input-2-72e6018139c1>\", line 4:\u001b[0m\n",
      "\u001b[1m@numba.jit\n",
      "\u001b[1mdef ma_numba(data, ma_length):\n",
      "\u001b[0m\u001b[1m^\u001b[0m\u001b[0m\n",
      "\u001b[0m\n",
      "  warnings.warn(NumbaPendingDeprecationWarning(msg, loc=loc))\n"
     ]
    },
    {
     "name": "stdout",
     "output_type": "stream",
     "text": [
      "time_per_test\uff1a0.4571639060974121S\n",
      "time_per_point\uff1a4.594612121582031MS\n"
     ]
    }
   ],
   "source": [
    "import numba\n",
    "\n",
    "@numba.jit\n",
    "def ma_numba(data, ma_length):\n",
    "    ma = []\n",
    "    data_window = data[:ma_length]\n",
    "    test_data = data[ma_length:]\n",
    "\n",
    "    for new_tick in test_data:\n",
    "        data_window.pop(0)\n",
    "        data_window.append(new_tick)\n",
    "        sum_tick = 0\n",
    "        for tick in data_window:\n",
    "            sum_tick += tick\n",
    "        ma.append(sum_tick/ma_length)\n",
    "\n",
    "    return ma\n",
    "\n",
    "start = time.time()\n",
    "\n",
    "for i in range(test_times):\n",
    "    result = ma_numba(data, ma_length)\n",
    "\n",
    "time_per_test = (time.time()-start)/test_times\n",
    "time_per_point = time_per_test/(data_length - ma_length)\n",
    "\n",
    "print(u'time_per_test\uff1a%sS' %time_per_test)\n",
    "print(u'time_per_point\uff1a%sMS' %(time_per_point * 1000000))"
   ]
  },
  {
   "cell_type": "code",
   "execution_count": null,
   "metadata": {},
   "outputs": [],
   "source": [
    "## Numba with GPU\n",
    "\n",
    "https://github.com/numba/numba/pull/4432"
   ]
  },
  {
   "cell_type": "code",
   "execution_count": null,
   "metadata": {},
   "outputs": [],
   "source": [
    "## References\n",
    "\n",
    "https://github.com/numba/numba/pull/4432"
   ]
  }
 ],
 "metadata": {
  "kernelspec": {
   "display_name": "Python 3",
   "language": "python",
   "name": "python3"
  },
  "language_info": {
   "codemirror_mode": {
    "name": "ipython",
    "version": 3
   },
   "file_extension": ".py",
   "mimetype": "text/x-python",
   "name": "python",
   "nbconvert_exporter": "python",
   "pygments_lexer": "ipython3",
   "version": "3.7.3"
  }
 },
 "nbformat": 4,
 "nbformat_minor": 4
}