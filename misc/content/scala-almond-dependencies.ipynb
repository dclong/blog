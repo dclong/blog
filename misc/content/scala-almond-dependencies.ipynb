{
 "cells": [
  {
   "cell_type": "markdown",
   "metadata": {},
   "source": [
    "- Title: Specify Dependencies in the Almond Scala Kernel in JupyterLab\n",
    "- Slug: scala-almond-dependencies\n",
    "- Date: 2020-03-22\n",
    "- Category: Computer Science\n",
    "- Tags: programming, Scala, JVM, Almond, JupyterLab, dependencies, Ammonite\n",
    "- Author: Ben Du"
   ]
  },
  {
   "cell_type": "markdown",
   "metadata": {},
   "source": [
    "## Jar Dependency\n",
    "\n",
    "The way to add Jar dependency in Almond is the same as in \n",
    "[Ammonite](http://ammonite.io/#Ammonite-REPL)."
   ]
  },
  {
   "cell_type": "code",
   "execution_count": null,
   "metadata": {},
   "outputs": [],
   "source": [
    "interp.load.cp(os.Path(\"/absolute/path/to/file.jar\"))"
   ]
  },
  {
   "cell_type": "code",
   "execution_count": null,
   "metadata": {},
   "outputs": [],
   "source": [
    "import $cp.`/absolute/path/to/file.jar`"
   ]
  },
  {
   "cell_type": "markdown",
   "metadata": {},
   "source": [
    "## Maven Dependency"
   ]
  },
  {
   "cell_type": "code",
   "execution_count": null,
   "metadata": {},
   "outputs": [],
   "source": [
    "interp.load.ivy(\"org.platanios\" %% \"tensorflow-data\" % \"0.4.1\")"
   ]
  },
  {
   "cell_type": "code",
   "execution_count": null,
   "metadata": {},
   "outputs": [],
   "source": [
    "import $ivy.`org.apache.spark::spark-sql:2.4.3` "
   ]
  },
  {
   "cell_type": "markdown",
   "metadata": {},
   "source": [
    "## Almond Jupyter/Lab API\n",
    "\n",
    "https://almond.sh/docs/api-jupyter"
   ]
  },
  {
   "cell_type": "markdown",
   "metadata": {},
   "source": [
    "## References\n",
    "\n",
    "https://almond.sh/\n",
    "\n",
    "http://ammonite.io/\n",
    "\n",
    "https://almond.sh/docs/api-ammonite.html#load-dependencies\n",
    "\n",
    "https://github.com/almond-sh/examples/tree/master/notebooks"
   ]
  },
  {
   "cell_type": "code",
   "execution_count": null,
   "metadata": {},
   "outputs": [],
   "source": []
  }
 ],
 "metadata": {
  "kernelspec": {
   "display_name": "Scala",
   "language": "scala",
   "name": "scala"
  },
  "language_info": {
   "codemirror_mode": "text/x-scala",
   "file_extension": ".scala",
   "mimetype": "text/x-scala",
   "name": "scala",
   "nbconvert_exporter": "script",
   "version": "2.12.10"
  }
 },
 "nbformat": 4,
 "nbformat_minor": 4
}
