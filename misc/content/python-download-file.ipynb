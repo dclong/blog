{
 "cells": [
  {
   "cell_type": "markdown",
   "metadata": {},
   "source": [
    "- Title: Hands on the urllib Module in Python\n",
    "- Slug: python-download-file\n",
    "- Date: 2020-01-24\n",
    "- Category: Programming\n",
    "- Tags: programming, Python, web, network, download file\n",
    "- Author: Ben Du"
   ]
  },
  {
   "cell_type": "markdown",
   "metadata": {},
   "source": [
    "## urllib.request.urlretrieve\n",
    "\n",
    "`urllib.request.urlretrieve` can be used to download a file from the internet to local."
   ]
  },
  {
   "cell_type": "code",
   "execution_count": 14,
   "metadata": {},
   "outputs": [],
   "source": [
    "file, http_msg = urllib.request.urlretrieve(\"http://www.legendu.net/media/download_code_server.py\", \"/tmp/download_code_server.py\")"
   ]
  },
  {
   "cell_type": "code",
   "execution_count": 15,
   "metadata": {},
   "outputs": [
    {
     "data": {
      "text/plain": [
       "'/tmp/download_code_server.py'"
      ]
     },
     "execution_count": 15,
     "metadata": {},
     "output_type": "execute_result"
    }
   ],
   "source": [
    "file"
   ]
  },
  {
   "cell_type": "code",
   "execution_count": 9,
   "metadata": {},
   "outputs": [
    {
     "name": "stdout",
     "output_type": "stream",
     "text": [
      "/tmp/download_code_server.py\n"
     ]
    }
   ],
   "source": [
    "!ls /tmp/download_code_server.py"
   ]
  },
  {
   "cell_type": "code",
   "execution_count": 16,
   "metadata": {},
   "outputs": [
    {
     "data": {
      "text/plain": [
       "<http.client.HTTPMessage at 0x7fe9efcaa358>"
      ]
     },
     "execution_count": 16,
     "metadata": {},
     "output_type": "execute_result"
    }
   ],
   "source": [
    "http_msg"
   ]
  },
  {
   "cell_type": "code",
   "execution_count": 17,
   "metadata": {},
   "outputs": [
    {
     "data": {
      "text/plain": [
       "'Server: GitHub.com\\nContent-Type: application/octet-stream\\nLast-Modified: Fri, 24 Jan 2020 20:21:29 GMT\\nETag: \"5e2b51c9-2de\"\\nAccess-Control-Allow-Origin: *\\nExpires: Fri, 24 Jan 2020 20:34:29 GMT\\nCache-Control: max-age=600\\nX-Proxy-Cache: MISS\\nX-GitHub-Request-Id: 6ACA:869A:42BECA:4B481B:5E2B527D\\nContent-Length: 734\\nAccept-Ranges: bytes\\nDate: Fri, 24 Jan 2020 22:19:35 GMT\\nVia: 1.1 varnish\\nAge: 339\\nConnection: close\\nX-Served-By: cache-sea4480-SEA\\nX-Cache: HIT\\nX-Cache-Hits: 1\\nX-Timer: S1579904375.100592,VS0,VE0\\nVary: Accept-Encoding\\nX-Fastly-Request-ID: 44fa67063caa264fc25f2cc26353c8dfc534ae66\\n\\n'"
      ]
     },
     "execution_count": 17,
     "metadata": {},
     "output_type": "execute_result"
    }
   ],
   "source": [
    "http_msg.as_string()"
   ]
  },
  {
   "cell_type": "markdown",
   "metadata": {},
   "source": [
    "## wget"
   ]
  },
  {
   "cell_type": "code",
   "execution_count": null,
   "metadata": {},
   "outputs": [],
   "source": []
  },
  {
   "cell_type": "markdown",
   "metadata": {},
   "source": [
    "## References\n",
    "\n",
    "https://stackabuse.com/download-files-with-python/\n",
    "    \n",
    "https://stackoverflow.com/questions/22676/how-do-i-download-a-file-over-http-using-python"
   ]
  },
  {
   "cell_type": "code",
   "execution_count": null,
   "metadata": {},
   "outputs": [],
   "source": []
  }
 ],
 "metadata": {
  "kernelspec": {
   "display_name": "Python 3",
   "language": "python",
   "name": "python3"
  },
  "language_info": {
   "codemirror_mode": {
    "name": "ipython",
    "version": 3
   },
   "file_extension": ".py",
   "mimetype": "text/x-python",
   "name": "python",
   "nbconvert_exporter": "python",
   "pygments_lexer": "ipython3",
   "version": "3.7.3"
  }
 },
 "nbformat": 4,
 "nbformat_minor": 4
}
