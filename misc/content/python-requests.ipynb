{
 "cells": [
  {
   "cell_type": "markdown",
   "metadata": {},
   "source": [
    "- Title: Hands on the requests Module in Python\n",
    "- Slug: python-requests\n",
    "- Date: 2020-11-22 23:51:11\n",
    "- Category: Computer Science\n",
    "- Tags: programming, Python, requests, web, network\n",
    "- Author: Ben Du"
   ]
  },
  {
   "cell_type": "markdown",
   "metadata": {},
   "source": [
    "## Comments \n",
    "\n",
    "1. It is suggested that you use the requests module instead of urllib\n",
    "    unless you want to have minimal 3rd-party dependencies.\n",
    "\n",
    "2. `Response.raise_for_status` is a convenient method for raising an exception \n",
    "    corresponding to the HTTP status code."
   ]
  },
  {
   "cell_type": "markdown",
   "metadata": {},
   "source": [
    "## References\n",
    "\n",
    "http://www.legendu.net/misc/blog/python-download-file/\n",
    "\n",
    "https://stackabuse.com/download-files-with-python/\n",
    "    \n",
    "https://stackoverflow.com/questions/22676/how-do-i-download-a-file-over-http-using-python"
   ]
  },
  {
   "cell_type": "code",
   "execution_count": 1,
   "metadata": {},
   "outputs": [],
   "source": [
    "import requests"
   ]
  },
  {
   "cell_type": "code",
   "execution_count": 9,
   "metadata": {},
   "outputs": [],
   "source": [
    "r = requests.get('https://github.com/timeline.json')"
   ]
  },
  {
   "cell_type": "code",
   "execution_count": 15,
   "metadata": {},
   "outputs": [
    {
     "name": "stdout",
     "output_type": "stream",
     "text": [
      "{\n",
      "  \"args\": {}, \n",
      "  \"data\": \"\", \n",
      "  \"files\": {}, \n",
      "  \"form\": {}, \n",
      "  \"headers\": {\n",
      "    \"Accept\": \"*/*\", \n",
      "    \"Accept-Encoding\": \"gzip, deflate\", \n",
      "    \"Connection\": \"close\", \n",
      "    \"Content-Length\": \"0\", \n",
      "    \"Host\": \"httpbin.org\", \n",
      "    \"User-Agent\": \"python-requests/2.13.0\"\n",
      "  }, \n",
      "  \"json\": null, \n",
      "  \"origin\": \"216.113.160.77\", \n",
      "  \"url\": \"http://httpbin.org/post\"\n",
      "}\n",
      "\n"
     ]
    }
   ],
   "source": [
    "payload = {'key1': 'value1', 'key2': 'value2'}\n",
    "r = requests.post(\"http://httpbin.org/post\")\n",
    "print(r.text)"
   ]
  },
  {
   "cell_type": "code",
   "execution_count": 19,
   "metadata": {},
   "outputs": [
    {
     "data": {
      "text/plain": [
       "{'Access-Control-Allow-Credentials': 'true', 'Connection': 'keep-alive', 'Content-Length': '359', 'Server': 'gunicorn/19.7.1', 'Content-Type': 'application/json', 'Date': 'Fri, 28 Apr 2017 02:14:45 GMT', 'Access-Control-Allow-Origin': '*', 'Via': '1.1 vegur'}"
      ]
     },
     "execution_count": 19,
     "metadata": {},
     "output_type": "execute_result"
    }
   ],
   "source": [
    "r.headers"
   ]
  },
  {
   "cell_type": "code",
   "execution_count": 2,
   "metadata": {
    "collapsed": true,
    "jupyter": {
     "outputs_hidden": true
    }
   },
   "outputs": [],
   "source": [
    "import requests"
   ]
  },
  {
   "cell_type": "code",
   "execution_count": 4,
   "metadata": {
    "collapsed": true,
    "jupyter": {
     "outputs_hidden": true
    }
   },
   "outputs": [],
   "source": [
    "r = requests.get('http://dreamchimney.com')"
   ]
  },
  {
   "cell_type": "code",
   "execution_count": 5,
   "metadata": {},
   "outputs": [
    {
     "data": {
      "text/plain": [
       "'<!DOCTYPE html>\\n<html lang=\"en\">\\n<head>\\n    <meta charset=\"utf-8\">\\n    <meta http-equiv=\"X-UA-Compatible\" content=\"IE=edge\">\\n    <meta name=\"viewport\" content=\"width=device-width, initial-scale=1\">\\n\\n    <title>&#9733; Dream Chimney &#9733;</title>\\n    <meta name=\"description\" content=\"Music . Dreams . Other Oddball Items\" />\\n    <meta property=\"og:title\" content=\"Dream Chimney\"/>\\n    <meta property=\"og:url\" content=\"http://www.dreamchimney.com/\"/>\\n    <meta property=\"og:image\" content=\"http://dreamchimney.com/tracks/fb-share-sm.jpg\"/>\\n    <meta property=\"og:site_name\" content=\"Dream Chimney\"/>\\n    <meta property=\"og:description\" content=\"Music . Dreams . Other Oddball Items\"/>\\n\\n    <!-- Bootstrap -->\\n    <link rel=\"canonical\" href=\"http://dreamchimney.com\" />\\n    <link rel=\"alternate\" type=\"application/rss+xml\" title=\"RSS\" href=\"/rss.php?dc\" />\\n\\n    <!-- Latest compiled and minified CSS -->\\n    <link rel=\"stylesheet\" href=\"mainpage/css/bootstrap_24.min.css\">\\n\\n    <link rel=\"stylesheet\" href=\"mainpage/css/homepage.3.1.13.min.css\" type=\"text/css\" />\\n<!--    <link rel=\"stylesheet\" href=\"mainpage/css/homepage.css\" type=\"text/css\" />-->\\n\\n    <link rel=\"stylesheet\" href=\"https://use.fontawesome.com/releases/v5.0.8/css/all.css\" integrity=\"sha384-3AB7yXWz4OeoZcPbieVW64vVXEwADiYyAEhwilzWsLw+9FgqpyjjStpPnpBO8o8S\" crossorigin=\"anonymous\">\\n\\n\\n\\n    <!-- HTML5 shim and Respond.js for IE8 support of HTML5 elements and media queries -->\\n    <!-- WARNING: Respond.js doesn\\'t work if you view the page via file:// -->\\n    <!--[if lt IE 9]>\\n    <script src=\"https://oss.maxcdn.com/html5shiv/3.7.2/html5shiv.min.js\"></script>\\n    <script src=\"https://oss.maxcdn.com/respond/1.4.2/respond.min.js\"></script>\\n    <![endif]-->\\n<!--    <link href=\"//maxcdn.bootstrapcdn.com/font-awesome/4.2.0/css/font-awesome.min.css\" rel=\"stylesheet\">-->\\n\\n\\n    <link href=\"https://fonts.googleapis.com/css?family=Ubuntu:400,700\" rel=\"stylesheet\">\\n\\n\\n\\n</head>\\n<body id=\"body-wrapper\">\\n\\n<div class=\"container\">\\n\\n    <div class=\"row\" id=\"header\">\\n        <div class=\"col-md-6 col-sm-24 hidden-xs hidden-sm\">\\n            <span>Vol: VXXXVII &#149; No. 3</span>\\n            <span>Established: 1997</span>\\n            <span>Music . Dreams . Other Oddball Items</span>\\n        </div>\\n\\n        <div class=\"col-md-12 col-sm-24 text-center\">\\n            <a href=\"/\"><img src=\"mainpage/dc-title06.gif\" alt=\"Dream Chimney\" class=\"img-responsive\" style=\"display: inline-block;\" /></a>\\n        </div>\\n        <div class=\"col-md-6 col-sm-24 text-center\">\\n            <span class=\"header-infos\">\\n                    <a href=\"http://twitter.com/dreamchimney\" target=\"_blank\"><i class=\"fab fa-twitter\"></i></a>\\n                    <a href=\"http://soundcloud.com/the-dream-chimney\" target=\"_blank\"><i class=\"fab fa-soundcloud\"></i></a>\\n\\t\\t\\t        <a href=\"http://dreamchimney.tumblr.com/\" target=\"_blank\"><i class=\"fab fa-tumblr\"></i></a>\\n                    <a href=\"https://www.facebook.com/dreamchimney\" target=\"_blank\"><i class=\"fab fa-facebook\"></i></a>\\n                    <a href=\"http://instagram.com/dreamchimney\" target=\"_blank\"><i class=\"fab fa-instagram\"></i></a>\\n                </span>\\n        </div>\\n    </div>\\n    <div class=\"row\">\\n\\n        <div id=\"left-nav\" class=\"col-md-7 text-center\">\\n\\n            <img src=\"/mainpage/covers/b.piano_city.jpg\" class=\"img-responsive dc-home-image\" />\\n\\n            \\n           <div class=\"mini-site-nav\">\\n               <h3>Most Popular</h3>\\n               <div>\\n                   <a href=\"/tracks/\">Track of the Day</a>\\n                   <a href=\"/motw\">Mix of the Week</a>\\n                   <a href=\"/oftheday/\">___ of the Day</a>\\n                   <a href=\"/sleevery\">Sleevery</a>\\n                   <a href=\"/store\">Store</a>\\n                   <a href=\"/today/\">Today</a>\\n               </div>\\n           </div>\\n            \\n           <div class=\"dc-link-section\">\\n               <div class=\"nav-item\">\\n                   <div>\\n<!--                       <a href=\"http:// rroker.net/b2b\" onClick=\"ga(\\'send\\', \\'event\\', \\'TOTDbanner-b2b\\', \\'DC-Homepage\\', \\'TOTDbanner-b2b\\');\">-->\\n<!--                           <img src=\"/global/ads/b2b-banner-sm.png\" alt=\"Back to Business\" class=\"img-responsive dc-goto\" border=\"0\" />-->\\n<!--                       </a>-->\\n<!--                       <a href=\"http://dreamchimney.bigcartel.com/product/dream-chimney-dc-shirt\" onClick=\"ga(\\'send\\', \\'event\\', \\'TOTDbanner-dcshirt\\', \\'DC-Homepage\\', \\'TOTDbanner-dcshirt\\');\">-->\\n<!--                           <img src=\"/global/ads/dc-shirt-banner-sm.png\" alt=\"the Dream Chimney Shirt - DC Logo\" class=\"img-responsive dc-goto\" border=\"0\" />-->\\n<!--                       </a>-->\\n                   </div>\\n                </div>\\n           </div>\\n\\n            <div class=\"nav-item\">\\n                <a href=\"https://projectsandro.bandcamp.com/releases\" target=\"_blank\"  onClick=\"ga(\\'send\\', \\'event\\', \\'pst1\\', \\'DC-Homepage\\', \\'pst1\\');\">\\n                    <img src=\"mainpage/kba/PST1.jpg\" class=\"img-responsive center-block\" alt=\"Project Sandro\" />\\n                </a>\\n\\n            </div>\\n\\n\\n\\n            <div class=\"nav-item\">\\n                <div class=\"nav-item feature search-feature text-center\">\\n                    <h2>\\n                        <i class=\"fa fa-search\"></i> <a href=\"/search/\">Search the Chimney</a>\\n                    </h2>\\n                    <div>\\n                        <form method=\"get\" action=\"/search/\">\\n                            <input type=\"hidden\" name=\"site\" value=\"www.dreamchimney.com\" />\\n                    <span>\\n                       <input type=\"text\" name=\"q\"  maxlength=\"255\" value=\"\" id=\"search-text\" />&nbsp;<button class=\"icon\"><i class=\"fa fa-search\"></i></button>\\n                    </span>\\n                        </form>\\n                    </div>\\n                </div>\\n\\n\\n            </div>\\n\\n        </div>\\n\\n        <div class=\"col-md-9  col-md-offset-1 text-center\" >\\n\\n<!--             LEFT NAV -->\\n\\n            <div class=\"list-group most-recent\">\\n                <div class=\"headline\">Today on Dream Chimney</div>\\n                                <ul>\\n                                        <li>\\n                        <div class=\"row\">\\n                            <div class=\"thumb col-xs-8\">\\n                                <a href=\"/quotes/quote/2018-03-25\">\\n                                    <img src=\"/mainpage/icon_quotes.png\" class=\"img-responsive\" />\\n                                </a>\\n                            </div>\\n                            <div class=\"teaser col-xs-16 text-left\">\\n                                <a href=\"/quotes/quote/2018-03-25\">\\n                                    <div class=\"site\">Quote of the Day</div>\\n                                    <div class=\"title\">Quote of the Day Comment</div>\\n                                    <div class=\"subtitle\">Added by  Sorcerer Chimney</div>\\n                                    <div class=\"date\">3 hours ago</div>\\n                                </a>\\n                            </div>\\n                        </div>\\n                    </li>\\n                                        <li>\\n                        <div class=\"row\">\\n                            <div class=\"thumb col-xs-8\">\\n                                <a href=\"/quotes/quote/2018-03-25\">\\n                                    <img src=\"/mainpage/icon_quotes.png\" class=\"img-responsive\" />\\n                                </a>\\n                            </div>\\n                            <div class=\"teaser col-xs-16 text-left\">\\n                                <a href=\"/quotes/quote/2018-03-25\">\\n                                    <div class=\"site\">Quote of the Day</div>\\n                                    <div class=\"title\">Quote of the Day Comment</div>\\n                                    <div class=\"subtitle\">Added by  Sorcerer Chimney</div>\\n                                    <div class=\"date\">3 hours ago</div>\\n                                </a>\\n                            </div>\\n                        </div>\\n                    </li>\\n                                        <li>\\n                        <div class=\"row\">\\n                            <div class=\"thumb col-xs-8\">\\n                                <a href=\"/quotes/\">\\n                                    <img src=\"/mainpage/icon_quotes.png\" class=\"img-responsive\" />\\n                                </a>\\n                            </div>\\n                            <div class=\"teaser col-xs-16 text-left\">\\n                                <a href=\"/quotes/\">\\n                                    <div class=\"site\">Quote of the Day</div>\\n                                    <div class=\"title\">New Quote of the Day:  \"Meanwhile I was spending a lot of time in my underpants browsing Dream Chimney and listening to the CBS while slacking off during my first MA degree\" </div>\\n                                    <div class=\"subtitle\">Added by  Ryan Chimney</div>\\n                                    <div class=\"date\">3 hours ago</div>\\n                                </a>\\n                            </div>\\n                        </div>\\n                    </li>\\n                                        <li>\\n                        <div class=\"row\">\\n                            <div class=\"thumb col-xs-8\">\\n                                <a href=\"/oftheday/detail/Video_Game_Mar_24_2018\">\\n                                    <img src=\"/oftheday/otd_images/20180324171118_auto.jpg\" class=\"img-responsive\" />\\n                                </a>\\n                            </div>\\n                            <div class=\"teaser col-xs-16 text-left\">\\n                                <a href=\"/oftheday/detail/Video_Game_Mar_24_2018\">\\n                                    <div class=\"site\">___ of the Day</div>\\n                                    <div class=\"title\">Reply to \\'Video Game\\' of the Day</div>\\n                                    <div class=\"subtitle\">From Sorcerer Chimney</div>\\n                                    <div class=\"date\">3 hours ago</div>\\n                                </a>\\n                            </div>\\n                        </div>\\n                    </li>\\n                                        <li>\\n                        <div class=\"row\">\\n                            <div class=\"thumb col-xs-8\">\\n                                <a href=\"/tracks/38495\">\\n                                    <img src=\"/tracks/track_images/38495.jpg\" class=\"img-responsive\" />\\n                                </a>\\n                            </div>\\n                            <div class=\"teaser col-xs-16 text-left\">\\n                                <a href=\"/tracks/38495\">\\n                                    <div class=\"site\">Track of the Day</div>\\n                                    <div class=\"title\">\"For What It\\'s Worth\" by Talk Talk</div>\\n                                    <div class=\"subtitle\">Track added by Faint Chimney</div>\\n                                    <div class=\"date\">12 hours ago</div>\\n                                </a>\\n                            </div>\\n                        </div>\\n                    </li>\\n                                        <li>\\n                        <div class=\"row\">\\n                            <div class=\"thumb col-xs-8\">\\n                                <a href=\"/tracks/38494\">\\n                                    <img src=\"/tracks/track_images/38494.jpg\" class=\"img-responsive\" />\\n                                </a>\\n                            </div>\\n                            <div class=\"teaser col-xs-16 text-left\">\\n                                <a href=\"/tracks/38494\">\\n                                    <div class=\"site\">Track of the Day</div>\\n                                    <div class=\"title\">\"Feeling Free\" by Izumi Kobayashi</div>\\n                                    <div class=\"subtitle\">Track added by Ryan Chimney</div>\\n                                    <div class=\"date\">13 hours ago</div>\\n                                </a>\\n                            </div>\\n                        </div>\\n                    </li>\\n                                    </ul>\\n\\n                <div class=\"footer-more text-right\">\\n                    <a href=\"/today\">More recent updates &raquo;</a>\\n                </div>\\n\\n            </div>\\n\\n\\n        </div>\\n\\n\\n\\n        <div class=\"col-md-6 col-md-offset-1 text-center\" id=\"right-nav\">\\n\\n\\n<!--            Right Nav -->\\n\\n\\n            <div class=\"nav-item feature motw-feature\">\\n                <h2>\\n                    <a href=\"/motw\"><img src=\"/mainpage/motw.png?v2\" alt=\"Mix of the Week\" /></a>\\n                    <a href=\"/motw/\" class=\"title\">Mix of the Week</a>\\n                </h2>\\n                <div class=\"text-center\">\\n                    <a href=\"/motw\">\\n                        <img src=\"/motw/img/mixes-new/213.jpg\" class=\"img-responsive\" style=\"\" alt=\"Mix of the Week\" />\\n                    </a>\\n                    <div class=\"text-center\">\\n<!--                        Mix of the Week #--><!--<br/>-->\\n                        <a class=\"cta\" href=\"/motw\">Mix #213 by This Is A Recording</a>\\n                    </div>\\n                </div>\\n            </div>\\n\\n            <div class=\"nav-item\">\\n<!--                <a href=\"http://www.orbeatize.com/store/product/view/1/8.html\" target=\"_blank\"  onClick=\"ga(\\'send\\', \\'event\\', \\'orb06\\', \\'DC-Homepage\\', \\'orb06-dchome\\');\">-->\\n<!--                    <img src=\"mainpage/kba/ORB06.png\" class=\"img-responsive\" alt=\"Orbeatize\" />-->\\n<!--                </a>-->\\n<!--                <a href=\"http://www.orbeatize.com/store/product/view/1/3.html\" target=\"_blank\"  onClick=\"ga(\\'send\\', \\'event\\', \\'ORB03\\', \\'DC-Homepage\\', \\'ORB03\\');\">-->\\n<!--                    <img src=\"mainpage/kba/ORB03.png\" class=\"img-responsive\" alt=\"Orbeatize\" />-->\\n<!--                </a>-->\\n\\n                <a href=\"http://dreamchimney.bigcartel.com/product/dream-chimney-dc-shirt\" target=\"_blank\"  onClick=\"ga(\\'send\\', \\'event\\', \\'DC shirt\\', \\'DC-Homepage\\', \\'shirt\\');\">\\n                    <img src=\"mainpage/kba/kba_dc_shirt.jpg\" class=\"img-responsive center-block\" alt=\"DC Shirt\" />\\n                </a>\\n            </div>\\n\\n\\n            <div class=\"nav-item feature promo-feature\">\\n                <h2>\\n                    <a href=\"/tracks/promo-tracks\">DC Promo Tracks</a>\\n                </h2>\\n                <div>\\n                    <a href=\"https://soundcloud.com/the-dream-chimney/dc-promo-tracks-157-mateis-e-aqir-ever-fruit\" target=\"_blank\" title=\"Mateis e. aqir\">\\n                        <img src=\"tracks/images/promo-tracks/157.jpg\" class=\"img-responsive\" alt=\"Mateis e. aqir\" />\\n\\n                        <div class=\"text-center\">\\n                            \"Ever Fruit\" by Mateis e. aqir<br>on Jungle Gym Records                        </div>\\n                    </a>\\n                </div>\\n                <div>\\n                    <a href=\"https://soundcloud.com/the-dream-chimney/dc-promo-tracks-156-stanleystanley-fumes\" target=\"_blank\" title=\"stanleystanley\">\\n                        <img src=\"tracks/images/promo-tracks/156.jpg\" class=\"img-responsive\" alt=\"stanleystanley\" />\\n\\n                        <div class=\"text-center\">\\n                            \"Fumes\" by stanleystanley<br>on Parnell Supply Co                        </div>\\n                    </a>\\n                </div>\\n                <div>\\n                    <a href=\"https://soundcloud.com/the-dream-chimney/dc-promo-tracks-155-tony-disco-zombie-fever\" target=\"_blank\" title=\"Tony Disco\">\\n                        <img src=\"tracks/images/promo-tracks/155.jpg\" class=\"img-responsive\" alt=\"Tony Disco\" />\\n\\n                        <div class=\"text-center\">\\n                            \"ZombieFever\" by Tony Disco<br>on Silhouette Music                        </div>\\n                    </a>\\n                </div>\\n\\n            </div>\\n\\n<!--            <div class=\"nav-item feature demo-feature\">-->\\n<!--                <h2>-->\\n<!--                    <a href=\"/tracks/demo-tracks\">DC Demo Tracks</a>-->\\n<!--                </h2>-->\\n<!--                <div class=\"text-center\">-->\\n<!--                    <a href=\"--><!--\">-->\\n<!--                        <img src=\"http://dreamchimney.com/tracks/images/demo-tracks/--><!--.jpg\" alt=\"--><!--\" />-->\\n<!---->\\n<!--                        <div class=\"text-center\">-->\\n<!--                            --><!-- \"--><!--\"-->\\n<!--                        </div>-->\\n<!--                    </a>-->\\n<!---->\\n<!--                </div>-->\\n<!--            </div>-->\\n\\n\\n<!--            <div class=\"nav-item\">-->\\n<!--                -->\\n<!--                <a href=\"https://jaywar.bandcamp.com/album/bedtime-stories-for-a-fainting-goat\" target=\"_blank\" onClick=\"ga(\\'send\\', \\'event\\', \\'TOTDbanner-jaywar\\', \\'DC-Homepage\\', \\'TOTDbanner-jaywar\\');\">-->\\n<!--                    <img src=\"/global/ads/jaywarBanner-sm.jpg\" alt=\"Jaywar\" class=\"img-responsive dc-goto\" border=\"0\" />-->\\n<!--                </a>-->\\n<!--                <a href=\"http://dreamchimney.bigcartel.com/product/dream-chimney-dc-shirt\" onClick=\"ga(\\'send\\', \\'event\\', \\'TOTDbanner-dcshirt\\', \\'DC-Homepage\\', \\'TOTDbanner-dcshirt\\');\">-->\\n<!--                    <img src=\"/global/ads/dc-shirt-banner-sm.png\" alt=\"the Dream Chimney Shirt - DC Logo\" class=\"img-responsive dc-goto\" border=\"0\" />-->\\n<!--                </a>-->\\n<!--            </div>-->\\n\\n        </div>\\n    </div>\\n\\n    <div class=\"row\">\\n        <div class=\"col-xs-24 col-sm-12 col-md-8\">\\n            <div class=\"nav-item feature totd-feature\">\\n                <h2>\\n                    <a href=\"/tracks/\">Track of the Day</a>\\n                </h2>\\n                <div>\\n                    <a href=\"/tracks/\">\\n                        <img src=\"mainpage/icon_totd.gif\" class=\"img-responsive dc-icon\" alt=\"Track of the Day\" />\\n                    </a>\\n                    <span><a href=\"/tracks\">\"For What It\\'s Worth\" by Talk Talk<br>from Faint Chimney</a></span>\\n                </div>\\n            </div>\\n        </div>\\n        <div class=\"col-xs-24 col-sm-12 col-md-8\">\\n            <div class=\"nav-item feature otd-feature\">\\n                <h2>\\n                    <a href=\"/oftheday/\">\"____\" of the Day</a>\\n                </h2>\\n                <div>\\n                    <a href=\"/oftheday/Video_Game_Mar_24_2018\">\\n                        <img src=\"mainpage/icon_otd.gif\" class=\"img-responsive dc-icon\" alt=\"_OTD\" />\\n                    </a>\\n                    <span><a href=\"/oftheday/Video_Game_Mar_24_2018\">\"Video Game\" of the Day</a><br /><font size=\"1\" face=\"verdana\">from Ryan Chimney</font><br /></span>\\n                </div>\\n            </div>\\n        </div>\\n        <div class=\"col-xs-24 col-sm-12 col-md-8\">\\n            <div class=\"nav-item feature sleevery-feature\">\\n                <h2>\\n                    <a href=\"/sleevery/\">Sleevery</a>\\n                </h2>\\n                <div>\\n                    <a href=\"/sleevery/\">\\n                        <img src=\"/global/php/phpThumb/phpThumb.php?src=/slvs/114206793_20180324054725.jpg&w=100&h=100&iar=1\" class=\"img-responsive dc-icon\" alt=\"Sleevery\" />\\n                    </a>\\n                    <span style=\"margin-top: 10px;line-height:18px;\">The oddest, funniest and most breathtaking record covers ever made.</span>\\n                </div>\\n            </div>\\n        </div>\\n\\n\\n    </div>\\n\\n    <div class=\"row\">\\n\\n        <div class=\"col-xs-24 col-sm-12 col-md-8\">\\n\\n<!--totd -->\\n\\n\\n            <div class=\"nav-item feature qotd-feature\">\\n                <h2>\\n                    <a href=\"/question/\">Question of the Day</a>\\n                </h2>\\n                <div>\\n                    <span>What will happen when SoundCloud shuts down?<br><A HREF=\"/question/?action=showvote&topic=299\">Vote now >></A><BR></span>\\n                </div>\\n            </div>\\n        </div>\\n        <div class=\"col-xs-24 col-sm-12 col-md-8\">\\n\\n<!--otd-->\\n\\n            <div class=\"nav-item feature dreams-feature\">\\n                <h2>\\n                    <a href=\"/dreams/\">Dream Theory</a>\\n                </h2>\\n                <div>\\n                    <a href=\"/dreams/\"><img src=\"mainpage/icon_dreams.gif\" class=\" dc-icon\" hspace=\"5\" vspace=\"2\"  width=\"60\" height=\"42\" /></a>\\n                    <span>\\n                                                We\\'ll  analyze, sort and decipher what exactly what your dreams are all about.<br/>\\n                        <a href=\"/dreams/540\" style=\"display: inline-block;\">Most recent: Dream #540</a> (Type: Question)\\n                    </span>\\n                </div>\\n            </div>\\n\\n        </div>\\n        <div class=\"col-xs-24 col-sm-12 col-md-8\">\\n            <div class=\"nav-item feature coffee-feature\">\\n                <h2>\\n                    <a href=\"/coffee/\">Good Coffee Map</a>\\n                </h2>\\n                <div>\\n                    <a href=\"/coffee\"><img src=\"https://pbs.twimg.com/profile_images/1096355229/thekindbrew_normal.png\" class=\" dc-icon\" alt=\"Good Coffee Map\" /></a>\\n                    <span>\\n                        <p>Exact locations specialty coffees are served and served well.</p>\\n\\n                        <a href=\"/coffee\">View the map</a>\\n                    </span>\\n                </div>\\n            </div>\\n\\n\\n\\n        </div>\\n    </div>\\n\\n    <div class=\"row\">\\n\\n        <div class=\"col-xs-24 col-sm-12 col-md-16\">\\n            <div class=\"nav-item feature motw-feature\">\\n                <h2>\\n                    <a href=\"/tracks/\" class=\"title\">Music... Music... Music...</a>\\n                </h2>\\n                <div class=\"row\">\\n                    <div class=\"col-xs-24 col-sm-12\">\\n                   <span>\\n\\n                        <a href=\"/tracks/\"><strong>Track of the Day</strong></a>\\n                        <span>  Musical selections ruling at the given moment</span>\\n\\n                       <a href=\"/cosmix/\"><strong>Cosmix Series</strong></a>\\n                        <span>Dream induced mix series</span>\\n\\n                        <a href=\"/interviews/\"><strong>Interviews</strong></a>\\n                        <span>Quick chat with important people in music</span>\\n\\n\\n                   </span>\\n\\n                    </div>\\n                    <div class=\"col-xs-24 col-sm-12\">\\n                    <span>\\n\\n                        <a href=\"/brokerdealer/\"><strong>Broker/Dealer</strong></a>\\n                        <span>Electronic music for nearly every occasion</span>\\n\\n                        <a href=\"http://sentrall.com\"><strong>SENTRALL Records</strong></a>\\n                        <span>Purveyors of fine California electronic music since 2000.</span>\\n\\n                        <a href=\"/procon/\"><strong>Pro. Con. Records</strong></a>\\n                        <span>Music by Chimneys</span>\\n\\n\\n                        <!--                        <a href=\"/raps/\"><strong>YO! Dream Chimney Raps</strong></a>-->\\n                        <!--                        <span>80\\'s Hip Hop Videos</span>-->\\n                    </span>\\n                    </div>\\n                </div>\\n            </div>\\n\\n        </div>\\n\\n        <div class=\"col-xs-24 col-sm-12 col-md-8\">\\n\\n\\n            <div class=\"nav-item feature qotd-feature\">\\n                <h2 class=\"\">\\n                    <i class=\"fa fa-envelope\"></i>  <a href=\"http://eepurl.com/cgiIQb\" class=\"title\" target=\"_blank\">Subscribe</a>\\n                </h2>\\n\\n                <!-- Begin MailChimp Signup Form -->\\n                <link href=\"//cdn-images.mailchimp.com/embedcode/classic-10_7.css\" rel=\"stylesheet\" type=\"text/css\">\\n                <div id=\"mc_embed_signup\">\\n                    <form style=\"padding: 0;\" action=\"//dreamchimney.us1.list-manage.com/subscribe/post?u=1e53bd25098a1c1b4a3a67215&amp;id=b097fdbc82\" method=\"post\" id=\"mc-embedded-subscribe-form\" name=\"mc-embedded-subscribe-form\" class=\"validate\" target=\"_blank\" novalidate>\\n                        <div id=\"mc_embed_signup_scroll\">\\n\\n                            <div class=\"indicates-required\" style=\"text-align: left\">Get updates on new mixes and new items in the store.</div>\\n                            <div class=\"mc-field-group\">\\n                                <label for=\"mce-EMAIL\" style=\"font-size: 12px;\">Email Address  <span class=\"asterisk\">*</span>\\n                                </label>\\n                                <input type=\"email\" value=\"\" name=\"EMAIL\" class=\"required email\" id=\"mce-EMAIL\">\\n                            </div>\\n                            <div id=\"mce-responses\" class=\"clear\">\\n                                <div class=\"response\" id=\"mce-error-response\" style=\"display:none\"></div>\\n                                <div class=\"response\" id=\"mce-success-response\" style=\"display:none\"></div>\\n                            </div>    <!-- real people should not fill this in and expect good things - do not remove this or risk form bot signups-->\\n                            <div style=\"position: absolute; left: -5000px;\" aria-hidden=\"true\"><input type=\"text\" name=\"b_1e53bd25098a1c1b4a3a67215_b097fdbc82\" tabindex=\"-1\" value=\"\"></div>\\n                            <div class=\"clear\"><input type=\"submit\" value=\"Subscribe\" name=\"subscribe\" id=\"mc-embedded-subscribe\" class=\"button\"></div>\\n                        </div>\\n                    </form>\\n                </div>\\n                <script type=\\'text/javascript\\' src=\\'//s3.amazonaws.com/downloads.mailchimp.com/js/mc-validate.js\\'></script><script type=\\'text/javascript\\'>(function($) {window.fnames = new Array(); window.ftypes = new Array();fnames[0]=\\'EMAIL\\';ftypes[0]=\\'email\\';}(jQuery));var $mcj = jQuery.noConflict(true);</script>\\n                <!--End mc_embed_signup-->\\n\\n            </div>\\n\\n        </div>\\n    </div>\\n\\n    <div class=\"row\">\\n        <div class=\"col-sm-12\" id=\"quote-otd\">\\n            <div>\\n                <span><a href=\"/quotes/\" title=\"Quote of the Day\" class=\"otd\"><b>&#8220;Quote of the Day&#8221;</b></a></span>\\n\\n                <p>\"Meanwhile, I was spending a lot of time in my underpants browsing Dream Chimney and listening to the CBS while slacking off during my first MA degree.\" - Automaticamore on Becoming a DJ<br>(Submitted by Ryan Chimney)</p>\\n            </div>\\n        </div>\\n        <div class=\"col-sm-12\" id=\"\">\\n<!--                <a href=\"http://dreamchimney.bigcartel.com/product/dream-chimney-dc-shirt\" onClick=\"ga(\\'send\\', \\'event\\', \\'TOTDbanner-dcshirt\\', \\'DC-Homepage\\', \\'TOTDbanner-dcshirt\\');\">-->\\n<!--                    <img src=\"/global/ads/dc-shirt-banner-sm.png\" alt=\"the Dream Chimney Shirt - DC Logo\" class=\"img-responsive dc-goto\" border=\"0\" />-->\\n<!--                </a>-->\\n\\n            <div class=\"nav-item feature fun-feature\">\\n                <h2 style=\"background-color: #969\">\\n                    Other / Fun\\n                </h2>\\n                <div>\\n                    <span class=\"flat\">\\n                        <a href=\"/sleevery/\">Sleevery</a>, <a href=\"/bust/\">BUST Gallery</a>, <a href=\"/demodog/\">Demo Dog</a>, <a href=\"http://www.flickr.com/photos/dreamchimney/sets/72157604109981363/\">Homepage Gallery</a>, <a href=\"/tv/\">Chimney TV</a>, <a href=\"http://instagram.com/kind.buds\">Kind Buds</a>\\n                    </span>\\n                </div>\\n            </div>\\n        </div>\\n\\n    </div>\\n</div>\\n\\n<footer>\\n    <span>\\n        Dream Chimney Inc. &copy;2018 -- <a href=\"/contact/\" style=\"color:#FFF\">Contact</a>\\n    </span>\\n</footer>\\n\\n\\n<!-- jQuery (necessary for Bootstrap\\'s JavaScript plugins) -->\\n<script src=\"https://ajax.googleapis.com/ajax/libs/jquery/1.11.2/jquery.min.js\"></script>\\n<!-- Include all compiled plugins (below), or include individual files as needed -->\\n<script src=\"https://maxcdn.bootstrapcdn.com/bootstrap/3.3.4/js/bootstrap.min.js\"></script>\\n<script src=\"mainpage/js/bootstrap_24.min.js\"></script>\\n\\n<script>\\n    (function(i,s,o,g,r,a,m){i[\\'GoogleAnalyticsObject\\']=r;i[r]=i[r]||function(){\\n        (i[r].q=i[r].q||[]).push(arguments)},i[r].l=1*new Date();a=s.createElement(o),\\n        m=s.getElementsByTagName(o)[0];a.async=1;a.src=g;m.parentNode.insertBefore(a,m)\\n    })(window,document,\\'script\\',\\'//www.google-analytics.com/analytics.js\\',\\'ga\\');\\n\\n    ga(\\'create\\', \\'UA-95892-1\\', \\'dreamchimney.com\\');\\n    ga(\\'send\\', \\'pageview\\');\\n\\n</script>\\n\\n</body>\\n</html>'"
      ]
     },
     "execution_count": 5,
     "metadata": {},
     "output_type": "execute_result"
    }
   ],
   "source": [
    "r.text"
   ]
  },
  {
   "cell_type": "code",
   "execution_count": null,
   "metadata": {},
   "outputs": [],
   "source": []
  }
 ],
 "metadata": {
  "kernelspec": {
   "display_name": "Python 3",
   "language": "python",
   "name": "python3"
  },
  "language_info": {
   "codemirror_mode": {
    "name": "ipython",
    "version": 3
   },
   "file_extension": ".py",
   "mimetype": "text/x-python",
   "name": "python",
   "nbconvert_exporter": "python",
   "pygments_lexer": "ipython3",
   "version": "3.8.2"
  }
 },
 "nbformat": 4,
 "nbformat_minor": 4
}