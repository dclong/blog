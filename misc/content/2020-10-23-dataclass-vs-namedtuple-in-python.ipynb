{
 "nbformat": 4,
 "nbformat_minor": 2,
 "metadata": {
  "language_info": {
   "name": "python",
   "codemirror_mode": {
    "name": "ipython",
    "version": 3
   }
  },
  "orig_nbformat": 2,
  "file_extension": ".py",
  "mimetype": "text/x-python",
  "name": "python",
  "npconvert_exporter": "python",
  "pygments_lexer": "ipython3",
  "version": 3
 },
 "cells": [
  {
   "cell_type": "markdown",
   "metadata": {},
   "source": [
    "- Author: Ben Du\n",
    "- Date: 2020-10-24 13:02:35\n",
    "- Title: Dataclass vs namedtuple in Python\n",
    "- Slug: dataclass-vs-namedtuple-in-python\n",
    "- Category: Computer Science\n",
    "- Tags: Computer Science, Python, programming, collections, namedtuple, dataclass"
   ]
  },
  {
   "source": [
    "## Tips and Traps \n",
    "\n",
    "1. Prefer `Dataclass` to `namedtuple`."
   ],
   "cell_type": "markdown",
   "metadata": {}
  },
  {
   "source": [
    "## References\n",
    "\n",
    "[Difference between DataClass vs NamedTuple vs Object in Python](https://www.geeksforgeeks.org/difference-between-dataclass-vs-namedtuple-vs-object-in-python/#:~:text=DataClass%20is%20slower%20than%20others,data%20objects%20(2.34%20%C2%B5s).)\n",
    "\n",
    "[DataClass vs NamedTuple vs Object: A Battle of Performance in Python](https://medium.com/@jacktator/dataclass-vs-namedtuple-vs-object-for-performance-optimization-in-python-691e234253b9)"
   ],
   "cell_type": "markdown",
   "metadata": {}
  },
  {
   "cell_type": "code",
   "execution_count": null,
   "metadata": {},
   "outputs": [],
   "source": []
  }
 ]
}