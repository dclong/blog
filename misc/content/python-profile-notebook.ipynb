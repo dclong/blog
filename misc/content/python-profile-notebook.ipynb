{
 "cells": [
  {
   "cell_type": "markdown",
   "metadata": {},
   "source": [
    "- Title: Python Profiler for JupyterLab Notebooks\n",
    "- Slug: python-profile-notebook\n",
    "- Date: 2020-03-13 10:06:25\n",
    "- Category: Computer Science\n",
    "- Tags: programming, Python, profile, profiler, Jupyter, JupyterLab, notebook\n",
    "- Author: Ben Du"
   ]
  },
  {
   "cell_type": "markdown",
   "metadata": {},
   "source": [
    "## %time"
   ]
  },
  {
   "cell_type": "markdown",
   "metadata": {},
   "source": [
    "## %timeit"
   ]
  },
  {
   "cell_type": "markdown",
   "metadata": {},
   "source": [
    "## [%prun](https://ipython.readthedocs.io/en/stable/interactive/magics.html#magic-prun)"
   ]
  },
  {
   "cell_type": "markdown",
   "metadata": {},
   "source": [
    "## %%snakeviz"
   ]
  },
  {
   "cell_type": "markdown",
   "metadata": {},
   "source": [
    "## [pyheatmagic](https://github.com/csurfer/pyheatmagic)\n",
    "\n",
    "### Installation\n",
    "```Python\n",
    "pip3 install py-heat-magic\n",
    "```\n",
    "\n",
    "### Usage\n",
    "Load the magic.\n",
    "```Python\n",
    "%load_ext heat\n",
    "```\n",
    "%%heat \n",
    "\n",
    "%%heat -o file.png\n"
   ]
  },
  {
   "cell_type": "markdown",
   "metadata": {},
   "source": [
    "## [Line Profiler](https://github.com/rkern/line_profiler)\n",
    "\n",
    "Within your jupyter notebook, call: %load_ext line_profiler"
   ]
  },
  {
   "cell_type": "markdown",
   "metadata": {},
   "source": [
    "## References\n",
    "\n",
    "https://mortada.net/easily-profile-python-code-in-jupyter.html\n",
    "\n",
    "https://jiffyclub.github.io/snakeviz/"
   ]
  },
  {
   "cell_type": "code",
   "execution_count": null,
   "metadata": {},
   "outputs": [],
   "source": []
  }
 ],
 "metadata": {
  "kernelspec": {
   "display_name": "Python 3",
   "language": "python",
   "name": "python3"
  },
  "language_info": {
   "codemirror_mode": {
    "name": "ipython",
    "version": 3
   },
   "file_extension": ".py",
   "mimetype": "text/x-python",
   "name": "python",
   "nbconvert_exporter": "python",
   "pygments_lexer": "ipython3",
   "version": "3.7.3"
  }
 },
 "nbformat": 4,
 "nbformat_minor": 4
}
