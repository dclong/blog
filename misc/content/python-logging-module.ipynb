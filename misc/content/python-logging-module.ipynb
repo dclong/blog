{
 "cells": [
  {
   "cell_type": "markdown",
   "metadata": {},
   "source": [
    "- Title: Hands on the logging Module in Python\n",
    "- Slug: python-logging-module\n",
    "- Date: 2020-03-13 10:06:25\n",
    "- Category: Computer Science\n",
    "- Tags: programming, Python, logging\n",
    "- Author: Ben Du"
   ]
  },
  {
   "cell_type": "markdown",
   "metadata": {},
   "source": [
    "## The Confusing `style` Option\n",
    "\n",
    "The `style` option of the method `logging.basicConfig` \n",
    "is for the `format` option of the method only.\n",
    "It is NOT the style of strings when you actually log messages\n",
    "(using method `logging.info`, `logging.debug`, etc.).\n",
    "Those logging methods always use the `%` style\n",
    "no matter what value you set the `style` option (of the `logging.basicConfig`) to."
   ]
  },
  {
   "cell_type": "markdown",
   "metadata": {},
   "source": [
    "## Traps in Using the `logging` Module Directly\n",
    "\n",
    "There are 2 ways to use the logging module. \n",
    "First, \n",
    "you can create a logger object which is the recommended way. \n",
    "Howerver, \n",
    "another even simpler way is to use the logging module directly.\n",
    "Be aware that if you use the logging module directly, \n",
    "the default logging level is `WARNING` (30),\n",
    "which means that `logging.info` will not print anything. \n",
    "You can set the default level of the root logger using the following command.\n",
    "```\n",
    "logging.basicConfig(level=20)  # INFO\n",
    "```\n",
    "But again be aware that \n",
    "1. You have to call the method `logging.basicConfig` before any logging method \n",
    "    (`logging.info`, `logging.debug`, etc.).\n",
    "2. If you call `logging.basicConfig` multiple times,\n",
    "    only the first call is in effect."
   ]
  },
  {
   "cell_type": "markdown",
   "metadata": {},
   "source": [
    "Notice that the below code (default behavior) does not log anything."
   ]
  },
  {
   "cell_type": "code",
   "execution_count": 10,
   "metadata": {},
   "outputs": [
    {
     "name": "stdout",
     "output_type": "stream",
     "text": [
      "Overwriting python_logging_1.py\n"
     ]
    }
   ],
   "source": [
    "%%writefile python_logging_1.py\n",
    "#!/usr/bin/env python3\n",
    "import logging\n",
    "logging.info(\"a testing message\")"
   ]
  },
  {
   "cell_type": "code",
   "execution_count": 13,
   "metadata": {},
   "outputs": [],
   "source": [
    "!chmod +x python_logging_1.py\n",
    "!./python_logging_1.py"
   ]
  },
  {
   "cell_type": "markdown",
   "metadata": {},
   "source": [
    "Notice that the below code (after setting logging level to INFO) does make `logging.info` in effect."
   ]
  },
  {
   "cell_type": "code",
   "execution_count": 17,
   "metadata": {},
   "outputs": [
    {
     "name": "stdout",
     "output_type": "stream",
     "text": [
      "Overwriting python_logging_2.py\n"
     ]
    }
   ],
   "source": [
    "%%writefile python_logging_2.py\n",
    "#!/usr/bin/env python3\n",
    "import logging\n",
    "logging.basicConfig(level=20)\n",
    "logging.info(\"a testing message\")"
   ]
  },
  {
   "cell_type": "code",
   "execution_count": 18,
   "metadata": {},
   "outputs": [
    {
     "name": "stdout",
     "output_type": "stream",
     "text": [
      "INFO:root:a testing message\n"
     ]
    }
   ],
   "source": [
    "!chmod +x python_logging_2.py\n",
    "!./python_logging_2.py"
   ]
  },
  {
   "cell_type": "markdown",
   "metadata": {},
   "source": [
    "Notice th below code "
   ]
  },
  {
   "cell_type": "code",
   "execution_count": 21,
   "metadata": {},
   "outputs": [
    {
     "name": "stdout",
     "output_type": "stream",
     "text": [
      "Writing python_logging_3.py\n"
     ]
    }
   ],
   "source": [
    "%%writefile python_logging_3.py\n",
    "#!/usr/bin/env python3\n",
    "import logging\n",
    "logging.basicConfig(level=20)\n",
    "logging.basicConfig(level=50)\n",
    "logging.info(\"a testing message\")"
   ]
  },
  {
   "cell_type": "code",
   "execution_count": 22,
   "metadata": {},
   "outputs": [
    {
     "name": "stdout",
     "output_type": "stream",
     "text": [
      "INFO:root:a testing message\n"
     ]
    }
   ],
   "source": [
    "!chmod +x python_logging_3.py\n",
    "!./python_logging_3.py"
   ]
  },
  {
   "cell_type": "code",
   "execution_count": null,
   "metadata": {},
   "outputs": [],
   "source": []
  },
  {
   "cell_type": "code",
   "execution_count": 3,
   "metadata": {},
   "outputs": [],
   "source": [
    "FORMAT = '%(asctime)-15s %(clientip)s %(user)-8s %(message)s'\n",
    "logging.basicConfig(format=FORMAT)"
   ]
  },
  {
   "cell_type": "markdown",
   "metadata": {},
   "source": [
    "## Control Logging Level from Command-line\n",
    "\n",
    "It is often desirable to control the logging level using a command-line option.\n",
    "Let's say that you use the option `--level` \n",
    "to accept names (warning, debug, info, etc) of logging levels\n",
    "(rather than the corresponding integer values\n",
    "so that you do not have to remember the integer values of levels),\n",
    "and the corresponding variable is `args.level`. \n",
    "You can retrive the corresponding logging level using `getattr(logging, args.level.upper())`.\n",
    "And thus you can easily set the logging level with the following code.\n",
    "\n",
    "    :::python\n",
    "    level = getattr(logging, args.level.upper())\n",
    "    logging.setLevel(level)"
   ]
  },
  {
   "cell_type": "markdown",
   "metadata": {},
   "source": [
    "## References\n",
    "\n",
    "https://docs.python.org/3/library/logging.html#levels"
   ]
  },
  {
   "cell_type": "code",
   "execution_count": null,
   "metadata": {},
   "outputs": [],
   "source": []
  }
 ],
 "metadata": {
  "kernelspec": {
   "display_name": "Python 3",
   "language": "python",
   "name": "python3"
  },
  "language_info": {
   "codemirror_mode": {
    "name": "ipython",
    "version": 3
   },
   "file_extension": ".py",
   "mimetype": "text/x-python",
   "name": "python",
   "nbconvert_exporter": "python",
   "pygments_lexer": "ipython3",
   "version": "3.7.5"
  }
 },
 "nbformat": 4,
 "nbformat_minor": 4
}
