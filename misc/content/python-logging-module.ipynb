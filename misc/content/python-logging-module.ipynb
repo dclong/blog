{
 "cells": [
  {
   "cell_type": "markdown",
   "metadata": {},
   "source": [
    "- Title: Hands on the logging Module in Python\n",
    "- Slug: python-logging-module\n",
    "- Date: 2020-03-13 10:06:25\n",
    "- Category: Computer Science\n",
    "- Tags: programming, Python, logging\n",
    "- Author: Ben Du"
   ]
  },
  {
   "cell_type": "markdown",
   "metadata": {},
   "source": [
    "## Control Logging Level from Command-line\n",
    "\n",
    "It is often desirable to control the logging level using a command-line option.\n",
    "Let's say that you use the option `--level` \n",
    "to accept names (warning, debug, info, etc) of logging levels\n",
    "(rather than the corresponding integer values\n",
    "so that you do not have to remember the integer values of levels),\n",
    "and the corresponding variable is `args.level`. \n",
    "You can retrive the corresponding logging level using `getattr(logging, args.level.upper())`.\n",
    "And thus you can easily set the logging level with the following code.\n",
    "\n",
    "    :::python\n",
    "    level = getattr(logging, args.level.upper())\n",
    "    logging.setLevel(level)"
   ]
  },
  {
   "cell_type": "code",
   "execution_count": null,
   "metadata": {},
   "outputs": [],
   "source": []
  }
 ],
 "metadata": {
  "kernelspec": {
   "display_name": "Python 3",
   "language": "python",
   "name": "python3"
  },
  "language_info": {
   "codemirror_mode": {
    "name": "ipython",
    "version": 3
   },
   "file_extension": ".py",
   "mimetype": "text/x-python",
   "name": "python",
   "nbconvert_exporter": "python",
   "pygments_lexer": "ipython3",
   "version": "3.7.5"
  }
 },
 "nbformat": 4,
 "nbformat_minor": 4
}
