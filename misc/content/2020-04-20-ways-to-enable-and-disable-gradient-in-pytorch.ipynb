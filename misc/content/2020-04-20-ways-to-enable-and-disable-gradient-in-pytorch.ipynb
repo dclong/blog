{
 "nbformat": 4,
 "nbformat_minor": 2,
 "metadata": {
  "language_info": {
   "name": "python",
   "codemirror_mode": {
    "name": "ipython",
    "version": 3
   },
   "version": "3.7.6-final"
  },
  "orig_nbformat": 2,
  "file_extension": ".py",
  "mimetype": "text/x-python",
  "name": "python",
  "npconvert_exporter": "python",
  "pygments_lexer": "ipython3",
  "version": 3,
  "kernelspec": {
   "name": "python37664bite5e01d20666b4ea39b669a865bfedc91",
   "display_name": "Python 3.7.6 64-bit"
  }
 },
 "cells": [
  {
   "cell_type": "markdown",
   "execution_count": null,
   "metadata": {},
   "outputs": [],
   "source": [
    "- Author: Ben Du\n",
    "- Date: 2020-04-20 08:44:18\n",
    "- Title: Ways to Enable and Disable Gradient in PyTorch\n",
    "- Slug: ways-to-enable-and-disable-gradient-in-pytorch\n",
    "- Category: Computer Science\n",
    "- Tags: Computer Science, AI, deep learning, data science, machine learning, PyTorch, gradient\n"
   ]
  },
  {
   "cell_type": "code",
   "execution_count": null,
   "metadata": {},
   "outputs": [],
   "source": [
    "## set_grad_enable"
   ]
  },
  {
   "cell_type": "code",
   "execution_count": null,
   "metadata": {},
   "outputs": [],
   "source": [
    "with no_grad():\n",
    "    pass"
   ]
  },
  {
   "cell_type": "code",
   "execution_count": null,
   "metadata": {},
   "outputs": [],
   "source": [
    "## Module.train"
   ]
  },
  {
   "cell_type": "code",
   "execution_count": null,
   "metadata": {},
   "outputs": [],
   "source": [
    "## Module.eval"
   ]
  },
  {
   "cell_type": "markdown",
   "metadata": {},
   "source": [
    "## References\n",
    "\n",
    "[Confused about “set_grad_enabled”](https://discuss.pytorch.org/t/confused-about-set-grad-enabled/38417)\n",
    "\n",
    "[Does model.eval() & with torch.set_grad_enabled(is_train) have the same effect for grad history?](https://discuss.pytorch.org/t/does-model-eval-with-torch-set-grad-enabled-is-train-have-the-same-effect-for-grad-history/17183)"
   ]
  },
  {
   "cell_type": "code",
   "execution_count": null,
   "metadata": {},
   "outputs": [],
   "source": []
  }
 ]
}