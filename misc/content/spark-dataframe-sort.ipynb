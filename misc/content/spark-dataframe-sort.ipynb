{
 "cells": [
  {
   "cell_type": "markdown",
   "metadata": {},
   "source": [
    "- Title: Sort DataFrame in Spark\n",
    "- Slug: spark-dataframe-sort\n",
    "- Date: 2020-06-29\n",
    "- Category: Computer Science\n",
    "- Tags: programming, Spark, DataFrame, sort, orderBy\n",
    "- Author: Ben Du"
   ]
  },
  {
   "cell_type": "code",
   "execution_count": 2,
   "metadata": {},
   "outputs": [],
   "source": [
    "import findspark\n",
    "findspark.init(\"/opt/spark\")\n",
    "\n",
    "from pyspark.sql import SparkSession, DataFrame\n",
    "from pyspark.sql.functions import *\n",
    "from pyspark.sql.types import StructType\n",
    "spark = SparkSession.builder.appName(\"PySpark_Sorting\") \\\n",
    "    .enableHiveSupport().getOrCreate()"
   ]
  },
  {
   "cell_type": "code",
   "execution_count": 3,
   "metadata": {},
   "outputs": [],
   "source": [
    "import pandas as pd"
   ]
  },
  {
   "cell_type": "code",
   "execution_count": 12,
   "metadata": {},
   "outputs": [
    {
     "data": {
      "text/html": [
       "<div>\n",
       "<style scoped>\n",
       "    .dataframe tbody tr th:only-of-type {\n",
       "        vertical-align: middle;\n",
       "    }\n",
       "\n",
       "    .dataframe tbody tr th {\n",
       "        vertical-align: top;\n",
       "    }\n",
       "\n",
       "    .dataframe thead th {\n",
       "        text-align: right;\n",
       "    }\n",
       "</style>\n",
       "<table border=\"1\" class=\"dataframe\">\n",
       "  <thead>\n",
       "    <tr style=\"text-align: right;\">\n",
       "      <th></th>\n",
       "      <th>first_name</th>\n",
       "      <th>last_name</th>\n",
       "      <th>id</th>\n",
       "    </tr>\n",
       "  </thead>\n",
       "  <tbody>\n",
       "    <tr>\n",
       "      <th>0</th>\n",
       "      <td>Ben</td>\n",
       "      <td>Du</td>\n",
       "      <td>1</td>\n",
       "    </tr>\n",
       "    <tr>\n",
       "      <th>1</th>\n",
       "      <td>Ben</td>\n",
       "      <td>Du</td>\n",
       "      <td>2</td>\n",
       "    </tr>\n",
       "    <tr>\n",
       "      <th>2</th>\n",
       "      <td>Ken</td>\n",
       "      <td>Xu</td>\n",
       "      <td>1</td>\n",
       "    </tr>\n",
       "    <tr>\n",
       "      <th>3</th>\n",
       "      <td>Ken</td>\n",
       "      <td>Xu</td>\n",
       "      <td>9</td>\n",
       "    </tr>\n",
       "    <tr>\n",
       "      <th>4</th>\n",
       "      <td>Ben</td>\n",
       "      <td>Tu</td>\n",
       "      <td>3</td>\n",
       "    </tr>\n",
       "    <tr>\n",
       "      <th>5</th>\n",
       "      <td>Ben</td>\n",
       "      <td>Tu</td>\n",
       "      <td>4</td>\n",
       "    </tr>\n",
       "  </tbody>\n",
       "</table>\n",
       "</div>"
      ],
      "text/plain": [
       "  first_name last_name  id\n",
       "0        Ben        Du   1\n",
       "1        Ben        Du   2\n",
       "2        Ken        Xu   1\n",
       "3        Ken        Xu   9\n",
       "4        Ben        Tu   3\n",
       "5        Ben        Tu   4"
      ]
     },
     "execution_count": 12,
     "metadata": {},
     "output_type": "execute_result"
    }
   ],
   "source": [
    "df_p = pd.DataFrame([\n",
    "    (\"Ben\", \"Du\", 1),\n",
    "    (\"Ben\", \"Du\", 2),\n",
    "    (\"Ken\", \"Xu\", 1),\n",
    "    (\"Ken\", \"Xu\", 9),\n",
    "    (\"Ben\", \"Tu\", 3),\n",
    "    (\"Ben\", \"Tu\", 4),\n",
    "], columns=[\"first_name\", \"last_name\", \"id\"])\n",
    "df_p"
   ]
  },
  {
   "cell_type": "code",
   "execution_count": 13,
   "metadata": {},
   "outputs": [
    {
     "name": "stdout",
     "output_type": "stream",
     "text": [
      "+----------+---------+---+\n",
      "|first_name|last_name| id|\n",
      "+----------+---------+---+\n",
      "|       Ben|       Du|  1|\n",
      "|       Ben|       Du|  2|\n",
      "|       Ken|       Xu|  1|\n",
      "|       Ken|       Xu|  9|\n",
      "|       Ben|       Tu|  3|\n",
      "|       Ben|       Tu|  4|\n",
      "+----------+---------+---+\n",
      "\n"
     ]
    }
   ],
   "source": [
    "df = spark.createDataFrame(df_p)\n",
    "df.show()"
   ]
  },
  {
   "cell_type": "code",
   "execution_count": 14,
   "metadata": {},
   "outputs": [
    {
     "name": "stdout",
     "output_type": "stream",
     "text": [
      "+----------+---------+---+\n",
      "|first_name|last_name| id|\n",
      "+----------+---------+---+\n",
      "|       Ben|       Du|  1|\n",
      "|       Ben|       Du|  2|\n",
      "|       Ben|       Tu|  4|\n",
      "|       Ben|       Tu|  3|\n",
      "|       Ken|       Xu|  9|\n",
      "|       Ken|       Xu|  1|\n",
      "+----------+---------+---+\n",
      "\n"
     ]
    }
   ],
   "source": [
    "df.orderBy([\"first_name\", \"last_name\"]).show()"
   ]
  },
  {
   "cell_type": "code",
   "execution_count": 16,
   "metadata": {},
   "outputs": [
    {
     "name": "stdout",
     "output_type": "stream",
     "text": [
      "+----------+---------+---+\n",
      "|first_name|last_name| id|\n",
      "+----------+---------+---+\n",
      "|       Ken|       Xu|  9|\n",
      "|       Ken|       Xu|  1|\n",
      "|       Ben|       Tu|  3|\n",
      "|       Ben|       Tu|  4|\n",
      "|       Ben|       Du|  1|\n",
      "|       Ben|       Du|  2|\n",
      "+----------+---------+---+\n",
      "\n"
     ]
    }
   ],
   "source": [
    "df.orderBy([\"first_name\", \"last_name\"], ascending=[False, False]).show()"
   ]
  },
  {
   "cell_type": "code",
   "execution_count": null,
   "metadata": {},
   "outputs": [],
   "source": []
  }
 ],
 "metadata": {
  "kernelspec": {
   "display_name": "Python 3",
   "language": "python",
   "name": "python3"
  },
  "language_info": {
   "codemirror_mode": {
    "name": "ipython",
    "version": 3
   },
   "file_extension": ".py",
   "mimetype": "text/x-python",
   "name": "python",
   "nbconvert_exporter": "python",
   "pygments_lexer": "ipython3",
   "version": "3.7.5"
  }
 },
 "nbformat": 4,
 "nbformat_minor": 4
}
