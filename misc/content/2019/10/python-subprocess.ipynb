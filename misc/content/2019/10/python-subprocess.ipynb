{
 "cells": [
  {
   "cell_type": "markdown",
   "metadata": {},
   "source": [
    "- Title: Hands on the Python module subprocess\n",
    "- Slug: hands-on-the-python-model-subprocess\n",
    "- Date: 2019-10-19\n",
    "- Category: Computer Science\n",
    "- Tags: programming, Python, subprocess\n",
    "- Author: Ben Du"
   ]
  },
  {
   "cell_type": "markdown",
   "metadata": {},
   "source": [
    "## General Tips\n",
    "\n",
    "1. The method `subprocess.run` is preferred over the older high-level APIs \n",
    "    (`subprocess.call`, `subprocess.check_call` and `subprocess.check_output`).\n",
    "    The method `subprocess.Popen` (which powers the high-level APIs) can be used if you need advanced control.\n",
    " \n",
    "2. Avoid using system shell (`shell=True`) for security reasons.\n",
    "\n",
    "3. There are at least 2 advantages of passing a shell command as a list. \n",
    "    First, avoid shell injection attack.\n",
    "    Second, there is no need to you to manually escape special characters in the command.\n",
    "    \n",
    "4. It is suggested that you keep the option `check=False` \n",
    "    as error code is more flexible than throwing exception in subprocess\n",
    "    (even though throwing exception is preferred to error code generally speaking)."
   ]
  },
  {
   "cell_type": "markdown",
   "metadata": {},
   "source": [
    "## Capture the Standard Ouput and Error\n",
    "\n",
    "In Python 3.7+, \n",
    "the output (stdout and stderr) of commands can be captured \n",
    "by specifying the option `capture_output=True`.\n",
    "This option is equivalent to the options `stdout=PIPE, stderr=PIPE` in older versions of Python."
   ]
  },
  {
   "cell_type": "markdown",
   "metadata": {},
   "source": [
    "Capture stdout by specifying `stdout=sp.PIPE`."
   ]
  },
  {
   "cell_type": "code",
   "execution_count": 23,
   "metadata": {},
   "outputs": [
    {
     "name": "stdout",
     "output_type": "stream",
     "text": [
      "b'/app/archives/blog/misc/content\\n'\n"
     ]
    }
   ],
   "source": [
    "process = sp.run(['pwd'], stdout=sp.PIPE, stderr=sp.PIPE)\n",
    "print(process.stdout)"
   ]
  },
  {
   "cell_type": "markdown",
   "metadata": {},
   "source": [
    "Capture both the standard ouput and error (separately)."
   ]
  },
  {
   "cell_type": "code",
   "execution_count": 26,
   "metadata": {},
   "outputs": [
    {
     "name": "stdout",
     "output_type": "stream",
     "text": [
      "b''\n",
      "b\"pwd: invalid option -- 'l'\\nTry 'pwd --help' for more information.\\n\"\n"
     ]
    }
   ],
   "source": [
    "process = sp.run(['pwd', '-l'], stdout=sp.PIPE, stderr=sp.PIPE)\n",
    "print(process.stdout)\n",
    "print(process.stderr)"
   ]
  },
  {
   "cell_type": "markdown",
   "metadata": {},
   "source": [
    "Capture both the standard output and error in one place (`process.stdout`)."
   ]
  },
  {
   "cell_type": "code",
   "execution_count": 27,
   "metadata": {},
   "outputs": [
    {
     "name": "stdout",
     "output_type": "stream",
     "text": [
      "b\"pwd: invalid option -- 'l'\\nTry 'pwd --help' for more information.\\n\"\n"
     ]
    }
   ],
   "source": [
    "process = sp.run(['pwd', '-l'], stdout=sp.PIPE, stderr=sp.STDOUT)\n",
    "print(process.stdout)"
   ]
  },
  {
   "cell_type": "markdown",
   "metadata": {},
   "source": [
    "## Supress the Output of `subprocess.run`\n",
    "\n",
    "To suppress the output of `subprocess.run`,\n",
    "    you can redirect the output to `/dev/null`."
   ]
  },
  {
   "cell_type": "code",
   "execution_count": 13,
   "metadata": {},
   "outputs": [],
   "source": [
    "import os\n",
    "import subprocess as sp\n",
    "import sys"
   ]
  },
  {
   "cell_type": "markdown",
   "metadata": {},
   "source": [
    "Without redicting the standard output to `/dev/null` \n",
    "(i.e., supressing the standard output), \n",
    "the command outputs results. \n",
    "(Note that there is bug in ipykernel which supress the output. \n",
    "This comamnd outputs results in a regular Python shell.)"
   ]
  },
  {
   "cell_type": "code",
   "execution_count": 8,
   "metadata": {},
   "outputs": [
    {
     "data": {
      "text/plain": [
       "CompletedProcess(args=['ls', '-l'], returncode=0)"
      ]
     },
     "execution_count": 8,
     "metadata": {},
     "output_type": "execute_result"
    }
   ],
   "source": [
    "sp.run(['ls', '-l'])"
   ]
  },
  {
   "cell_type": "markdown",
   "metadata": {},
   "source": [
    "After redirecting the standard output to `/dev/null` \n",
    "(i.e., supressing the standard output), \n",
    "the command does not output any result."
   ]
  },
  {
   "cell_type": "code",
   "execution_count": 1,
   "metadata": {},
   "outputs": [],
   "source": [
    "with open(os.devnull, 'w') as devnull:\n",
    "    sp.run(['ls', '-l'], stdout=devnull)"
   ]
  },
  {
   "cell_type": "markdown",
   "metadata": {},
   "source": [
    "The code below supress both the stdout and stderr \n",
    "by redirecting both of them to `/dev/null`."
   ]
  },
  {
   "cell_type": "code",
   "execution_count": 9,
   "metadata": {},
   "outputs": [],
   "source": [
    "with open(os.devnull, 'w') as devnull:\n",
    "    sp.run(['ls', '-l'], stdout=devnull, stderr=devnull)"
   ]
  },
  {
   "cell_type": "markdown",
   "metadata": {},
   "source": [
    "Below is an equivalent approach,\n",
    "which merges stderr to stdout first \n",
    "and then redirect stdout to `/dev/null`."
   ]
  },
  {
   "cell_type": "code",
   "execution_count": 11,
   "metadata": {},
   "outputs": [],
   "source": [
    "with open(os.devnull, 'w') as devnull:\n",
    "    sp.run(['ls', '-l'], stdout=devnull, stderr=sp.STDOUT)"
   ]
  },
  {
   "cell_type": "markdown",
   "metadata": {},
   "source": [
    "## Comparison of Differenct Devices\n",
    "\n",
    "1. `sys.stdout` is the standard output stream.\n",
    "  `subprocess.STDOUT` refers to the standard out stream of subprocess.\n",
    "  It is either `subprocess.PIPE` or `None`.\n",
    "  \n",
    "    :::python\n",
    "    os.devnull\n",
    "    subprocess.DEVNULL\n",
    "    with open(os.devnull, 'w') as devnull:\n",
    "        pass"
   ]
  },
  {
   "cell_type": "markdown",
   "metadata": {},
   "source": [
    "## Possible Exceptions\n",
    "\n",
    "### FileNotFoundError\n",
    "\n",
    "If the command is not found, \n",
    "`subprocess.run` throws the exception `FileNotFoundError` (even `check=False`).\n",
    "\n",
    "### subprocess.CalledProcessError\n",
    "\n",
    "If the command fails to run\n",
    "and `check=True`,\n",
    "`subprocess.run` throws the exception `subprocess.CalledProcessError`."
   ]
  },
  {
   "cell_type": "markdown",
   "metadata": {},
   "source": [
    "## Issues in JupyterLab Notebooks"
   ]
  },
  {
   "cell_type": "markdown",
   "metadata": {},
   "source": [
    "Running `sp.run('ls -a')` in a JupyterLab notebook prints nothing \n",
    "while running it in a regular Python shell prints results.\n",
    "This is likely a bug in ipykernel."
   ]
  }
 ],
 "metadata": {
  "kernelspec": {
   "display_name": "Python 3",
   "language": "python",
   "name": "python3"
  },
  "language_info": {
   "codemirror_mode": {
    "name": "ipython",
    "version": 3
   },
   "file_extension": ".py",
   "mimetype": "text/x-python",
   "name": "python",
   "nbconvert_exporter": "python",
   "pygments_lexer": "ipython3",
   "version": "3.7.4"
  }
 },
 "nbformat": 4,
 "nbformat_minor": 4
}