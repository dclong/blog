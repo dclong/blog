{
 "nbformat": 4,
 "nbformat_minor": 2,
 "metadata": {
  "language_info": {
   "name": "python",
   "codemirror_mode": {
    "name": "ipython",
    "version": 3
   },
   "version": "3.8.6-final"
  },
  "orig_nbformat": 2,
  "file_extension": ".py",
  "mimetype": "text/x-python",
  "name": "python",
  "npconvert_exporter": "python",
  "pygments_lexer": "ipython3",
  "version": 3,
  "kernelspec": {
   "name": "python37664bite5e01d20666b4ea39b669a865bfedc91",
   "display_name": "Python 3.7.6 64-bit"
  }
 },
 "cells": [
  {
   "cell_type": "markdown",
   "metadata": {},
   "source": [
    "- Author: Ben Du\n",
    "- Date: 2020-11-15 00:25:47\n",
    "- Title: Hands on GitPython\n",
    "- Slug: hands-on-GitPython\n",
    "- Category: Computer Science\n",
    "- Tags: Computer Science, programming, Python, Git, GitPython, version control"
   ]
  },
  {
   "cell_type": "code",
   "execution_count": 3,
   "metadata": {},
   "outputs": [
    {
     "output_type": "stream",
     "name": "stdout",
     "text": [
      "Requirement already satisfied: GitPython in /usr/local/lib/python3.8/site-packages (3.1.8)\nRequirement already satisfied: gitdb<5,>=4.0.1 in /usr/local/lib/python3.8/site-packages (from GitPython) (4.0.5)\nRequirement already satisfied: smmap<4,>=3.0.1 in /usr/local/lib/python3.8/site-packages (from gitdb<5,>=4.0.1->GitPython) (3.0.4)\n"
     ]
    }
   ],
   "source": [
    "!pip3 install GitPython"
   ]
  },
  {
   "cell_type": "code",
   "execution_count": 3,
   "metadata": {},
   "outputs": [],
   "source": [
    "import git\n",
    "from git import Repo"
   ]
  },
  {
   "source": [
    "## Clone a Repository"
   ],
   "cell_type": "markdown",
   "metadata": {}
  },
  {
   "cell_type": "code",
   "execution_count": 4,
   "metadata": {},
   "outputs": [],
   "source": [
    "!rm -rf docker-ubuntu_b/"
   ]
  },
  {
   "cell_type": "code",
   "execution_count": 5,
   "metadata": {},
   "outputs": [
    {
     "output_type": "execute_result",
     "data": {
      "text/plain": [
       "<git.repo.base.Repo '/Users/dclong/archives/blog/misc/content/docker-ubuntu_b/.git'>"
      ]
     },
     "metadata": {},
     "execution_count": 5
    }
   ],
   "source": [
    "repo = git.Repo.clone_from(\"https://github.com/dclong/docker-ubuntu_b\", \"docker-ubuntu_b\", branch=\"master\")\n",
    "repo"
   ]
  },
  {
   "source": [
    "Verify that the GitHub repository is cloned to local."
   ],
   "cell_type": "markdown",
   "metadata": {}
  },
  {
   "cell_type": "code",
   "execution_count": 6,
   "metadata": {},
   "outputs": [
    {
     "output_type": "stream",
     "name": "stdout",
     "text": [
      "Dockerfile LICENSE    \u001b[33mbuild.sh\u001b[m\u001b[m   readme.md  \u001b[1m\u001b[36mscripts\u001b[m\u001b[m\n"
     ]
    }
   ],
   "source": [
    "!ls docker-ubuntu_b/"
   ]
  },
  {
   "source": [
    "Clone the local repository to another location \n",
    "(which is not very useful as you can directly copy the directory to the new location)."
   ],
   "cell_type": "markdown",
   "metadata": {}
  },
  {
   "cell_type": "code",
   "execution_count": 24,
   "metadata": {},
   "outputs": [
    {
     "output_type": "execute_result",
     "data": {
      "text/plain": [
       "<git.repo.base.Repo '/tmp/docker-ubuntu_b2/.git'>"
      ]
     },
     "metadata": {},
     "execution_count": 24
    }
   ],
   "source": [
    "repo2 = Repo(\"docker-ubuntu_b\").clone(\"/tmp/docker-ubuntu_b2\")\n",
    "repo2"
   ]
  },
  {
   "cell_type": "code",
   "execution_count": 25,
   "metadata": {},
   "outputs": [
    {
     "output_type": "stream",
     "name": "stdout",
     "text": [
      "Dockerfile LICENSE    \u001b[33mbuild.sh\u001b[m\u001b[m   readme.md  \u001b[1m\u001b[36mscripts\u001b[m\u001b[m\n"
     ]
    }
   ],
   "source": [
    "!ls /tmp/docker-ubuntu_b2/"
   ]
  },
  {
   "source": [
    "## Infomation of the Local Repository"
   ],
   "cell_type": "markdown",
   "metadata": {}
  },
  {
   "cell_type": "code",
   "execution_count": 13,
   "metadata": {},
   "outputs": [
    {
     "output_type": "execute_result",
     "data": {
      "text/plain": [
       "[<git.Head \"refs/heads/master\">]"
      ]
     },
     "metadata": {},
     "execution_count": 13
    }
   ],
   "source": [
    "heads = repo.heads\n",
    "heads"
   ]
  },
  {
   "cell_type": "code",
   "execution_count": 15,
   "metadata": {},
   "outputs": [
    {
     "output_type": "execute_result",
     "data": {
      "text/plain": [
       "<git.Head \"refs/heads/master\">"
      ]
     },
     "metadata": {},
     "execution_count": 15
    }
   ],
   "source": [
    "master = heads.master\n",
    "master"
   ]
  },
  {
   "source": [
    "Get the commit pointed to by head called master."
   ],
   "cell_type": "markdown",
   "metadata": {}
  },
  {
   "cell_type": "code",
   "execution_count": 16,
   "metadata": {},
   "outputs": [
    {
     "output_type": "execute_result",
     "data": {
      "text/plain": [
       "<git.Commit \"1b1ccb068d8c07e684c543a45793c0f0e92ed8bc\">"
      ]
     },
     "metadata": {},
     "execution_count": 16
    }
   ],
   "source": [
    "master.commit"
   ]
  },
  {
   "cell_type": "code",
   "execution_count": 17,
   "metadata": {},
   "outputs": [
    {
     "output_type": "execute_result",
     "data": {
      "text/plain": [
       "<git.Head \"refs/heads/main\">"
      ]
     },
     "metadata": {},
     "execution_count": 17
    }
   ],
   "source": [
    "master.rename(\"main\")"
   ]
  },
  {
   "source": [
    "Verify that the `master` branch has been renamed to `main`."
   ],
   "cell_type": "markdown",
   "metadata": {}
  },
  {
   "cell_type": "code",
   "execution_count": 31,
   "metadata": {},
   "outputs": [
    {
     "output_type": "stream",
     "name": "stdout",
     "text": [
      "* \u001b[32mmain\u001b[m\n"
     ]
    }
   ],
   "source": [
    "!cd docker-ubuntu_b && git branch"
   ]
  },
  {
   "source": [
    "### Get the Active Branch"
   ],
   "cell_type": "markdown",
   "metadata": {}
  },
  {
   "cell_type": "code",
   "execution_count": 30,
   "metadata": {},
   "outputs": [
    {
     "output_type": "execute_result",
     "data": {
      "text/plain": [
       "'main'"
      ]
     },
     "metadata": {},
     "execution_count": 30
    }
   ],
   "source": [
    "repo.active_branch.name"
   ]
  },
  {
   "source": [
    "### Get the Remote Name"
   ],
   "cell_type": "markdown",
   "metadata": {}
  },
  {
   "cell_type": "code",
   "execution_count": 34,
   "metadata": {},
   "outputs": [
    {
     "output_type": "execute_result",
     "data": {
      "text/plain": [
       "'origin'"
      ]
     },
     "metadata": {},
     "execution_count": 34
    }
   ],
   "source": [
    "repo.remote().name"
   ]
  },
  {
   "source": [
    "### Get all Remotes"
   ],
   "cell_type": "markdown",
   "metadata": {}
  },
  {
   "cell_type": "code",
   "execution_count": 35,
   "metadata": {},
   "outputs": [
    {
     "output_type": "execute_result",
     "data": {
      "text/plain": [
       "[<git.Remote \"origin\">]"
      ]
     },
     "metadata": {},
     "execution_count": 35
    }
   ],
   "source": [
    "repo.remotes"
   ]
  },
  {
   "source": [
    "## Changed Files"
   ],
   "cell_type": "markdown",
   "metadata": {}
  },
  {
   "source": [
    "Update a file."
   ],
   "cell_type": "markdown",
   "metadata": {}
  },
  {
   "cell_type": "code",
   "execution_count": null,
   "metadata": {},
   "outputs": [],
   "source": [
    "!echo \"# add a line of comment\" >> docker-ubuntu_b/build.sh"
   ]
  },
  {
   "cell_type": "code",
   "execution_count": 14,
   "metadata": {},
   "outputs": [
    {
     "output_type": "execute_result",
     "data": {
      "text/plain": [
       "['build.sh']"
      ]
     },
     "metadata": {},
     "execution_count": 14
    }
   ],
   "source": [
    "repo = Repo(\"docker-ubuntu_b\")\n",
    "files_changed = [item.a_path for item in repo.index.diff(None)]\n",
    "files_changed"
   ]
  },
  {
   "source": [
    "## Staged Files"
   ],
   "cell_type": "markdown",
   "metadata": {}
  },
  {
   "cell_type": "code",
   "execution_count": 15,
   "metadata": {},
   "outputs": [],
   "source": [
    "repo = Repo(\"docker-ubuntu_b\")\n",
    "index = repo.index"
   ]
  },
  {
   "cell_type": "code",
   "execution_count": 16,
   "metadata": {},
   "outputs": [
    {
     "output_type": "execute_result",
     "data": {
      "text/plain": [
       "[(100755, b582f7400202fa6545473bcf062234123d2eeb41, 0, build.sh)]"
      ]
     },
     "metadata": {},
     "execution_count": 16
    }
   ],
   "source": [
    "index.add(\"build.sh\")"
   ]
  },
  {
   "source": [
    "The file `build.sh` is now staged."
   ],
   "cell_type": "markdown",
   "metadata": {}
  },
  {
   "cell_type": "code",
   "execution_count": 17,
   "metadata": {},
   "outputs": [
    {
     "output_type": "execute_result",
     "data": {
      "text/plain": [
       "['build.sh']"
      ]
     },
     "metadata": {},
     "execution_count": 17
    }
   ],
   "source": [
    "files_stage = [item.a_path for item in repo.index.diff('HEAD')]\n",
    "files_stage"
   ]
  },
  {
   "cell_type": "code",
   "execution_count": 18,
   "metadata": {},
   "outputs": [
    {
     "output_type": "execute_result",
     "data": {
      "text/plain": [
       "[]"
      ]
     },
     "metadata": {},
     "execution_count": 18
    }
   ],
   "source": [
    "files_changed = [item.a_path for item in repo.index.diff(None)]\n",
    "files_changed"
   ]
  },
  {
   "source": [
    "Commit the change."
   ],
   "cell_type": "markdown",
   "metadata": {}
  },
  {
   "cell_type": "code",
   "execution_count": 20,
   "metadata": {},
   "outputs": [
    {
     "output_type": "execute_result",
     "data": {
      "text/plain": [
       "<git.Commit \"41c561354b1ddf4c40b4e7ddc4e4f003fc30cdc9\">"
      ]
     },
     "metadata": {},
     "execution_count": 20
    }
   ],
   "source": [
    "index.commit(\"update build.sh\")"
   ]
  },
  {
   "cell_type": "code",
   "execution_count": 21,
   "metadata": {},
   "outputs": [
    {
     "output_type": "execute_result",
     "data": {
      "text/plain": [
       "[]"
      ]
     },
     "metadata": {},
     "execution_count": 21
    }
   ],
   "source": [
    "files_stage = [item.a_path for item in repo.index.diff('HEAD')]\n",
    "files_stage"
   ]
  },
  {
   "cell_type": "code",
   "execution_count": 25,
   "metadata": {},
   "outputs": [
    {
     "output_type": "execute_result",
     "data": {
      "text/plain": [
       "<git.Remote \"origin\">"
      ]
     },
     "metadata": {},
     "execution_count": 25
    }
   ],
   "source": [
    "remote = repo.remote()\n",
    "remote"
   ]
  },
  {
   "cell_type": "code",
   "execution_count": 27,
   "metadata": {},
   "outputs": [
    {
     "output_type": "stream",
     "text": [
      "\u001b[0;31mSignature:\u001b[0m \u001b[0mremote\u001b[0m\u001b[0;34m.\u001b[0m\u001b[0mfetch\u001b[0m\u001b[0;34m(\u001b[0m\u001b[0mrefspec\u001b[0m\u001b[0;34m=\u001b[0m\u001b[0;32mNone\u001b[0m\u001b[0;34m,\u001b[0m \u001b[0mprogress\u001b[0m\u001b[0;34m=\u001b[0m\u001b[0;32mNone\u001b[0m\u001b[0;34m,\u001b[0m \u001b[0mverbose\u001b[0m\u001b[0;34m=\u001b[0m\u001b[0;32mTrue\u001b[0m\u001b[0;34m,\u001b[0m \u001b[0;34m**\u001b[0m\u001b[0mkwargs\u001b[0m\u001b[0;34m)\u001b[0m\u001b[0;34m\u001b[0m\u001b[0;34m\u001b[0m\u001b[0m\n",
      "\u001b[0;31mDocstring:\u001b[0m\n",
      "Fetch the latest changes for this remote\n",
      "\n",
      ":param refspec:\n",
      "    A \"refspec\" is used by fetch and push to describe the mapping\n",
      "    between remote ref and local ref. They are combined with a colon in\n",
      "    the format <src>:<dst>, preceded by an optional plus sign, +.\n",
      "    For example: git fetch $URL refs/heads/master:refs/heads/origin means\n",
      "    \"grab the master branch head from the $URL and store it as my origin\n",
      "    branch head\". And git push $URL refs/heads/master:refs/heads/to-upstream\n",
      "    means \"publish my master branch head as to-upstream branch at $URL\".\n",
      "    See also git-push(1).\n",
      "\n",
      "    Taken from the git manual\n",
      "\n",
      "    Fetch supports multiple refspecs (as the\n",
      "    underlying git-fetch does) - supplying a list rather than a string\n",
      "    for 'refspec' will make use of this facility.\n",
      ":param progress: See 'push' method\n",
      ":param verbose: Boolean for verbose output\n",
      ":param kwargs: Additional arguments to be passed to git-fetch\n",
      ":return:\n",
      "    IterableList(FetchInfo, ...) list of FetchInfo instances providing detailed\n",
      "    information about the fetch results\n",
      "\n",
      ":note:\n",
      "    As fetch does not provide progress information to non-ttys, we cannot make\n",
      "    it available here unfortunately as in the 'push' method.\n",
      "\u001b[0;31mFile:\u001b[0m      /usr/local/lib/python3.8/site-packages/git/remote.py\n",
      "\u001b[0;31mType:\u001b[0m      method\n"
     ],
     "name": "stdout"
    }
   ],
   "source": [
    "remote.fetch?"
   ]
  },
  {
   "source": [
    "## References\n",
    "\n",
    "https://github.com/gitpython-developers/GitPython\n",
    "\n",
    "https://stackoverflow.com/questions/33733453/get-changed-files-using-gitpython\n",
    "\n",
    "https://stackoverflow.com/questions/31959425/how-to-get-staged-files-using-gitpython\n",
    "\n",
    "https://gitpython.readthedocs.io/en/stable/tutorial.html#tutorial-label\n",
    "\n"
   ],
   "cell_type": "markdown",
   "metadata": {}
  },
  {
   "cell_type": "code",
   "execution_count": null,
   "metadata": {},
   "outputs": [],
   "source": []
  }
 ]
}