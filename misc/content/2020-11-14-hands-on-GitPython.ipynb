{
 "nbformat": 4,
 "nbformat_minor": 2,
 "metadata": {
  "language_info": {
   "name": "python",
   "codemirror_mode": {
    "name": "ipython",
    "version": 3
   },
   "version": "3.8.6-final"
  },
  "orig_nbformat": 2,
  "file_extension": ".py",
  "mimetype": "text/x-python",
  "name": "python",
  "npconvert_exporter": "python",
  "pygments_lexer": "ipython3",
  "version": 3,
  "kernelspec": {
   "name": "python37664bite5e01d20666b4ea39b669a865bfedc91",
   "display_name": "Python 3.7.6 64-bit",
   "language": "python"
  }
 },
 "cells": [
  {
   "cell_type": "markdown",
   "metadata": {},
   "source": [
    "- Author: Ben Du\n",
    "- Date: 2021-01-27 00:50:27\n",
    "- Title: Hands on GitPython\n",
    "- Slug: hands-on-GitPython\n",
    "- Category: Computer Science\n",
    "- Tags: Computer Science, programming, Python, Git, GitPython, version control"
   ]
  },
  {
   "cell_type": "code",
   "execution_count": 3,
   "metadata": {},
   "outputs": [
    {
     "output_type": "stream",
     "name": "stdout",
     "text": [
      "Requirement already satisfied: GitPython in /usr/local/lib/python3.8/site-packages (3.1.8)\nRequirement already satisfied: gitdb<5,>=4.0.1 in /usr/local/lib/python3.8/site-packages (from GitPython) (4.0.5)\nRequirement already satisfied: smmap<4,>=3.0.1 in /usr/local/lib/python3.8/site-packages (from gitdb<5,>=4.0.1->GitPython) (3.0.4)\n"
     ]
    }
   ],
   "source": [
    "!pip3 install GitPython"
   ]
  },
  {
   "cell_type": "code",
   "execution_count": 14,
   "metadata": {},
   "outputs": [],
   "source": [
    "import git\n",
    "from git import Repo"
   ]
  },
  {
   "cell_type": "code",
   "execution_count": 20,
   "metadata": {},
   "outputs": [],
   "source": [
    "url = \"https://github.com/dclong/docker-ubuntu_b.git\"\n",
    "dir_local = \"/tmp/test_gitpython\""
   ]
  },
  {
   "source": [
    "## Clone a Repository"
   ],
   "cell_type": "markdown",
   "metadata": {}
  },
  {
   "cell_type": "code",
   "execution_count": 21,
   "metadata": {},
   "outputs": [],
   "source": [
    "!rm -rf {dir_local}"
   ]
  },
  {
   "cell_type": "code",
   "execution_count": 22,
   "metadata": {},
   "outputs": [
    {
     "output_type": "execute_result",
     "data": {
      "text/plain": [
       "<git.repo.base.Repo '/tmp/test_gitpython/.git'>"
      ]
     },
     "metadata": {},
     "execution_count": 22
    }
   ],
   "source": [
    "repo = git.Repo.clone_from(url, dir_local, branch=\"main\")\n",
    "repo"
   ]
  },
  {
   "source": [
    "Verify that the GitHub repository is cloned to local."
   ],
   "cell_type": "markdown",
   "metadata": {}
  },
  {
   "cell_type": "code",
   "execution_count": 5,
   "metadata": {},
   "outputs": [
    {
     "output_type": "stream",
     "name": "stdout",
     "text": [
      "build.sh  readme.md\n"
     ]
    }
   ],
   "source": [
    "!ls {dir_local}"
   ]
  },
  {
   "source": [
    "Clone the local repository to another location \n",
    "(which is not very useful as you can directly copy the directory to the new location)."
   ],
   "cell_type": "markdown",
   "metadata": {}
  },
  {
   "cell_type": "code",
   "execution_count": 13,
   "metadata": {},
   "outputs": [
    {
     "output_type": "execute_result",
     "data": {
      "text/plain": [
       "<git.repo.base.Repo '/tmp/test_gitpython/.git'>"
      ]
     },
     "metadata": {},
     "execution_count": 13
    }
   ],
   "source": [
    "repo2 = Repo(dir_local).clone(f\"/tmp/{dir_local}\")\n",
    "repo2"
   ]
  },
  {
   "cell_type": "code",
   "execution_count": 14,
   "metadata": {},
   "outputs": [
    {
     "output_type": "stream",
     "name": "stdout",
     "text": [
      "build.sh  readme.md\n"
     ]
    }
   ],
   "source": [
    "!ls /tmp/{dir_local}"
   ]
  },
  {
   "source": [
    "## Infomation of the Local Repository"
   ],
   "cell_type": "markdown",
   "metadata": {}
  },
  {
   "cell_type": "code",
   "execution_count": 15,
   "metadata": {},
   "outputs": [
    {
     "output_type": "execute_result",
     "data": {
      "text/plain": [
       "[<git.Head \"refs/heads/main\">]"
      ]
     },
     "metadata": {},
     "execution_count": 15
    }
   ],
   "source": [
    "heads = repo.heads\n",
    "heads"
   ]
  },
  {
   "cell_type": "code",
   "execution_count": 16,
   "metadata": {},
   "outputs": [
    {
     "output_type": "execute_result",
     "data": {
      "text/plain": [
       "<git.Head \"refs/heads/main\">"
      ]
     },
     "metadata": {},
     "execution_count": 16
    }
   ],
   "source": [
    "main = heads.main\n",
    "main"
   ]
  },
  {
   "source": [
    "Get the commit pointed to by head called master."
   ],
   "cell_type": "markdown",
   "metadata": {}
  },
  {
   "cell_type": "code",
   "execution_count": 17,
   "metadata": {},
   "outputs": [
    {
     "output_type": "execute_result",
     "data": {
      "text/plain": [
       "<git.Commit \"95ed236bd715a06320ee85d519fb79a0adffe072\">"
      ]
     },
     "metadata": {},
     "execution_count": 17
    }
   ],
   "source": [
    "main.commit"
   ]
  },
  {
   "cell_type": "code",
   "execution_count": 18,
   "metadata": {},
   "outputs": [
    {
     "output_type": "execute_result",
     "data": {
      "text/plain": [
       "<git.Head \"refs/heads/main2\">"
      ]
     },
     "metadata": {},
     "execution_count": 18
    }
   ],
   "source": [
    "main.rename(\"main2\")"
   ]
  },
  {
   "source": [
    "Verify that the `main` branch has been renamed to `main2`."
   ],
   "cell_type": "markdown",
   "metadata": {}
  },
  {
   "cell_type": "code",
   "execution_count": 19,
   "metadata": {},
   "outputs": [
    {
     "output_type": "stream",
     "name": "stdout",
     "text": [
      "* \u001b[32mmain2\u001b[m\n"
     ]
    }
   ],
   "source": [
    "!cd {dir_local} && git branch"
   ]
  },
  {
   "source": [
    "### Get the Active Branch"
   ],
   "cell_type": "markdown",
   "metadata": {}
  },
  {
   "cell_type": "code",
   "execution_count": 5,
   "metadata": {},
   "outputs": [
    {
     "output_type": "execute_result",
     "data": {
      "text/plain": [
       "'main'"
      ]
     },
     "metadata": {},
     "execution_count": 5
    }
   ],
   "source": [
    "repo.active_branch.name"
   ]
  },
  {
   "source": [
    "## Get All Branches"
   ],
   "cell_type": "markdown",
   "metadata": {}
  },
  {
   "cell_type": "code",
   "execution_count": 10,
   "metadata": {},
   "outputs": [
    {
     "output_type": "execute_result",
     "data": {
      "text/plain": [
       "[<git.Head \"refs/heads/main\">]"
      ]
     },
     "metadata": {},
     "execution_count": 10
    }
   ],
   "source": [
    "repo.branches"
   ]
  },
  {
   "source": [
    "### Get the Remote Name"
   ],
   "cell_type": "markdown",
   "metadata": {}
  },
  {
   "cell_type": "code",
   "execution_count": 6,
   "metadata": {},
   "outputs": [
    {
     "output_type": "execute_result",
     "data": {
      "text/plain": [
       "'origin'"
      ]
     },
     "metadata": {},
     "execution_count": 6
    }
   ],
   "source": [
    "repo.remote().name"
   ]
  },
  {
   "source": [
    "### Get all Remotes"
   ],
   "cell_type": "markdown",
   "metadata": {}
  },
  {
   "cell_type": "code",
   "execution_count": 7,
   "metadata": {},
   "outputs": [
    {
     "output_type": "execute_result",
     "data": {
      "text/plain": [
       "[<git.Remote \"origin\">]"
      ]
     },
     "metadata": {},
     "execution_count": 7
    }
   ],
   "source": [
    "repo.remotes"
   ]
  },
  {
   "source": [
    "## Commits"
   ],
   "cell_type": "markdown",
   "metadata": {}
  },
  {
   "source": [
    "Get the latest commit in a branch."
   ],
   "cell_type": "markdown",
   "metadata": {}
  },
  {
   "cell_type": "code",
   "execution_count": 23,
   "metadata": {},
   "outputs": [
    {
     "output_type": "execute_result",
     "data": {
      "text/plain": [
       "<git.Commit \"53d99955a9762427f2f68dc04765471089055dc1\">"
      ]
     },
     "metadata": {},
     "execution_count": 23
    }
   ],
   "source": [
    "repo.commit(\"main\")"
   ]
  },
  {
   "cell_type": "code",
   "execution_count": 28,
   "metadata": {},
   "outputs": [
    {
     "output_type": "execute_result",
     "data": {
      "text/plain": [
       "[]"
      ]
     },
     "metadata": {},
     "execution_count": 28
    }
   ],
   "source": [
    "repo.commit(\"main\").diff(repo.commit(\"origin/dev\"))"
   ]
  },
  {
   "cell_type": "code",
   "execution_count": 27,
   "metadata": {},
   "outputs": [
    {
     "output_type": "execute_result",
     "data": {
      "text/plain": [
       "<git.Commit \"8f9f426f13d70b21f573f7c50bbe01e8ce38f158\">"
      ]
     },
     "metadata": {},
     "execution_count": 27
    }
   ],
   "source": [
    "repo.commit(\"origin/dev\")"
   ]
  },
  {
   "cell_type": "code",
   "execution_count": 26,
   "metadata": {},
   "outputs": [
    {
     "output_type": "execute_result",
     "data": {
      "text/plain": [
       "[<git.Head \"refs/heads/main\">,\n",
       " <git.RemoteReference \"refs/remotes/origin/HEAD\">,\n",
       " <git.RemoteReference \"refs/remotes/origin/debian\">,\n",
       " <git.RemoteReference \"refs/remotes/origin/dev\">,\n",
       " <git.RemoteReference \"refs/remotes/origin/main\">]"
      ]
     },
     "metadata": {},
     "execution_count": 26
    }
   ],
   "source": [
    "repo.refs"
   ]
  },
  {
   "source": [
    "## Changed Files"
   ],
   "cell_type": "markdown",
   "metadata": {}
  },
  {
   "source": [
    "Update a file."
   ],
   "cell_type": "markdown",
   "metadata": {}
  },
  {
   "cell_type": "code",
   "execution_count": 23,
   "metadata": {},
   "outputs": [],
   "source": [
    "!echo \"# add a line of comment\" >> {dir_local}/build.sh"
   ]
  },
  {
   "cell_type": "code",
   "execution_count": 24,
   "metadata": {},
   "outputs": [
    {
     "output_type": "execute_result",
     "data": {
      "text/plain": [
       "['build.sh']"
      ]
     },
     "metadata": {},
     "execution_count": 24
    }
   ],
   "source": [
    "repo = Repo(dir_local)\n",
    "files_changed = [item.a_path for item in repo.index.diff(None)]\n",
    "files_changed"
   ]
  },
  {
   "source": [
    "## Staged Files"
   ],
   "cell_type": "markdown",
   "metadata": {}
  },
  {
   "cell_type": "code",
   "execution_count": 25,
   "metadata": {},
   "outputs": [],
   "source": [
    "repo = Repo(dir_local)\n",
    "index = repo.index"
   ]
  },
  {
   "cell_type": "code",
   "execution_count": 26,
   "metadata": {},
   "outputs": [
    {
     "output_type": "execute_result",
     "data": {
      "text/plain": [
       "[(100644, f1cb16a21febd1f69a7a638402dddeb7f1dc9771, 0, build.sh)]"
      ]
     },
     "metadata": {},
     "execution_count": 26
    }
   ],
   "source": [
    "index.add(\"build.sh\")"
   ]
  },
  {
   "source": [
    "The file `build.sh` is now staged."
   ],
   "cell_type": "markdown",
   "metadata": {}
  },
  {
   "cell_type": "code",
   "execution_count": 27,
   "metadata": {},
   "outputs": [
    {
     "output_type": "execute_result",
     "data": {
      "text/plain": [
       "['build.sh']"
      ]
     },
     "metadata": {},
     "execution_count": 27
    }
   ],
   "source": [
    "files_stage = [item.a_path for item in repo.index.diff('HEAD')]\n",
    "files_stage"
   ]
  },
  {
   "cell_type": "code",
   "execution_count": 28,
   "metadata": {},
   "outputs": [
    {
     "output_type": "execute_result",
     "data": {
      "text/plain": [
       "[]"
      ]
     },
     "metadata": {},
     "execution_count": 28
    }
   ],
   "source": [
    "files_changed = [item.a_path for item in repo.index.diff(None)]\n",
    "files_changed"
   ]
  },
  {
   "source": [
    "Commit the change."
   ],
   "cell_type": "markdown",
   "metadata": {}
  },
  {
   "cell_type": "code",
   "execution_count": 29,
   "metadata": {},
   "outputs": [
    {
     "output_type": "execute_result",
     "data": {
      "text/plain": [
       "<git.Commit \"bfea304786b7b77f7fe247c74040c0e23576fc41\">"
      ]
     },
     "metadata": {},
     "execution_count": 29
    }
   ],
   "source": [
    "index.commit(\"update build.sh\")"
   ]
  },
  {
   "cell_type": "code",
   "execution_count": 30,
   "metadata": {},
   "outputs": [
    {
     "output_type": "execute_result",
     "data": {
      "text/plain": [
       "[]"
      ]
     },
     "metadata": {},
     "execution_count": 30
    }
   ],
   "source": [
    "files_stage = [item.a_path for item in repo.index.diff('HEAD')]\n",
    "files_stage"
   ]
  },
  {
   "cell_type": "code",
   "execution_count": 8,
   "metadata": {},
   "outputs": [
    {
     "output_type": "execute_result",
     "data": {
      "text/plain": [
       "<git.Remote \"origin\">"
      ]
     },
     "metadata": {},
     "execution_count": 8
    }
   ],
   "source": [
    "remote = repo.remote()\n",
    "remote"
   ]
  },
  {
   "source": [
    "## Push the Commits"
   ],
   "cell_type": "markdown",
   "metadata": {}
  },
  {
   "source": [
    "Push the local `main2` branch to the remote `main2` branch."
   ],
   "cell_type": "markdown",
   "metadata": {}
  },
  {
   "cell_type": "code",
   "execution_count": 32,
   "metadata": {},
   "outputs": [
    {
     "output_type": "execute_result",
     "data": {
      "text/plain": [
       "[<git.remote.PushInfo at 0x11fd596d0>]"
      ]
     },
     "metadata": {},
     "execution_count": 32
    }
   ],
   "source": [
    "remote.push(\"main2\")"
   ]
  },
  {
   "source": [
    "The above is equivalent to the following more detailed specification."
   ],
   "cell_type": "markdown",
   "metadata": {}
  },
  {
   "cell_type": "code",
   "execution_count": 62,
   "metadata": {},
   "outputs": [
    {
     "output_type": "execute_result",
     "data": {
      "text/plain": [
       "[<git.remote.PushInfo at 0x119903540>]"
      ]
     },
     "metadata": {},
     "execution_count": 62
    }
   ],
   "source": [
    "remote.push(\"refs/heads/main2:refs/heads/main2\")"
   ]
  },
  {
   "source": [
    "Push the local `main2` branch to the remote `main` branch."
   ],
   "cell_type": "markdown",
   "metadata": {}
  },
  {
   "cell_type": "code",
   "execution_count": 63,
   "metadata": {},
   "outputs": [
    {
     "output_type": "execute_result",
     "data": {
      "text/plain": [
       "[<git.remote.PushInfo at 0x11992d9a0>]"
      ]
     },
     "metadata": {},
     "execution_count": 63
    }
   ],
   "source": [
    "remote.push(\"refs/heads/main2:refs/heads/main\")"
   ]
  },
  {
   "source": [
    "## Pull a Branch"
   ],
   "cell_type": "markdown",
   "metadata": {}
  },
  {
   "cell_type": "code",
   "execution_count": 6,
   "metadata": {},
   "outputs": [
    {
     "output_type": "execute_result",
     "data": {
      "text/plain": [
       "<git.Head \"refs/heads/main\">"
      ]
     },
     "metadata": {},
     "execution_count": 6
    }
   ],
   "source": [
    "repo.active_branch"
   ]
  },
  {
   "cell_type": "code",
   "execution_count": 11,
   "metadata": {},
   "outputs": [
    {
     "output_type": "execute_result",
     "data": {
      "text/plain": [
       "[]"
      ]
     },
     "metadata": {},
     "execution_count": 11
    }
   ],
   "source": [
    "remote.pull(repo.active_branch)"
   ]
  },
  {
   "cell_type": "code",
   "execution_count": 12,
   "metadata": {},
   "outputs": [
    {
     "output_type": "stream",
     "name": "stdout",
     "text": [
      "abc       build.sh  readme.md\n"
     ]
    }
   ],
   "source": [
    "!ls {dir_local}"
   ]
  },
  {
   "source": [
    "## Switch Branches"
   ],
   "cell_type": "markdown",
   "metadata": {}
  },
  {
   "cell_type": "code",
   "execution_count": 5,
   "metadata": {},
   "outputs": [
    {
     "output_type": "stream",
     "text": [
      "\u001b[0;31mSignature:\u001b[0m \u001b[0mrepo\u001b[0m\u001b[0;34m.\u001b[0m\u001b[0mgit\u001b[0m\u001b[0;34m.\u001b[0m\u001b[0mcheckout\u001b[0m\u001b[0;34m(\u001b[0m\u001b[0;34m*\u001b[0m\u001b[0margs\u001b[0m\u001b[0;34m,\u001b[0m \u001b[0;34m**\u001b[0m\u001b[0mkwargs\u001b[0m\u001b[0;34m)\u001b[0m\u001b[0;34m\u001b[0m\u001b[0;34m\u001b[0m\u001b[0m\n",
      "\u001b[0;31mDocstring:\u001b[0m <no docstring>\n",
      "\u001b[0;31mFile:\u001b[0m      /usr/local/lib/python3.8/site-packages/git/cmd.py\n",
      "\u001b[0;31mType:\u001b[0m      function\n"
     ],
     "name": "stdout"
    }
   ],
   "source": [
    "repo.git.checkout?"
   ]
  },
  {
   "cell_type": "code",
   "execution_count": 6,
   "metadata": {},
   "outputs": [
    {
     "output_type": "execute_result",
     "data": {
      "text/plain": [
       "<git.Head \"refs/heads/dev\">"
      ]
     },
     "metadata": {},
     "execution_count": 6
    }
   ],
   "source": [
    "repo.active_branch"
   ]
  },
  {
   "source": [
    "The `force=True` option discard any local changes no matter switching branch might be blocked by the local changes or not."
   ],
   "cell_type": "markdown",
   "metadata": {}
  },
  {
   "cell_type": "code",
   "execution_count": 12,
   "metadata": {},
   "outputs": [
    {
     "output_type": "execute_result",
     "data": {
      "text/plain": [
       "'Your branch is ahead of \\'origin/dev\\' by 1 commit.\\n  (use \"git push\" to publish your local commits)'"
      ]
     },
     "metadata": {},
     "execution_count": 12
    }
   ],
   "source": [
    "repo.git.checkout(\"dev\", force=True)"
   ]
  },
  {
   "cell_type": "code",
   "execution_count": 5,
   "metadata": {},
   "outputs": [
    {
     "output_type": "execute_result",
     "data": {
      "text/plain": [
       "\"Your branch is up to date with 'origin/main'.\""
      ]
     },
     "metadata": {},
     "execution_count": 5
    }
   ],
   "source": [
    "repo.git.checkout(\"main\", force=True)"
   ]
  },
  {
   "cell_type": "code",
   "execution_count": 11,
   "metadata": {},
   "outputs": [
    {
     "output_type": "execute_result",
     "data": {
      "text/plain": [
       "<git.Head \"refs/heads/dev\">"
      ]
     },
     "metadata": {},
     "execution_count": 11
    }
   ],
   "source": [
    "repo.active_branch"
   ]
  },
  {
   "source": [
    "## Tag"
   ],
   "cell_type": "markdown",
   "metadata": {}
  },
  {
   "source": [
    "List all tags."
   ],
   "cell_type": "markdown",
   "metadata": {}
  },
  {
   "cell_type": "code",
   "execution_count": 13,
   "metadata": {},
   "outputs": [
    {
     "output_type": "execute_result",
     "data": {
      "text/plain": [
       "[]"
      ]
     },
     "metadata": {},
     "execution_count": 13
    }
   ],
   "source": [
    "repo.tags"
   ]
  },
  {
   "source": [
    "Add a tag."
   ],
   "cell_type": "markdown",
   "metadata": {}
  },
  {
   "cell_type": "code",
   "execution_count": 15,
   "metadata": {},
   "outputs": [
    {
     "output_type": "execute_result",
     "data": {
      "text/plain": [
       "<git.TagReference \"refs/tags/v1.0.0\">"
      ]
     },
     "metadata": {},
     "execution_count": 15
    }
   ],
   "source": [
    "repo.create_tag(\"v1.0.0\")"
   ]
  },
  {
   "cell_type": "code",
   "execution_count": 17,
   "metadata": {},
   "outputs": [
    {
     "output_type": "execute_result",
     "data": {
      "text/plain": [
       "[<git.TagReference \"refs/tags/v1.0.0\">]"
      ]
     },
     "metadata": {},
     "execution_count": 17
    }
   ],
   "source": [
    "repo.tags"
   ]
  },
  {
   "cell_type": "code",
   "execution_count": 20,
   "metadata": {},
   "outputs": [
    {
     "output_type": "execute_result",
     "data": {
      "text/plain": [
       "<git.TagReference \"refs/tags/v1.0.0\">"
      ]
     },
     "metadata": {},
     "execution_count": 20
    }
   ],
   "source": [
    "repo.tag(\"refs/tags/v1.0.0\")"
   ]
  },
  {
   "cell_type": "code",
   "execution_count": 23,
   "metadata": {},
   "outputs": [
    {
     "output_type": "execute_result",
     "data": {
      "text/plain": [
       "<git.TagReference \"refs/tags/v2.0.0\">"
      ]
     },
     "metadata": {},
     "execution_count": 23
    }
   ],
   "source": [
    "tag2 = repo.tag(\"refs/tags/v2.0.0\")\n",
    "tag2"
   ]
  },
  {
   "cell_type": "code",
   "execution_count": 24,
   "metadata": {},
   "outputs": [
    {
     "output_type": "execute_result",
     "data": {
      "text/plain": [
       "[<git.TagReference \"refs/tags/v1.0.0\">]"
      ]
     },
     "metadata": {},
     "execution_count": 24
    }
   ],
   "source": [
    "repo.tags"
   ]
  },
  {
   "source": [
    "The GitCommandError is thrown when the tag already exists."
   ],
   "cell_type": "markdown",
   "metadata": {}
  },
  {
   "cell_type": "code",
   "execution_count": 25,
   "metadata": {},
   "outputs": [
    {
     "output_type": "error",
     "ename": "GitCommandError",
     "evalue": "Cmd('git') failed due to: exit code(128)\n  cmdline: git tag v1.0.0 HEAD\n  stderr: 'fatal: tag 'v1.0.0' already exists'",
     "traceback": [
      "\u001b[0;31m---------------------------------------------------------------------------\u001b[0m",
      "\u001b[0;31mGitCommandError\u001b[0m                           Traceback (most recent call last)",
      "\u001b[0;32m<ipython-input-25-c9fa3ca924a1>\u001b[0m in \u001b[0;36m<module>\u001b[0;34m\u001b[0m\n\u001b[0;32m----> 1\u001b[0;31m \u001b[0mrepo\u001b[0m\u001b[0;34m.\u001b[0m\u001b[0mcreate_tag\u001b[0m\u001b[0;34m(\u001b[0m\u001b[0;34m\"v1.0.0\"\u001b[0m\u001b[0;34m)\u001b[0m\u001b[0;34m\u001b[0m\u001b[0;34m\u001b[0m\u001b[0m\n\u001b[0m",
      "\u001b[0;32m/usr/local/lib/python3.8/site-packages/git/repo/base.py\u001b[0m in \u001b[0;36mcreate_tag\u001b[0;34m(self, path, ref, message, force, **kwargs)\u001b[0m\n\u001b[1;32m    397\u001b[0m \u001b[0;34m\u001b[0m\u001b[0m\n\u001b[1;32m    398\u001b[0m         :return: TagReference object \"\"\"\n\u001b[0;32m--> 399\u001b[0;31m         \u001b[0;32mreturn\u001b[0m \u001b[0mTagReference\u001b[0m\u001b[0;34m.\u001b[0m\u001b[0mcreate\u001b[0m\u001b[0;34m(\u001b[0m\u001b[0mself\u001b[0m\u001b[0;34m,\u001b[0m \u001b[0mpath\u001b[0m\u001b[0;34m,\u001b[0m \u001b[0mref\u001b[0m\u001b[0;34m,\u001b[0m \u001b[0mmessage\u001b[0m\u001b[0;34m,\u001b[0m \u001b[0mforce\u001b[0m\u001b[0;34m,\u001b[0m \u001b[0;34m**\u001b[0m\u001b[0mkwargs\u001b[0m\u001b[0;34m)\u001b[0m\u001b[0;34m\u001b[0m\u001b[0;34m\u001b[0m\u001b[0m\n\u001b[0m\u001b[1;32m    400\u001b[0m \u001b[0;34m\u001b[0m\u001b[0m\n\u001b[1;32m    401\u001b[0m     \u001b[0;32mdef\u001b[0m \u001b[0mdelete_tag\u001b[0m\u001b[0;34m(\u001b[0m\u001b[0mself\u001b[0m\u001b[0;34m,\u001b[0m \u001b[0;34m*\u001b[0m\u001b[0mtags\u001b[0m\u001b[0;34m)\u001b[0m\u001b[0;34m:\u001b[0m\u001b[0;34m\u001b[0m\u001b[0;34m\u001b[0m\u001b[0m\n",
      "\u001b[0;32m/usr/local/lib/python3.8/site-packages/git/refs/tag.py\u001b[0m in \u001b[0;36mcreate\u001b[0;34m(cls, repo, path, ref, message, force, **kwargs)\u001b[0m\n\u001b[1;32m     81\u001b[0m             \u001b[0mkwargs\u001b[0m\u001b[0;34m[\u001b[0m\u001b[0;34m'f'\u001b[0m\u001b[0;34m]\u001b[0m \u001b[0;34m=\u001b[0m \u001b[0;32mTrue\u001b[0m\u001b[0;34m\u001b[0m\u001b[0;34m\u001b[0m\u001b[0m\n\u001b[1;32m     82\u001b[0m \u001b[0;34m\u001b[0m\u001b[0m\n\u001b[0;32m---> 83\u001b[0;31m         \u001b[0mrepo\u001b[0m\u001b[0;34m.\u001b[0m\u001b[0mgit\u001b[0m\u001b[0;34m.\u001b[0m\u001b[0mtag\u001b[0m\u001b[0;34m(\u001b[0m\u001b[0;34m*\u001b[0m\u001b[0margs\u001b[0m\u001b[0;34m,\u001b[0m \u001b[0;34m**\u001b[0m\u001b[0mkwargs\u001b[0m\u001b[0;34m)\u001b[0m\u001b[0;34m\u001b[0m\u001b[0;34m\u001b[0m\u001b[0m\n\u001b[0m\u001b[1;32m     84\u001b[0m         \u001b[0;32mreturn\u001b[0m \u001b[0mTagReference\u001b[0m\u001b[0;34m(\u001b[0m\u001b[0mrepo\u001b[0m\u001b[0;34m,\u001b[0m \u001b[0;34m\"%s/%s\"\u001b[0m \u001b[0;34m%\u001b[0m \u001b[0;34m(\u001b[0m\u001b[0mcls\u001b[0m\u001b[0;34m.\u001b[0m\u001b[0m_common_path_default\u001b[0m\u001b[0;34m,\u001b[0m \u001b[0mpath\u001b[0m\u001b[0;34m)\u001b[0m\u001b[0;34m)\u001b[0m\u001b[0;34m\u001b[0m\u001b[0;34m\u001b[0m\u001b[0m\n\u001b[1;32m     85\u001b[0m \u001b[0;34m\u001b[0m\u001b[0m\n",
      "\u001b[0;32m/usr/local/lib/python3.8/site-packages/git/cmd.py\u001b[0m in \u001b[0;36m<lambda>\u001b[0;34m(*args, **kwargs)\u001b[0m\n\u001b[1;32m    540\u001b[0m         \u001b[0;32mif\u001b[0m \u001b[0mname\u001b[0m\u001b[0;34m[\u001b[0m\u001b[0;36m0\u001b[0m\u001b[0;34m]\u001b[0m \u001b[0;34m==\u001b[0m \u001b[0;34m'_'\u001b[0m\u001b[0;34m:\u001b[0m\u001b[0;34m\u001b[0m\u001b[0;34m\u001b[0m\u001b[0m\n\u001b[1;32m    541\u001b[0m             \u001b[0;32mreturn\u001b[0m \u001b[0mLazyMixin\u001b[0m\u001b[0;34m.\u001b[0m\u001b[0m__getattr__\u001b[0m\u001b[0;34m(\u001b[0m\u001b[0mself\u001b[0m\u001b[0;34m,\u001b[0m \u001b[0mname\u001b[0m\u001b[0;34m)\u001b[0m\u001b[0;34m\u001b[0m\u001b[0;34m\u001b[0m\u001b[0m\n\u001b[0;32m--> 542\u001b[0;31m         \u001b[0;32mreturn\u001b[0m \u001b[0;32mlambda\u001b[0m \u001b[0;34m*\u001b[0m\u001b[0margs\u001b[0m\u001b[0;34m,\u001b[0m \u001b[0;34m**\u001b[0m\u001b[0mkwargs\u001b[0m\u001b[0;34m:\u001b[0m \u001b[0mself\u001b[0m\u001b[0;34m.\u001b[0m\u001b[0m_call_process\u001b[0m\u001b[0;34m(\u001b[0m\u001b[0mname\u001b[0m\u001b[0;34m,\u001b[0m \u001b[0;34m*\u001b[0m\u001b[0margs\u001b[0m\u001b[0;34m,\u001b[0m \u001b[0;34m**\u001b[0m\u001b[0mkwargs\u001b[0m\u001b[0;34m)\u001b[0m\u001b[0;34m\u001b[0m\u001b[0;34m\u001b[0m\u001b[0m\n\u001b[0m\u001b[1;32m    543\u001b[0m \u001b[0;34m\u001b[0m\u001b[0m\n\u001b[1;32m    544\u001b[0m     \u001b[0;32mdef\u001b[0m \u001b[0mset_persistent_git_options\u001b[0m\u001b[0;34m(\u001b[0m\u001b[0mself\u001b[0m\u001b[0;34m,\u001b[0m \u001b[0;34m**\u001b[0m\u001b[0mkwargs\u001b[0m\u001b[0;34m)\u001b[0m\u001b[0;34m:\u001b[0m\u001b[0;34m\u001b[0m\u001b[0;34m\u001b[0m\u001b[0m\n",
      "\u001b[0;32m/usr/local/lib/python3.8/site-packages/git/cmd.py\u001b[0m in \u001b[0;36m_call_process\u001b[0;34m(self, method, *args, **kwargs)\u001b[0m\n\u001b[1;32m   1003\u001b[0m         \u001b[0mcall\u001b[0m\u001b[0;34m.\u001b[0m\u001b[0mextend\u001b[0m\u001b[0;34m(\u001b[0m\u001b[0margs\u001b[0m\u001b[0;34m)\u001b[0m\u001b[0;34m\u001b[0m\u001b[0;34m\u001b[0m\u001b[0m\n\u001b[1;32m   1004\u001b[0m \u001b[0;34m\u001b[0m\u001b[0m\n\u001b[0;32m-> 1005\u001b[0;31m         \u001b[0;32mreturn\u001b[0m \u001b[0mself\u001b[0m\u001b[0;34m.\u001b[0m\u001b[0mexecute\u001b[0m\u001b[0;34m(\u001b[0m\u001b[0mcall\u001b[0m\u001b[0;34m,\u001b[0m \u001b[0;34m**\u001b[0m\u001b[0mexec_kwargs\u001b[0m\u001b[0;34m)\u001b[0m\u001b[0;34m\u001b[0m\u001b[0;34m\u001b[0m\u001b[0m\n\u001b[0m\u001b[1;32m   1006\u001b[0m \u001b[0;34m\u001b[0m\u001b[0m\n\u001b[1;32m   1007\u001b[0m     \u001b[0;32mdef\u001b[0m \u001b[0m_parse_object_header\u001b[0m\u001b[0;34m(\u001b[0m\u001b[0mself\u001b[0m\u001b[0;34m,\u001b[0m \u001b[0mheader_line\u001b[0m\u001b[0;34m)\u001b[0m\u001b[0;34m:\u001b[0m\u001b[0;34m\u001b[0m\u001b[0;34m\u001b[0m\u001b[0m\n",
      "\u001b[0;32m/usr/local/lib/python3.8/site-packages/git/cmd.py\u001b[0m in \u001b[0;36mexecute\u001b[0;34m(self, command, istream, with_extended_output, with_exceptions, as_process, output_stream, stdout_as_string, kill_after_timeout, with_stdout, universal_newlines, shell, env, max_chunk_size, **subprocess_kwargs)\u001b[0m\n\u001b[1;32m    820\u001b[0m \u001b[0;34m\u001b[0m\u001b[0m\n\u001b[1;32m    821\u001b[0m         \u001b[0;32mif\u001b[0m \u001b[0mwith_exceptions\u001b[0m \u001b[0;32mand\u001b[0m \u001b[0mstatus\u001b[0m \u001b[0;34m!=\u001b[0m \u001b[0;36m0\u001b[0m\u001b[0;34m:\u001b[0m\u001b[0;34m\u001b[0m\u001b[0;34m\u001b[0m\u001b[0m\n\u001b[0;32m--> 822\u001b[0;31m             \u001b[0;32mraise\u001b[0m \u001b[0mGitCommandError\u001b[0m\u001b[0;34m(\u001b[0m\u001b[0mcommand\u001b[0m\u001b[0;34m,\u001b[0m \u001b[0mstatus\u001b[0m\u001b[0;34m,\u001b[0m \u001b[0mstderr_value\u001b[0m\u001b[0;34m,\u001b[0m \u001b[0mstdout_value\u001b[0m\u001b[0;34m)\u001b[0m\u001b[0;34m\u001b[0m\u001b[0;34m\u001b[0m\u001b[0m\n\u001b[0m\u001b[1;32m    823\u001b[0m \u001b[0;34m\u001b[0m\u001b[0m\n\u001b[1;32m    824\u001b[0m         \u001b[0;32mif\u001b[0m \u001b[0misinstance\u001b[0m\u001b[0;34m(\u001b[0m\u001b[0mstdout_value\u001b[0m\u001b[0;34m,\u001b[0m \u001b[0mbytes\u001b[0m\u001b[0;34m)\u001b[0m \u001b[0;32mand\u001b[0m \u001b[0mstdout_as_string\u001b[0m\u001b[0;34m:\u001b[0m  \u001b[0;31m# could also be output_stream\u001b[0m\u001b[0;34m\u001b[0m\u001b[0;34m\u001b[0m\u001b[0m\n",
      "\u001b[0;31mGitCommandError\u001b[0m: Cmd('git') failed due to: exit code(128)\n  cmdline: git tag v1.0.0 HEAD\n  stderr: 'fatal: tag 'v1.0.0' already exists'"
     ]
    }
   ],
   "source": [
    "repo.create_tag(\"v1.0.0\")"
   ]
  },
  {
   "cell_type": "code",
   "execution_count": 26,
   "metadata": {},
   "outputs": [
    {
     "output_type": "execute_result",
     "data": {
      "text/plain": [
       "[<git.remote.PushInfo at 0x12034acc0>]"
      ]
     },
     "metadata": {},
     "execution_count": 26
    }
   ],
   "source": [
    "repo.remote().push(\"v1.0.0\")"
   ]
  },
  {
   "source": [
    "## git diff"
   ],
   "cell_type": "markdown",
   "metadata": {}
  },
  {
   "cell_type": "code",
   "execution_count": 3,
   "metadata": {},
   "outputs": [],
   "source": [
    "url = \"https://github.com/dclong/docker-ubuntu_b.git\"\n",
    "dir_local = \"/tmp/\" + url[(url.rindex(\"/\") + 1):]\n",
    "!rm -rf {dir_local}"
   ]
  },
  {
   "cell_type": "code",
   "execution_count": 4,
   "metadata": {},
   "outputs": [
    {
     "output_type": "execute_result",
     "data": {
      "text/plain": [
       "<git.repo.base.Repo '/tmp/docker-ubuntu_b.git/.git'>"
      ]
     },
     "metadata": {},
     "execution_count": 4
    }
   ],
   "source": [
    "repo = git.Repo.clone_from(url, dir_local, branch=\"main\")\n",
    "repo"
   ]
  },
  {
   "cell_type": "code",
   "execution_count": 5,
   "metadata": {},
   "outputs": [
    {
     "output_type": "execute_result",
     "data": {
      "text/plain": [
       "[<git.Head \"refs/heads/main\">,\n",
       " <git.RemoteReference \"refs/remotes/origin/HEAD\">,\n",
       " <git.RemoteReference \"refs/remotes/origin/debian\">,\n",
       " <git.RemoteReference \"refs/remotes/origin/dev\">,\n",
       " <git.RemoteReference \"refs/remotes/origin/main\">]"
      ]
     },
     "metadata": {},
     "execution_count": 5
    }
   ],
   "source": [
    "repo.refs"
   ]
  },
  {
   "cell_type": "code",
   "execution_count": 6,
   "metadata": {},
   "outputs": [
    {
     "output_type": "execute_result",
     "data": {
      "text/plain": [
       "[]"
      ]
     },
     "metadata": {},
     "execution_count": 6
    }
   ],
   "source": [
    "diffs = repo.refs[4].commit.diff(repo.refs[3].commit)\n",
    "diffs"
   ]
  },
  {
   "cell_type": "code",
   "execution_count": 7,
   "metadata": {},
   "outputs": [
    {
     "output_type": "execute_result",
     "data": {
      "text/plain": [
       "[<git.diff.Diff at 0x11c73e0d0>]"
      ]
     },
     "metadata": {},
     "execution_count": 7
    }
   ],
   "source": [
    "diffs = repo.refs[4].commit.diff(repo.refs[2].commit)\n",
    "diffs"
   ]
  },
  {
   "cell_type": "code",
   "execution_count": 13,
   "metadata": {},
   "outputs": [
    {
     "output_type": "execute_result",
     "data": {
      "text/plain": [
       "'Dockerfile\\n=======================================================\\nlhs: 100644 | 8ae5c7650a8c031a8e176d896a3665bbe7e2aae8\\nrhs: 100644 | 9f2304d9a97aa1279ad1938b3bb74790172c9d8b'"
      ]
     },
     "metadata": {},
     "execution_count": 13
    }
   ],
   "source": [
    "str(diffs[0])"
   ]
  },
  {
   "cell_type": "code",
   "execution_count": 12,
   "metadata": {},
   "outputs": [
    {
     "output_type": "execute_result",
     "data": {
      "text/plain": [
       "'origin/main'"
      ]
     },
     "metadata": {},
     "execution_count": 12
    }
   ],
   "source": [
    "repo.refs[5].name"
   ]
  },
  {
   "cell_type": "code",
   "execution_count": 6,
   "metadata": {},
   "outputs": [
    {
     "output_type": "stream",
     "name": "stdout",
     "text": [
      "On branch main\nYour branch is up to date with 'origin/main'.\n\nnothing to commit, working tree clean\n"
     ]
    }
   ],
   "source": [
    "print(repo.git.status())"
   ]
  },
  {
   "cell_type": "code",
   "execution_count": 6,
   "metadata": {},
   "outputs": [
    {
     "output_type": "execute_result",
     "data": {
      "text/plain": [
       "\"Your branch is up to date with 'origin/debian'.\""
      ]
     },
     "metadata": {},
     "execution_count": 6
    }
   ],
   "source": [
    "repo.git.checkout(\"debian\", force=True)"
   ]
  },
  {
   "cell_type": "code",
   "execution_count": 8,
   "metadata": {},
   "outputs": [
    {
     "output_type": "execute_result",
     "data": {
      "text/plain": [
       "''"
      ]
     },
     "metadata": {},
     "execution_count": 8
    }
   ],
   "source": [
    "repo.git.checkout(b=\"a_new_branch\", force=True)"
   ]
  },
  {
   "cell_type": "code",
   "execution_count": 55,
   "metadata": {},
   "outputs": [
    {
     "output_type": "stream",
     "name": "stdout",
     "text": [
      "\u001b[1mdiff --git a/.github/workflows/create_pull_request.yml b/.github/workflows/create_pull_request.yml\u001b[m\n\u001b[1mnew file mode 100644\u001b[m\n\u001b[1mindex 0000000..3dea0da\u001b[m\n\u001b[1m--- /dev/null\u001b[m\n\u001b[1m+++ b/.github/workflows/create_pull_request.yml\u001b[m\n\u001b[36m@@ -0,0 +1,22 @@\u001b[m\n\u001b[32m+\u001b[m\u001b[32mname: Create Pull Request\u001b[m\n\u001b[32m+\u001b[m\u001b[32mon:\u001b[m\n\u001b[32m+\u001b[m\u001b[32m  push:\u001b[m\n\u001b[32m+\u001b[m\u001b[32m    branches:\u001b[m\n\u001b[32m+\u001b[m\u001b[32m      - dev\u001b[m\n\u001b[32m+\u001b[m\u001b[32mjobs:\u001b[m\n\u001b[32m+\u001b[m\u001b[32m  create_pull_request:\u001b[m\n\u001b[32m+\u001b[m\u001b[32m    runs-on: ubuntu-latest\u001b[m\n\u001b[32m+\u001b[m\u001b[32m    steps:\u001b[m\n\u001b[32m+\u001b[m\u001b[32m      - uses: actions/checkout@v2\u001b[m\n\u001b[32m+\u001b[m\u001b[32m        with:\u001b[m\n\u001b[32m+\u001b[m\u001b[32m          ref: main\u001b[m\n\u001b[32m+\u001b[m\u001b[32m      - name: Reset main branch with dev changes\u001b[m\n\u001b[32m+\u001b[m\u001b[32m        run: |\u001b[m\n\u001b[32m+\u001b[m\u001b[32m          git fetch origin dev:dev\u001b[m\n\u001b[32m+\u001b[m\u001b[32m          git reset --hard dev\u001b[m\n\u001b[32m+\u001b[m\u001b[32m      - name: Create pull request from dev to main\u001b[m\n\u001b[32m+\u001b[m\u001b[32m        uses: peter-evans/create-pull-request@v3\u001b[m\n\u001b[32m+\u001b[m\u001b[32m        with:\u001b[m\n\u001b[32m+\u001b[m\u001b[32m          title: Merge dev into main\u001b[m\n\u001b[32m+\u001b[m\u001b[32m          branch: dev\u001b[m\n\u001b[32m+\u001b[m\u001b[32m          assignees: dclong\u001b[m\u001b[41m  \u001b[m\n\u001b[1mdiff --git a/Dockerfile b/Dockerfile\u001b[m\n\u001b[1mindex 6e90b36..f922336 100644\u001b[m\n\u001b[1m--- a/Dockerfile\u001b[m\n\u001b[1m+++ b/Dockerfile\u001b[m\n\u001b[36m@@ -15,26 +15,13 @@\u001b[m \u001b[mRUN curl -L -o /usr/local/bin/coursier https://git.io/coursier-cli \\\u001b[m\n #    && its --ts-hide-undefined --install=global\u001b[m\n \u001b[m\n # Rust Kernel\u001b[m\n\u001b[31m-#ENV RUSTUP_HOME=/usr/local/rustup \\\u001b[m\n\u001b[31m-#    CARGO_HOME=/usr/local/cargo \\\u001b[m\n\u001b[31m-#    PATH=/usr/local/cargo/bin:$PATH\u001b[m\n\u001b[31m-#RUN xinstall -y rustup -ic \\\u001b[m\n\u001b[31m-#    && apt-get update && apt-get install -y cmake \\\u001b[m\n\u001b[31m-#    && cargo install --force evcxr_jupyter \\\u001b[m\n\u001b[31m-#    && /usr/local/cargo/bin/evcxr_jupyter --install \\\u001b[m\n\u001b[31m-#    && cp -r /root/.local/share/jupyter/kernels/rust /usr/local/share/jupyter/kernels/ \\\u001b[m\n\u001b[31m-#    && chmod -R 755 /root \\\u001b[m\n\u001b[31m-#    && apt-get autoremove -y \\\u001b[m\n\u001b[31m-#    && apt-get clean -y \\\u001b[m\n\u001b[31m-#    && rm -rf /var/lib/apt/lists/*\u001b[m\n\u001b[31m-\u001b[m\n\u001b[31m-# Rust Kernel\u001b[m\n\u001b[31m-RUN apt-get update \\\u001b[m\n\u001b[31m-    && apt-get install -y cmake cargo rust-src \\\u001b[m\n\u001b[31m-    && cargo install --force evcxr_jupyter \\\u001b[m\n\u001b[31m-    && /root/.cargo/bin/evcxr_jupyter --install \\\u001b[m\n\u001b[31m-    && cp -r /root/.local/share/jupyter/kernels/rust /usr/local/share/jupyter/kernels/ \\\u001b[m\n\u001b[31m-    && chmod -R 755 /root \\\u001b[m\n\u001b[31m-    && apt-get autoremove -y \\\u001b[m\n\u001b[31m-    && apt-get clean -y \\\u001b[m\n\u001b[31m-    && rm -rf /var/lib/apt/lists/*\u001b[m\n\u001b[32m+\u001b[m\u001b[32mRUN apt-add-repository -y ppa:ubuntu-mozilla-security/rust-updates \\\u001b[m\n\u001b[32m+\u001b[m\u001b[32m    && apt-get update \\\u001b[m\n\u001b[32m+\u001b[m\u001b[32m    && apt-get install -y rustc rust-src cargo cmake\u001b[m\n\u001b[32m+\u001b[m\u001b[32m    #&& cargo install --force evcxr_jupyter \\\u001b[m\n\u001b[32m+\u001b[m\u001b[32m    #&& /root/.cargo/bin/evcxr_jupyter --install \\\u001b[m\n\u001b[32m+\u001b[m\u001b[32m    #&& cp -r /root/.local/share/jupyter/kernels/rust /usr/local/share/jupyter/kernels/ \\\u001b[m\n\u001b[32m+\u001b[m\u001b[32m    #&& chmod -R 755 /root \\\u001b[m\n\u001b[32m+\u001b[m\u001b[32m    #&& apt-get autoremove -y \\\u001b[m\n\u001b[32m+\u001b[m\u001b[32m    #&& apt-get clean -y \\\u001b[m\n\u001b[32m+\u001b[m\u001b[32m    #&& rm -rf /var/lib/apt/lists/*\u001b[m\n\u001b[1mdiff --git a/readme.md b/readme.md\u001b[m\n\u001b[1mindex cf16db7..31c8e21 100644\u001b[m\n\u001b[1m--- a/readme.md\u001b[m\n\u001b[1m+++ b/readme.md\u001b[m\n\u001b[36m@@ -17,7 +17,7 @@\u001b[m \u001b[mThe following command starts a container\u001b[m\n and mounts the current working directory and `/home` on the host machine \u001b[m\n to `/workdir` and `/home_host` in the container respectively.\u001b[m\n ```\u001b[m\n\u001b[31m-docker run -d \\\u001b[m\n\u001b[32m+\u001b[m\u001b[32mdocker run -d --init \\\u001b[m\n     --hostname jupyterhub-more \\\u001b[m\n     --log-opt max-size=50m \\\u001b[m\n     -p 8000:8000 \\\u001b[m\n\u001b[36m@@ -32,7 +32,7 @@\u001b[m \u001b[mdocker run -d \\\u001b[m\n ```\u001b[m\n Use the image with the `next` tag (which is the testing/next version of dclong/jupyterhub-more).\u001b[m\n ```\u001b[m\n\u001b[31m-docker run -d \\\u001b[m\n\u001b[32m+\u001b[m\u001b[32mdocker run -d --init \\\u001b[m\n     --hostname jupyterhub-more \\\u001b[m\n     --log-opt max-size=50m \\\u001b[m\n     -p 8000:8000 \\\u001b[m\n\u001b[36m@@ -48,7 +48,7 @@\u001b[m \u001b[mdocker run -d \\\u001b[m\n The following command (only works on Linux) does the same as the above one \u001b[m\n except that it limits the use of CPU and memory.\u001b[m\n ```\u001b[m\n\u001b[31m-docker run -d \\\u001b[m\n\u001b[32m+\u001b[m\u001b[32mdocker run -d --init \\\u001b[m\n     --hostname jupyterhub-beakerx \\\u001b[m\n     --log-opt max-size=50m \\\u001b[m\n     --memory=$(($(head -n 1 /proc/meminfo | awk '{print $2}') * 4 / 5))k \\\u001b[m\n\u001b[36m@@ -65,7 +65,7 @@\u001b[m \u001b[mdocker run -d \\\u001b[m\n ```\u001b[m\n Use the image with the `next` tag (which is the testing/next version of dclong/jupyterhub-more).\u001b[m\n ```\u001b[m\n\u001b[31m-docker run -d \\\u001b[m\n\u001b[32m+\u001b[m\u001b[32mdocker run -d --init \\\u001b[m\n     --hostname jupyterhub-more \\\u001b[m\n     --log-opt max-size=50m \\\u001b[m\n     --memory=$(($(head -n 1 /proc/meminfo | awk '{print $2}') * 4 / 5))k \\\u001b[m\n"
     ]
    }
   ],
   "source": [
    "!git -C {dir_local} diff debian..main"
   ]
  },
  {
   "cell_type": "code",
   "execution_count": null,
   "metadata": {},
   "outputs": [],
   "source": [
    "nima = repo.refs[4].checkout(force=True, b=\"nima\")\n",
    "nima"
   ]
  },
  {
   "cell_type": "code",
   "execution_count": 50,
   "metadata": {},
   "outputs": [
    {
     "output_type": "execute_result",
     "data": {
      "text/plain": [
       "''"
      ]
     },
     "metadata": {},
     "execution_count": 50
    }
   ],
   "source": [
    "diffs = nima.commit.diff(repo.refs[-1].commit)\n",
    "diffs[0].diff"
   ]
  },
  {
   "cell_type": "code",
   "execution_count": 42,
   "metadata": {},
   "outputs": [
    {
     "output_type": "stream",
     "name": "stdout",
     "text": [
      "Help on method checkout in module git.refs.head:\n\ncheckout(force=False, **kwargs) method of git.refs.remote.RemoteReference instance\n    Checkout this head by setting the HEAD to this reference, by updating the index\n    to reflect the tree we point to and by updating the working tree to reflect\n    the latest index.\n    \n    The command will fail if changed working tree files would be overwritten.\n    \n    :param force:\n        If True, changes to the index and the working tree will be discarded.\n        If False, GitCommandError will be raised in that situation.\n    \n    :param kwargs:\n        Additional keyword arguments to be passed to git checkout, i.e.\n        b='new_branch' to create a new branch at the given spot.\n    \n    :return:\n        The active branch after the checkout operation, usually self unless\n        a new branch has been created.\n        If there is no active branch, as the HEAD is now detached, the HEAD\n        reference will be returned instead.\n    \n    :note:\n        By default it is only allowed to checkout heads - everything else\n        will leave the HEAD detached which is allowed and possible, but remains\n        a special state that some tools might not be able to handle.\n\n"
     ]
    }
   ],
   "source": [
    "help(repo.refs[4].checkout)"
   ]
  },
  {
   "cell_type": "code",
   "execution_count": 30,
   "metadata": {},
   "outputs": [
    {
     "output_type": "execute_result",
     "data": {
      "text/plain": [
       "[]"
      ]
     },
     "metadata": {},
     "execution_count": 30
    }
   ],
   "source": [
    "repo.refs[2].commit.diff(repo.refs[1].commit)"
   ]
  },
  {
   "cell_type": "code",
   "execution_count": 32,
   "metadata": {},
   "outputs": [
    {
     "output_type": "execute_result",
     "data": {
      "text/plain": [
       "[<git.diff.Diff at 0x128ca3a60>]"
      ]
     },
     "metadata": {},
     "execution_count": 32
    }
   ],
   "source": [
    "diffs = repo.refs[2].commit.diff(repo.refs[0].commit)\n",
    "diffs"
   ]
  },
  {
   "cell_type": "code",
   "execution_count": 33,
   "metadata": {},
   "outputs": [
    {
     "output_type": "execute_result",
     "data": {
      "text/plain": [
       "<git.diff.Diff at 0x128ca3a60>"
      ]
     },
     "metadata": {},
     "execution_count": 33
    }
   ],
   "source": [
    "diffs[0]"
   ]
  },
  {
   "cell_type": "code",
   "execution_count": 24,
   "metadata": {},
   "outputs": [
    {
     "output_type": "execute_result",
     "data": {
      "text/plain": [
       "[]"
      ]
     },
     "metadata": {},
     "execution_count": 24
    }
   ],
   "source": [
    "diffs = repo.refs[6].commit.diff(repo.refs[7].commit)\n",
    "diffs"
   ]
  },
  {
   "cell_type": "code",
   "execution_count": 25,
   "metadata": {},
   "outputs": [
    {
     "output_type": "execute_result",
     "data": {
      "text/plain": [
       "[<git.diff.Diff at 0x128ca3790>]"
      ]
     },
     "metadata": {},
     "execution_count": 25
    }
   ],
   "source": [
    "diffs = repo.refs[4].commit.diff(repo.refs[7].commit)\n",
    "diffs"
   ]
  },
  {
   "cell_type": "code",
   "execution_count": 26,
   "metadata": {},
   "outputs": [
    {
     "output_type": "execute_result",
     "data": {
      "text/plain": [
       "''"
      ]
     },
     "metadata": {},
     "execution_count": 26
    }
   ],
   "source": [
    "diffs[0].diff"
   ]
  },
  {
   "cell_type": "code",
   "execution_count": 27,
   "metadata": {},
   "outputs": [
    {
     "output_type": "execute_result",
     "data": {
      "text/plain": [
       "[<git.diff.Diff at 0x128ca3820>]"
      ]
     },
     "metadata": {},
     "execution_count": 27
    }
   ],
   "source": [
    "diffs = repo.refs[7].commit.diff(repo.refs[4].commit)\n",
    "diffs"
   ]
  },
  {
   "cell_type": "code",
   "execution_count": 28,
   "metadata": {},
   "outputs": [
    {
     "output_type": "execute_result",
     "data": {
      "text/plain": [
       "''"
      ]
     },
     "metadata": {},
     "execution_count": 28
    }
   ],
   "source": [
    "diffs[0].diff"
   ]
  },
  {
   "cell_type": "code",
   "execution_count": 19,
   "metadata": {},
   "outputs": [
    {
     "output_type": "execute_result",
     "data": {
      "text/plain": [
       "False"
      ]
     },
     "metadata": {},
     "execution_count": 19
    }
   ],
   "source": [
    "any(ele for ele in [''])"
   ]
  },
  {
   "cell_type": "code",
   "execution_count": 23,
   "metadata": {},
   "outputs": [
    {
     "output_type": "execute_result",
     "data": {
      "text/plain": [
       "'dev'"
      ]
     },
     "metadata": {},
     "execution_count": 23
    }
   ],
   "source": [
    "repo.branches[0].name"
   ]
  },
  {
   "cell_type": "code",
   "execution_count": null,
   "metadata": {},
   "outputs": [],
   "source": [
    "for branch in repo.branches:\n",
    "    branch."
   ]
  },
  {
   "cell_type": "code",
   "execution_count": 12,
   "metadata": {},
   "outputs": [
    {
     "output_type": "execute_result",
     "data": {
      "text/plain": [
       "<git.Commit \"6716bb0d016bd63ba543f3d9c67a65dadecd152e\">"
      ]
     },
     "metadata": {},
     "execution_count": 12
    }
   ],
   "source": [
    "commit = repo.head.commit\n",
    "commit"
   ]
  },
  {
   "cell_type": "code",
   "execution_count": 15,
   "metadata": {},
   "outputs": [
    {
     "output_type": "execute_result",
     "data": {
      "text/plain": [
       "git.refs.head.Head"
      ]
     },
     "metadata": {},
     "execution_count": 15
    }
   ],
   "source": [
    "type(repo.branches[0])"
   ]
  },
  {
   "cell_type": "code",
   "execution_count": 7,
   "metadata": {},
   "outputs": [
    {
     "output_type": "execute_result",
     "data": {
      "text/plain": [
       "[<git.Head \"refs/heads/main\">,\n",
       " <git.RemoteReference \"refs/remotes/origin/HEAD\">,\n",
       " <git.RemoteReference \"refs/remotes/origin/dev\">,\n",
       " <git.RemoteReference \"refs/remotes/origin/feature\">,\n",
       " <git.RemoteReference \"refs/remotes/origin/main\">,\n",
       " <git.TagReference \"refs/tags/v1.0.0\">]"
      ]
     },
     "metadata": {},
     "execution_count": 7
    }
   ],
   "source": [
    "repo.refs"
   ]
  },
  {
   "cell_type": "code",
   "execution_count": 17,
   "metadata": {},
   "outputs": [
    {
     "output_type": "execute_result",
     "data": {
      "text/plain": [
       "[]"
      ]
     },
     "metadata": {},
     "execution_count": 17
    }
   ],
   "source": [
    "repo.refs[4].commit.diff(repo.refs[2].commit)"
   ]
  },
  {
   "cell_type": "code",
   "execution_count": 9,
   "metadata": {},
   "outputs": [
    {
     "output_type": "execute_result",
     "data": {
      "text/plain": [
       "[<git.diff.Diff at 0x127370310>]"
      ]
     },
     "metadata": {},
     "execution_count": 9
    }
   ],
   "source": [
    "repo.refs[4].commit.diff(repo.refs[3].commit)"
   ]
  },
  {
   "cell_type": "code",
   "execution_count": 18,
   "metadata": {},
   "outputs": [
    {
     "output_type": "execute_result",
     "data": {
      "text/plain": [
       "[<git.Head \"refs/heads/dev\">,\n",
       " <git.Head \"refs/heads/main\">,\n",
       " <git.RemoteReference \"refs/remotes/origin/HEAD\">,\n",
       " <git.RemoteReference \"refs/remotes/origin/dev\">,\n",
       " <git.RemoteReference \"refs/remotes/origin/main\">,\n",
       " <git.TagReference \"refs/tags/v1.0.0\">]"
      ]
     },
     "metadata": {},
     "execution_count": 18
    }
   ],
   "source": [
    "repo.references"
   ]
  },
  {
   "cell_type": "code",
   "execution_count": 20,
   "metadata": {},
   "outputs": [
    {
     "output_type": "stream",
     "name": "stdout",
     "text": [
      "Help on function <lambda> in module git.cmd:\n\n<lambda> lambda *args, **kwargs\n\n"
     ]
    }
   ],
   "source": [
    "help(repo.git.branch)"
   ]
  },
  {
   "cell_type": "code",
   "execution_count": 28,
   "metadata": {},
   "outputs": [
    {
     "output_type": "execute_result",
     "data": {
      "text/plain": [
       "[<git.Head \"refs/heads/dev\">, <git.Head \"refs/heads/main\">]"
      ]
     },
     "metadata": {},
     "execution_count": 28
    }
   ],
   "source": [
    "repo.heads"
   ]
  },
  {
   "source": [
    "## References\n",
    "\n",
    "https://github.com/gitpython-developers/GitPython\n",
    "\n",
    "https://stackoverflow.com/questions/33733453/get-changed-files-using-gitpython\n",
    "\n",
    "https://stackoverflow.com/questions/31959425/how-to-get-staged-files-using-gitpython\n",
    "\n",
    "https://gitpython.readthedocs.io/en/stable/tutorial.html#tutorial-label\n",
    "\n"
   ],
   "cell_type": "markdown",
   "metadata": {}
  },
  {
   "cell_type": "code",
   "execution_count": null,
   "metadata": {},
   "outputs": [],
   "source": []
  }
 ]
}