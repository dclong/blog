{
 "nbformat": 4,
 "nbformat_minor": 2,
 "metadata": {
  "language_info": {
   "name": "python",
   "codemirror_mode": {
    "name": "ipython",
    "version": 3
   },
   "version": "3.8.6-final"
  },
  "orig_nbformat": 2,
  "file_extension": ".py",
  "mimetype": "text/x-python",
  "name": "python",
  "npconvert_exporter": "python",
  "pygments_lexer": "ipython3",
  "version": 3,
  "kernelspec": {
   "name": "python37664bite5e01d20666b4ea39b669a865bfedc91",
   "display_name": "Python 3.7.6 64-bit"
  }
 },
 "cells": [
  {
   "cell_type": "markdown",
   "metadata": {},
   "source": [
    "- Author: Ben Du\n",
    "- Date: 2020-11-15 20:33:51\n",
    "- Title: Hands on GitPython\n",
    "- Slug: hands-on-GitPython\n",
    "- Category: Computer Science\n",
    "- Tags: Computer Science, programming, Python, Git, GitPython, version control"
   ]
  },
  {
   "cell_type": "code",
   "execution_count": 3,
   "metadata": {},
   "outputs": [
    {
     "output_type": "stream",
     "name": "stdout",
     "text": [
      "Requirement already satisfied: GitPython in /usr/local/lib/python3.8/site-packages (3.1.8)\nRequirement already satisfied: gitdb<5,>=4.0.1 in /usr/local/lib/python3.8/site-packages (from GitPython) (4.0.5)\nRequirement already satisfied: smmap<4,>=3.0.1 in /usr/local/lib/python3.8/site-packages (from gitdb<5,>=4.0.1->GitPython) (3.0.4)\n"
     ]
    }
   ],
   "source": [
    "!pip3 install GitPython"
   ]
  },
  {
   "cell_type": "code",
   "execution_count": 1,
   "metadata": {},
   "outputs": [],
   "source": [
    "import git\n",
    "from git import Repo"
   ]
  },
  {
   "cell_type": "code",
   "execution_count": 2,
   "metadata": {},
   "outputs": [],
   "source": [
    "url = \"https://github.com/dclong/test_gitpython.git\"\n",
    "dir_local = \"test_gitpython\""
   ]
  },
  {
   "source": [
    "## Clone a Repository"
   ],
   "cell_type": "markdown",
   "metadata": {}
  },
  {
   "cell_type": "code",
   "execution_count": 3,
   "metadata": {},
   "outputs": [],
   "source": [
    "!rm -rf {dir_local}\n",
    "!rm -rf /tmp/{dir_local}"
   ]
  },
  {
   "cell_type": "code",
   "execution_count": 4,
   "metadata": {},
   "outputs": [
    {
     "output_type": "execute_result",
     "data": {
      "text/plain": [
       "<git.repo.base.Repo '/Users/dclong/archives/blog/misc/content/test_gitpython/.git'>"
      ]
     },
     "metadata": {},
     "execution_count": 4
    }
   ],
   "source": [
    "repo = git.Repo.clone_from(url, dir_local, branch=\"main\")\n",
    "repo"
   ]
  },
  {
   "source": [
    "Verify that the GitHub repository is cloned to local."
   ],
   "cell_type": "markdown",
   "metadata": {}
  },
  {
   "cell_type": "code",
   "execution_count": 5,
   "metadata": {},
   "outputs": [
    {
     "output_type": "stream",
     "name": "stdout",
     "text": [
      "build.sh  readme.md\n"
     ]
    }
   ],
   "source": [
    "!ls {dir_local}"
   ]
  },
  {
   "source": [
    "Clone the local repository to another location \n",
    "(which is not very useful as you can directly copy the directory to the new location)."
   ],
   "cell_type": "markdown",
   "metadata": {}
  },
  {
   "cell_type": "code",
   "execution_count": 13,
   "metadata": {},
   "outputs": [
    {
     "output_type": "execute_result",
     "data": {
      "text/plain": [
       "<git.repo.base.Repo '/tmp/test_gitpython/.git'>"
      ]
     },
     "metadata": {},
     "execution_count": 13
    }
   ],
   "source": [
    "repo2 = Repo(dir_local).clone(f\"/tmp/{dir_local}\")\n",
    "repo2"
   ]
  },
  {
   "cell_type": "code",
   "execution_count": 14,
   "metadata": {},
   "outputs": [
    {
     "output_type": "stream",
     "name": "stdout",
     "text": [
      "build.sh  readme.md\n"
     ]
    }
   ],
   "source": [
    "!ls /tmp/{dir_local}"
   ]
  },
  {
   "source": [
    "## Infomation of the Local Repository"
   ],
   "cell_type": "markdown",
   "metadata": {}
  },
  {
   "cell_type": "code",
   "execution_count": 15,
   "metadata": {},
   "outputs": [
    {
     "output_type": "execute_result",
     "data": {
      "text/plain": [
       "[<git.Head \"refs/heads/main\">]"
      ]
     },
     "metadata": {},
     "execution_count": 15
    }
   ],
   "source": [
    "heads = repo.heads\n",
    "heads"
   ]
  },
  {
   "cell_type": "code",
   "execution_count": 16,
   "metadata": {},
   "outputs": [
    {
     "output_type": "execute_result",
     "data": {
      "text/plain": [
       "<git.Head \"refs/heads/main\">"
      ]
     },
     "metadata": {},
     "execution_count": 16
    }
   ],
   "source": [
    "main = heads.main\n",
    "main"
   ]
  },
  {
   "source": [
    "Get the commit pointed to by head called master."
   ],
   "cell_type": "markdown",
   "metadata": {}
  },
  {
   "cell_type": "code",
   "execution_count": 17,
   "metadata": {},
   "outputs": [
    {
     "output_type": "execute_result",
     "data": {
      "text/plain": [
       "<git.Commit \"95ed236bd715a06320ee85d519fb79a0adffe072\">"
      ]
     },
     "metadata": {},
     "execution_count": 17
    }
   ],
   "source": [
    "main.commit"
   ]
  },
  {
   "cell_type": "code",
   "execution_count": 18,
   "metadata": {},
   "outputs": [
    {
     "output_type": "execute_result",
     "data": {
      "text/plain": [
       "<git.Head \"refs/heads/main2\">"
      ]
     },
     "metadata": {},
     "execution_count": 18
    }
   ],
   "source": [
    "main.rename(\"main2\")"
   ]
  },
  {
   "source": [
    "Verify that the `main` branch has been renamed to `main2`."
   ],
   "cell_type": "markdown",
   "metadata": {}
  },
  {
   "cell_type": "code",
   "execution_count": 19,
   "metadata": {},
   "outputs": [
    {
     "output_type": "stream",
     "name": "stdout",
     "text": [
      "* \u001b[32mmain2\u001b[m\n"
     ]
    }
   ],
   "source": [
    "!cd {dir_local} && git branch"
   ]
  },
  {
   "source": [
    "### Get the Active Branch"
   ],
   "cell_type": "markdown",
   "metadata": {}
  },
  {
   "cell_type": "code",
   "execution_count": 20,
   "metadata": {},
   "outputs": [
    {
     "output_type": "execute_result",
     "data": {
      "text/plain": [
       "'main2'"
      ]
     },
     "metadata": {},
     "execution_count": 20
    }
   ],
   "source": [
    "repo.active_branch.name"
   ]
  },
  {
   "source": [
    "### Get the Remote Name"
   ],
   "cell_type": "markdown",
   "metadata": {}
  },
  {
   "cell_type": "code",
   "execution_count": 21,
   "metadata": {},
   "outputs": [
    {
     "output_type": "execute_result",
     "data": {
      "text/plain": [
       "'origin'"
      ]
     },
     "metadata": {},
     "execution_count": 21
    }
   ],
   "source": [
    "repo.remote().name"
   ]
  },
  {
   "source": [
    "### Get all Remotes"
   ],
   "cell_type": "markdown",
   "metadata": {}
  },
  {
   "cell_type": "code",
   "execution_count": 22,
   "metadata": {},
   "outputs": [
    {
     "output_type": "execute_result",
     "data": {
      "text/plain": [
       "[<git.Remote \"origin\">]"
      ]
     },
     "metadata": {},
     "execution_count": 22
    }
   ],
   "source": [
    "repo.remotes"
   ]
  },
  {
   "source": [
    "## Changed Files"
   ],
   "cell_type": "markdown",
   "metadata": {}
  },
  {
   "source": [
    "Update a file."
   ],
   "cell_type": "markdown",
   "metadata": {}
  },
  {
   "cell_type": "code",
   "execution_count": 23,
   "metadata": {},
   "outputs": [],
   "source": [
    "!echo \"# add a line of comment\" >> {dir_local}/build.sh"
   ]
  },
  {
   "cell_type": "code",
   "execution_count": 24,
   "metadata": {},
   "outputs": [
    {
     "output_type": "execute_result",
     "data": {
      "text/plain": [
       "['build.sh']"
      ]
     },
     "metadata": {},
     "execution_count": 24
    }
   ],
   "source": [
    "repo = Repo(dir_local)\n",
    "files_changed = [item.a_path for item in repo.index.diff(None)]\n",
    "files_changed"
   ]
  },
  {
   "source": [
    "## Staged Files"
   ],
   "cell_type": "markdown",
   "metadata": {}
  },
  {
   "cell_type": "code",
   "execution_count": 25,
   "metadata": {},
   "outputs": [],
   "source": [
    "repo = Repo(dir_local)\n",
    "index = repo.index"
   ]
  },
  {
   "cell_type": "code",
   "execution_count": 26,
   "metadata": {},
   "outputs": [
    {
     "output_type": "execute_result",
     "data": {
      "text/plain": [
       "[(100644, f1cb16a21febd1f69a7a638402dddeb7f1dc9771, 0, build.sh)]"
      ]
     },
     "metadata": {},
     "execution_count": 26
    }
   ],
   "source": [
    "index.add(\"build.sh\")"
   ]
  },
  {
   "source": [
    "The file `build.sh` is now staged."
   ],
   "cell_type": "markdown",
   "metadata": {}
  },
  {
   "cell_type": "code",
   "execution_count": 27,
   "metadata": {},
   "outputs": [
    {
     "output_type": "execute_result",
     "data": {
      "text/plain": [
       "['build.sh']"
      ]
     },
     "metadata": {},
     "execution_count": 27
    }
   ],
   "source": [
    "files_stage = [item.a_path for item in repo.index.diff('HEAD')]\n",
    "files_stage"
   ]
  },
  {
   "cell_type": "code",
   "execution_count": 28,
   "metadata": {},
   "outputs": [
    {
     "output_type": "execute_result",
     "data": {
      "text/plain": [
       "[]"
      ]
     },
     "metadata": {},
     "execution_count": 28
    }
   ],
   "source": [
    "files_changed = [item.a_path for item in repo.index.diff(None)]\n",
    "files_changed"
   ]
  },
  {
   "source": [
    "Commit the change."
   ],
   "cell_type": "markdown",
   "metadata": {}
  },
  {
   "cell_type": "code",
   "execution_count": 29,
   "metadata": {},
   "outputs": [
    {
     "output_type": "execute_result",
     "data": {
      "text/plain": [
       "<git.Commit \"bfea304786b7b77f7fe247c74040c0e23576fc41\">"
      ]
     },
     "metadata": {},
     "execution_count": 29
    }
   ],
   "source": [
    "index.commit(\"update build.sh\")"
   ]
  },
  {
   "cell_type": "code",
   "execution_count": 30,
   "metadata": {},
   "outputs": [
    {
     "output_type": "execute_result",
     "data": {
      "text/plain": [
       "[]"
      ]
     },
     "metadata": {},
     "execution_count": 30
    }
   ],
   "source": [
    "files_stage = [item.a_path for item in repo.index.diff('HEAD')]\n",
    "files_stage"
   ]
  },
  {
   "cell_type": "code",
   "execution_count": 8,
   "metadata": {},
   "outputs": [
    {
     "output_type": "execute_result",
     "data": {
      "text/plain": [
       "<git.Remote \"origin\">"
      ]
     },
     "metadata": {},
     "execution_count": 8
    }
   ],
   "source": [
    "remote = repo.remote()\n",
    "remote"
   ]
  },
  {
   "source": [
    "## Push the Commits"
   ],
   "cell_type": "markdown",
   "metadata": {}
  },
  {
   "source": [
    "Push the local `main2` branch to the remote `main2` branch."
   ],
   "cell_type": "markdown",
   "metadata": {}
  },
  {
   "cell_type": "code",
   "execution_count": 32,
   "metadata": {},
   "outputs": [
    {
     "output_type": "execute_result",
     "data": {
      "text/plain": [
       "[<git.remote.PushInfo at 0x11fd596d0>]"
      ]
     },
     "metadata": {},
     "execution_count": 32
    }
   ],
   "source": [
    "remote.push(\"main2\")"
   ]
  },
  {
   "source": [
    "The above is equivalent to the following more detailed specification."
   ],
   "cell_type": "markdown",
   "metadata": {}
  },
  {
   "cell_type": "code",
   "execution_count": 62,
   "metadata": {},
   "outputs": [
    {
     "output_type": "execute_result",
     "data": {
      "text/plain": [
       "[<git.remote.PushInfo at 0x119903540>]"
      ]
     },
     "metadata": {},
     "execution_count": 62
    }
   ],
   "source": [
    "remote.push(\"refs/heads/main2:refs/heads/main2\")"
   ]
  },
  {
   "source": [
    "Push the local `main2` branch to the remote `main` branch."
   ],
   "cell_type": "markdown",
   "metadata": {}
  },
  {
   "cell_type": "code",
   "execution_count": 63,
   "metadata": {},
   "outputs": [
    {
     "output_type": "execute_result",
     "data": {
      "text/plain": [
       "[<git.remote.PushInfo at 0x11992d9a0>]"
      ]
     },
     "metadata": {},
     "execution_count": 63
    }
   ],
   "source": [
    "remote.push(\"refs/heads/main2:refs/heads/main\")"
   ]
  },
  {
   "source": [
    "## Pull a Branch"
   ],
   "cell_type": "markdown",
   "metadata": {}
  },
  {
   "cell_type": "code",
   "execution_count": 6,
   "metadata": {},
   "outputs": [
    {
     "output_type": "execute_result",
     "data": {
      "text/plain": [
       "<git.Head \"refs/heads/main\">"
      ]
     },
     "metadata": {},
     "execution_count": 6
    }
   ],
   "source": [
    "repo.active_branch"
   ]
  },
  {
   "cell_type": "code",
   "execution_count": 11,
   "metadata": {},
   "outputs": [
    {
     "output_type": "execute_result",
     "data": {
      "text/plain": [
       "[]"
      ]
     },
     "metadata": {},
     "execution_count": 11
    }
   ],
   "source": [
    "remote.pull(repo.active_branch)"
   ]
  },
  {
   "cell_type": "code",
   "execution_count": 12,
   "metadata": {},
   "outputs": [
    {
     "output_type": "stream",
     "name": "stdout",
     "text": [
      "abc       build.sh  readme.md\n"
     ]
    }
   ],
   "source": [
    "!ls {dir_local}"
   ]
  },
  {
   "source": [
    "## Switch Branches"
   ],
   "cell_type": "markdown",
   "metadata": {}
  },
  {
   "cell_type": "code",
   "execution_count": 9,
   "metadata": {},
   "outputs": [
    {
     "output_type": "execute_result",
     "data": {
      "text/plain": [
       "<git.Head \"refs/heads/main\">"
      ]
     },
     "metadata": {},
     "execution_count": 9
    }
   ],
   "source": [
    "repo.active_branch"
   ]
  },
  {
   "cell_type": "code",
   "execution_count": 10,
   "metadata": {},
   "outputs": [
    {
     "output_type": "execute_result",
     "data": {
      "text/plain": [
       "\"Branch 'main2' set up to track remote branch 'main2' from 'origin'.\""
      ]
     },
     "metadata": {},
     "execution_count": 10
    }
   ],
   "source": [
    "repo.git.checkout(\"main2\")"
   ]
  },
  {
   "cell_type": "code",
   "execution_count": 11,
   "metadata": {},
   "outputs": [
    {
     "output_type": "execute_result",
     "data": {
      "text/plain": [
       "<git.Head \"refs/heads/main2\">"
      ]
     },
     "metadata": {},
     "execution_count": 11
    }
   ],
   "source": [
    "repo.active_branch"
   ]
  },
  {
   "source": [
    "## References\n",
    "\n",
    "https://github.com/gitpython-developers/GitPython\n",
    "\n",
    "https://stackoverflow.com/questions/33733453/get-changed-files-using-gitpython\n",
    "\n",
    "https://stackoverflow.com/questions/31959425/how-to-get-staged-files-using-gitpython\n",
    "\n",
    "https://gitpython.readthedocs.io/en/stable/tutorial.html#tutorial-label\n",
    "\n"
   ],
   "cell_type": "markdown",
   "metadata": {}
  },
  {
   "cell_type": "code",
   "execution_count": null,
   "metadata": {},
   "outputs": [],
   "source": []
  }
 ]
}