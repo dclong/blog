{
 "cells": [
  {
   "cell_type": "markdown",
   "metadata": {},
   "source": [
    "- Title: Format Date and Time in Python\n",
    "- Slug: python-datetime-format\n",
    "- Date: 2021-03-09 18:13:43\n",
    "- Category: Computer Science\n",
    "- Tags: programming, Python, time, datetime, date, format\n",
    "- Author: Ben Du"
   ]
  },
  {
   "cell_type": "markdown",
   "metadata": {},
   "source": [
    "## Date/Time Format \n",
    "\n",
    "Please refer to https://docs.python.org/3/library/datetime.html#strftime-and-strptime-format-codes\n",
    "for a complete list of formats."
   ]
  },
  {
   "cell_type": "code",
   "execution_count": 8,
   "metadata": {},
   "outputs": [
    {
     "data": {
      "text/html": "<div>\n<style scoped>\n    .dataframe tbody tr th:only-of-type {\n        vertical-align: middle;\n    }\n\n    .dataframe tbody tr th {\n        vertical-align: top;\n    }\n\n    .dataframe thead th {\n        text-align: right;\n    }\n</style>\n<table border=\"1\" class=\"dataframe\">\n  <thead>\n    <tr style=\"text-align: right;\">\n      <th></th>\n      <th>Fomat</th>\n      <th>Examples</th>\n      <th>Comment</th>\n    </tr>\n  </thead>\n  <tbody>\n    <tr>\n      <th>0</th>\n      <td>%Y-%m-%d</td>\n      <td>2020-03-18</td>\n      <td></td>\n    </tr>\n    <tr>\n      <th>1</th>\n      <td>%y-%m-%d</td>\n      <td>20-03-18</td>\n      <td></td>\n    </tr>\n    <tr>\n      <th>2</th>\n      <td>%x</td>\n      <td>03/18/20</td>\n      <td></td>\n    </tr>\n    <tr>\n      <th>3</th>\n      <td>%H:%M:%S</td>\n      <td>20:09:07</td>\n      <td></td>\n    </tr>\n    <tr>\n      <th>4</th>\n      <td>%I:%M:%S</td>\n      <td>08:09:07</td>\n      <td></td>\n    </tr>\n    <tr>\n      <th>5</th>\n      <td>%Y-%m-%d %H:%M:%S</td>\n      <td>2020-03-18 20:09:07</td>\n      <td></td>\n    </tr>\n    <tr>\n      <th>6</th>\n      <td>%Y-%m-%d %H:%M:%S.%f</td>\n      <td>2020-03-18 20:09:07.970482</td>\n      <td></td>\n    </tr>\n    <tr>\n      <th>7</th>\n      <td>%Y-%m-%d %X</td>\n      <td>2020-03-18 20:09:07</td>\n      <td></td>\n    </tr>\n    <tr>\n      <th>8</th>\n      <td>%Y-%m-%d %H:%M:%S %z</td>\n      <td>2020-03-18 20:09:07</td>\n      <td></td>\n    </tr>\n    <tr>\n      <th>9</th>\n      <td>%W</td>\n      <td>11</td>\n      <td></td>\n    </tr>\n    <tr>\n      <th>10</th>\n      <td>%w</td>\n      <td>3</td>\n      <td></td>\n    </tr>\n    <tr>\n      <th>11</th>\n      <td>%c</td>\n      <td>Wed Mar 18 20:09:07 2020</td>\n      <td></td>\n    </tr>\n    <tr>\n      <th>12</th>\n      <td>%B</td>\n      <td>March</td>\n      <td></td>\n    </tr>\n    <tr>\n      <th>13</th>\n      <td>%b</td>\n      <td>Mar</td>\n      <td></td>\n    </tr>\n    <tr>\n      <th>14</th>\n      <td>%A</td>\n      <td>Wednesday</td>\n      <td></td>\n    </tr>\n    <tr>\n      <th>15</th>\n      <td>%a</td>\n      <td>Wed</td>\n      <td></td>\n    </tr>\n    <tr>\n      <th>16</th>\n      <td>%z</td>\n      <td></td>\n      <td></td>\n    </tr>\n    <tr>\n      <th>17</th>\n      <td>%%</td>\n      <td>%</td>\n      <td></td>\n    </tr>\n  </tbody>\n</table>\n</div>",
      "text/plain": "                   Fomat                    Examples Comment\n0               %Y-%m-%d                  2020-03-18        \n1               %y-%m-%d                    20-03-18        \n2                     %x                    03/18/20        \n3               %H:%M:%S                    20:09:07        \n4               %I:%M:%S                    08:09:07        \n5      %Y-%m-%d %H:%M:%S         2020-03-18 20:09:07        \n6   %Y-%m-%d %H:%M:%S.%f  2020-03-18 20:09:07.970482        \n7            %Y-%m-%d %X         2020-03-18 20:09:07        \n8   %Y-%m-%d %H:%M:%S %z        2020-03-18 20:09:07         \n9                     %W                          11        \n10                    %w                           3        \n11                    %c    Wed Mar 18 20:09:07 2020        \n12                    %B                       March        \n13                    %b                         Mar        \n14                    %A                   Wednesday        \n15                    %a                         Wed        \n16                    %z                                    \n17                    %%                           %        "
     },
     "execution_count": 8,
     "metadata": {},
     "output_type": "execute_result"
    }
   ],
   "source": [
    "from datetime import datetime\n",
    "import pandas as pd\n",
    "pd.options.display.max_colwidth = 100\n",
    "now = datetime.now()\n",
    "formats = [\n",
    "    (\"%Y-%m-%d\", \"\"), \n",
    "    (\"%y-%m-%d\", \"\"),\n",
    "    (\"%x\", \"\"),\n",
    "    (\"%H:%M:%S\", \"\"),\n",
    "    (\"%I:%M:%S\", \"\"),\n",
    "    (\"%Y-%m-%d %H:%M:%S\", \"\"),\n",
    "    (\"%Y-%m-%d %H:%M:%S.%f\", \"\"),\n",
    "    (\"%Y-%m-%d %X\", \"\"),\n",
    "    (\"%Y-%m-%d %H:%M:%S %z\", \"\"),\n",
    "    (\"%W\", \"\"),\n",
    "    (\"%w\", \"\"),\n",
    "    (\"%c\", \"\"),\n",
    "    (\"%B\", \"\"),\n",
    "    (\"%b\", \"\"),\n",
    "    (\"%A\", \"\"),\n",
    "    (\"%a\", \"\"),\n",
    "    (\"%z\", \"\"),\n",
    "    (\"%%\", \"\"),\n",
    "]\n",
    "# examples = [[f, now.strftime(f)] for f in formats]\n",
    "df = pd.DataFrame(formats, columns = [\"Fomat\", \"Comment\"])\n",
    "df.insert(1, column=\"Examples\", value=[now.strftime(fmt) for fmt, _ in formats])\n",
    "df"
   ]
  },
  {
   "cell_type": "code",
   "execution_count": null,
   "metadata": {},
   "outputs": [],
   "source": []
  },
  {
   "cell_type": "markdown",
   "metadata": {},
   "source": [
    "## Date to String"
   ]
  },
  {
   "cell_type": "code",
   "execution_count": 16,
   "metadata": {},
   "outputs": [
    {
     "data": {
      "text/plain": [
       "'2017-01-09'"
      ]
     },
     "execution_count": 16,
     "metadata": {},
     "output_type": "execute_result"
    }
   ],
   "source": [
    "d.strftime('%Y-%m-%d')"
   ]
  },
  {
   "source": [
    "## References \n",
    "\n",
    "https://docs.python.org/3/library/datetime.html#strftime-and-strptime-format-codes"
   ],
   "cell_type": "markdown",
   "metadata": {}
  },
  {
   "cell_type": "code",
   "execution_count": null,
   "metadata": {},
   "outputs": [],
   "source": []
  }
 ],
 "metadata": {
  "kernelspec": {
   "display_name": "Python 3",
   "language": "python",
   "name": "python3"
  },
  "language_info": {
   "codemirror_mode": {
    "name": "ipython",
    "version": 3
   },
   "file_extension": ".py",
   "mimetype": "text/x-python",
   "name": "python",
   "nbconvert_exporter": "python",
   "pygments_lexer": "ipython3",
   "version": "3.7.6-final"
  }
 },
 "nbformat": 4,
 "nbformat_minor": 4
}