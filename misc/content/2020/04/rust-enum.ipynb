{
 "cells": [
  {
   "cell_type": "markdown",
   "metadata": {},
   "source": [
    "- Title: Enum in Rust\n",
    "- Slug: rust-enum\n",
    "- Date: 2021-04-28 16:22:28\n",
    "- Category: Computer Science\n",
    "- Tags: programming, Rust, enum, enumeration\n",
    "- Author: Ben Du"
   ]
  },
  {
   "cell_type": "markdown",
   "metadata": {},
   "source": [
    "## Tips\n",
    "\n",
    "1. It does NOT matter whether the last enum item is followed by a comma or not.\n",
    "    It is suggested that you always have a comma after the last item \n",
    "    so that it is easier to add new items later if needed.\n",
    "\n",
    "2. Use `::` to access elements of an enum object.\n",
    "\n",
    "3. Enum items can be casted into integer values. \n",
    "    If no integer value is defined for enum items,\n",
    "    they are casted into integer values starting from 0 (corresponding to their definition order).\n",
    "    If a customized integer value `v` is assigned to an enum item $E_i$\n",
    "    and its following items $E_{i+1}$ is not assigned a customized integer value,\n",
    "    then $E_{i+1}$ has the value `v+1`.\n",
    "\n",
    "4. It is suggested that you derive `Copy` and `Clone` (using `#[derive(Copy, Clone)]`)\n",
    "    for your customized Enum \n",
    "    so that you can cast an Enum item to integer (using the `as` keyword).\n",
    "    Fore more discussion,\n",
    "    please refer to \n",
    "    [How do I convert an enum reference to a number?](https://stackoverflow.com/questions/31358826/how-do-i-convert-an-enum-reference-to-a-number)\n",
    "    .\n"
   ]
  },
  {
   "cell_type": "markdown",
   "metadata": {},
   "source": [
    "## Value of Enum Items"
   ]
  },
  {
   "cell_type": "markdown",
   "metadata": {},
   "source": [
    "Enum items can be casted into integer values. \n",
    "By default, \n",
    "casted integer values start from 0 (corresponding to the definition order of items)."
   ]
  },
  {
   "cell_type": "code",
   "execution_count": 2,
   "metadata": {},
   "outputs": [],
   "source": [
    "enum Weekday {\n",
    "    Monday,\n",
    "    Tuesday,\n",
    "    Wednesday,\n",
    "    Thursday,\n",
    "    Friday,\n",
    "    Saturday,\n",
    "    Sunday,\n",
    "}"
   ]
  },
  {
   "cell_type": "code",
   "execution_count": 3,
   "metadata": {},
   "outputs": [
    {
     "data": {
      "text/plain": [
       "0"
      ]
     },
     "execution_count": 3,
     "metadata": {},
     "output_type": "execute_result"
    }
   ],
   "source": [
    "Weekday::Monday as u8"
   ]
  },
  {
   "cell_type": "code",
   "execution_count": 12,
   "metadata": {},
   "outputs": [
    {
     "data": {
      "text/plain": [
       "6"
      ]
     },
     "execution_count": 12,
     "metadata": {},
     "output_type": "execute_result"
    }
   ],
   "source": [
    "Weekday::Sunday as u8"
   ]
  },
  {
   "cell_type": "code",
   "execution_count": null,
   "metadata": {},
   "outputs": [],
   "source": []
  },
  {
   "cell_type": "code",
   "execution_count": 13,
   "metadata": {},
   "outputs": [],
   "source": [
    "enum Weekday1 {\n",
    "    Monday = 1,\n",
    "    Tuesday,\n",
    "    Wednesday,\n",
    "    Thursday,\n",
    "    Friday,\n",
    "    Saturday,\n",
    "    Sunday,\n",
    "}"
   ]
  },
  {
   "cell_type": "code",
   "execution_count": 14,
   "metadata": {},
   "outputs": [
    {
     "data": {
      "text/plain": [
       "1"
      ]
     },
     "execution_count": 14,
     "metadata": {},
     "output_type": "execute_result"
    }
   ],
   "source": [
    "Weekday1::Monday as u8"
   ]
  },
  {
   "cell_type": "code",
   "execution_count": 15,
   "metadata": {},
   "outputs": [
    {
     "data": {
      "text/plain": [
       "7"
      ]
     },
     "execution_count": 15,
     "metadata": {},
     "output_type": "execute_result"
    }
   ],
   "source": [
    "Weekday1::Sunday as u8"
   ]
  },
  {
   "cell_type": "code",
   "execution_count": 27,
   "metadata": {},
   "outputs": [],
   "source": [
    "enum Weekday2 {\n",
    "    Monday,\n",
    "    Tuesday,\n",
    "    Wednesday = 100,\n",
    "    Thursday,\n",
    "    Friday,\n",
    "    Saturday,\n",
    "    Sunday,\n",
    "}"
   ]
  },
  {
   "cell_type": "code",
   "execution_count": 29,
   "metadata": {},
   "outputs": [
    {
     "data": {
      "text/plain": [
       "0"
      ]
     },
     "execution_count": 29,
     "metadata": {},
     "output_type": "execute_result"
    }
   ],
   "source": [
    "Weekday2::Monday as u8"
   ]
  },
  {
   "cell_type": "code",
   "execution_count": 30,
   "metadata": {},
   "outputs": [
    {
     "data": {
      "text/plain": [
       "1"
      ]
     },
     "execution_count": 30,
     "metadata": {},
     "output_type": "execute_result"
    }
   ],
   "source": [
    "Weekday2::Tuesday as u8"
   ]
  },
  {
   "cell_type": "code",
   "execution_count": 31,
   "metadata": {},
   "outputs": [
    {
     "data": {
      "text/plain": [
       "100"
      ]
     },
     "execution_count": 31,
     "metadata": {},
     "output_type": "execute_result"
    }
   ],
   "source": [
    "Weekday2::Wednesday as u8"
   ]
  },
  {
   "cell_type": "code",
   "execution_count": 32,
   "metadata": {},
   "outputs": [
    {
     "data": {
      "text/plain": [
       "104"
      ]
     },
     "execution_count": 32,
     "metadata": {},
     "output_type": "execute_result"
    }
   ],
   "source": [
    "Weekday2::Sunday as u8"
   ]
  },
  {
   "cell_type": "code",
   "execution_count": 20,
   "metadata": {},
   "outputs": [],
   "source": [
    "enum WeekdayInt {\n",
    "    Monday = 1,\n",
    "    Tuesday = 2,\n",
    "    Wednesday = 3,\n",
    "    Thursday = 4,\n",
    "    Friday = 5,\n",
    "    Saturday = 6,\n",
    "    Sunday = 0,\n",
    "}"
   ]
  },
  {
   "cell_type": "code",
   "execution_count": 21,
   "metadata": {},
   "outputs": [
    {
     "data": {
      "text/plain": [
       "1"
      ]
     },
     "execution_count": 21,
     "metadata": {},
     "output_type": "execute_result"
    }
   ],
   "source": [
    "WeekdayInt::Monday as u8"
   ]
  },
  {
   "cell_type": "code",
   "execution_count": 22,
   "metadata": {},
   "outputs": [
    {
     "data": {
      "text/plain": [
       "6"
      ]
     },
     "execution_count": 22,
     "metadata": {},
     "output_type": "execute_result"
    }
   ],
   "source": [
    "WeekdayInt::Saturday as u8"
   ]
  },
  {
   "cell_type": "code",
   "execution_count": 23,
   "metadata": {},
   "outputs": [
    {
     "data": {
      "text/plain": [
       "0"
      ]
     },
     "execution_count": 23,
     "metadata": {},
     "output_type": "execute_result"
    }
   ],
   "source": [
    "WeekdayInt::Sunday as u8"
   ]
  },
  {
   "cell_type": "markdown",
   "metadata": {},
   "source": [
    "## Construct Enum Items from Integers"
   ]
  },
  {
   "cell_type": "code",
   "execution_count": 2,
   "metadata": {},
   "outputs": [],
   "source": [
    ":dep num-traits = \"0.2.14\"\n",
    ":dep num-derive = \"0.3.3\""
   ]
  },
  {
   "cell_type": "code",
   "execution_count": 3,
   "metadata": {},
   "outputs": [
    {
     "ename": "Error",
     "evalue": "cannot find derive macro `FromPrimitive` in this scope",
     "output_type": "error",
     "traceback": [
      "#[derive(FromPrimitive)]",
      "         ^^^^^^^^^^^^^ ",
      "cannot find derive macro `FromPrimitive` in this scope"
     ]
    }
   ],
   "source": [
    "use num_derive::FromPrimitive;    \n",
    "use num_traits::FromPrimitive;\n",
    "\n",
    "#[derive(FromPrimitive)]\n",
    "enum MyEnum {\n",
    "    A = 1,\n",
    "    B,\n",
    "    C,\n",
    "}\n"
   ]
  },
  {
   "cell_type": "code",
   "execution_count": null,
   "metadata": {},
   "outputs": [],
   "source": [
    "\n",
    "let x = 2;\n",
    "\n",
    "match FromPrimitive::from_i32(x) {\n",
    "    Some(MyEnum::A) => println!(\"Got A\"),\n",
    "    Some(MyEnum::B) => println!(\"Got B\"),\n",
    "    Some(MyEnum::C) => println!(\"Got C\"),\n",
    "    None            => println!(\"Couldn't convert {}\", x),\n",
    "}"
   ]
  },
  {
   "cell_type": "markdown",
   "metadata": {},
   "source": [
    "## Methods for Enum\n",
    "\n",
    "1. You can define methods for an Enum type using `impl`.\n",
    "    The example below define 2 methods for the enum type `Weekday`.\n",
    "    Notice that the method `Weekday.val` is an instance method\n",
    "    while the method `Weekday::greet` is a static method.\n",
    "    \n",
    "2. If `&self` (must use `self` unlike other programming languages, e.g., Python)\n",
    "    is used as the first parameter,\n",
    "    then the method is an instance method.\n",
    "    Otherwise,\n",
    "    the method is a static method."
   ]
  },
  {
   "cell_type": "code",
   "execution_count": 3,
   "metadata": {},
   "outputs": [],
   "source": [
    "impl Weekday {\n",
    "    fn val(&self) -> i32 {\n",
    "        1\n",
    "    }\n",
    "    fn greet() -> String {\n",
    "        String::from(\"Hello\")\n",
    "    }\n",
    "}"
   ]
  },
  {
   "cell_type": "code",
   "execution_count": 4,
   "metadata": {},
   "outputs": [
    {
     "data": {
      "text/plain": [
       "1"
      ]
     },
     "execution_count": 4,
     "metadata": {},
     "output_type": "execute_result"
    }
   ],
   "source": [
    "let m = Weekday::Monday;\n",
    "m.nima()"
   ]
  },
  {
   "cell_type": "code",
   "execution_count": 5,
   "metadata": {},
   "outputs": [
    {
     "data": {
      "text/plain": [
       "\"Hello\""
      ]
     },
     "execution_count": 5,
     "metadata": {},
     "output_type": "execute_result"
    }
   ],
   "source": [
    "Weekday::greet()"
   ]
  },
  {
   "cell_type": "markdown",
   "metadata": {},
   "source": [
    "## Pattern Matching"
   ]
  },
  {
   "cell_type": "code",
   "execution_count": 19,
   "metadata": {},
   "outputs": [],
   "source": [
    "fn schedule(m: Weekday) {\n",
    "    match m {\n",
    "        Weekday::Monday | Weekday::Tuesday | Weekday::Wednesday | Weekday::Thursday | Weekday::Friday => println!(\"Work!\"),\n",
    "        Weekday::Saturday | Weekday::Sunday => println!(\"Have a rest!\")\n",
    "    }\n",
    "}"
   ]
  },
  {
   "cell_type": "code",
   "execution_count": 20,
   "metadata": {},
   "outputs": [
    {
     "name": "stdout",
     "output_type": "stream",
     "text": [
      "Work!\n"
     ]
    },
    {
     "data": {
      "text/plain": [
       "()"
      ]
     },
     "execution_count": 20,
     "metadata": {},
     "output_type": "execute_result"
    }
   ],
   "source": [
    "schedule(Weekday::Monday)"
   ]
  },
  {
   "cell_type": "code",
   "execution_count": 21,
   "metadata": {},
   "outputs": [
    {
     "name": "stdout",
     "output_type": "stream",
     "text": [
      "Have a rest!\n"
     ]
    },
    {
     "data": {
      "text/plain": [
       "()"
      ]
     },
     "execution_count": 21,
     "metadata": {},
     "output_type": "execute_result"
    }
   ],
   "source": [
    "schedule(Weekday::Sunday)"
   ]
  },
  {
   "cell_type": "markdown",
   "metadata": {},
   "source": [
    "## References \n",
    "\n",
    "- [enumflags2](https://crates.io/crates/enumflags2)\n",
    "\n",
    "- [enum_primitive](https://crates.io/crates/enum_primitive)\n"
   ]
  },
  {
   "cell_type": "code",
   "execution_count": null,
   "metadata": {},
   "outputs": [],
   "source": []
  }
 ],
 "metadata": {
  "kernelspec": {
   "display_name": "Rust",
   "language": "rust",
   "name": "rust"
  },
  "language_info": {
   "codemirror_mode": "rust",
   "file_extension": ".rs",
   "mimetype": "text/rust",
   "name": "Rust",
   "pygment_lexer": "rust",
   "version": ""
  }
 },
 "nbformat": 4,
 "nbformat_minor": 4
}