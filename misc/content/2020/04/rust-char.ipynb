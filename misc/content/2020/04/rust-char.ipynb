{
 "cells": [
  {
   "cell_type": "markdown",
   "metadata": {},
   "source": [
    "- Title: char in Rust\n",
    "- Slug: rust-char\n",
    "- Date: 2020-04-08\n",
    "- Category: Computer Science\n",
    "- Tags: programming, Rust, char, character\n",
    "- Author: Ben Du"
   ]
  },
  {
   "cell_type": "markdown",
   "metadata": {},
   "source": [
    "## Character\n",
    "\n",
    "Rust supports unicode characters. \n",
    "Notice that emojis are single unicode characters."
   ]
  },
  {
   "cell_type": "code",
   "execution_count": 6,
   "metadata": {},
   "outputs": [
    {
     "data": {
      "text/plain": [
       "'a'"
      ]
     },
     "execution_count": 6,
     "metadata": {},
     "output_type": "execute_result"
    }
   ],
   "source": [
    "let c1 = 'a';\n",
    "c1"
   ]
  },
  {
   "cell_type": "code",
   "execution_count": 2,
   "metadata": {},
   "outputs": [
    {
     "data": {
      "text/plain": [
       "'😄'"
      ]
     },
     "execution_count": 2,
     "metadata": {},
     "output_type": "execute_result"
    }
   ],
   "source": [
    "let c2 = '\\u{1f604}';\n",
    "c2"
   ]
  },
  {
   "cell_type": "markdown",
   "metadata": {},
   "source": [
    "## char::from_u32"
   ]
  },
  {
   "cell_type": "code",
   "execution_count": 3,
   "metadata": {},
   "outputs": [
    {
     "ename": "Error",
     "evalue": "use of unstable library feature 'assoc_char_funcs': recently added",
     "output_type": "error",
     "traceback": [
      "char::from_u32(90)",
      "^^^^^^^^^^^^^^ ",
      "use of unstable library feature 'assoc_char_funcs': recently added"
     ]
    }
   ],
   "source": [
    "char::from_u32(90)"
   ]
  },
  {
   "cell_type": "code",
   "execution_count": 8,
   "metadata": {},
   "outputs": [
    {
     "ename": "Error",
     "evalue": "use of unstable library feature 'assoc_char_funcs': recently added",
     "output_type": "error",
     "traceback": [
      "let c = char::from_u32(0x2764);",
      "        ^^^^^^^^^^^^^^ ",
      "use of unstable library feature 'assoc_char_funcs': recently added"
     ]
    }
   ],
   "source": [
    "let c = char::from_u32(0x2764);"
   ]
  },
  {
   "cell_type": "markdown",
   "metadata": {},
   "source": [
    "## char::from_digit"
   ]
  },
  {
   "cell_type": "code",
   "execution_count": 5,
   "metadata": {},
   "outputs": [
    {
     "ename": "Error",
     "evalue": "use of unstable library feature 'assoc_char_funcs': recently added",
     "output_type": "error",
     "traceback": [
      "char::from_digit(9, 10)",
      "^^^^^^^^^^^^^^^^ ",
      "use of unstable library feature 'assoc_char_funcs': recently added"
     ]
    }
   ],
   "source": [
    "char::from_digit(9, 10)"
   ]
  },
  {
   "cell_type": "markdown",
   "metadata": {},
   "source": [
    "## char::to_uppercase\n",
    "\n",
    "`char::to_uppercase` returns an interator instead of a char!"
   ]
  },
  {
   "cell_type": "code",
   "execution_count": 6,
   "metadata": {},
   "outputs": [
    {
     "data": {
      "text/plain": [
       "ToUppercase(One('A'))"
      ]
     },
     "execution_count": 6,
     "metadata": {},
     "output_type": "execute_result"
    }
   ],
   "source": [
    "'a'.to_uppercase()"
   ]
  },
  {
   "cell_type": "code",
   "execution_count": 5,
   "metadata": {},
   "outputs": [
    {
     "data": {
      "text/plain": [
       "Some('A')"
      ]
     },
     "execution_count": 5,
     "metadata": {},
     "output_type": "execute_result"
    }
   ],
   "source": [
    "'a'.to_uppercase().next()"
   ]
  },
  {
   "cell_type": "code",
   "execution_count": 4,
   "metadata": {},
   "outputs": [
    {
     "data": {
      "text/plain": [
       "'A'"
      ]
     },
     "execution_count": 4,
     "metadata": {},
     "output_type": "execute_result"
    }
   ],
   "source": [
    "'a'.to_uppercase().next().unwrap()"
   ]
  },
  {
   "cell_type": "markdown",
   "metadata": {},
   "source": [
    "## References\n",
    "\n",
    "[Official Doc on char](https://doc.rust-lang.org/std/primitive.char.html)\n",
    "\n",
    "[String in Rust](http://www.legendu.net/misc/blog/rust-str)"
   ]
  },
  {
   "cell_type": "code",
   "execution_count": null,
   "metadata": {},
   "outputs": [],
   "source": []
  }
 ],
 "metadata": {
  "kernelspec": {
   "display_name": "Rust",
   "language": "rust",
   "name": "rust"
  },
  "language_info": {
   "codemirror_mode": "rust",
   "file_extension": ".rs",
   "mimetype": "text/rust",
   "name": "Rust",
   "pygment_lexer": "rust",
   "version": ""
  }
 },
 "nbformat": 4,
 "nbformat_minor": 4
}
