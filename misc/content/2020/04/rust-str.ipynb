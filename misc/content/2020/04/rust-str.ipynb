{
 "cells": [
  {
   "cell_type": "markdown",
   "metadata": {},
   "source": [
    "- Title: String in Rust\n",
    "- Slug: rust-str\n",
    "- Date: 2020-04-08\n",
    "- Category: Computer Science\n",
    "- Tags: programming, Rust, string, str, character\n",
    "- Author: Ben Du"
   ]
  },
  {
   "cell_type": "markdown",
   "metadata": {},
   "source": [
    "## Tips andd Traps \n",
    "\n",
    "1. Rust has 2 different string types `String` and `str`. \n",
    "    `String` is a MUTABLE (different from Java and Python), heap-allocated data structure \n",
    "    while `str` is an immutable sequence of UTF-8 bytes somewhere in memory \n",
    "    (static storage, heap or stack).\n",
    "    `String` owns the memory for it while `&str` does NOT.\n",
    "\n",
    "2. Since the size of `str` is unknown, \n",
    "    one can only handle it behind a pointer. \n",
    "    This means that `str` most commonly appears as `&str`: \n",
    "    a reference to some UTF-8 data, normally called a \"string slice\" or just a \"slice\".\n",
    "\n",
    "3. `&String` is a reference to a `String`\n",
    "    and is also called a borrowed type.\n",
    "    It is nothing more than a pointer \n",
    "    which you can pass around without giving up ownership. \n",
    "    `&String` can be coerced to a `&str` implicitly.\n",
    "\n",
    "4. If you want a rea-only view of a string, \n",
    "    `&str` is preferred.\n",
    "    If you want to own and mutate a string,\n",
    "    `String` should be used.\n",
    "    For example,\n",
    "    `String` should be used for returning strings created within a function\n",
    "    or (usually) when storing sstrings in a struct or enum.\n",
    "    \n",
    "    \n",
    "5. `let my_str = \"Hello World\";` defines a `&str` (not `String`). \n",
    "\n",
    "\n",
    "6. If you have a `&str` and want a new `String`,\n",
    "    you can clone it either by `to_owned()` or `to_string()` \n",
    "    (they are effectively the same).\n",
    "    Both of those 2 methods will copy the memory and make a new String."
   ]
  },
  {
   "cell_type": "markdown",
   "metadata": {},
   "source": [
    "## &str\n",
    "\n",
    "Primitive, immutable, fixed length."
   ]
  },
  {
   "cell_type": "code",
   "execution_count": 2,
   "metadata": {},
   "outputs": [
    {
     "data": {
      "text/plain": [
       "\"how are you\""
      ]
     },
     "execution_count": 2,
     "metadata": {},
     "output_type": "execute_result"
    }
   ],
   "source": [
    "let mut s: &str = \"how are you\";\n",
    "s"
   ]
  },
  {
   "cell_type": "code",
   "execution_count": 11,
   "metadata": {},
   "outputs": [
    {
     "ename": "Error",
     "evalue": "cannot add `char` to `&str`",
     "output_type": "error",
     "traceback": [
      "s + 'a'",
      "^ &str",
      "s + 'a'",
      "    ^^^ char",
      "s + 'a'",
      "  ^ ",
      "cannot add `char` to `&str`"
     ]
    }
   ],
   "source": [
    "s + 'a'"
   ]
  },
  {
   "cell_type": "code",
   "execution_count": 8,
   "metadata": {},
   "outputs": [
    {
     "data": {
      "text/plain": [
       "Chars(['h', 'o', 'w', ' ', 'a', 'r', 'e', ' ', 'y', 'o', 'u'])"
      ]
     },
     "execution_count": 8,
     "metadata": {},
     "output_type": "execute_result"
    }
   ],
   "source": [
    "s.chars()"
   ]
  },
  {
   "cell_type": "code",
   "execution_count": 10,
   "metadata": {},
   "outputs": [
    {
     "data": {
      "text/plain": [
       "Some('a')"
      ]
     },
     "execution_count": 10,
     "metadata": {},
     "output_type": "execute_result"
    }
   ],
   "source": [
    "s.chars().nth(4)"
   ]
  },
  {
   "cell_type": "code",
   "execution_count": 20,
   "metadata": {},
   "outputs": [
    {
     "ename": "Error",
     "evalue": "character literal may only contain one codepoint",
     "output_type": "error",
     "traceback": [
      "s.push('c2')",
      "       ^^^^ ",
      "character literal may only contain one codepoint"
     ]
    },
    {
     "ename": "Error",
     "evalue": "expected one of `.`, `;`, `?`, `}`, or an operator, found `evcxr_variable_store`",
     "output_type": "error",
     "traceback": [
      "s.push('c2')",
      "             expected one of `.`, `;`, `?`, `}`, or an operator here",
      "expected one of `.`, `;`, `?`, `}`, or an operator, found `evcxr_variable_store`"
     ]
    },
    {
     "ename": "Error",
     "evalue": "no method named `push` found for type `&str` in the current scope",
     "output_type": "error",
     "traceback": [
      "s.push('c2')",
      "  ^^^^ ",
      "no method named `push` found for type `&str` in the current scope"
     ]
    }
   ],
   "source": [
    "s.push('c2')"
   ]
  },
  {
   "cell_type": "code",
   "execution_count": 21,
   "metadata": {},
   "outputs": [
    {
     "data": {
      "text/plain": [
       "false"
      ]
     },
     "execution_count": 21,
     "metadata": {},
     "output_type": "execute_result"
    }
   ],
   "source": [
    "s.is_empty()"
   ]
  },
  {
   "cell_type": "code",
   "execution_count": 3,
   "metadata": {},
   "outputs": [
    {
     "data": {
      "text/plain": [
       "11"
      ]
     },
     "execution_count": 3,
     "metadata": {},
     "output_type": "execute_result"
    }
   ],
   "source": [
    "s.len()"
   ]
  },
  {
   "cell_type": "markdown",
   "metadata": {},
   "source": [
    "## String"
   ]
  },
  {
   "cell_type": "code",
   "execution_count": 4,
   "metadata": {},
   "outputs": [
    {
     "ename": "Error",
     "evalue": "mismatched types",
     "output_type": "error",
     "traceback": [
      "let s1: String = \"Hello World!\";",
      "                 ^^^^^^^^^^^^^^ expected struct `String`, found `&str`",
      "let s1: String = \"Hello World!\";",
      "        ^^^^^^ expected due to this",
      "mismatched types",
      "help: try using a conversion method\n\n\"Hello World!\".to_string()"
     ]
    }
   ],
   "source": [
    "let s1: String = \"Hello World!\";\n",
    "s1"
   ]
  },
  {
   "cell_type": "code",
   "execution_count": 5,
   "metadata": {},
   "outputs": [
    {
     "data": {
      "text/plain": [
       "\"Hello World!\""
      ]
     },
     "execution_count": 5,
     "metadata": {},
     "output_type": "execute_result"
    }
   ],
   "source": [
    "let mut s2: String = String::from(\"Hello World!\");\n",
    "s2"
   ]
  },
  {
   "cell_type": "code",
   "execution_count": 12,
   "metadata": {},
   "outputs": [
    {
     "ename": "Error",
     "evalue": "mismatched types",
     "output_type": "error",
     "traceback": [
      "s2 + 'a'",
      "     ^^^ expected `&str`, found `char`",
      "mismatched types"
     ]
    }
   ],
   "source": [
    "s2 + 'a'"
   ]
  },
  {
   "cell_type": "code",
   "execution_count": 13,
   "metadata": {},
   "outputs": [
    {
     "data": {
      "text/plain": [
       "()"
      ]
     },
     "execution_count": 13,
     "metadata": {},
     "output_type": "execute_result"
    }
   ],
   "source": [
    "s2.push('a')"
   ]
  },
  {
   "cell_type": "code",
   "execution_count": 14,
   "metadata": {},
   "outputs": [
    {
     "data": {
      "text/plain": [
       "\"Hello World!a\""
      ]
     },
     "execution_count": 14,
     "metadata": {},
     "output_type": "execute_result"
    }
   ],
   "source": [
    "s2"
   ]
  },
  {
   "cell_type": "markdown",
   "metadata": {},
   "source": [
    "## chars"
   ]
  },
  {
   "cell_type": "markdown",
   "metadata": {},
   "source": [
    "## contains"
   ]
  },
  {
   "cell_type": "markdown",
   "metadata": {},
   "source": [
    "## replace"
   ]
  },
  {
   "cell_type": "markdown",
   "metadata": {},
   "source": [
    "## len"
   ]
  },
  {
   "cell_type": "markdown",
   "metadata": {},
   "source": [
    "## parse (Convert String to Other Types)"
   ]
  },
  {
   "cell_type": "markdown",
   "metadata": {},
   "source": [
    "Convert an integer to string."
   ]
  },
  {
   "cell_type": "code",
   "execution_count": 3,
   "metadata": {},
   "outputs": [
    {
     "data": {
      "text/plain": [
       "\"123\""
      ]
     },
     "execution_count": 3,
     "metadata": {},
     "output_type": "execute_result"
    }
   ],
   "source": [
    "let s = 123.to_string();\n",
    "s"
   ]
  },
  {
   "cell_type": "markdown",
   "metadata": {},
   "source": [
    "Convert the string back to integer."
   ]
  },
  {
   "cell_type": "code",
   "execution_count": 4,
   "metadata": {},
   "outputs": [
    {
     "data": {
      "text/plain": [
       "Ok(123)"
      ]
     },
     "execution_count": 4,
     "metadata": {},
     "output_type": "execute_result"
    }
   ],
   "source": [
    "s.parse::<i32>()"
   ]
  },
  {
   "cell_type": "code",
   "execution_count": 5,
   "metadata": {},
   "outputs": [
    {
     "data": {
      "text/plain": [
       "123"
      ]
     },
     "execution_count": 5,
     "metadata": {},
     "output_type": "execute_result"
    }
   ],
   "source": [
    "s.parse::<i32>().unwrap()"
   ]
  },
  {
   "cell_type": "markdown",
   "metadata": {},
   "source": [
    "## push"
   ]
  },
  {
   "cell_type": "markdown",
   "metadata": {},
   "source": [
    "You cannot concatenate a char to a string using the `+` operator.\n",
    "However,\n",
    "you can use the `String.push` method to add a char to the end of a String."
   ]
  },
  {
   "cell_type": "markdown",
   "metadata": {},
   "source": [
    "## push_str"
   ]
  },
  {
   "cell_type": "markdown",
   "metadata": {},
   "source": [
    "## is_empty"
   ]
  },
  {
   "cell_type": "markdown",
   "metadata": {},
   "source": [
    "## split_whitespace"
   ]
  },
  {
   "cell_type": "code",
   "execution_count": 23,
   "metadata": {},
   "outputs": [
    {
     "data": {
      "text/plain": [
       "SplitWhitespace { inner: Filter { iter: Split(SplitInternal { start: 0, end: 11, matcher: CharPredicateSearcher { haystack: \"how are you\", char_indices: CharIndices { front_offset: 0, iter: Chars { iter: Iter([104, 111, 119, 32, 97, 114, 101, 32, 121, 111, 117]) } } }, allow_trailing_empty: true, finished: false }) } }"
      ]
     },
     "execution_count": 23,
     "metadata": {},
     "output_type": "execute_result"
    }
   ],
   "source": [
    "\"how are you\".split_whitespace()"
   ]
  },
  {
   "cell_type": "code",
   "execution_count": 27,
   "metadata": {},
   "outputs": [
    {
     "name": "stdout",
     "output_type": "stream",
     "text": [
      "how\n",
      "are\n",
      "you\n"
     ]
    },
    {
     "data": {
      "text/plain": [
       "()"
      ]
     },
     "execution_count": 27,
     "metadata": {},
     "output_type": "execute_result"
    }
   ],
   "source": [
    "for word in \"how are you\".split_whitespace() {\n",
    "    println!(\"{}\", word);\n",
    "}"
   ]
  },
  {
   "cell_type": "markdown",
   "metadata": {},
   "source": [
    "## with_capacity"
   ]
  },
  {
   "cell_type": "code",
   "execution_count": 25,
   "metadata": {},
   "outputs": [
    {
     "data": {
      "text/plain": [
       "\"\""
      ]
     },
     "execution_count": 25,
     "metadata": {},
     "output_type": "execute_result"
    }
   ],
   "source": [
    "let ss = String::with_capacity(3);\n",
    "ss"
   ]
  },
  {
   "cell_type": "markdown",
   "metadata": {},
   "source": [
    "## Print Strings\n",
    "\n",
    "1. You cannot use print an integer directly.\n",
    "    Instead,\n",
    "    you have to convert it to a String first.\n",
    "    \n",
    "2. It is suggested that you use `println!(\"{}\", var);`\n",
    "    to print the variable to terminal so that you do not have to worry about its type.m"
   ]
  },
  {
   "cell_type": "code",
   "execution_count": 2,
   "metadata": {},
   "outputs": [
    {
     "ename": "Error",
     "evalue": "format argument must be a string literal",
     "output_type": "error",
     "traceback": [
      "format argument must be a string literal"
     ]
    }
   ],
   "source": [
    "println!(5)"
   ]
  },
  {
   "cell_type": "code",
   "execution_count": 3,
   "metadata": {},
   "outputs": [
    {
     "name": "stdout",
     "output_type": "stream",
     "text": [
      "5\n"
     ]
    },
    {
     "data": {
      "text/plain": [
       "()"
      ]
     },
     "execution_count": 3,
     "metadata": {},
     "output_type": "execute_result"
    }
   ],
   "source": [
    "println!(\"{}\", 5)"
   ]
  },
  {
   "cell_type": "code",
   "execution_count": 5,
   "metadata": {},
   "outputs": [
    {
     "name": "stdout",
     "output_type": "stream",
     "text": [
      "My name is Ben and I'm 34\n"
     ]
    }
   ],
   "source": [
    "println!(\"My name is {} and I'm {}\", \"Ben\", 34);"
   ]
  },
  {
   "cell_type": "code",
   "execution_count": 6,
   "metadata": {},
   "outputs": [
    {
     "name": "stdout",
     "output_type": "stream",
     "text": [
      "3 * 3 = 9\n"
     ]
    }
   ],
   "source": [
    "println!(\"{0} * {0} = {1}\", 3, 9);"
   ]
  },
  {
   "cell_type": "code",
   "execution_count": 7,
   "metadata": {},
   "outputs": [
    {
     "name": "stdout",
     "output_type": "stream",
     "text": [
      "3 * 3 = 9\n"
     ]
    }
   ],
   "source": [
    "println!(\"{x} * {x} = {y}\", x=3, y=9);"
   ]
  },
  {
   "cell_type": "markdown",
   "metadata": {},
   "source": [
    "## Placeholder Traits"
   ]
  },
  {
   "cell_type": "code",
   "execution_count": 12,
   "metadata": {},
   "outputs": [
    {
     "name": "stdout",
     "output_type": "stream",
     "text": [
      "Binary: 1000000, Hex: 40, Octol: 100\n"
     ]
    }
   ],
   "source": [
    "println!(\"Binary: {v:b}, Hex: {v:x}, Octol: {v:o}\", v = 64);"
   ]
  },
  {
   "cell_type": "markdown",
   "metadata": {},
   "source": [
    "## Print an Iterable"
   ]
  },
  {
   "cell_type": "code",
   "execution_count": 13,
   "metadata": {},
   "outputs": [
    {
     "name": "stdout",
     "output_type": "stream",
     "text": [
      "(\"Hello\", \"World\")\n"
     ]
    }
   ],
   "source": [
    "println!(\"{:?}\", (\"Hello\", \"World\"));"
   ]
  },
  {
   "cell_type": "markdown",
   "metadata": {},
   "source": [
    "## References\n",
    "\n",
    "[char in Rust](http://www.legendu.net/misc/blog/rust-char)\n",
    "\n",
    "[Official Doc on String](https://doc.rust-lang.org/std/string/struct.String.html)\n",
    "\n",
    "[What’s the difference between &String and &str?](https://users.rust-lang.org/t/whats-the-difference-between-string-and-str/10177/2?from=singlemessage&isappinstalled=0)\n",
    "\n",
    "[Rust: str vs String](https://www.ameyalokare.com/rust/2017/10/12/rust-str-vs-String.html)"
   ]
  },
  {
   "cell_type": "code",
   "execution_count": null,
   "metadata": {},
   "outputs": [],
   "source": []
  }
 ],
 "metadata": {
  "kernelspec": {
   "display_name": "Rust",
   "language": "rust",
   "name": "rust"
  },
  "language_info": {
   "codemirror_mode": "rust",
   "file_extension": ".rs",
   "mimetype": "text/rust",
   "name": "Rust",
   "pygment_lexer": "rust",
   "version": ""
  }
 },
 "nbformat": 4,
 "nbformat_minor": 4
}
