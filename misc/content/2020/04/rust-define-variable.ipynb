{
 "cells": [
  {
   "cell_type": "markdown",
   "metadata": {},
   "source": [
    "- Title: Define Variables in Rust\n",
    "- Slug: rust-define-variable\n",
    "- Date: 2021-04-18 23:50:15\n",
    "- Category: Computer Science\n",
    "- Tags: programming, Rust, define, variable\n",
    "- Author: Ben Du"
   ]
  },
  {
   "cell_type": "markdown",
   "metadata": {},
   "source": [
    "## let\n",
    "\n",
    "By default,\n",
    "`let` defines an immutble variable."
   ]
  },
  {
   "cell_type": "code",
   "execution_count": 20,
   "metadata": {},
   "outputs": [
    {
     "data": {
      "text/plain": [
       "1"
      ]
     },
     "execution_count": 20,
     "metadata": {},
     "output_type": "execute_result"
    }
   ],
   "source": [
    "let x = 1;\n",
    "x"
   ]
  },
  {
   "cell_type": "code",
   "execution_count": 21,
   "metadata": {},
   "outputs": [
    {
     "ename": "Error",
     "evalue": "cannot assign twice to immutable variable `x`",
     "output_type": "error",
     "traceback": [
      "x = 2;",
      "^^^^^ cannot assign twice to immutable variable",
      "cannot assign twice to immutable variable `x`"
     ]
    }
   ],
   "source": [
    "x = 2"
   ]
  },
  {
   "cell_type": "markdown",
   "metadata": {},
   "source": [
    "## let mut"
   ]
  },
  {
   "cell_type": "code",
   "execution_count": 19,
   "metadata": {},
   "outputs": [
    {
     "data": {
      "text/plain": [
       "3"
      ]
     },
     "execution_count": 19,
     "metadata": {},
     "output_type": "execute_result"
    }
   ],
   "source": [
    "let mut y = 2;\n",
    "y = 3;\n",
    "y"
   ]
  },
  {
   "cell_type": "markdown",
   "metadata": {},
   "source": [
    "## const\n",
    "\n",
    "You must specify the type of a variable explicitly \n",
    "when defining it using the `const` keyword."
   ]
  },
  {
   "cell_type": "code",
   "execution_count": 17,
   "metadata": {},
   "outputs": [
    {
     "ename": "Error",
     "evalue": "expected `:`, found `=`",
     "output_type": "error",
     "traceback": [
      "const my_const_var = 1;",
      "                   ^ expected `:`",
      "expected `:`, found `=`"
     ]
    }
   ],
   "source": [
    "const my_const_var = 1;"
   ]
  },
  {
   "cell_type": "code",
   "execution_count": 16,
   "metadata": {},
   "outputs": [],
   "source": [
    "const my_const_var: i32 = 1;"
   ]
  },
  {
   "cell_type": "markdown",
   "metadata": {},
   "source": [
    "## let vs const\n",
    "\n",
    "- `mut` is NOT allowed on constants. \n",
    "\n",
    "- The type of a constant must be declared, whereas the type of a variable may be declared.\n",
    "\n",
    "- Constants can only be set to a constant expression, not to the result of a function call or anything that could only be determined at runtime."
   ]
  },
  {
   "cell_type": "markdown",
   "metadata": {},
   "source": [
    "## References"
   ]
  },
  {
   "cell_type": "code",
   "execution_count": null,
   "metadata": {},
   "outputs": [],
   "source": []
  }
 ],
 "metadata": {
  "kernelspec": {
   "display_name": "Rust",
   "language": "rust",
   "name": "rust"
  },
  "language_info": {
   "codemirror_mode": "rust",
   "file_extension": ".rs",
   "mimetype": "text/rust",
   "name": "Rust",
   "pygment_lexer": "rust",
   "version": ""
  }
 },
 "nbformat": 4,
 "nbformat_minor": 4
}