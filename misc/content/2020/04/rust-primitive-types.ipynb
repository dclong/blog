{
 "cells": [
  {
   "cell_type": "markdown",
   "metadata": {},
   "source": [
    "- Title: Primitive Types in Rust\n",
    "- Slug: rust-primitive-types\n",
    "- Date: 2020-04-08\n",
    "- Category: Computer Science\n",
    "- Tags: programming, Rust, primitive types\n",
    "- Author: Ben Du"
   ]
  },
  {
   "cell_type": "markdown",
   "metadata": {},
   "source": [
    "## Tips\n",
    "\n",
    "- Integer types: \n",
    "    - `u8` (0 to 255), \n",
    "    - `i8` (-128 to 127), \n",
    "    - `u16` (0 to 65,535), \n",
    "    - `i16` (-32,768 to 32,767), \n",
    "    - `u32` (0 to 4,294,967,295), \n",
    "    - `i32` (-2,147,483,648 to 2,147,483,647), \n",
    "    - `u64`, \n",
    "    - `i64`.  \n",
    "    Notice that `i32` is the default type for integers.\n",
    "- Float types: `f32`, `f64` (default)\n",
    "- Boolean: `bool`\n",
    "- Character: `char`\n",
    "- Tuple\n",
    "- Array"
   ]
  },
  {
   "cell_type": "markdown",
   "metadata": {},
   "source": [
    "## Type Cast"
   ]
  },
  {
   "cell_type": "markdown",
   "metadata": {},
   "source": [
    "- Cast without loss using `type::from` or `obj.into`.  \n",
    "- cast with possible loss using `as`\n",
    "- Implementing `From` will result in the `Into` implementation but not vice-versa. \n",
    "\n",
    "\n",
    "\n",
    "For more discussions,\n",
    "please refer to\n",
    "[How do I convert between numeric types safely and idiomatically?](https://stackoverflow.com/questions/28273169/how-do-i-convert-between-numeric-types-safely-and-idiomatically).\n",
    "\n",
    "[From and Into](https://doc.rust-lang.org/stable/rust-by-example/conversion/from_into.html)\n",
    "\n",
    "[Why From trait vs Into trait?](https://users.rust-lang.org/t/why-from-trait-vs-into-trait/27625)\n",
    "\n",
    "[Cast a smaller integer to a larger integer](https://users.rust-lang.org/t/cast-a-smaller-integer-to-a-larger-integer/58848/10)"
   ]
  },
  {
   "cell_type": "code",
   "execution_count": 2,
   "metadata": {},
   "outputs": [
    {
     "output_type": "execute_result",
     "data": {
      "text/plain": [
       "1"
      ]
     },
     "metadata": {},
     "execution_count": 2
    }
   ],
   "source": [
    "i32::from(1)"
   ]
  },
  {
   "cell_type": "code",
   "execution_count": 3,
   "metadata": {},
   "outputs": [
    {
     "output_type": "error",
     "ename": "Error",
     "evalue": "the trait bound `i32: From<i64>` is not satisfied",
     "traceback": [
      "i32::from(x)",
      "^^^^^^^^^ the trait `From<i64>` is not implemented for `i32`",
      "the trait bound `i32: From<i64>` is not satisfied",
      "help: the following implementations were found:\n  <i32 as From<NonZeroI32>>\n  <i32 as From<bool>>\n  <i32 as From<i16>>\n  <i32 as From<i8>>\nand 2 others"
     ]
    }
   ],
   "source": [
    "let x: i64 = 1;\n",
    "i32::from(x)"
   ]
  },
  {
   "cell_type": "code",
   "execution_count": 6,
   "metadata": {},
   "outputs": [
    {
     "output_type": "error",
     "ename": "Error",
     "evalue": "the trait bound `u64: From<usize>` is not satisfied",
     "traceback": [
      "u64::from(x)",
      "^^^^^^^^^ the trait `From<usize>` is not implemented for `u64`",
      "the trait bound `u64: From<usize>` is not satisfied",
      "help: the following implementations were found:\n  <u64 as From<NonZeroU64>>\n  <u64 as From<bool>>\n  <u64 as From<u16>>\n  <u64 as From<u32>>\n  <u64 as From<u8>>"
     ]
    }
   ],
   "source": [
    "let x: usize = 1;\n",
    "u64::from(x)"
   ]
  },
  {
   "cell_type": "code",
   "execution_count": 5,
   "metadata": {},
   "outputs": [
    {
     "output_type": "execute_result",
     "data": {
      "text/plain": [
       "1"
      ]
     },
     "metadata": {},
     "execution_count": 5
    }
   ],
   "source": [
    "let x: u64 = 1;\n",
    "u64::from(x)"
   ]
  },
  {
   "cell_type": "code",
   "execution_count": 2,
   "metadata": {},
   "outputs": [
    {
     "data": {
      "text/plain": [
       "1"
      ]
     },
     "execution_count": 2,
     "metadata": {},
     "output_type": "execute_result"
    }
   ],
   "source": [
    "let x: i64 = 1;\n",
    "x"
   ]
  },
  {
   "cell_type": "code",
   "execution_count": 4,
   "metadata": {},
   "outputs": [
    {
     "data": {
      "text/plain": [
       "1"
      ]
     },
     "execution_count": 4,
     "metadata": {},
     "output_type": "execute_result"
    }
   ],
   "source": [
    "x as i32"
   ]
  },
  {
   "cell_type": "code",
   "execution_count": 5,
   "metadata": {},
   "outputs": [
    {
     "data": {
      "text/plain": [
       "1"
      ]
     },
     "execution_count": 5,
     "metadata": {},
     "output_type": "execute_result"
    }
   ],
   "source": [
    "let x1: u8 = 1;\n",
    "x1"
   ]
  },
  {
   "cell_type": "code",
   "execution_count": 7,
   "metadata": {},
   "outputs": [
    {
     "data": {
      "text/plain": [
       "1"
      ]
     },
     "execution_count": 7,
     "metadata": {},
     "output_type": "execute_result"
    }
   ],
   "source": [
    "let x2: i8 = 1;\n",
    "x2"
   ]
  },
  {
   "cell_type": "code",
   "execution_count": 10,
   "metadata": {},
   "outputs": [
    {
     "data": {
      "text/plain": [
       "1"
      ]
     },
     "execution_count": 10,
     "metadata": {},
     "output_type": "execute_result"
    }
   ],
   "source": [
    "let x3: i32 = 1;\n",
    "x3"
   ]
  },
  {
   "cell_type": "markdown",
   "metadata": {},
   "source": [
    "## tuple"
   ]
  },
  {
   "cell_type": "code",
   "execution_count": 3,
   "metadata": {},
   "outputs": [
    {
     "data": {
      "text/plain": [
       "(1, \"hello\")"
      ]
     },
     "execution_count": 3,
     "metadata": {},
     "output_type": "execute_result"
    }
   ],
   "source": [
    "let t = (1, \"hello\");\n",
    "t"
   ]
  },
  {
   "cell_type": "markdown",
   "metadata": {},
   "source": [
    "## References \n",
    "\n",
    "[Primitive Type tuple](https://doc.rust-lang.org/std/primitive.tuple.html)"
   ]
  },
  {
   "cell_type": "code",
   "execution_count": null,
   "metadata": {},
   "outputs": [],
   "source": []
  }
 ],
 "metadata": {
  "kernelspec": {
   "display_name": "Rust",
   "language": "rust",
   "name": "rust"
  },
  "language_info": {
   "codemirror_mode": "rust",
   "file_extension": ".rs",
   "mimetype": "text/rust",
   "name": "Rust",
   "pygment_lexer": "rust",
   "version": ""
  }
 },
 "nbformat": 4,
 "nbformat_minor": 4
}