{
 "cells": [
  {
   "cell_type": "markdown",
   "metadata": {},
   "source": [
    "- Author: Ben Du\n",
    "- Date: 2020-11-30 00:15:05\n",
    "- Title: IO in Rust\n",
    "- Slug: io-in-rust\n",
    "- Category: Computer Science\n",
    "- Tags: Computer Science, programming"
   ]
  },
  {
   "cell_type": "markdown",
   "metadata": {},
   "source": [
    " ** Things on this page are fragmentary and immature notes/thoughts of the author. Please read with your own judgement! **  "
   ]
  },
  {
   "cell_type": "markdown",
   "metadata": {},
   "source": [
    "## Tips and Traps\n",
    "\n",
    "1. Key strokes `CTRL` + `D` signals an EOF to stdin input.\n",
    "\n",
    "2. Methods reading from stdin **appends** the input to the buffer rather than overwrite it!"
   ]
  },
  {
   "cell_type": "markdown",
   "metadata": {},
   "source": [
    "https://doc.rust-lang.org/std/io/trait.BufRead.html#method.lines\n",
    "    \n",
    "https://doc.rust-lang.org/rust-by-example/std_misc/file/read_lines.html\n",
    "    \n",
    "https://doc.rust-lang.org/std/io/struct.Stdin.html#method.read_line"
   ]
  },
  {
   "cell_type": "code",
   "execution_count": 2,
   "metadata": {},
   "outputs": [],
   "source": [
    "use std::io::BufReader;\n",
    "use std::fs::File;\n",
    "use std::io::Read;\n",
    "use std::io::Lines;"
   ]
  },
  {
   "cell_type": "code",
   "execution_count": 5,
   "metadata": {},
   "outputs": [],
   "source": [
    "use std::io::{self, BufReader};\n",
    "use std::io::prelude::*;\n",
    "use std::fs::File;"
   ]
  },
  {
   "cell_type": "markdown",
   "metadata": {},
   "source": [
    "## [std::fs::read_to_string](https://doc.rust-lang.org/std/fs/fn.read_to_string.html)"
   ]
  },
  {
   "cell_type": "code",
   "execution_count": 15,
   "metadata": {},
   "outputs": [],
   "source": [
    "use std::fs;"
   ]
  },
  {
   "cell_type": "code",
   "execution_count": 17,
   "metadata": {},
   "outputs": [
    {
     "data": {
      "text/plain": [
       "Ok(\"how\\nare you\\ndoing\")"
      ]
     },
     "execution_count": 17,
     "metadata": {},
     "output_type": "execute_result"
    }
   ],
   "source": [
    "fs::read_to_string(\"data.txt\")"
   ]
  },
  {
   "cell_type": "markdown",
   "metadata": {},
   "source": [
    "## [std::fs::read](https://doc.rust-lang.org/std/fs/fn.read.html)\n",
    "\n",
    "Read the entire contents of a file into a bytes vector.\n",
    "This is a convenience function for using `File::open` and `read_to_end` with fewer imports and without an intermediate variable. \n",
    "It pre-allocates a buffer based on the file size when available, \n",
    "so it is generally faster than reading into a vector created with `Vec::new()`."
   ]
  },
  {
   "cell_type": "code",
   "execution_count": 19,
   "metadata": {},
   "outputs": [
    {
     "data": {
      "text/plain": [
       "Ok([104, 111, 119, 10, 97, 114, 101, 32, 121, 111, 117, 10, 100, 111, 105, 110, 103])"
      ]
     },
     "execution_count": 19,
     "metadata": {},
     "output_type": "execute_result"
    }
   ],
   "source": [
    "fs::read(\"data.txt\")"
   ]
  },
  {
   "cell_type": "markdown",
   "metadata": {},
   "source": [
    "## std::fs::File"
   ]
  },
  {
   "cell_type": "code",
   "execution_count": 17,
   "metadata": {},
   "outputs": [],
   "source": [
    "let f1 = File::open(\"data.txt\");"
   ]
  },
  {
   "cell_type": "code",
   "execution_count": 18,
   "metadata": {},
   "outputs": [
    {
     "data": {
      "text/plain": [
       "Ok(File { fd: 4, path: \"/workdir/archives/blog/misc/content/2020/11/data.txt\", read: true, write: false })"
      ]
     },
     "execution_count": 18,
     "metadata": {},
     "output_type": "execute_result"
    }
   ],
   "source": [
    "f1"
   ]
  },
  {
   "cell_type": "code",
   "execution_count": 19,
   "metadata": {},
   "outputs": [],
   "source": [
    "let mut f = File::open(\"data.txt\")?;"
   ]
  },
  {
   "cell_type": "code",
   "execution_count": 20,
   "metadata": {},
   "outputs": [],
   "source": [
    "let mut content = String::new();\n",
    "f.read_to_string(&mut content)?;"
   ]
  },
  {
   "cell_type": "code",
   "execution_count": 21,
   "metadata": {},
   "outputs": [
    {
     "data": {
      "text/plain": [
       "\"how\\nare you\\ndoing\""
      ]
     },
     "execution_count": 21,
     "metadata": {},
     "output_type": "execute_result"
    }
   ],
   "source": [
    "content"
   ]
  },
  {
   "cell_type": "markdown",
   "metadata": {},
   "source": [
    "## st::io::BufReader"
   ]
  },
  {
   "cell_type": "code",
   "execution_count": 29,
   "metadata": {},
   "outputs": [
    {
     "name": "stdout",
     "output_type": "stream",
     "text": [
      "Ok(\"how\")\n",
      "Ok(\"\")\n",
      "Ok(\"are you\")\n",
      "Ok(\"doing\")\n"
     ]
    },
    {
     "data": {
      "text/plain": [
       "()"
      ]
     },
     "execution_count": 29,
     "metadata": {},
     "output_type": "execute_result"
    }
   ],
   "source": [
    "let br = BufReader::new(File::open(\"data.txt\")?);\n",
    "for line in br.lines() {\n",
    "    println!(\"{:?}\", line);\n",
    "}"
   ]
  },
  {
   "cell_type": "code",
   "execution_count": 31,
   "metadata": {},
   "outputs": [
    {
     "name": "stdout",
     "output_type": "stream",
     "text": [
      "Line 0: Ok(\"how\")\n",
      "Line 1: Ok(\"\")\n",
      "Line 2: Ok(\"are you\")\n",
      "Line 3: Ok(\"doing\")\n"
     ]
    },
    {
     "data": {
      "text/plain": [
       "()"
      ]
     },
     "execution_count": 31,
     "metadata": {},
     "output_type": "execute_result"
    }
   ],
   "source": [
    "let br = BufReader::new(File::open(\"data.txt\")?);\n",
    "for (idx, line) in br.lines().enumerate() {\n",
    "    println!(\"Line {}: {:?}\", idx, line);\n",
    "}"
   ]
  },
  {
   "cell_type": "code",
   "execution_count": 33,
   "metadata": {},
   "outputs": [
    {
     "name": "stdout",
     "output_type": "stream",
     "text": [
      "Line 0: Ok(\"how\")\n",
      "Line 1: Ok(\"\")\n",
      "Line 2: Ok(\"are you\")\n",
      "Line 3: Ok(\"doing\")\n"
     ]
    },
    {
     "data": {
      "text/plain": [
       "()"
      ]
     },
     "execution_count": 33,
     "metadata": {},
     "output_type": "execute_result"
    }
   ],
   "source": [
    "let br = BufReader::new(File::open(\"data.txt\")?);\n",
    "for (idx, line) in br.lines().enumerate() {\n",
    "    println!(\"Line {}: {:?}\", idx, line);\n",
    "}"
   ]
  },
  {
   "cell_type": "markdown",
   "metadata": {},
   "source": [
    "## Read From Stdin\n",
    "\n",
    "Stdin::read_line reads a line (terminated by `\\n`)\n",
    "and returns a Result object. \n",
    "On success,\n",
    "it returns `Ok(n)` where `n` is the number of bytes read from stdin."
   ]
  },
  {
   "cell_type": "code",
   "execution_count": 2,
   "metadata": {},
   "outputs": [
    {
     "ename": "Error",
     "evalue": "cannot find value `pwd` in this scope",
     "output_type": "error",
     "traceback": [
      "!pwd",
      " ^^^ not found in this scope",
      "cannot find value `pwd` in this scope"
     ]
    }
   ],
   "source": [
    "let mut buffer = String::new();\n",
    "let stdin = std::io::stdin();\n",
    "let r = stdin.read_line(&mut buffer);"
   ]
  },
  {
   "cell_type": "markdown",
   "metadata": {},
   "source": [
    "## Bundle File into Rust Application\n",
    "\n",
    "Please refer to\n",
    "[Bundle Resource Files into a Rust Application](http://www.legendu.net/misc/blog/bundle-resource-files-into-a-rust-application)\n",
    "for more discussions."
   ]
  },
  {
   "cell_type": "markdown",
   "metadata": {},
   "source": [
    "## References \n",
    "\n",
    "- [Trait std::io::BufRead](https://doc.rust-lang.org/std/io/trait.BufRead.html)\n",
    "- [Struct std::fs::File](https://doc.rust-lang.org/std/fs/struct.File.html)\n",
    "- [Struct std::io::Lines](https://doc.rust-lang.org/std/io/struct.Lines.html)\n",
    "- [Linux control sequence tricks](https://www.networkworld.com/article/3284105/linux-control-sequence-tricks.html)\n",
    "- [Reading from stdin: performance](https://users.rust-lang.org/t/reading-from-stdin-performance/2025)\n"
   ]
  },
  {
   "cell_type": "code",
   "execution_count": null,
   "metadata": {},
   "outputs": [],
   "source": []
  }
 ],
 "metadata": {
  "file_extension": ".py",
  "kernelspec": {
   "display_name": "Rust",
   "language": "rust",
   "name": "rust"
  },
  "language_info": {
   "codemirror_mode": "rust",
   "file_extension": ".rs",
   "mimetype": "text/rust",
   "name": "Rust",
   "pygment_lexer": "rust",
   "version": ""
  },
  "mimetype": "text/x-python",
  "name": "python",
  "npconvert_exporter": "python",
  "pygments_lexer": "ipython3",
  "version": 3
 },
 "nbformat": 4,
 "nbformat_minor": 4
}
