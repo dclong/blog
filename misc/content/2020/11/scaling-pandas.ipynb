{
 "nbformat": 4,
 "nbformat_minor": 2,
 "metadata": {
  "language_info": {
   "name": "python",
   "codemirror_mode": {
    "name": "ipython",
    "version": 3
   }
  },
  "orig_nbformat": 2,
  "file_extension": ".py",
  "mimetype": "text/x-python",
  "name": "python",
  "npconvert_exporter": "python",
  "pygments_lexer": "ipython3",
  "version": 3
 },
 "cells": [
  {
   "cell_type": "markdown",
   "metadata": {},
   "source": [
    "- Author: Ben Du\n",
    "- Date: 2020-11-22 22:22:07\n",
    "- Title: Scaling Pandas\n",
    "- Slug: scaling-pandas\n",
    "- Category: Computer Science\n",
    "- Tags: Computer Science, programming, Python, DataFrame, pandas, PySpark, Vaex, Modin, Dask, RAPIDS"
   ]
  },
  {
   "source": [
    " ** Things on this page are fragmentary and immature notes/thoughts of the author. Please read with your own judgement! **  "
   ],
   "cell_type": "markdown",
   "metadata": {}
  },
  {
   "source": [
    "- Dask: a low-level scheduler and a high-level partial Pandas replacement, geared toward running code on compute clusters.\n",
    "- Ray: a low-level framework for parallelizing Python code across processors or clusters.\n",
    "- Modin: a drop-in replacement for Pandas, powered by either Dask or Ray.\n",
    "- Vaex: a partial Pandas replacement that uses lazy evaluation and memory mapping to allow developers to work with large datasets on standard machines.\n",
    "- RAPIDS: a collection of data-science libraries that run on GPUs and include cuDF, a partial replacement for Pandas.\n",
    "- PySpark DataFrame:"
   ],
   "cell_type": "markdown",
   "metadata": {}
  },
  {
   "source": [
    "- Modin, with Ray as a backend. By installing these, you might see significant benefit by changing just a single line (`import pandas as pd` to `import modin.pandas as pd`). Unlike the other tools, Modin aims to reach full compatibility with Pandas.\n",
    "- Dask, a larger and hence more complicated project. But Dask also provides Dask.dataframe, a higher-level, Pandas-like library that can help you deal with out-of-core datasets.\n",
    "- Vaex, which is designed to help you work with large data on a standard laptop. Its Pandas replacement covers some of the Pandas API, but it’s more focused on exploration and visualization.\n",
    "- RAPIDS, if you have access to NVIDIA graphics cards.\n",
    "- PySpark DataFrame:"
   ],
   "cell_type": "markdown",
   "metadata": {}
  },
  {
   "source": [
    "## TODO\n",
    "\n",
    "1. compare PySpark DataFrame vs Vaex on a single machine ..."
   ],
   "cell_type": "markdown",
   "metadata": {}
  },
  {
   "source": [
    "[Scaling Pandas: Comparing Dask, Ray, Modin, Vaex, and RAPIDS](https://www.datarevenue.com/en-blog/pandas-vs-dask-vs-vaex-vs-modin-vs-rapids-vs-ray#:~:text=Vaex,-Dask%20(Dataframe)%20is&text=Ultimately%2C%20Dask%20is%20more%20focused,on%20data%20processing%20and%20wrangling.)\n",
    "\n",
    "[RIP Pandas 2.0: Time For DASK After VAEX !!!](https://towardsdatascience.com/dask-vs-vaex-for-big-data-38cb66728747)\n",
    "\n",
    "https://github.com/vaexio/vaex"
   ],
   "cell_type": "markdown",
   "metadata": {}
  },
  {
   "cell_type": "code",
   "execution_count": null,
   "metadata": {},
   "outputs": [],
   "source": []
  }
 ]
}