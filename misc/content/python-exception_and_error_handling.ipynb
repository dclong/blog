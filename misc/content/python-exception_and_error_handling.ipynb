{
 "cells": [
  {
   "cell_type": "markdown",
   "metadata": {},
   "source": [
    "- Title: Exception and Error Handling in Python\n",
    "- Slug: exception-and-error-handling-in-python\n",
    "- Date: 2020-12-01 10:11:52\n",
    "- Category: Computer Science\n",
    "- Tags: programming, Python, exception, error, exception and error handling\n",
    "- Author: Ben Du"
   ]
  },
  {
   "cell_type": "code",
   "execution_count": 1,
   "metadata": {},
   "outputs": [],
   "source": [
    "import requests\n",
    "import shutil\n",
    "\n",
    "class NetworkError(Exception):\n",
    "\n",
    "    \"\"\"Exception due to network.\"\"\"\n",
    "\n",
    "    def __init__(self, value):\n",
    "        self.value = 'Request to \"{value}\" failed.'.format(value = value)\n",
    "\n",
    "    def __str__(self):\n",
    "        return repr(self.value)\n",
    "        \n",
    "def download(id, output = None):\n",
    "    url = 'https://api.crowdflower.com/v1/jobs/{id}.csv?type=full&key=QKozzkJJvuqJfq7hkSbT'\n",
    "    url = url.format(id = id)\n",
    "    resp = requests.get(url, stream = True)\n",
    "    if not resp.ok:\n",
    "        raise NetworkError(url)\n",
    "    if not output:\n",
    "        output = 'f{id}.csv.zip'.format(id = id)\n",
    "    with open(output, 'wb') as f:\n",
    "        shutil.copyfileobj(resp.raw, f)"
   ]
  },
  {
   "source": [
    "## References \n",
    "\n",
    "https://docs.python.org/3/library/exceptions.html\n",
    "\n",
    "https://docs.python.org/3/tutorial/errors.html\n",
    "\n",
    "http://nbviewer.jupyter.org/github/jakevdp/WhirlwindTourOfPython/blob/master/09-Errors-and-Exceptions.ipynb"
   ],
   "cell_type": "markdown",
   "metadata": {}
  }
 ],
 "metadata": {
  "kernelspec": {
   "display_name": "Python 3",
   "language": "python",
   "name": "python3"
  },
  "language_info": {
   "codemirror_mode": {
    "name": "ipython",
    "version": 3
   },
   "file_extension": ".py",
   "mimetype": "text/x-python",
   "name": "python",
   "nbconvert_exporter": "python",
   "pygments_lexer": "ipython3",
   "version": "3.7.3"
  }
 },
 "nbformat": 4,
 "nbformat_minor": 4
}