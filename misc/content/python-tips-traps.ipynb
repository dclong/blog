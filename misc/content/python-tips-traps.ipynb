{
 "cells": [
  {
   "cell_type": "markdown",
   "metadata": {},
   "source": [
    "- Title: Python Tips and Traps\n",
    "- Slug: python-tips-and-traps\n",
    "- Date: 2020-03-17 00:06:02\n",
    "- Category: Computer Science\n",
    "- Tags: programming, Python, tips, traps\n",
    "- Author: Ben Du"
   ]
  },
  {
   "cell_type": "markdown",
   "metadata": {},
   "source": [
    "https://docs.python-guide.org/writing/gotchas/\n",
    "\n",
    "https://stackoverflow.com/questions/101268/hidden-features-of-python\n",
    "\n",
    "\n",
    "1. One of the trickiest problem in Python is conflicting package/module name. \n",
    "    For example, \n",
    "    if you have a Python script named `abc.py` in the current directory \n",
    "    and your script depends on the Python module `collections.abc`,\n",
    "    you code will likely fail to run. \n",
    "    Another (really tricky) eample is that if you have a Python script named `pyspark.py`\n",
    "    and submit it to  a Spark cluster to run (using `spark-submit`).\n",
    "    The PySpark application will likely throw an error saying that the `pyspark` module is not found.\n",
    "    Those are just 2 commonly seen examples. \n",
    "    You can easily run into this issue when you run ad hoc Python scripts \n",
    "    (unlikely to encounter this issue when you develop a Python package).\n",
    "    A possible way to avoid this issue is to always prefix your ad hoc Python script with a leading underscore (`_`).\n",
    "\n",
    "2. The `int` type in Python 3 is unbounded,\n",
    "    which means that there is no limit on the range of integer numbers that an `int` can represent. \n",
    "    However, \n",
    "    there are still various integer related limits in Python 3 due to the interpreter's word size (`sys.maxsize`)\n",
    "    (which is the same as the machine's word size in most cases).\n",
    "    This number is the size of the largest possible list or in-memory sequence."
   ]
  },
  {
   "cell_type": "code",
   "execution_count": 1,
   "metadata": {},
   "outputs": [
    {
     "data": {
      "text/plain": [
       "int"
      ]
     },
     "execution_count": 1,
     "metadata": {},
     "output_type": "execute_result"
    }
   ],
   "source": [
    "x = 1111111111111111111111111111111111111111111111111111111111111111111111111111\n",
    "type(x)"
   ]
  },
  {
   "cell_type": "markdown",
   "metadata": {},
   "source": [
    "3. Use type annotation to make your code more readable and easier to understand.\n",
    "\n",
    "2. Restrict the types of objects that your function/method can be applied to \n",
    "  and throw a (ValueError) exception when a wrong type is provided.\n",
    "  This helps minimize surprisings.\n",
    "\n",
    "3. AVOID returning objects of different types from a Python function/method.\n",
    "\n",
    "4. Be CAREFULL about module name conflictions!\n",
    "  It happens when there are more than one Python scripts with the same name on Python module search paths.\n",
    "  This is often not a problem when developing Python packages due to absolute and relative import.\n",
    "  However, \n",
    "  this issue can come up in a few situations and can be quite tricky for uers to figure out.\n",
    "    a. If an user run a Python script whose parent directory contains a Python script with a name conflicting with other (official) Python modules,\n",
    "      this issue will come up.\n",
    "    b. An even trickier situation is when a Python script is piped to a Python interpreter directly. \n",
    "      According to [docs about sys.path](https://docs.python.org/3/library/sys.html#sys.path),\n",
    "      `sys.path[0]` is initailized to be the empty string on the startup of Python in this situation \n",
    "      which directs Python to search modules in the current directly first.\n",
    "      Since an user can run the command in any directory, \n",
    "      it is more likely for him/her to encounter the issue of conflicting module names. \n",
    "  If a Python script is never intended to be imported as a module, \n",
    "  one way to resolove the issue is to simply remove the first element from `sys.path`.\n",
    "  "
   ]
  },
  {
   "cell_type": "code",
   "execution_count": 2,
   "metadata": {},
   "outputs": [
    {
     "data": {
      "text/plain": [
       "'/workdir/archives/blog/misc/content'"
      ]
     },
     "execution_count": 2,
     "metadata": {},
     "output_type": "execute_result"
    }
   ],
   "source": [
    "import sys\n",
    "sys.path.pop(0)"
   ]
  },
  {
   "cell_type": "markdown",
   "metadata": {},
   "source": [
    "7. Almost all modern programming languages follow the convention\n",
    "  of not returnting anything (or in another words, retun void, None, etc.)\n",
    "  from a mutator method so that you cannot chain on a mutator method.\n",
    "  Functional programming languages enough chaining on methods\n",
    "  as they often have immutable objects and the methods return new objects\n",
    "  rather than changing the original objects.\n",
    "\n",
    "2. Python functions (except lambda functions) do not automatically return value\n",
    "  unlike functional programming languages.\n",
    "  Forgotting a `return` statement is a common mistake in Python.\n",
    "\n",
    "3. According to [Python Operator Precedence](https://docs.python.org/2/reference/expressions.html#operator-precedence),\n",
    "  the ternary expression `if - else` has a very low precedence. \n",
    "  However, it has higher precedence than the tuple operator `,`.\n",
    "  It is suggested that you always use parentheses to make the precedence clear \n",
    "  when you use the ternary expression in a complicated expression.\n",
    "  Below is an example illustrating the precedence of the ternary expression."
   ]
  },
  {
   "cell_type": "code",
   "execution_count": 7,
   "metadata": {},
   "outputs": [
    {
     "data": {
      "text/plain": [
       "[\"'succeed'\",\n",
       " 'partitions = 52',\n",
       " 'size = 28836',\n",
       " 'end_time = 1563259850.937318']"
      ]
     },
     "execution_count": 7,
     "metadata": {},
     "output_type": "execute_result"
    }
   ],
   "source": [
    "update = {\n",
    "    \"status\": \"succeed\", \n",
    "    \"partitions\": 52,\n",
    "    \"size\": 28836,\n",
    "    \"end_time\": 1563259850.937318\n",
    "}\n",
    "[key + \" = \" + f\"{val}\" if isinstance(val, (int, float)) else f\"'{val}'\" for key, val in update.items()]"
   ]
  },
  {
   "cell_type": "code",
   "execution_count": 8,
   "metadata": {},
   "outputs": [
    {
     "data": {
      "text/plain": [
       "[\"status = 'succeed'\",\n",
       " 'partitions = 52',\n",
       " 'size = 28836',\n",
       " 'end_time = 1563259850.937318']"
      ]
     },
     "execution_count": 8,
     "metadata": {},
     "output_type": "execute_result"
    }
   ],
   "source": [
    "update = {\n",
    "    \"status\": \"succeed\", \n",
    "    \"partitions\": 52,\n",
    "    \"size\": 28836,\n",
    "    \"end_time\": 1563259850.937318\n",
    "}\n",
    "[key + \" = \" + (f\"{val}\" if isinstance(val, (int, float)) else f\"'{val}'\") for key, val in update.items()]"
   ]
  },
  {
   "cell_type": "markdown",
   "metadata": {},
   "source": [
    "10. Backslash (`\\`) cannot be used in a f-string (introduced in Python 3.6).\n",
    "  There are multiple ways to resolve this issue.\n",
    "  First, you can precompute things needed to avoid using `\\` in a f-string.\n",
    "  Second, you can use `chr(10)` (which returns the backslash) instead.\n",
    "\n",
    "5. If you need trackback information when throwing an exception use `raise ExceptionClass(msg)`,\n",
    "  otherwise, use `sys.exit(msg)` instead.\n",
    "\n",
    "\n",
    "6. You cannot use `return` to return result from a generator function.\n",
    "  Instead a `return` behaves like raising a StopIteration.\n",
    "  Please see this [issue](https://stackoverflow.com/questions/26595895/return-and-yield-in-the-same-function)\n",
    "  for more discussions.\n",
    "\n",
    "7. `max(some_iterable, default=0)`\n",
    "\n",
    "8. `itertools.chain(iter1, iter2, ...)`\n",
    "\n",
    "## Issues and Solutions\n",
    "\n",
    "### Cannot Import an Installed Module\n",
    "\n",
    "I have met the issue that some packages cannot be imported even if they have been installed.\n",
    "The issue was due to file permissions (the installed Python packages are not readable).\n",
    "A simple fix (even not optimal) is to make these Python packages readable, \n",
    "e.g., make the permissions `777` (sudo required)."
   ]
  },
  {
   "cell_type": "markdown",
   "metadata": {},
   "source": [
    "## Referneces\n",
    "\n",
    "- [Common Mistakes](http://www.toptal.com/python/top-10-mistakes-that-python-programmers-make)\n",
    "\n",
    "- [Least Astonishment and The Mutble Default Argument](https://stackoverflow.com/questions/1132941/least-astonishment-and-the-mutable-default-argument)\n",
    "\n",
    "- [Maximum and Minimum Values for Ints](https://stackoverflow.com/questions/7604966/maximum-and-minimum-values-for-ints)"
   ]
  },
  {
   "cell_type": "code",
   "execution_count": null,
   "metadata": {},
   "outputs": [],
   "source": []
  }
 ],
 "metadata": {
  "kernelspec": {
   "display_name": "Python 3",
   "language": "python",
   "name": "python3"
  },
  "language_info": {
   "codemirror_mode": {
    "name": "ipython",
    "version": 3
   },
   "file_extension": ".py",
   "mimetype": "text/x-python",
   "name": "python",
   "nbconvert_exporter": "python",
   "pygments_lexer": "ipython3",
   "version": "3.7.3"
  }
 },
 "nbformat": 4,
 "nbformat_minor": 4
}
