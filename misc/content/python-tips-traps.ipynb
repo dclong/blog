{
 "cells": [
  {
   "cell_type": "markdown",
   "metadata": {},
   "source": [
    "- Title: Python Tips and Traps\n",
    "- Slug: python-tips-and-traps\n",
    "- Date: 2020-10-10 11:55:25\n",
    "- Category: Computer Science\n",
    "- Tags: programming, Python, tips, traps\n",
    "- Author: Ben Du"
   ]
  },
  {
   "cell_type": "markdown",
   "metadata": {},
   "source": [
    "https://docs.python-guide.org/writing/gotchas/\n",
    "\n",
    "https://stackoverflow.com/questions/101268/hidden-features-of-python\n",
    "\n",
    "\n",
    "1. One of the trickiest problem in Python is conflicting package/module name. \n",
    "    For example, \n",
    "    if you have a Python script named `abc.py` in the current directory \n",
    "    and your script depends on the Python module `collections.abc`,\n",
    "    you code will likely fail to run. \n",
    "    Another (really tricky) eample is that if you have a Python script named `pyspark.py`\n",
    "    and submit it to  a Spark cluster to run (using `spark-submit`).\n",
    "    The PySpark application will likely throw an error saying that the `pyspark` module is not found.\n",
    "    Those are just 2 commonly seen examples. \n",
    "    You can easily run into this issue when you run ad hoc Python scripts \n",
    "    (unlikely to encounter this issue when you develop a Python package).\n",
    "    A possible way to avoid this issue is to always prefix your ad hoc Python script with a leading underscore (`_`).\n",
    "    Another solution is to remove the emtpry string \n",
    "    (represent the current working directory from `sys.path`)\n",
    "    if your Python script does not import other modules in the current directory.\n",
    "\n",
    "        import sys\n",
    "        sys.path.remove(\"\")\n",
    "\n",
    "2. The `int` type in Python 3 is unbounded,\n",
    "    which means that there is no limit on the range of integer numbers that an `int` can represent. \n",
    "    However, \n",
    "    there are still various integer related limits in Python 3 due to the interpreter's word size (`sys.maxsize`)\n",
    "    (which is the same as the machine's word size in most cases).\n",
    "    This number is the size of the largest possible list or in-memory sequence."
   ]
  },
  {
   "cell_type": "code",
   "execution_count": 1,
   "metadata": {},
   "outputs": [
    {
     "data": {
      "text/plain": [
       "int"
      ]
     },
     "execution_count": 1,
     "metadata": {},
     "output_type": "execute_result"
    }
   ],
   "source": [
    "x = 1111111111111111111111111111111111111111111111111111111111111111111111111111\n",
    "type(x)"
   ]
  },
  {
   "cell_type": "markdown",
   "metadata": {},
   "source": [
    "3. Use type annotation to make your code more readable and easier to understand.\n",
    "\n",
    "2. Restrict the types of objects that your function/method can be applied to \n",
    "  and throw a (ValueError) exception when a wrong type is provided.\n",
    "  This helps minimize surprisings.\n",
    "\n",
    "3. AVOID returning objects of different types from a Python function/method.\n",
    "\n",
    "4. Be CAREFULL about module name conflictions!\n",
    "  It happens when there are more than one Python scripts with the same name on Python module search paths.\n",
    "  This is often not a problem when developing Python packages due to absolute and relative import.\n",
    "  However, \n",
    "  this issue can come up in a few situations and can be quite tricky for uers to figure out.\n",
    "    a. If an user run a Python script whose parent directory contains a Python script with a name conflicting with other (official) Python modules,\n",
    "      this issue will come up.\n",
    "    b. An even trickier situation is when a Python script is piped to a Python interpreter directly. \n",
    "      According to [docs about sys.path](https://docs.python.org/3/library/sys.html#sys.path),\n",
    "      `sys.path[0]` is initailized to be the empty string on the startup of Python in this situation \n",
    "      which directs Python to search modules in the current directly first.\n",
    "      Since an user can run the command in any directory, \n",
    "      it is more likely for him/her to encounter the issue of conflicting module names. \n",
    "  If a Python script is never intended to be imported as a module, \n",
    "  one way to resolove the issue is to simply remove the first element from `sys.path`.\n",
    "  "
   ]
  },
  {
   "cell_type": "code",
   "execution_count": 2,
   "metadata": {},
   "outputs": [
    {
     "data": {
      "text/plain": [
       "'/workdir/archives/blog/misc/content'"
      ]
     },
     "execution_count": 2,
     "metadata": {},
     "output_type": "execute_result"
    }
   ],
   "source": [
    "import sys\n",
    "sys.path.pop(0)"
   ]
  },
  {
   "cell_type": "markdown",
   "metadata": {},
   "source": [
    "7. Almost all modern programming languages follow the convention\n",
    "  of not returnting anything (or in another words, retun void, None, etc.)\n",
    "  from a mutator method so that you cannot chain on a mutator method.\n",
    "  Functional programming languages enough chaining on methods\n",
    "  as they often have immutable objects and the methods return new objects\n",
    "  rather than changing the original objects.\n",
    "\n",
    "2. Python functions (except lambda functions) do not automatically return value\n",
    "  unlike functional programming languages.\n",
    "  Forgotting a `return` statement is a common mistake in Python.\n",
    "\n",
    "3. According to [Python Operator Precedence](https://docs.python.org/2/reference/expressions.html#operator-precedence),\n",
    "  the ternary expression `if - else` has a very low precedence. \n",
    "  However, it has higher precedence than the tuple operator `,`.\n",
    "  It is suggested that you always use parentheses to make the precedence clear \n",
    "  when you use the ternary expression in a complicated expression.\n",
    "  Below is an example illustrating the precedence of the ternary expression."
   ]
  },
  {
   "cell_type": "code",
   "execution_count": 7,
   "metadata": {},
   "outputs": [
    {
     "data": {
      "text/plain": [
       "[\"'succeed'\",\n",
       " 'partitions = 52',\n",
       " 'size = 28836',\n",
       " 'end_time = 1563259850.937318']"
      ]
     },
     "execution_count": 7,
     "metadata": {},
     "output_type": "execute_result"
    }
   ],
   "source": [
    "update = {\n",
    "    \"status\": \"succeed\", \n",
    "    \"partitions\": 52,\n",
    "    \"size\": 28836,\n",
    "    \"end_time\": 1563259850.937318\n",
    "}\n",
    "[key + \" = \" + f\"{val}\" if isinstance(val, (int, float)) else f\"'{val}'\" for key, val in update.items()]"
   ]
  },
  {
   "cell_type": "code",
   "execution_count": 8,
   "metadata": {},
   "outputs": [
    {
     "data": {
      "text/plain": [
       "[\"status = 'succeed'\",\n",
       " 'partitions = 52',\n",
       " 'size = 28836',\n",
       " 'end_time = 1563259850.937318']"
      ]
     },
     "execution_count": 8,
     "metadata": {},
     "output_type": "execute_result"
    }
   ],
   "source": [
    "update = {\n",
    "    \"status\": \"succeed\", \n",
    "    \"partitions\": 52,\n",
    "    \"size\": 28836,\n",
    "    \"end_time\": 1563259850.937318\n",
    "}\n",
    "[key + \" = \" + (f\"{val}\" if isinstance(val, (int, float)) else f\"'{val}'\") for key, val in update.items()]"
   ]
  },
  {
   "cell_type": "markdown",
   "metadata": {},
   "source": [
    "10. Backslash (`\\`) cannot be used in a f-string (introduced in Python 3.6).\n",
    "  There are multiple ways to resolve this issue.\n",
    "  First, you can precompute things needed to avoid using `\\` in a f-string.\n",
    "  Second, you can use `chr(10)` (which returns the backslash) instead.\n",
    "\n",
    "5. If you need trackback information when throwing an exception use `raise ExceptionClass(msg)`,\n",
    "  otherwise, use `sys.exit(msg)` instead.\n",
    "\n",
    "\n",
    "6. You cannot use `return` to return result from a generator function.\n",
    "  Instead a `return` behaves like raising a StopIteration.\n",
    "  Please see this [issue](https://stackoverflow.com/questions/26595895/return-and-yield-in-the-same-function)\n",
    "  for more discussions.\n",
    "\n",
    "7. The module `importlib.resources` (since Python 3.7+) leverages Python's import system to provide access to resources within packages. \n",
    "  If you can import a package, \n",
    "  you can access resources within that package. \n",
    "  Resources can be opened or read, in either binary or text mode.\n",
    "  Resources are roughly akin to files inside directories, \n",
    "  though it’s important to keep in mind that this is just a metaphor. \n",
    "  Resources and packages do not have to exist as physical files and directories on the file system. \n",
    "  `importlib.resources` is analogue to `getClass.getResource` in Java.\n",
    "\n",
    "\n",
    "\n",
    "## Issues and Solutions\n",
    "\n",
    "### Cannot Import an Installed Module\n",
    "\n",
    "I have met the issue that some packages cannot be imported even if they have been installed.\n",
    "The issue was due to file permissions (the installed Python packages are not readable).\n",
    "A simple fix (even not optimal) is to make these Python packages readable, \n",
    "e.g., make the permissions `777` (sudo required)."
   ]
  },
  {
   "source": [
    "## Advanced Python \n",
    "\n",
    "[Talk: Anthony Shaw - Why is Python slow?](https://www.youtube.com/watch?v=I4nkgJdVZFA)\n",
    "\n",
    "[When Python Practices Go Wrong - Brandon Rhodes - code::dive 2019](https://www.youtube.com/watch?v=S0No2zSJmks)\n"
   ],
   "cell_type": "markdown",
   "metadata": {}
  },
  {
   "cell_type": "markdown",
   "metadata": {},
   "source": [
    "\n",
    "<img src=\"http://dclong.github.io/media/python/python.png\" height=\"200\" width=\"240\" align=\"right\"/>\n",
    "\n",
    "## Python Doc\n",
    "\n",
    "https://docs.quantifiedcode.com/python-anti-patterns/index.html\n",
    "\n",
    "\n",
    "## Functions\n",
    "\n",
    "https://jeffknupp.com/blog/2018/10/11/write-better-python-functions/\n",
    "\n",
    "https://softwareengineering.stackexchange.com/questions/225682/is-it-a-bad-idea-to-return-different-data-types-from-a-single-function-in-a-dyna\n",
    "\n",
    "https://stackoverflow.com/questions/1839289/why-should-functions-always-return-the-same-type\n",
    "\n",
    "https://treyhunner.com/2018/04/keyword-arguments-in-python/\n",
    "\n",
    "\n",
    "[Comprehensive Python Cheatsheet](https://gto76.github.io/python-cheatsheet/)\n",
    "\n",
    "- [The Python Wiki](https://wiki.python.org/moin/)\n",
    "- [Useful Modules](https://wiki.python.org/moin/UsefulModules)\n",
    "- [The Hitchhiker’s Guide to Python!](http://docs.python-guide.org/en/latest/)\n",
    "- [PyVideo](http://pyvideo.org/)\n",
    "\n",
    "## Environment Variable\n",
    "\n",
    "1. `os.getenv` gets the value of an environment variable\n",
    "  while `os.setenv` creates a new environment variable or\n",
    "  sets the value of an environment variable.\n",
    "\n",
    "2. You should use `os.pathexpanduser(\"~\")` instead of `os.getenv('HOME')`\n",
    "  to get the home directory of the current user in Python.\n",
    "  `os.getenv('HOME')` only works on Linux/Unix.\n",
    "\n",
    "## Programming Skills\n",
    "\n",
    "1. Python varadic args can mimic function overloading\n",
    "\n",
    "3. Python eval\n",
    "\n",
    "4. `*args` and `**kwargs`. Arguments after `*` must be called by name.\n",
    "\n",
    "6. `sys.stdout.write`, `sys.stdout.flush`, `print`\n",
    "\n",
    "9. Global variables in a Python module are readable but not writable to functions in the same module by default.\n",
    "  If you want to write to a global variable in a function (in the same module),\n",
    "  you have to declare the global variable in the method using the keyword `global`.\n",
    "  For example, if `x` is a global variable\n",
    "  and you want to write to it in a method,\n",
    "  you have to declare `global x` at the beginning of the method.\n",
    "\n",
    "\n",
    "## Numerical\n",
    "\n",
    "1. Division is float division in Python 3 which is different from Python 2.\n",
    "    If you want integer division,\n",
    "    use the `//` operator.\n",
    "\n",
    "## Misc\n",
    "\n",
    "1. Keys for set and dict objects must be immutable in Python\n",
    "    (and the same concept holds in other programming languages too).\n",
    "    Since a list in Python is mutable,\n",
    "    it cannot be used as a key in set and dict objects.\n",
    "    You have to convert it to an immutable equivalence (e.g., tuple).\n",
    "\n",
    "2. Use sys.exit(msg) to print error message and quit when error happens\n",
    "\n",
    "3. Get the class name of an object.\n",
    "\n",
    "\t\ttype(obj).__name__\n",
    "\n",
    "## File System\n",
    "\n",
    "2. `os.mkdir` acts like `mkdir` in Linux and `os.makedirs` acts like `mkdir -p` in Linux.\n",
    "    Both of them throw an exception if the file already exists.\n",
    "\n",
    "3. Use `execfile(open(filename).read())` to source a file,\n",
    "    variables defined in 'filename' are visible,\n",
    "    however, imported packages are invisible to the script running execfile\n",
    "\n",
    "## Encoding\n",
    "\n",
    "`ord` `unichar`\n",
    "return `ascii` number of characters\n",
    "`chr` return a string from a ascii number\n",
    "\n",
    "## Syntax\n",
    "\n",
    "1. Python expression is calculated from left to right.\n",
    "\n",
    "7. You can use a `dict` structure to mimic switch in other programming languages.\n",
    "    However, it is kind of evil and has very limited usage.,\n",
    "    You should avoid use this.\n",
    "    Just use multiple `if ... else ...` branches instead.\n",
    "\n",
    "5. `:` has higher priority than arithmetic operators in Python,\n",
    "    which is opposite to that in R.\n",
    "\n",
    "3.  `return v1, v2` returns a tuple `(v1, v2)`.\n",
    "    And if a function `f` returns a tuple `(v1, v2, v3)`,\n",
    "    you can use\n",
    "    `v1, v2, v3 = f()`\n",
    "\n",
    "11. Stay away from functions/methods/members starting with `_`.\n",
    "    For example,\n",
    "    you should use the built-in function `len` to get the length of a list\n",
    "    instead of using its method `__len__`.\n",
    "\n",
    "7. Python does not support `++`, `--` but support `+=`, `-+`, etc.\n",
    "\n",
    "\n",
    "### Encryption\n",
    "\n",
    "- [pycrypto](https://pypi.python.org/pypi/pycrypto)\n",
    "\n",
    "https://github.com/dlitz/pycrypto\n",
    "\n",
    "http://stackoverflow.com/questions/3504955/using-rsa-in-python"
   ]
  },
  {
   "cell_type": "markdown",
   "metadata": {},
   "source": [
    "## Referneces\n",
    "\n",
    "- [Common Mistakes](http://www.toptal.com/python/top-10-mistakes-that-python-programmers-make)\n",
    "\n",
    "- [Least Astonishment and The Mutble Default Argument](https://stackoverflow.com/questions/1132941/least-astonishment-and-the-mutable-default-argument)\n",
    "\n",
    "- [Maximum and Minimum Values for Ints](https://stackoverflow.com/questions/7604966/maximum-and-minimum-values-for-ints)\n",
    "\n",
    "- [The Hitchhiker's Guide to Python](https://docs.python-guide.org/writing/documentation/)\n",
    "\n",
    "- [Python日报](http://py.memect.com/)\n",
    "\n",
    "- [Python Homepage](http://www.python.org/)\n",
    "\n",
    "- [Python Documentation](http://docs.python.org/py3k/)\n",
    "\n",
    "- [Useful Modules](https://wiki.python.org/moin/UsefulModules)\n",
    "\n",
    "- [LearningJython](http://wiki.python.org/jython/LearningJython)\n",
    "\n",
    "- [Jython Tutorial](http://www.jython.org/currentdocs.html)\n",
    "\n",
    "- [PEP 8 -- Style Guide for Python](http://legacy.python.org/dev/peps/pep-0008/)\n",
    "\n",
    "- [Documentating Python](https://devguide.python.org/documenting/)\n",
    "\n",
    "- http://builtoncement.org/\n",
    "\n",
    "- https://pythonhosted.org/pyCLI/"
   ]
  },
  {
   "cell_type": "code",
   "execution_count": null,
   "metadata": {},
   "outputs": [],
   "source": []
  }
 ],
 "metadata": {
  "kernelspec": {
   "display_name": "Python 3",
   "language": "python",
   "name": "python3"
  },
  "language_info": {
   "codemirror_mode": {
    "name": "ipython",
    "version": 3
   },
   "file_extension": ".py",
   "mimetype": "text/x-python",
   "name": "python",
   "nbconvert_exporter": "python",
   "pygments_lexer": "ipython3",
   "version": "3.7.3"
  }
 },
 "nbformat": 4,
 "nbformat_minor": 4
}