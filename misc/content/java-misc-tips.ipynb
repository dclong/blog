{
 "cells": [
  {
   "cell_type": "markdown",
   "metadata": {},
   "source": [
    "- Title: Misc Tips on Java\n",
    "- Slug: misc-tips-java\n",
    "- Date: 2019-11-05\n",
    "- Category: Programming\n",
    "- Tags: programming, JVM, Java, instantiate, array, private, curly brace\n",
    "- Author: Ben Du"
   ]
  },
  {
   "cell_type": "markdown",
   "metadata": {},
   "source": [
    "## Instantiate Array Using Curly Braces"
   ]
  },
  {
   "cell_type": "code",
   "execution_count": 13,
   "metadata": {},
   "outputs": [
    {
     "name": "stdout",
     "output_type": "stream",
     "text": [
      "1\n",
      "2\n",
      "3\n"
     ]
    },
    {
     "data": {
      "text/plain": [
       "null"
      ]
     },
     "execution_count": 13,
     "metadata": {},
     "output_type": "execute_result"
    }
   ],
   "source": [
    "import java.util.Arrays;\n",
    "\n",
    "long[] arr = new long[] {1, 2, 3};\n",
    "Arrays.stream(arr).forEach(i -> System.out.println(i));"
   ]
  },
  {
   "cell_type": "markdown",
   "metadata": {},
   "source": [
    "## Convert Boolean to Integer"
   ]
  },
  {
   "cell_type": "markdown",
   "metadata": {},
   "source": [
    "You cannot cast a boolean value to integer using type cast. \n",
    "Instead, \n",
    "you can use the ternary operator.\n",
    "\n",
    "https://stackoverflow.com/questions/3793650/convert-boolean-to-int-in-java"
   ]
  },
  {
   "cell_type": "code",
   "execution_count": 8,
   "metadata": {},
   "outputs": [
    {
     "ename": "incompatible types",
     "evalue": " boolean cannot be converted to int",
     "output_type": "error",
     "text": "incompatible types: boolean cannot be converted to int\n int x = (int) true\n               ^   ^ \n\n",
     "traceback": [
      "\u001b[1;31mincompatible types: boolean cannot be converted to int\u001b[0;0m",
      "\u001b[1;31m int x = (int) true\u001b[0;0m",
      "\u001b[1;31m               ^   ^ \u001b[0;0m"
     ]
    }
   ],
   "source": [
    "int x = (int) true;"
   ]
  },
  {
   "cell_type": "code",
   "execution_count": 6,
   "metadata": {},
   "outputs": [
    {
     "name": "stdout",
     "output_type": "stream",
     "text": [
      "1"
     ]
    },
    {
     "data": {
      "text/plain": [
       "null"
      ]
     },
     "execution_count": 6,
     "metadata": {},
     "output_type": "execute_result"
    }
   ],
   "source": [
    "int binaryInt = true ? 1 : 0;\n",
    "System.out.print(binaryInt);"
   ]
  },
  {
   "cell_type": "code",
   "execution_count": 7,
   "metadata": {},
   "outputs": [
    {
     "name": "stdout",
     "output_type": "stream",
     "text": [
      "0"
     ]
    },
    {
     "data": {
      "text/plain": [
       "null"
      ]
     },
     "execution_count": 7,
     "metadata": {},
     "output_type": "execute_result"
    }
   ],
   "source": [
    "int binaryInt = false ? 1 : 0;\n",
    "System.out.print(binaryInt);"
   ]
  },
  {
   "cell_type": "code",
   "execution_count": null,
   "metadata": {},
   "outputs": [],
   "source": []
  }
 ],
 "metadata": {
  "kernelspec": {
   "display_name": "Java",
   "language": "java",
   "name": "java"
  },
  "language_info": {
   "codemirror_mode": "text/x-java",
   "file_extension": ".java",
   "mimetype": "",
   "name": "Java",
   "nbconverter_exporter": "",
   "version": "1.8.0_202"
  }
 },
 "nbformat": 4,
 "nbformat_minor": 4
}
