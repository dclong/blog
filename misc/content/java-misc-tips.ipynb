{
 "cells": [
  {
   "cell_type": "markdown",
   "metadata": {},
   "source": [
    "- Title: Misc Tips on Java\n",
    "- Slug: misc-tips-java\n",
    "- Date: 2019-11-05\n",
    "- Category: Programming\n",
    "- Tags: programming, JVM, Java, instantiate, array, private, curly brace\n",
    "- Author: Ben Du"
   ]
  },
  {
   "cell_type": "markdown",
   "metadata": {},
   "source": [
    "## Instantiate Array Using Curly Braces"
   ]
  },
  {
   "cell_type": "code",
   "execution_count": 13,
   "metadata": {},
   "outputs": [
    {
     "name": "stdout",
     "output_type": "stream",
     "text": [
      "1\n",
      "2\n",
      "3\n"
     ]
    },
    {
     "data": {
      "text/plain": [
       "null"
      ]
     },
     "execution_count": 13,
     "metadata": {},
     "output_type": "execute_result"
    }
   ],
   "source": [
    "import java.util.Arrays;\n",
    "\n",
    "long[] arr = new long[] {1, 2, 3};\n",
    "Arrays.stream(arr).forEach(i -> System.out.println(i));"
   ]
  },
  {
   "cell_type": "markdown",
   "metadata": {},
   "source": [
    "## Convert Boolean to Integer"
   ]
  },
  {
   "cell_type": "markdown",
   "metadata": {},
   "source": [
    "You cannot cast a boolean value to integer using type cast. \n",
    "Instead, \n",
    "you can use the ternary operator.\n",
    "\n",
    "https://stackoverflow.com/questions/3793650/convert-boolean-to-int-in-java"
   ]
  },
  {
   "cell_type": "code",
   "execution_count": 8,
   "metadata": {},
   "outputs": [
    {
     "ename": "incompatible types",
     "evalue": " boolean cannot be converted to int",
     "output_type": "error",
     "text": "incompatible types: boolean cannot be converted to int\n int x = (int) true\n               ^   ^ \n\n",
     "traceback": [
      "\u001b[1;31mincompatible types: boolean cannot be converted to int\u001b[0;0m",
      "\u001b[1;31m int x = (int) true\u001b[0;0m",
      "\u001b[1;31m               ^   ^ \u001b[0;0m"
     ]
    }
   ],
   "source": [
    "int x = (int) true;"
   ]
  },
  {
   "cell_type": "code",
   "execution_count": 6,
   "metadata": {},
   "outputs": [
    {
     "name": "stdout",
     "output_type": "stream",
     "text": [
      "1"
     ]
    },
    {
     "data": {
      "text/plain": [
       "null"
      ]
     },
     "execution_count": 6,
     "metadata": {},
     "output_type": "execute_result"
    }
   ],
   "source": [
    "int binaryInt = true ? 1 : 0;\n",
    "System.out.print(binaryInt);"
   ]
  },
  {
   "cell_type": "code",
   "execution_count": 7,
   "metadata": {},
   "outputs": [
    {
     "name": "stdout",
     "output_type": "stream",
     "text": [
      "0"
     ]
    },
    {
     "data": {
      "text/plain": [
       "null"
      ]
     },
     "execution_count": 7,
     "metadata": {},
     "output_type": "execute_result"
    }
   ],
   "source": [
    "int binaryInt = false ? 1 : 0;\n",
    "System.out.print(binaryInt);"
   ]
  },
  {
   "cell_type": "markdown",
   "metadata": {},
   "source": [
    "## Ternary Operator\n",
    "\n",
    "The ternary operator has a very low precedence \n",
    "(similar as equivalent operator/expression in other programming languages),\n",
    "which is easy to cause tricky errors if not careful.\n",
    "It is suggested that you always use parentheses to make precedence clear\n",
    "when you use a ternary expression."
   ]
  },
  {
   "cell_type": "markdown",
   "metadata": {},
   "source": [
    "## [Format and Round Numbers](https://stackoverflow.com/questions/2808535/round-a-double-to-2-decimal-places)"
   ]
  },
  {
   "cell_type": "markdown",
   "metadata": {},
   "source": [
    "### System.out.printf"
   ]
  },
  {
   "cell_type": "code",
   "execution_count": 3,
   "metadata": {},
   "outputs": [
    {
     "name": "stdout",
     "output_type": "stream",
     "text": [
      "Pi: 3.14"
     ]
    },
    {
     "data": {
      "text/plain": [
       "null"
      ]
     },
     "execution_count": 3,
     "metadata": {},
     "output_type": "execute_result"
    }
   ],
   "source": [
    "System.out.printf(\"Pi: %.2f\", 3.1415926);"
   ]
  },
  {
   "cell_type": "markdown",
   "metadata": {},
   "source": [
    "### java.text.DecimalFormat"
   ]
  },
  {
   "cell_type": "code",
   "execution_count": 9,
   "metadata": {},
   "outputs": [
    {
     "name": "stdout",
     "output_type": "stream",
     "text": [
      "3.14"
     ]
    },
    {
     "data": {
      "text/plain": [
       "null"
      ]
     },
     "execution_count": 9,
     "metadata": {},
     "output_type": "execute_result"
    }
   ],
   "source": [
    "import java.text.DecimalFormat;\n",
    "\n",
    "DecimalFormat dfmat = new DecimalFormat(\"#.##\");\n",
    "double fval = Double.valueOf(dfmat.format(3.1415926));\n",
    "System.out.print(fval);"
   ]
  },
  {
   "cell_type": "markdown",
   "metadata": {},
   "source": [
    "### Math.round"
   ]
  },
  {
   "cell_type": "code",
   "execution_count": 12,
   "metadata": {},
   "outputs": [
    {
     "name": "stdout",
     "output_type": "stream",
     "text": [
      "3.0"
     ]
    },
    {
     "data": {
      "text/plain": [
       "null"
      ]
     },
     "execution_count": 12,
     "metadata": {},
     "output_type": "execute_result"
    }
   ],
   "source": [
    "import java.lang.Math;\n",
    "\n",
    "double fval = Math.round(3.1415926);\n",
    "System.out.print(fval);"
   ]
  },
  {
   "cell_type": "code",
   "execution_count": 14,
   "metadata": {},
   "outputs": [
    {
     "name": "stdout",
     "output_type": "stream",
     "text": [
      "3.14"
     ]
    },
    {
     "data": {
      "text/plain": [
       "null"
      ]
     },
     "execution_count": 14,
     "metadata": {},
     "output_type": "execute_result"
    }
   ],
   "source": [
    "import java.lang.Math;\n",
    "\n",
    "double fval = Math.round(3.1415926 * 100) / 100.0;\n",
    "System.out.print(fval);"
   ]
  },
  {
   "cell_type": "markdown",
   "metadata": {},
   "source": [
    "### [org.apache.commons.math3.util.Precision](https://commons.apache.org/proper/commons-math/javadocs/api-3.6.1/index.html?org/apache/commons/math3/util/Precision.html)"
   ]
  },
  {
   "cell_type": "code",
   "execution_count": null,
   "metadata": {},
   "outputs": [],
   "source": [
    "import org.apache.commons.math3.util.Precision;\n",
    "\n",
    "double fval = Precision.round(3.1415926, 2);\n",
    "System.out.print(fval);"
   ]
  },
  {
   "cell_type": "code",
   "execution_count": 15,
   "metadata": {},
   "outputs": [
    {
     "name": "stdout",
     "output_type": "stream",
     "text": [
      "3.14"
     ]
    },
    {
     "data": {
      "text/plain": [
       "null"
      ]
     },
     "execution_count": 15,
     "metadata": {},
     "output_type": "execute_result"
    }
   ],
   "source": [
    "String fval = String.format(\"%1.2f\", 3.1415926);\n",
    "System.out.print(fval);"
   ]
  },
  {
   "cell_type": "code",
   "execution_count": null,
   "metadata": {},
   "outputs": [],
   "source": []
  }
 ],
 "metadata": {
  "kernelspec": {
   "display_name": "Java",
   "language": "java",
   "name": "java"
  },
  "language_info": {
   "codemirror_mode": "text/x-java",
   "file_extension": ".java",
   "mimetype": "",
   "name": "Java",
   "nbconverter_exporter": "",
   "version": "1.8.0_202"
  }
 },
 "nbformat": 4,
 "nbformat_minor": 4
}
