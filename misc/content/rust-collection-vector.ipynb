{
 "cells": [
  {
   "cell_type": "markdown",
   "metadata": {},
   "source": [
    "- Title: Vector in Rust\n",
    "- Slug: rust-vector\n",
    "- Date: 2020-04-08\n",
    "- Category: Computer Science\n",
    "- Tags: programming, Rust, collection, Vector\n",
    "- Author: Ben Du"
   ]
  },
  {
   "cell_type": "code",
   "execution_count": 5,
   "metadata": {},
   "outputs": [
    {
     "data": {
      "text/plain": [
       "[1, 2, 3]"
      ]
     },
     "execution_count": 5,
     "metadata": {},
     "output_type": "execute_result"
    }
   ],
   "source": [
    "let vec1 = vec![1, 2, 3];\n",
    "vec1"
   ]
  },
  {
   "cell_type": "code",
   "execution_count": 10,
   "metadata": {},
   "outputs": [
    {
     "ename": "Error",
     "evalue": "borrow of moved value: `vec1`",
     "output_type": "error",
     "traceback": [
      "let vec2 = vec1;",
      "           ^^^^ value moved here",
      "println!(\"{:?}\", vec1);",
      "                 ^^^^ value borrowed here after move",
      "let vec1 = vec![1, 2, 3];",
      "    ^^^^ move occurs because `vec1` has type `std::vec::Vec<i32>`, which does not implement the `Copy` trait",
      "borrow of moved value: `vec1`"
     ]
    }
   ],
   "source": [
    "let vec1 = vec![1, 2, 3];\n",
    "let vec2 = vec1;\n",
    "println!(\"{:?}\", vec1);\n",
    "println!(\"{:?}\", vec2);"
   ]
  },
  {
   "cell_type": "code",
   "execution_count": 11,
   "metadata": {},
   "outputs": [
    {
     "ename": "Error",
     "evalue": "`vec1` does not live long enough",
     "output_type": "error",
     "traceback": [
      "let vec2 = &vec1;",
      "           ^^^^^ borrowed value does not live long enough",
      "`vec1` does not live long enough"
     ]
    },
    {
     "ename": "Error",
     "evalue": "cannot move out of `vec1` because it is borrowed",
     "output_type": "error",
     "traceback": [
      "let vec2 = &vec1;",
      "           ^^^^^ borrow of `vec1` occurs here",
      "cannot move out of `vec1` because it is borrowed"
     ]
    }
   ],
   "source": [
    "let vec1 = vec![1, 2, 3];\n",
    "let vec2 = &vec1;\n",
    "println!(\"{:?}\", vec1);\n",
    "println!(\"{:?}\", vec2);"
   ]
  }
 ],
 "metadata": {
  "kernelspec": {
   "display_name": "Rust",
   "language": "rust",
   "name": "rust"
  },
  "language_info": {
   "codemirror_mode": "rust",
   "file_extension": ".rs",
   "mimetype": "text/rust",
   "name": "Rust",
   "pygment_lexer": "rust",
   "version": ""
  }
 },
 "nbformat": 4,
 "nbformat_minor": 4
}
