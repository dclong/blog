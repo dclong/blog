{
 "nbformat": 4,
 "nbformat_minor": 2,
 "metadata": {
  "language_info": {
   "name": "python",
   "codemirror_mode": {
    "name": "ipython",
    "version": 3
   },
   "version": "3.8.5-final"
  },
  "orig_nbformat": 2,
  "file_extension": ".py",
  "mimetype": "text/x-python",
  "name": "python",
  "npconvert_exporter": "python",
  "pygments_lexer": "ipython3",
  "version": 3,
  "kernelspec": {
   "name": "python3",
   "display_name": "Python 3",
   "language": "python"
  }
 },
 "cells": [
  {
   "cell_type": "markdown",
   "metadata": {},
   "source": [
    "- Author: Ben Du\n",
    "- Date: 2021-04-16 16:56:15\n",
    "- Title: Tips on Sqlfluff\n",
    "- Slug: tips-on-sqlfluff\n",
    "- Category: Computer Science\n",
    "- Tags: Computer Science, programming, sqlfluff, SQL, lint, linter, format, issue, error"
   ]
  },
  {
   "source": [
    "## Installation"
   ],
   "cell_type": "markdown",
   "metadata": {}
  },
  {
   "cell_type": "code",
   "execution_count": 2,
   "metadata": {},
   "outputs": [
    {
     "output_type": "stream",
     "name": "stdout",
     "text": [
      "Collecting sqlfluff\n",
      "  Downloading sqlfluff-0.5.1-py3-none-any.whl (276 kB)\n",
      "\u001b[K     |\u2588\u2588\u2588\u2588\u2588\u2588\u2588\u2588\u2588\u2588\u2588\u2588\u2588\u2588\u2588\u2588\u2588\u2588\u2588\u2588\u2588\u2588\u2588\u2588\u2588\u2588\u2588\u2588\u2588\u2588\u2588\u2588| 276 kB 6.4 MB/s \n",
      "\u001b[?25hCollecting appdirs\n",
      "  Downloading appdirs-1.4.4-py2.py3-none-any.whl (9.6 kB)\n",
      "Collecting cached-property\n",
      "  Downloading cached_property-1.5.2-py2.py3-none-any.whl (7.6 kB)\n",
      "Requirement already satisfied, skipping upgrade: click>=7.1 in /usr/local/lib/python3.8/dist-packages (from sqlfluff) (7.1.2)\n",
      "Collecting colorama>=0.3\n",
      "  Downloading colorama-0.4.4-py2.py3-none-any.whl (16 kB)\n",
      "Collecting diff-cover>=2.5.0\n",
      "  Downloading diff_cover-5.0.1-py3-none-any.whl (44 kB)\n",
      "\u001b[K     |\u2588\u2588\u2588\u2588\u2588\u2588\u2588\u2588\u2588\u2588\u2588\u2588\u2588\u2588\u2588\u2588\u2588\u2588\u2588\u2588\u2588\u2588\u2588\u2588\u2588\u2588\u2588\u2588\u2588\u2588\u2588\u2588| 44 kB 2.3 MB/s \n",
      "\u001b[?25hCollecting bench-it\n",
      "  Downloading bench_it-1.0.1-py2.py3-none-any.whl (19 kB)\n",
      "Requirement already satisfied, skipping upgrade: pathspec in /usr/local/lib/python3.8/dist-packages (from sqlfluff) (0.8.1)\n",
      "Collecting configparser\n",
      "  Downloading configparser-5.0.2-py3-none-any.whl (19 kB)\n",
      "Requirement already satisfied, skipping upgrade: Jinja2 in /usr/local/lib/python3.8/dist-packages (from sqlfluff) (2.11.3)\n",
      "Requirement already satisfied, skipping upgrade: typing-extensions in /usr/local/lib/python3.8/dist-packages (from sqlfluff) (3.7.4.3)\n",
      "Requirement already satisfied, skipping upgrade: pytest in /usr/local/lib/python3.8/dist-packages (from sqlfluff) (6.2.3)\n",
      "Collecting oyaml\n",
      "  Downloading oyaml-1.0-py2.py3-none-any.whl (3.0 kB)\n",
      "Requirement already satisfied, skipping upgrade: pygments in /usr/local/lib/python3.8/dist-packages (from diff-cover>=2.5.0->sqlfluff) (2.8.1)\n",
      "Requirement already satisfied, skipping upgrade: pluggy in /usr/local/lib/python3.8/dist-packages (from diff-cover>=2.5.0->sqlfluff) (0.13.1)\n",
      "Requirement already satisfied, skipping upgrade: chardet>=3.0.0 in /usr/lib/python3/dist-packages (from diff-cover>=2.5.0->sqlfluff) (3.0.4)\n",
      "Collecting jinja2-pluralize\n",
      "  Downloading jinja2_pluralize-0.3.0-py2.py3-none-any.whl (4.8 kB)\n",
      "Requirement already satisfied, skipping upgrade: MarkupSafe>=0.23 in /usr/local/lib/python3.8/dist-packages (from Jinja2->sqlfluff) (1.1.1)\n",
      "Requirement already satisfied, skipping upgrade: toml in /usr/local/lib/python3.8/dist-packages (from pytest->sqlfluff) (0.10.2)\n",
      "Requirement already satisfied, skipping upgrade: packaging in /usr/local/lib/python3.8/dist-packages (from pytest->sqlfluff) (20.9)\n",
      "Requirement already satisfied, skipping upgrade: py>=1.8.2 in /usr/local/lib/python3.8/dist-packages (from pytest->sqlfluff) (1.10.0)\n",
      "Requirement already satisfied, skipping upgrade: attrs>=19.2.0 in /usr/local/lib/python3.8/dist-packages (from pytest->sqlfluff) (20.3.0)\n",
      "Requirement already satisfied, skipping upgrade: iniconfig in /usr/local/lib/python3.8/dist-packages (from pytest->sqlfluff) (1.1.1)\n",
      "Requirement already satisfied, skipping upgrade: pyyaml in /usr/local/lib/python3.8/dist-packages (from oyaml->sqlfluff) (5.4.1)\n",
      "Collecting inflect>=0.2.4\n",
      "  Downloading inflect-5.3.0-py3-none-any.whl (32 kB)\n",
      "Requirement already satisfied, skipping upgrade: pyparsing>=2.0.2 in /usr/local/lib/python3.8/dist-packages (from packaging->pytest->sqlfluff) (2.4.7)\n",
      "Installing collected packages: appdirs, cached-property, colorama, inflect, jinja2-pluralize, diff-cover, bench-it, configparser, oyaml, sqlfluff\n",
      "Successfully installed appdirs-1.4.4 bench-it-1.0.1 cached-property-1.5.2 colorama-0.4.4 configparser-5.0.2 diff-cover-5.0.1 inflect-5.3.0 jinja2-pluralize-0.3.0 oyaml-1.0 sqlfluff-0.5.1\n"
     ]
    }
   ],
   "source": [
    "pip3 install -U sqlfluff"
   ]
  },
  {
   "source": [
    "## General Tips and Traps \n",
    "\n",
    "1. SQLfluff supports Jinja template! \n",
    "\n",
    "## Safe to fix\n",
    "2. L001: Unneccessary trailing whitespace.\n",
    "3. L008: Commas should be followed by a single whitespace unless followed by a comment.\n",
    "\n",
    "\n",
    "## Ignore \n",
    "\n",
    "L:  75 | P:   5 |  LXR | Unable to lex characters: ''${candidat'...'\n",
    "\n",
    "## Parsing Error\n",
    "\n",
    "1. PRS: Found unparsable section: '-- /*Select list of users to choose from...'\n",
    "\n",
    "## Configuration\n",
    "\n",
    "1. `.sqlfluff`\n",
    "\n",
    "\n",
    "2. `.sqlfluffignore`\n",
    "\n",
    "2. You can customize linting and fixing of SQL files by customizing rules.\n",
    "    Please refer to \n",
    "    [Rules Reference](https://docs.sqlfluff.com/en/stable/rules.html#ruleref)\n",
    "    for a complete list of rules."
   ],
   "cell_type": "markdown",
   "metadata": {}
  },
  {
   "source": [
    "## Command-line APIs"
   ],
   "cell_type": "markdown",
   "metadata": {}
  },
  {
   "cell_type": "code",
   "execution_count": 3,
   "metadata": {},
   "outputs": [
    {
     "output_type": "stream",
     "name": "stdout",
     "text": [
      "Usage: sqlfluff lint [OPTIONS] [PATHS]...\n\n  Lint SQL files via passing a list of files or using stdin.\n\n  PATH is the path to a sql file or directory to lint. This can be either a\n  file ('path/to/file.sql'), a path ('directory/of/sql/files'), a single\n  ('-') character to indicate reading from *stdin* or a dot/blank ('.'/' ')\n  which will be interpreted like passing the current working directory as a\n  path argument.\n\n  Linting SQL files:\n\n      sqlfluff lint path/to/file.sql     sqlfluff lint\n      directory/of/sql/files\n\n  Linting a file via stdin (note the lone '-' character):\n\n      cat path/to/file.sql | sqlfluff lint -     echo 'select col from tbl'\n      | sqlfluff lint -\n\nOptions:\n  -n, --nocolor                   No color - if this is set then the output\n                                  will be without ANSI color codes.\n\n  -v, --verbose                   Verbosity, how detailed should the output\n                                  be. This is *stackable*, so `-vv` is more\n                                  verbose than `-v`. For the most verbose\n                                  option try `-vvvv` or `-vvvvv`.\n\n  --version                       Show the version and exit.\n  --logger [parser|linter|rules]  Choose to limit the logging to one of the\n                                  loggers.\n\n  --bench                         Set this flag to engage the benchmarking\n                                  tool output.\n\n  --ignore TEXT                   Ignore particular families of errors so that\n                                  they don't cause a failed run. For example\n                                  `--ignore parsing` would mean that any\n                                  parsing errors are ignored and don't\n                                  influence the success or fail of a run.\n                                  Multiple options are possible if comma\n                                  separated e.g. `--ignore\n                                  parsing,templating`.\n\n  --exclude-rules TEXT            Exclude specific rules. For example\n                                  specifying `--exclude-rules L001` will\n                                  remove rule `L001` (Unnecessary trailing\n                                  whitespace) from the set of considered\n                                  rules. This could either be the whitelist,\n                                  or the general set if there is no specific\n                                  whitelist. Multiple rules can be specified\n                                  with commas e.g. `--exclude-rules L001,L002`\n                                  will exclude violations of rule `L001` and\n                                  rule `L002`.\n\n  --rules TEXT                    Narrow the search to only specific rules.\n                                  For example specifying `--rules L001` will\n                                  only search for rule `L001` (Unnecessary\n                                  trailing whitespace). Multiple rules can be\n                                  specified with commas e.g. `--rules\n                                  L001,L002` will specify only looking for\n                                  violations of rule `L001` and rule `L002`.\n\n  --templater TEXT                The templater to use (default=jinja)\n  --dialect TEXT                  The dialect of SQL to lint (default=ansi)\n  -f, --format [human|json|yaml]  What format to return the lint result in.\n  --nofail                        If set, the exit code will always be zero,\n                                  regardless of violations found. This is\n                                  potentially useful during rollout.\n\n  --disregard-sqlfluffignores     Perform the operation regardless of\n                                  .sqlfluffignore configurations\n\n  --help                          Show this message and exit.\n"
     ]
    }
   ],
   "source": [
    "!sqlfluff lint --help"
   ]
  },
  {
   "cell_type": "code",
   "execution_count": null,
   "metadata": {},
   "outputs": [],
   "source": [
    "sqlfluff lint test.sql"
   ]
  },
  {
   "cell_type": "code",
   "execution_count": null,
   "metadata": {},
   "outputs": [],
   "source": [
    "sqlfluff fix test.sql"
   ]
  },
  {
   "source": [
    "## Python APIs"
   ],
   "cell_type": "markdown",
   "metadata": {}
  },
  {
   "cell_type": "code",
   "execution_count": 2,
   "metadata": {},
   "outputs": [],
   "source": [
    "import sqlfluff"
   ]
  },
  {
   "source": [
    "Parse a quite complex query."
   ],
   "cell_type": "markdown",
   "metadata": {}
  },
  {
   "cell_type": "code",
   "execution_count": 4,
   "metadata": {},
   "outputs": [],
   "source": [
    "sql = \"\"\"\n",
    "    WITH foo AS (\n",
    "        SELECT * FROM bar.bar\n",
    "    ),\n",
    "    baz AS (\n",
    "        SELECT * FROM bap\n",
    "    )\n",
    "    SELECT \n",
    "        * \n",
    "    FROM \n",
    "        foo\n",
    "    INNER JOIN \n",
    "        baz \n",
    "    USING (\n",
    "        user_id\n",
    "    )\n",
    "    INNER JOIN \n",
    "        ban \n",
    "    USING (\n",
    "        user_id\n",
    "    )\n",
    "    \"\"\"\n",
    "parsed = sqlfluff.parse(sql)"
   ]
  },
  {
   "source": [
    "Extract table names. \n",
    "SQLfluff looks for all table references which are NOT CTE aliases."
   ],
   "cell_type": "markdown",
   "metadata": {}
  },
  {
   "cell_type": "code",
   "execution_count": 5,
   "metadata": {},
   "outputs": [
    {
     "output_type": "execute_result",
     "data": {
      "text/plain": [
       "{'ban', 'bap', 'bar.bar'}"
      ]
     },
     "metadata": {},
     "execution_count": 5
    }
   ],
   "source": [
    "parsed.tree.get_table_references()"
   ]
  },
  {
   "source": [
    "## References \n",
    "\n",
    "https://github.com/sqlfluff/sqlfluff/blob/master/examples/03_extracting_references.py\n",
    "\n",
    "https://github.com/sqlfluff/sqlfluff/tree/master/examples\n",
    "\n",
    "[Rules Reference](https://docs.sqlfluff.com/en/stable/rules.html#ruleref)\n"
   ],
   "cell_type": "markdown",
   "metadata": {}
  },
  {
   "cell_type": "code",
   "execution_count": null,
   "metadata": {},
   "outputs": [],
   "source": []
  }
 ]
}