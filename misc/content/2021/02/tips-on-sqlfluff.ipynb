{
 "nbformat": 4,
 "nbformat_minor": 2,
 "metadata": {
  "language_info": {
   "name": "python",
   "codemirror_mode": {
    "name": "ipython",
    "version": 3
   },
   "version": "3.8.6-final"
  },
  "orig_nbformat": 2,
  "file_extension": ".py",
  "mimetype": "text/x-python",
  "name": "python",
  "npconvert_exporter": "python",
  "pygments_lexer": "ipython3",
  "version": 3,
  "kernelspec": {
   "name": "python3",
   "display_name": "Python 3",
   "language": "python"
  }
 },
 "cells": [
  {
   "cell_type": "markdown",
   "metadata": {},
   "source": [
    "- Author: Ben Du\n",
    "- Date: 2021-02-16 15:41:33\n",
    "- Title: Tips on Sqlfluff\n",
    "- Slug: tips-on-sqlfluff\n",
    "- Category: Computer Science\n",
    "- Tags: Computer Science, programming, sqlfluff, SQL, lint, linter, format, issue, error"
   ]
  },
  {
   "source": [
    "## General Tips and Traps \n",
    "\n",
    "1. SQLfluff supports Jinja template! \n",
    "\n",
    "## Safe to fix\n",
    "2. L001: Unneccessary trailing whitespace.\n",
    "3. L008: Commas should be followed by a single whitespace unless followed by a comment.\n",
    "\n",
    "\n",
    "## Ignore \n",
    "\n",
    "L:  75 | P:   5 |  LXR | Unable to lex characters: ''${candidat'...'\n",
    "\n",
    "## Parsing Error\n",
    "\n",
    "1. PRS: Found unparsable section: '-- /*Select list of users to choose from...'"
   ],
   "cell_type": "markdown",
   "metadata": {}
  },
  {
   "cell_type": "code",
   "execution_count": 2,
   "metadata": {},
   "outputs": [],
   "source": [
    "import sqlfluff"
   ]
  },
  {
   "source": [
    "Parse a quite complex query."
   ],
   "cell_type": "markdown",
   "metadata": {}
  },
  {
   "cell_type": "code",
   "execution_count": 4,
   "metadata": {},
   "outputs": [],
   "source": [
    "sql = \"\"\"\n",
    "    WITH foo AS (\n",
    "        SELECT * FROM bar.bar\n",
    "    ),\n",
    "    baz AS (\n",
    "        SELECT * FROM bap\n",
    "    )\n",
    "    SELECT \n",
    "        * \n",
    "    FROM \n",
    "        foo\n",
    "    INNER JOIN \n",
    "        baz \n",
    "    USING (\n",
    "        user_id\n",
    "    )\n",
    "    INNER JOIN \n",
    "        ban \n",
    "    USING (\n",
    "        user_id\n",
    "    )\n",
    "    \"\"\"\n",
    "parsed = sqlfluff.parse(sql)"
   ]
  },
  {
   "source": [
    "Extract table names. \n",
    "SQLfluff looks for all table references which are NOT CTE aliases."
   ],
   "cell_type": "markdown",
   "metadata": {}
  },
  {
   "cell_type": "code",
   "execution_count": 5,
   "metadata": {},
   "outputs": [
    {
     "output_type": "execute_result",
     "data": {
      "text/plain": [
       "{'ban', 'bap', 'bar.bar'}"
      ]
     },
     "metadata": {},
     "execution_count": 5
    }
   ],
   "source": [
    "parsed.tree.get_table_references()"
   ]
  },
  {
   "source": [
    "## References \n",
    "\n",
    "https://github.com/sqlfluff/sqlfluff/blob/master/examples/03_extracting_references.py\n",
    "\n",
    "https://github.com/sqlfluff/sqlfluff/tree/master/examples"
   ],
   "cell_type": "markdown",
   "metadata": {}
  },
  {
   "cell_type": "code",
   "execution_count": null,
   "metadata": {},
   "outputs": [],
   "source": []
  }
 ]
}