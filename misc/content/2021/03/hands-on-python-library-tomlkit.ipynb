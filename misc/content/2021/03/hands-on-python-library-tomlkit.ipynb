{
 "nbformat": 4,
 "nbformat_minor": 2,
 "metadata": {
  "language_info": {
   "name": "python",
   "codemirror_mode": {
    "name": "ipython",
    "version": 3
   },
   "version": "3.8.6-final"
  },
  "orig_nbformat": 2,
  "file_extension": ".py",
  "mimetype": "text/x-python",
  "name": "python",
  "npconvert_exporter": "python",
  "pygments_lexer": "ipython3",
  "version": 3,
  "kernelspec": {
   "name": "python3",
   "display_name": "Python 3.8.6 64-bit",
   "metadata": {
    "interpreter": {
     "hash": "aee8b7b246df8f9039afb4144a1f6fd8d2ca17a180786b69acc140d282b71a49"
    }
   }
  }
 },
 "cells": [
  {
   "cell_type": "markdown",
   "metadata": {},
   "source": [
    "- Author: Ben Du\n",
    "- Date: 2021-03-15 23:00:46\n",
    "- Title: Hands on the Python library tomlkit\n",
    "- Slug: hands-on-python-library-tomlkit\n",
    "- Category: Computer Science\n",
    "- Tags: Computer Science, programming, TOML, Python, tomlkit"
   ]
  },
  {
   "source": [
    " ** Things on this page are fragmentary and immature notes/thoughts of the author. Please read with your own judgement! **  "
   ],
   "cell_type": "markdown",
   "metadata": {}
  },
  {
   "source": [
    "## Tips & Traps\n",
    "\n",
    "1. Indentions are allowed in a TOML file."
   ],
   "cell_type": "markdown",
   "metadata": {}
  },
  {
   "source": [
    "## Installatoion"
   ],
   "cell_type": "markdown",
   "metadata": {}
  },
  {
   "cell_type": "code",
   "execution_count": 1,
   "metadata": {},
   "outputs": [
    {
     "output_type": "stream",
     "name": "stdout",
     "text": [
      "Collecting tomlkit\n",
      "  Using cached tomlkit-0.7.0-py2.py3-none-any.whl (32 kB)\n",
      "Installing collected packages: tomlkit\n",
      "Successfully installed tomlkit-0.7.0\n"
     ]
    }
   ],
   "source": [
    "pip3 install tomlkit"
   ]
  },
  {
   "cell_type": "code",
   "execution_count": 9,
   "metadata": {},
   "outputs": [],
   "source": [
    "from tomlkit import dumps\n",
    "from tomlkit import loads"
   ]
  },
  {
   "cell_type": "code",
   "execution_count": 11,
   "metadata": {},
   "outputs": [
    {
     "output_type": "execute_result",
     "data": {
      "text/plain": [
       "{'tool': {'poetry': {'name': 'xinstall', 'version': '0.35.0', 'description': 'Easy Cross-platform Installation and Configuration of Apps.', 'authors': ['Benjamin Du <longendu@yahoo.com>'], 'scripts': {'xinstall': 'xinstall:main.main'}, 'dependencies': {'python': '>=3.7.1,<4', 'distro': '>=1.5.0', 'tqdm': '>=4.48.2', 'findspark': '>=1.4.2', 'requests': '>=2.25.0', 'packaging': '>=20.4', 'GitPython': '>=3.1.11', 'toml': '>=0.10.2'}, 'dev-dependencies': {'pytest': '>=3.0', 'pylint': '>=2.4.4', 'pytype': {'version': '>=2020.08.10', 'python': '<3.9'}, 'yapf': '>=0.31.0', 'coverage': '>=5.3'}}, 'pylint': {'master': {'ignore': '.venv,.ipynb_checkpoints', 'unsafe-load-any-extension': 'no', 'load-plugins': 'pylint.extensions.docparams', 'extension-pkg-whitelist': 'numpy,cv2,pyspark', 'generated-members': 'sqlite3.*,cv2.*,pyspark.*', 'ignored-modules': 'pyspark.sql.functions'}, 'typecheck': {'ignored-classes': 'Namespace'}, 'message_control': {'disable': 'C0103,C0200,C0301,C0302,C0303,C0330,R0902,R0903,R0904,R0911,R0912,R0913,W0621,W0622,W0702,W0703,W1116,W9016'}}, 'yapf': {'based_on_style': 'facebook', 'column_limit': '88'}}, 'build-system': {'requires': ['poetry>=1.0.0'], 'build-backend': 'poetry.masonry.api'}}"
      ]
     },
     "metadata": {},
     "execution_count": 11
    }
   ],
   "source": [
    "dic = loads(Path(\"pyproject.toml\").read_text())\n",
    "dic "
   ]
  },
  {
   "cell_type": "code",
   "execution_count": 13,
   "metadata": {},
   "outputs": [
    {
     "output_type": "stream",
     "name": "stdout",
     "text": [
      "[tool.poetry]\nname = \"xinstall\"\nversion = \"0.35.0\"\ndescription = \"Easy Cross-platform Installation and Configuration of Apps.\"\nauthors = [\"Benjamin Du <longendu@yahoo.com>\"]\n\n[tool.poetry.scripts]\nxinstall = \"xinstall:main.main\"\n\n[tool.poetry.dependencies]\npython = \">=3.7.1,<4\"\ndistro = \">=1.5.0\"\ntqdm = \">=4.48.2\"\nfindspark = \">=1.4.2\"\nrequests = \">=2.25.0\"\npackaging = \">=20.4\"\nGitPython = \">=3.1.11\"\ntoml = \">=0.10.2\"\n\n[tool.poetry.dev-dependencies]\npytest = \">=3.0\"\npylint = \">=2.4.4\"\npytype = { version = \">=2020.08.10\", python = \"<3.9\" }\nyapf = \">=0.31.0\"\ncoverage = \">=5.3\"\n\n[tool.pylint.master]\nignore = \".venv,.ipynb_checkpoints\"\nunsafe-load-any-extension = \"no\"\nload-plugins = \"pylint.extensions.docparams\"\nextension-pkg-whitelist = \"numpy,cv2,pyspark\"\ngenerated-members = \"sqlite3.*,cv2.*,pyspark.*\"\nignored-modules = \"pyspark.sql.functions\"\n\n[tool.pylint.typecheck]\nignored-classes = \"Namespace\"\n\n[tool.pylint.message_control]\ndisable = \"C0103,C0200,C0301,C0302,C0303,C0330,R0902,R0903,R0904,R0911,R0912,R0913,W0621,W0622,W0702,W0703,W1116,W9016\"\n\n[tool.yapf]\nbased_on_style = \"facebook\"\ncolumn_limit = \"88\"\n\n[build-system]\nrequires = [\"poetry>=1.0.0\"]\nbuild-backend = \"poetry.masonry.api\"\n\n"
     ]
    }
   ],
   "source": [
    "print(dumps(dic))"
   ]
  },
  {
   "cell_type": "code",
   "execution_count": 3,
   "metadata": {},
   "outputs": [
    {
     "output_type": "execute_result",
     "data": {
      "text/plain": [
       "['__builtins__',\n",
       " '__cached__',\n",
       " '__doc__',\n",
       " '__file__',\n",
       " '__loader__',\n",
       " '__name__',\n",
       " '__package__',\n",
       " '__path__',\n",
       " '__spec__',\n",
       " '__version__',\n",
       " '_compat',\n",
       " '_utils',\n",
       " 'aot',\n",
       " 'api',\n",
       " 'array',\n",
       " 'boolean',\n",
       " 'comment',\n",
       " 'container',\n",
       " 'date',\n",
       " 'datetime',\n",
       " 'document',\n",
       " 'dumps',\n",
       " 'exceptions',\n",
       " 'float_',\n",
       " 'inline_table',\n",
       " 'integer',\n",
       " 'item',\n",
       " 'items',\n",
       " 'key',\n",
       " 'key_value',\n",
       " 'loads',\n",
       " 'nl',\n",
       " 'parse',\n",
       " 'parser',\n",
       " 'source',\n",
       " 'string',\n",
       " 'table',\n",
       " 'time',\n",
       " 'toml_char',\n",
       " 'toml_document',\n",
       " 'value',\n",
       " 'ws']"
      ]
     },
     "metadata": {},
     "execution_count": 3
    }
   ],
   "source": [
    "\n",
    ">>> content = \"\"\"[table]\n",
    "... foo = \"bar\"  # String\n",
    "... \"\"\"\n",
    ">>> doc = parse(content)\n",
    "\n",
    "# doc is a TOMLDocument instance that holds all the information\n",
    "# about the TOML string.\n",
    "# It behaves like a standard dictionary.\n",
    "\n",
    ">>> assert doc[\"table\"][\"foo\"] == \"bar\"\n",
    "\n",
    "# The string generated from the document is exactly the same\n",
    "# as the original string\n",
    ">>> assert dumps(doc) == content"
   ]
  },
  {
   "cell_type": "code",
   "execution_count": null,
   "metadata": {},
   "outputs": [],
   "source": [
    ">>> from tomlkit import comment\n",
    ">>> from tomlkit import document\n",
    ">>> from tomlkit import nl\n",
    ">>> from tomlkit import table\n",
    "\n",
    ">>> doc = document()\n",
    ">>> doc.add(comment(\"This is a TOML document.\"))\n",
    ">>> doc.add(nl())\n",
    ">>> doc.add(\"title\", \"TOML Example\")\n",
    "# Using doc[\"title\"] = \"TOML Example\" is also possible\n",
    "\n",
    ">>> owner = table()\n",
    ">>> owner.add(\"name\", \"Tom Preston-Werner\")\n",
    ">>> owner.add(\"organization\", \"GitHub\")\n",
    ">>> owner.add(\"bio\", \"GitHub Cofounder & CEO\\nLikes tater tots and beer.\")\n",
    ">>> owner.add(\"dob\", datetime(1979, 5, 27, 7, 32, tzinfo=utc))\n",
    ">>> owner[\"dob\"].comment(\"First class dates? Why not?\")\n",
    "\n",
    "# Adding the table to the document\n",
    ">>> doc.add(\"owner\", owner)\n",
    "\n",
    ">>> database = table()\n",
    ">>> database[\"server\"] = \"192.168.1.1\"\n",
    ">>> database[\"ports\"] = [8001, 8001, 8002]\n",
    ">>> database[\"connection_max\"] = 5000\n",
    ">>> database[\"enabled\"] = True\n",
    "\n",
    ">>> doc[\"database\"] = database"
   ]
  },
  {
   "source": [
    "## Parse TOML from a String"
   ],
   "cell_type": "markdown",
   "metadata": {}
  },
  {
   "cell_type": "code",
   "execution_count": 1,
   "metadata": {},
   "outputs": [],
   "source": [
    "import toml"
   ]
  },
  {
   "cell_type": "code",
   "execution_count": 6,
   "metadata": {},
   "outputs": [],
   "source": [
    "toml_string = \"\"\"\n",
    "    # This is a TOML document.\n",
    "    title = \"TOML Example\"\n",
    "\n",
    "    [owner.info]\n",
    "    name = \"Tom Preston-Werner\"\n",
    "    dob = 1979-05-27T07:32:00-08:00 # First class dates\n",
    "\n",
    "    [database]\n",
    "    server = \"192.168.1.1\"\n",
    "    ports = [ 8001, 8001, 8002 ]\n",
    "    connection_max = 5000\n",
    "    enabled = true\n",
    "\n",
    "    [servers]\n",
    "\n",
    "    [servers.alpha]\n",
    "    ip = \"10.0.0.1\"\n",
    "    dc = \"eqdc10\"\n",
    "\n",
    "    [servers.beta]\n",
    "    ip = \"10.0.0.2\"\n",
    "    dc = \"eqdc10\"\n",
    "\n",
    "    [clients]\n",
    "    data = [ [\"gamma\", \"delta\"], [1, 2] ]\n",
    "\n",
    "    # Line breaks are OK when inside arrays\n",
    "    hosts = [\n",
    "    \"alpha\",\n",
    "    \"omega\"\n",
    "    ]\n",
    "    \"\"\""
   ]
  },
  {
   "cell_type": "code",
   "execution_count": 16,
   "metadata": {},
   "outputs": [
    {
     "output_type": "execute_result",
     "data": {
      "text/plain": [
       "{'title': 'TOML Example',\n",
       " 'owner': {'info': {'name': 'Tom Preston-Werner',\n",
       "   'dob': datetime.datetime(1979, 5, 27, 7, 32, tzinfo=<toml.tz.TomlTz object at 0x10609cf40>)}},\n",
       " 'database': {'server': '192.168.1.1',\n",
       "  'ports': [8001, 8001, 8002],\n",
       "  'connection_max': 5000,\n",
       "  'enabled': True},\n",
       " 'servers': {'alpha': {'ip': '10.0.0.1', 'dc': 'eqdc10'},\n",
       "  'beta': {'ip': '10.0.0.2', 'dc': 'eqdc10'}},\n",
       " 'clients': {'data': [['gamma', 'delta'], [1, 2]],\n",
       "  'hosts': ['alpha', 'omega']}}"
      ]
     },
     "metadata": {},
     "execution_count": 16
    }
   ],
   "source": [
    "dic = toml.loads(toml_string)\n",
    "dic"
   ]
  },
  {
   "source": [
    "## Parse TOML from a File"
   ],
   "cell_type": "markdown",
   "metadata": {}
  },
  {
   "cell_type": "code",
   "execution_count": 21,
   "metadata": {},
   "outputs": [
    {
     "output_type": "execute_result",
     "data": {
      "text/plain": [
       "{'title': 'TOML Example',\n",
       " 'database': {'server': '192.168.1.1',\n",
       "  'ports': [8001, 8001, 8002],\n",
       "  'connection_max': 5000,\n",
       "  'enabled': True},\n",
       " 'clients': {'data': [['gamma', 'delta'], [1, 2]],\n",
       "  'hosts': ['alpha', 'omega']},\n",
       " 'owner': {'info': {'name': 'Tom Preston-Werner',\n",
       "   'dob': datetime.datetime(1979, 5, 27, 7, 32, tzinfo=<toml.tz.TomlTz object at 0x11f7b7490>)}},\n",
       " 'servers': {'alpha': {'ip': '10.0.0.1', 'dc': 'eqdc10'},\n",
       "  'beta': {'ip': '10.0.0.2', 'dc': 'eqdc10'}}}"
      ]
     },
     "metadata": {},
     "execution_count": 21
    }
   ],
   "source": [
    "with open(\"example.toml\", \"r\") as fin:\n",
    "    dic = toml.load(fin)\n",
    "dic"
   ]
  },
  {
   "source": [
    "## Dump an Object to a TOML String"
   ],
   "cell_type": "markdown",
   "metadata": {}
  },
  {
   "cell_type": "code",
   "execution_count": null,
   "metadata": {},
   "outputs": [],
   "source": [
    "with open(\"example.toml\", \"r\") as fin:\n",
    "    dic = toml.load(fin)"
   ]
  },
  {
   "cell_type": "code",
   "execution_count": 18,
   "metadata": {},
   "outputs": [
    {
     "output_type": "stream",
     "name": "stdout",
     "text": [
      "title = \"TOML Example\"\n\n[database]\nserver = \"192.168.1.1\"\nports = [ 8001, 8001, 8002,]\nconnection_max = 5000\nenabled = true\n\n[clients]\ndata = [ [ \"gamma\", \"delta\",], [ 1, 2,],]\nhosts = [ \"alpha\", \"omega\",]\n\n[owner.info]\nname = \"Tom Preston-Werner\"\ndob = 1979-05-27T07:32:00-08:00\n\n[servers.alpha]\nip = \"10.0.0.1\"\ndc = \"eqdc10\"\n\n[servers.beta]\nip = \"10.0.0.2\"\ndc = \"eqdc10\"\n\n"
     ]
    }
   ],
   "source": [
    "print(toml.dumps(dic))"
   ]
  },
  {
   "source": [
    "## Dump an Object to a TOML File"
   ],
   "cell_type": "markdown",
   "metadata": {}
  },
  {
   "cell_type": "code",
   "execution_count": null,
   "metadata": {},
   "outputs": [],
   "source": [
    "with open(\"example.toml\", \"r\") as fin:\n",
    "    dic = toml.load(fin)"
   ]
  },
  {
   "cell_type": "code",
   "execution_count": null,
   "metadata": {},
   "outputs": [],
   "source": [
    "with open(\"/tmp/example.toml\", \"w\") as fout:\n",
    "    toml.dump(dic, fout)"
   ]
  },
  {
   "source": [
    "## References\n",
    "\n",
    "https://github.com/sdispater/tomlkit"
   ],
   "cell_type": "markdown",
   "metadata": {}
  },
  {
   "cell_type": "code",
   "execution_count": null,
   "metadata": {},
   "outputs": [],
   "source": []
  }
 ]
}