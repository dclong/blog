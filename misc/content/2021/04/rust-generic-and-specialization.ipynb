{
 "cells": [
  {
   "cell_type": "markdown",
   "metadata": {},
   "source": [
    "- Author: Ben Du\n",
    "- Date: 2021-04-24 16:17:23\n",
    "- Title: Generic and Specialization in Rust\n",
    "- Slug: generic-and-specialization-in-rust\n",
    "- Category: Computer Science\n",
    "- Tags: Computer Science, programming, Rust, specialization, generic, autoref, macro"
   ]
  },
  {
   "cell_type": "markdown",
   "metadata": {},
   "source": [
    "**Things on this page are fragmentary and immature notes/thoughts of the author. Please read with your own judgement!**"
   ]
  },
  {
   "cell_type": "markdown",
   "metadata": {},
   "source": [
    "## Tips and Traps\n",
    "\n",
    "1. The specialization feature is unstable in Rust currentlly."
   ]
  },
  {
   "cell_type": "code",
   "execution_count": null,
   "metadata": {},
   "outputs": [],
   "source": [
    "#![feature(specialization)]\n",
    "\n",
    "pub trait Compare<T : ?Sized = Self> {\n",
    "    fn equal(&self, other: &T) -> bool;\n",
    "}\n",
    "\n",
    "default impl<T: ?Sized> Compare<T> for T where T: std::cmp::PartialEq<T> {\n",
    "    fn equal(&self, other: &T) -> bool {\n",
    "        self == other\n",
    "    }\n",
    "}"
   ]
  },
  {
   "cell_type": "markdown",
   "metadata": {},
   "source": [
    "## References\n",
    "\n",
    "[1210-impl-specialization](https://rust-lang.github.io/rfcs/1210-impl-specialization.html)\n",
    "\n",
    "[Autoref-based stable specialization](https://github.com/dtolnay/case-studies/tree/master/autoref-specialization)\n",
    "\n",
    "[Generic trait and specialization](https://users.rust-lang.org/t/generic-trait-and-specialization/33745)\n",
    "\n",
    "[macro_rules!](https://doc.rust-lang.org/beta/rust-by-example/macros.html)"
   ]
  }
 ],
 "metadata": {
  "file_extension": ".py",
  "kernelspec": {
   "display_name": "Rust",
   "language": "rust",
   "name": "rust"
  },
  "language_info": {
   "codemirror_mode": "rust",
   "file_extension": ".rs",
   "mimetype": "text/rust",
   "name": "Rust",
   "pygment_lexer": "rust",
   "version": ""
  },
  "mimetype": "text/x-python",
  "name": "python",
  "npconvert_exporter": "python",
  "pygments_lexer": "ipython3",
  "version": 3
 },
 "nbformat": 4,
 "nbformat_minor": 4
}
