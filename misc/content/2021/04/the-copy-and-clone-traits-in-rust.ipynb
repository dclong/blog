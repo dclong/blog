{
 "cells": [
  {
   "cell_type": "markdown",
   "metadata": {},
   "source": [
    "- Author: Ben Du\n",
    "- Date: 2021-04-19 20:58:22\n",
    "- Title: The Copy and Clone Traits in Rust\n",
    "- Slug: the-copy-and-clone-traits-in-rust\n",
    "- Category: Computer Science\n",
    "- Tags: Computer Science, programming, Rust, Copy, Clone, trait"
   ]
  },
  {
   "cell_type": "markdown",
   "metadata": {},
   "source": [
    "**Things on this page are fragmentary and immature notes/thoughts of the author. Please read with your own judgement!**"
   ]
  },
  {
   "cell_type": "markdown",
   "metadata": {},
   "source": [
    "1. Clone means the type can be duplicated.\n",
    "    Copy means the type can be duplicated by copying bytes.\n",
    "    This means that Copy implies Clone,\n",
    "    so when you implements Copy you should always implement Clone.\n",
    "\n",
    "3. `Clone` is a common trait for the ability to explicitly duplicate an object.\n",
    "    It differs from `Copy` in that `Copy` is implicit and extremely inexpensive, \n",
    "    while `Clone` is always explicit and may or may not be expensive. \n",
    "    In order to enforce these characteristics, \n",
    "    Rust does not allow you to reimplement `Copy`, \n",
    "    but you may reimplement `Clone` and run arbitrary code.\n",
    "    Since `Clone` is more general than `Copy`, \n",
    "    you can automatically make anything `Copy` be `Clone` as well.\n",
    "    \n",
    "\n",
    "2. If a type does not implement the `Copy` trait,\n",
    "    it is moved when passed as a parameter. \n",
    "    This might cause issues of \"object moved\".\n",
    "    To resolve this issue, \n",
    "    you have to implement the `Copy` trait. \n",
    "    A simple way is to drive the `Copy` and `Clonable` traits\n",
    "    using `#[derive(Copy, Clone)]`.\n"
   ]
  },
  {
   "cell_type": "markdown",
   "metadata": {},
   "source": [
    "## References \n",
    "\n",
    "[Moves, copies and clones in Rust](https://hashrust.com/blog/moves-copies-and-clones-in-rust/)\n",
    "\n",
    "[Trait std::clone::Clone](https://doc.rust-lang.org/std/clone/trait.Clone.html)"
   ]
  },
  {
   "cell_type": "code",
   "execution_count": null,
   "metadata": {},
   "outputs": [],
   "source": []
  }
 ],
 "metadata": {
  "file_extension": ".py",
  "kernelspec": {
   "display_name": "Rust",
   "language": "rust",
   "name": "rust"
  },
  "language_info": {
   "codemirror_mode": "rust",
   "file_extension": ".rs",
   "mimetype": "text/rust",
   "name": "Rust",
   "pygment_lexer": "rust",
   "version": ""
  },
  "mimetype": "text/x-python",
  "name": "python",
  "npconvert_exporter": "python",
  "pygments_lexer": "ipython3",
  "version": 3
 },
 "nbformat": 4,
 "nbformat_minor": 4
}
