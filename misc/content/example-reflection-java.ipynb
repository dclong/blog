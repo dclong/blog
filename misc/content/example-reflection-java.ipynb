{
 "cells": [
  {
   "cell_type": "markdown",
   "metadata": {},
   "source": [
    "- Title: Example of Using Reflection in Java\n",
    "- Slug: example-reflection-java\n",
    "- Date: 2019-11-05\n",
    "- Category: Programming\n",
    "- Tags: programming, JVM, Java, reflection, private\n",
    "- Author: Ben Du"
   ]
  },
  {
   "cell_type": "code",
   "execution_count": 33,
   "metadata": {},
   "outputs": [
    {
     "data": {
      "text/plain": [
       "com.twosigma.beaker.javash.bkr95ac1ac9.Check"
      ]
     },
     "execution_count": 33,
     "metadata": {},
     "output_type": "execute_result"
    }
   ],
   "source": [
    "import java.lang.reflect.Method; \n",
    "\n",
    "class Check { \n",
    "    private void privateMethod() { \n",
    "        System.out.println(\"A private method is called from outside\");\n",
    "    } \n",
    "    \n",
    "    private void privateMethodWithParam(String fname, String lname) { \n",
    "        System.out.println(\"Hello \" + fname + \" \" + lname + \", a private Method is called from outside.\");\n",
    "    }\n",
    "    \n",
    "    public void printData() { \n",
    "        System.out.println(\"Public Method\"); \n",
    "    } \n",
    "}"
   ]
  },
  {
   "cell_type": "markdown",
   "metadata": {},
   "source": [
    "Invoke a private method without parameters."
   ]
  },
  {
   "cell_type": "code",
   "execution_count": 34,
   "metadata": {},
   "outputs": [
    {
     "name": "stdout",
     "output_type": "stream",
     "text": [
      "A private method is called from outside\n"
     ]
    },
    {
     "data": {
      "text/plain": [
       "null"
      ]
     },
     "execution_count": 34,
     "metadata": {},
     "output_type": "execute_result"
    }
   ],
   "source": [
    "import java.lang.reflect.Method; \n",
    "\n",
    "Check check = new Check(); \n",
    "// get the private method \n",
    "Method method = Check.class.getDeclaredMethod(\"privateMethod\"); \n",
    "// make it accessible\n",
    "method.setAccessible(true); \n",
    "// invoke the method\n",
    "method.invoke(check); "
   ]
  },
  {
   "cell_type": "markdown",
   "metadata": {},
   "source": [
    "Invoke a private method with parameters."
   ]
  },
  {
   "cell_type": "code",
   "execution_count": 35,
   "metadata": {},
   "outputs": [
    {
     "name": "stdout",
     "output_type": "stream",
     "text": [
      "Hello Ben Du, a private Method is called from outside.\n"
     ]
    },
    {
     "data": {
      "text/plain": [
       "null"
      ]
     },
     "execution_count": 35,
     "metadata": {},
     "output_type": "execute_result"
    }
   ],
   "source": [
    "import java.lang.reflect.Method; \n",
    "\n",
    "Check check = new Check(); \n",
    "// get the private method \n",
    "Method method = Check.class.getDeclaredMethod(\"privateMethodWithParam\", String.class, String.class); \n",
    "// make it accessible\n",
    "method.setAccessible(true); \n",
    "// invoke the method\n",
    "method.invoke(check, \"Ben\", \"Du\"); "
   ]
  }
 ],
 "metadata": {
  "kernelspec": {
   "display_name": "Java",
   "language": "java",
   "name": "java"
  },
  "language_info": {
   "codemirror_mode": "text/x-java",
   "file_extension": ".java",
   "mimetype": "",
   "name": "Java",
   "nbconverter_exporter": "",
   "version": "1.8.0_202"
  }
 },
 "nbformat": 4,
 "nbformat_minor": 4
}
