{
 "cells": [
  {
   "cell_type": "markdown",
   "metadata": {},
   "source": [
    "- Title: Hands on the psutil Module in Python\n",
    "- Slug: hands-on-psutil-python\n",
    "- Date: 2019-11-02\n",
    "- Category: Computer Science\n",
    "- Tags: programming, Python, psutil, process\n",
    "- Author: Ben Du"
   ]
  },
  {
   "cell_type": "markdown",
   "metadata": {},
   "source": [
    "## References\n",
    "\n",
    "https://psutil.readthedocs.io/en/latest/\n",
    "\n",
    "https://stackoverflow.com/questions/550653/cross-platform-way-to-get-pids-by-process-name-in-python/2241047"
   ]
  },
  {
   "cell_type": "code",
   "execution_count": 1,
   "metadata": {},
   "outputs": [],
   "source": [
    "import psutil"
   ]
  },
  {
   "cell_type": "code",
   "execution_count": 2,
   "metadata": {},
   "outputs": [
    {
     "name": "stdout",
     "output_type": "stream",
     "text": [
      "psutil.Process(pid=1, name='bash', started='09:39:49')\n",
      "psutil.Process(pid=38, name='jupyterhub', started='09:39:49')\n",
      "psutil.Process(pid=43, name='node', started='09:39:50')\n",
      "psutil.Process(pid=63, name='jupyterhub-sing', started='09:39:59')\n",
      "psutil.Process(pid=125, name='bash', started='09:44:41')\n",
      "psutil.Process(pid=147, name='python3', started='10:01:47')\n",
      "psutil.Process(pid=184, name='pyls', started='10:01:59')\n",
      "psutil.Process(pid=203, name='python3', started='10:02:20')\n"
     ]
    }
   ],
   "source": [
    "for proc in psutil.process_iter():\n",
    "    print(proc)"
   ]
  },
  {
   "cell_type": "code",
   "execution_count": null,
   "metadata": {},
   "outputs": [],
   "source": []
  }
 ],
 "metadata": {
  "kernelspec": {
   "display_name": "Python 3",
   "language": "python",
   "name": "python3"
  },
  "language_info": {
   "codemirror_mode": {
    "name": "ipython",
    "version": 3
   },
   "file_extension": ".py",
   "mimetype": "text/x-python",
   "name": "python",
   "nbconvert_exporter": "python",
   "pygments_lexer": "ipython3",
   "version": "3.7.3"
  }
 },
 "nbformat": 4,
 "nbformat_minor": 4
}