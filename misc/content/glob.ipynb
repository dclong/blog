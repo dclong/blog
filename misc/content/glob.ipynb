{
 "cells": [
  {
   "cell_type": "markdown",
   "metadata": {},
   "source": [
    "- Title: Hands on the Python module glob\n",
    "- Slug: hands-on-the-python-model-glob\n",
    "- Date: 2019-10-21\n",
    "- Category: Programming\n",
    "- Tags: programming, Python, glob, file system\n",
    "- Author: Ben Du"
   ]
  },
  {
   "cell_type": "markdown",
   "metadata": {},
   "source": [
    "## Comment\n",
    "\n",
    "1. `pathlib.Path.glob` is preferred to the `glob` module!\n",
    "\n",
    "1. The list returned is not sorted.\n",
    "\n"
   ]
  },
  {
   "cell_type": "code",
   "execution_count": 1,
   "metadata": {},
   "outputs": [],
   "source": [
    "import glob"
   ]
  },
  {
   "cell_type": "code",
   "execution_count": 2,
   "metadata": {},
   "outputs": [
    {
     "data": {
      "text/plain": [
       "['/workdir/marketing_science/learning/sql_misc',\n",
       " '/workdir/marketing_science/learning/6-os',\n",
       " '/workdir/marketing_science/learning/learning.ipynb',\n",
       " '/workdir/marketing_science/learning/5-web',\n",
       " '/workdir/marketing_science/learning/4-tools',\n",
       " '/workdir/marketing_science/learning/1-big_data',\n",
       " '/workdir/marketing_science/learning/2-ebay_database',\n",
       " '/workdir/marketing_science/learning/3-machine_learning',\n",
       " '/workdir/marketing_science/learning/0-programming']"
      ]
     },
     "execution_count": 2,
     "metadata": {},
     "output_type": "execute_result"
    }
   ],
   "source": [
    "files = glob.glob('/workdir/marketing_science/learning/*')\n",
    "files"
   ]
  },
  {
   "cell_type": "code",
   "execution_count": 3,
   "metadata": {},
   "outputs": [
    {
     "data": {
      "text/plain": [
       "['/workdir/marketing_science/learning/0-programming',\n",
       " '/workdir/marketing_science/learning/1-big_data',\n",
       " '/workdir/marketing_science/learning/2-ebay_database',\n",
       " '/workdir/marketing_science/learning/3-machine_learning',\n",
       " '/workdir/marketing_science/learning/4-tools',\n",
       " '/workdir/marketing_science/learning/5-web',\n",
       " '/workdir/marketing_science/learning/6-os',\n",
       " '/workdir/marketing_science/learning/learning.ipynb',\n",
       " '/workdir/marketing_science/learning/sql_misc']"
      ]
     },
     "execution_count": 3,
     "metadata": {},
     "output_type": "execute_result"
    }
   ],
   "source": [
    "sorted(files)"
   ]
  },
  {
   "cell_type": "code",
   "execution_count": 5,
   "metadata": {},
   "outputs": [
    {
     "data": {
      "text/plain": [
       "['/workdir/marketing_science/learning/4-tools']"
      ]
     },
     "execution_count": 5,
     "metadata": {},
     "output_type": "execute_result"
    }
   ],
   "source": [
    "glob.glob('/workdir/marketing_science/learning/*oo*')"
   ]
  },
  {
   "cell_type": "code",
   "execution_count": null,
   "metadata": {},
   "outputs": [],
   "source": []
  }
 ],
 "metadata": {
  "kernelspec": {
   "display_name": "Python 3",
   "language": "python",
   "name": "python3"
  },
  "language_info": {
   "codemirror_mode": {
    "name": "ipython",
    "version": 3
   },
   "file_extension": ".py",
   "mimetype": "text/x-python",
   "name": "python",
   "nbconvert_exporter": "python",
   "pygments_lexer": "ipython3",
   "version": "3.6.8"
  }
 },
 "nbformat": 4,
 "nbformat_minor": 2
}
