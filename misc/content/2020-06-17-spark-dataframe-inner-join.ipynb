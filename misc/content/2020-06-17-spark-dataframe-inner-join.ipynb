{
 "cells": [
  {
   "cell_type": "markdown",
   "metadata": {},
   "source": [
    "- Author: Ben Du\n",
    "- Date: 2020-06-17 15:24:04\n",
    "- Title: Inner Join of Spark DataFrames\n",
    "- Slug: spark-dataframe-inner-join\n",
    "- Category: Computer Science\n",
    "- Tags: Computer Science, Spark, DataFrame, inner join, big data"
   ]
  },
  {
   "cell_type": "markdown",
   "metadata": {},
   "source": [
    "https://spark.apache.org/docs/latest/sql-programming-guide.html\n",
    "\n",
    "https://spark.apache.org/docs/latest/api/scala/index.html#org.apache.spark.sql.functions\n",
    "\n",
    "Good ways to avoid duplicated columns after join:\n",
    "\n",
    "1. select only required columns before joining\n",
    "\n",
    "2. rename (joining) column names before joining"
   ]
  },
  {
   "cell_type": "markdown",
   "metadata": {},
   "source": [
    "## Same Names in Both Tables"
   ]
  },
  {
   "cell_type": "code",
   "execution_count": 1,
   "metadata": {},
   "outputs": [
    {
     "name": "stdout",
     "output_type": "stream",
     "text": [
      "+-----+\n",
      "|value|\n",
      "+-----+\n",
      "|  bob|\n",
      "+-----+\n",
      "\n"
     ]
    },
    {
     "data": {
      "text/plain": [
       "left = [value: string]\n"
      ]
     },
     "metadata": {},
     "output_type": "display_data"
    },
    {
     "data": {
      "text/plain": [
       "[value: string]"
      ]
     },
     "execution_count": 1,
     "metadata": {},
     "output_type": "execute_result"
    }
   ],
   "source": [
    "val left = Seq(\n",
    "    (\"bob\")\n",
    ").toDF\n",
    "left.show"
   ]
  },
  {
   "cell_type": "code",
   "execution_count": 1,
   "metadata": {},
   "outputs": [
    {
     "name": "stdout",
     "output_type": "stream",
     "text": [
      "+-----+----------+--------+\n",
      "| name|      date|duration|\n",
      "+-----+----------+--------+\n",
      "|  bob|2015-01-13|       4|\n",
      "|alice|2015-04-23|      10|\n",
      "+-----+----------+--------+\n"
     ]
    },
    {
     "data": {
      "text/plain": [
       "llist = List((bob,2015-01-13,4), (alice,2015-04-23,10))\n",
       "left = [name: string, date: string ... 1 more field]\n"
      ]
     },
     "metadata": {},
     "output_type": "display_data"
    },
    {
     "data": {
      "text/plain": [
       "[name: string, date: string ... 1 more field]"
      ]
     },
     "execution_count": 1,
     "metadata": {},
     "output_type": "execute_result"
    }
   ],
   "source": [
    "val left = Seq(\n",
    "    (\"bob\", \"2015-01-13\", 4), \n",
    "    (\"alice\", \"2015-04-23\",10)\n",
    ").toDF(\"name\",\"date\",\"duration\")\n",
    "left.show()"
   ]
  },
  {
   "cell_type": "code",
   "execution_count": 3,
   "metadata": {},
   "outputs": [
    {
     "name": "stdout",
     "output_type": "stream",
     "text": [
      "+-----+------+\n",
      "| name|upload|\n",
      "+-----+------+\n",
      "|alice|   100|\n",
      "|  bob|    23|\n",
      "+-----+------+\n",
      "\n"
     ]
    }
   ],
   "source": [
    "val right = Seq((\"alice\", 100),(\"bob\", 23)).toDF(\"name\",\"upload\")\n",
    "right.show()"
   ]
  },
  {
   "cell_type": "markdown",
   "metadata": {},
   "source": [
    "Duplicate columns happens if you use an expression as join condition!"
   ]
  },
  {
   "cell_type": "code",
   "execution_count": 9,
   "metadata": {},
   "outputs": [
    {
     "name": "stdout",
     "output_type": "stream",
     "text": [
      "+-----+----------+--------+-----+------+\n",
      "| name|      date|duration| name|upload|\n",
      "+-----+----------+--------+-----+------+\n",
      "|  bob|2015-01-13|       4|  bob|    23|\n",
      "|alice|2015-04-23|      10|alice|   100|\n",
      "+-----+----------+--------+-----+------+\n",
      "\n"
     ]
    }
   ],
   "source": [
    "val df = left.join(right, left.col(\"name\") === right.col(\"name\"))\n",
    "df.show()"
   ]
  },
  {
   "cell_type": "code",
   "execution_count": 24,
   "metadata": {},
   "outputs": [
    {
     "name": "stdout",
     "output_type": "stream",
     "text": [
      "+-----+----------+--------+-----+------+--------+\n",
      "| name|      date|duration| name|upload|duration|\n",
      "+-----+----------+--------+-----+------+--------+\n",
      "|  bob|2015-01-13|       4|  bob|    23|       2|\n",
      "|alice|2015-04-23|      10|alice|   100|       1|\n",
      "+-----+----------+--------+-----+------+--------+\n",
      "\n"
     ]
    }
   ],
   "source": [
    "val df = left.join(right, left(\"name\") === right(\"name\"))\n",
    "df.show()"
   ]
  },
  {
   "cell_type": "markdown",
   "metadata": {},
   "source": [
    "Using (a Seq of) string names can avoid duplicate columns."
   ]
  },
  {
   "cell_type": "code",
   "execution_count": 11,
   "metadata": {},
   "outputs": [
    {
     "name": "stdout",
     "output_type": "stream",
     "text": [
      "+-----+----------+--------+------+\n",
      "| name|      date|duration|upload|\n",
      "+-----+----------+--------+------+\n",
      "|  bob|2015-01-13|       4|    23|\n",
      "|alice|2015-04-23|      10|   100|\n",
      "+-----+----------+--------+------+\n",
      "\n"
     ]
    }
   ],
   "source": [
    "val df = left.join(right, Seq(\"name\"))\n",
    "df.show()"
   ]
  },
  {
   "cell_type": "code",
   "execution_count": 12,
   "metadata": {},
   "outputs": [
    {
     "name": "stdout",
     "output_type": "stream",
     "text": [
      "+-----+----------+--------+------+\n",
      "| name|      date|duration|upload|\n",
      "+-----+----------+--------+------+\n",
      "|  bob|2015-01-13|       4|    23|\n",
      "|alice|2015-04-23|      10|   100|\n",
      "+-----+----------+--------+------+\n",
      "\n"
     ]
    }
   ],
   "source": [
    "val df = left.join(right, \"name\")\n",
    "df.show()"
   ]
  },
  {
   "cell_type": "markdown",
   "metadata": {},
   "source": [
    "## Same Columns Not in Join"
   ]
  },
  {
   "cell_type": "code",
   "execution_count": 6,
   "metadata": {},
   "outputs": [
    {
     "name": "stdout",
     "output_type": "stream",
     "text": [
      "+-----+----------+--------+\n",
      "| name|      date|duration|\n",
      "+-----+----------+--------+\n",
      "|  bob|2015-01-13|       4|\n",
      "|alice|2015-04-23|      10|\n",
      "+-----+----------+--------+\n",
      "\n"
     ]
    }
   ],
   "source": [
    "val llist = Seq(\n",
    "    (\"bob\", \"2015-01-13\", 4), \n",
    "    (\"alice\", \"2015-04-23\", 10)\n",
    ")\n",
    "val left = llist.toDF(\"name\", \"date\", \"duration\")\n",
    "left.show()"
   ]
  },
  {
   "cell_type": "code",
   "execution_count": 5,
   "metadata": {},
   "outputs": [
    {
     "name": "stdout",
     "output_type": "stream",
     "text": [
      "+-----+------+--------+\n",
      "| name|upload|duration|\n",
      "+-----+------+--------+\n",
      "|alice|   100|       1|\n",
      "|  bob|    23|       2|\n",
      "+-----+------+--------+\n",
      "\n"
     ]
    }
   ],
   "source": [
    "val right = Seq(\n",
    "    (\"alice\", 100, 1),\n",
    "    (\"bob\", 23, 2)\n",
    ").toDF(\"name\", \"upload\", \"duration\")\n",
    "right.show()"
   ]
  },
  {
   "cell_type": "markdown",
   "metadata": {},
   "source": [
    "Join the 2 DataFrame by the `name` column. \n",
    "Duplicate columns happen as the `duration` column is in both DataFrame."
   ]
  },
  {
   "cell_type": "code",
   "execution_count": 8,
   "metadata": {},
   "outputs": [
    {
     "name": "stdout",
     "output_type": "stream",
     "text": [
      "+-----+----------+--------+------+--------+\n",
      "| name|      date|duration|upload|duration|\n",
      "+-----+----------+--------+------+--------+\n",
      "|  bob|2015-01-13|       4|    23|       2|\n",
      "|alice|2015-04-23|      10|   100|       1|\n",
      "+-----+----------+--------+------+--------+\n",
      "\n"
     ]
    }
   ],
   "source": [
    "val df = left.join(right, \"name\")\n",
    "df.show"
   ]
  },
  {
   "cell_type": "code",
   "execution_count": 13,
   "metadata": {
    "collapsed": true
   },
   "outputs": [],
   "source": [
    "import org.apache.spark.sql.SparkSession\n",
    "\n",
    "val sparkSession = SparkSession.\n",
    "    builder().\n",
    "    appName(\"Spark SQL basic example\").\n",
    "    config(\"spark.some.config.option\", \"some-value\").\n",
    "    getOrCreate()\n",
    "import sparkSession.implicits._"
   ]
  },
  {
   "cell_type": "markdown",
   "metadata": {},
   "source": [
    "Select via string names works on non duplicate columns.\n",
    "Exception will be throw if you select a duplicate column using string names."
   ]
  },
  {
   "cell_type": "code",
   "execution_count": 21,
   "metadata": {},
   "outputs": [
    {
     "name": "stdout",
     "output_type": "stream",
     "text": [
      "+-----+----------+\n",
      "| name|      date|\n",
      "+-----+----------+\n",
      "|  bob|2015-01-13|\n",
      "|alice|2015-04-23|\n",
      "+-----+----------+\n",
      "\n"
     ]
    }
   ],
   "source": [
    "val df = left.alias(\"l\").join(right.alias(\"r\"), \"name\").select(\"name\", \"date\")\n",
    "df.show"
   ]
  },
  {
   "cell_type": "markdown",
   "metadata": {},
   "source": [
    "Select using `column` objects."
   ]
  },
  {
   "cell_type": "code",
   "execution_count": 19,
   "metadata": {},
   "outputs": [
    {
     "name": "stdout",
     "output_type": "stream",
     "text": [
      "+-----+----------+--------+\n",
      "| name|      date|duration|\n",
      "+-----+----------+--------+\n",
      "|  bob|2015-01-13|       4|\n",
      "|alice|2015-04-23|      10|\n",
      "+-----+----------+--------+\n",
      "\n"
     ]
    }
   ],
   "source": [
    "val df = left.join(right, \"name\").select(left(\"name\"), left(\"date\"), left(\"duration\"))\n",
    "df.show"
   ]
  },
  {
   "cell_type": "markdown",
   "metadata": {},
   "source": [
    "Using table alias is probably the most convenient way (in syntax).\n",
    "Similar to SQL, \n",
    "you don't have specify table when there's no ambiguition. "
   ]
  },
  {
   "cell_type": "code",
   "execution_count": 23,
   "metadata": {},
   "outputs": [
    {
     "name": "stdout",
     "output_type": "stream",
     "text": [
      "+-----+----------+--------+------+\n",
      "| name|      date|duration|upload|\n",
      "+-----+----------+--------+------+\n",
      "|  bob|2015-01-13|       4|    23|\n",
      "|alice|2015-04-23|      10|   100|\n",
      "+-----+----------+--------+------+\n",
      "\n"
     ]
    }
   ],
   "source": [
    "val df = left.alias(\"l\").join(right.alias(\"r\"), \"name\").\n",
    "    select($\"name\", $\"date\", $\"l.duration\", $\"upload\")\n",
    "df.show"
   ]
  },
  {
   "cell_type": "markdown",
   "metadata": {},
   "source": [
    "## Star in Select"
   ]
  },
  {
   "cell_type": "markdown",
   "metadata": {},
   "source": [
    "Notice that `*` can be used to select all columns from a table."
   ]
  },
  {
   "cell_type": "code",
   "execution_count": 4,
   "metadata": {},
   "outputs": [
    {
     "name": "stdout",
     "output_type": "stream",
     "text": [
      "+-----+----------+--------+\n",
      "| name|      date|duration|\n",
      "+-----+----------+--------+\n",
      "|  bob|2015-01-13|       4|\n",
      "|alice|2015-04-23|      10|\n",
      "+-----+----------+--------+\n",
      "\n"
     ]
    }
   ],
   "source": [
    "val df = left.alias(\"l\").join(right.alias(\"r\"), \"name\").\n",
    "    select($\"l.*\")\n",
    "df.show"
   ]
  },
  {
   "cell_type": "code",
   "execution_count": 6,
   "metadata": {},
   "outputs": [
    {
     "name": "stdout",
     "output_type": "stream",
     "text": [
      "+-----+----------+--------+\n",
      "| name|      date|duration|\n",
      "+-----+----------+--------+\n",
      "|  bob|2015-01-13|       4|\n",
      "|alice|2015-04-23|      10|\n",
      "+-----+----------+--------+\n",
      "\n"
     ]
    }
   ],
   "source": [
    "val df = left.alias(\"l\").join(right.alias(\"r\"), \"name\").\n",
    "    select(\"l.*\")\n",
    "df.show"
   ]
  },
  {
   "cell_type": "markdown",
   "metadata": {},
   "source": [
    "## Different Names for Joining\n",
    "\n",
    "If you want to do inner join only, \n",
    "it is suggested that you rename the columns to join to have the same names\n",
    "so that \n",
    "\n",
    "1. minimal number of columns\n",
    "2. no duplicate columns"
   ]
  },
  {
   "cell_type": "code",
   "execution_count": 26,
   "metadata": {},
   "outputs": [
    {
     "name": "stdout",
     "output_type": "stream",
     "text": [
      "+-----+----------+--------+\n",
      "| name|      date|duration|\n",
      "+-----+----------+--------+\n",
      "|  bob|2015-01-13|       4|\n",
      "|alice|2015-04-23|      10|\n",
      "+-----+----------+--------+\n",
      "\n"
     ]
    }
   ],
   "source": [
    "val left = Seq(\n",
    "    (\"bob\", \"2015-01-13\", 4), \n",
    "    (\"alice\", \"2015-04-23\",10)\n",
    ").toDF(\"name\",\"date\",\"duration\")\n",
    "left.show()"
   ]
  },
  {
   "cell_type": "code",
   "execution_count": 28,
   "metadata": {},
   "outputs": [
    {
     "name": "stdout",
     "output_type": "stream",
     "text": [
      "+-----+------+--------+\n",
      "|   nm|upload|duration|\n",
      "+-----+------+--------+\n",
      "|alice|   100|       1|\n",
      "|  bob|    23|       2|\n",
      "+-----+------+--------+\n",
      "\n"
     ]
    }
   ],
   "source": [
    "val right = Seq(\n",
    "    (\"alice\", 100, 1),\n",
    "    (\"bob\", 23, 2)\n",
    ").toDF(\"nm\", \"upload\", \"duration\")\n",
    "right.show()"
   ]
  },
  {
   "cell_type": "code",
   "execution_count": 30,
   "metadata": {},
   "outputs": [
    {
     "name": "stdout",
     "output_type": "stream",
     "text": [
      "+-----+----------+--------+-----+------+--------+\n",
      "| name|      date|duration|   nm|upload|duration|\n",
      "+-----+----------+--------+-----+------+--------+\n",
      "|  bob|2015-01-13|       4|  bob|    23|       2|\n",
      "|alice|2015-04-23|      10|alice|   100|       1|\n",
      "+-----+----------+--------+-----+------+--------+\n",
      "\n"
     ]
    }
   ],
   "source": [
    "left.join(right, $\"name\" === $\"nm\").show"
   ]
  },
  {
   "cell_type": "code",
   "execution_count": null,
   "metadata": {
    "collapsed": true
   },
   "outputs": [],
   "source": []
  }
 ],
 "metadata": {
  "kernelspec": {
   "display_name": "Python 3.7.6 64-bit",
   "language": "scala",
   "name": "python37664bit63fb4f53efb44350a8fe54ef578d532a"
  },
  "language_info": {
   "codemirror_mode": "text/x-scala",
   "file_extension": ".scala",
   "mimetype": "",
   "name": "Scala",
   "nbconverter_exporter": "",
   "version": "3.7.6-final"
  }
 },
 "nbformat": 4,
 "nbformat_minor": 2
}