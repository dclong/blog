{
 "cells": [
  {
   "cell_type": "markdown",
   "metadata": {},
   "source": [
    "- Title: Create a Date Range in Python\n",
    "- Slug: python-date-range\n",
    "- Date: 2020-10-31 10:40:01\n",
    "- Category: Computer Science\n",
    "- Tags: programming, Python, date, datetime, time, range, sequence\n",
    "- Author: Ben Du"
   ],
   "outputs": []
  },
  {
   "cell_type": "markdown",
   "metadata": {},
   "source": [
    "## `pandas.date_range`"
   ],
   "outputs": []
  },
  {
   "cell_type": "code",
   "metadata": {},
   "outputs": [],
   "source": [
    "import pandas as pd\n",
    "import datetime"
   ]
  },
  {
   "cell_type": "code",
   "metadata": {},
   "outputs": [],
   "source": [
    "pd.date_range('2018-01-01', '2018-01-10')"
   ]
  },
  {
   "cell_type": "code",
   "metadata": {},
   "outputs": [],
   "source": [
    "t1 = datetime.datetime.now()\n",
    "t2 = datetime.datetime.now() + datetime.timedelta(days=10)\n",
    "pd.date_range(t1, t2)"
   ]
  },
  {
   "source": [
    "## [pandas.timedelta_range](https://pandas.pydata.org/pandas-docs/stable/reference/api/pandas.timedelta_range.html)"
   ],
   "cell_type": "markdown",
   "outputs": [],
   "metadata": {},
   "execution_count": 3
  },
  {
   "cell_type": "markdown",
   "execution_count": null,
   "metadata": {},
   "outputs": [],
   "source": [
    "## [pandas.period_range](https://pandas.pydata.org/pandas-docs/stable/reference/api/pandas.period_range.html)"
   ]
  },
  {
   "cell_type": "markdown",
   "execution_count": null,
   "metadata": {},
   "outputs": [],
   "source": [
    "## [pandas.bdate_range](https://pandas.pydata.org/pandas-docs/stable/reference/api/pandas.bdate_range.html)"
   ]
  },
  {
   "cell_type": "markdown",
   "metadata": {},
   "source": [
    "## References\n",
    "\n",
    "https://pandas.pydata.org/pandas-docs/stable/reference/api/pandas.date_range.html\n",
    "\n",
    "[Time series / date functionality](https://pandas.pydata.org/pandas-docs/stable/user_guide/timeseries.html)\n",
    "\n",
    "[pandas.timedelta_range](https://pandas.pydata.org/pandas-docs/stable/reference/api/pandas.timedelta_range.html)\n",
    "\n",
    "[pandas.period_range](https://pandas.pydata.org/pandas-docs/stable/reference/api/pandas.period_range.html)\n",
    "\n",
    "[pandas.bdate_range](https://pandas.pydata.org/pandas-docs/stable/reference/api/pandas.bdate_range.html)"
   ],
   "outputs": []
  },
  {
   "cell_type": "code",
   "metadata": {},
   "outputs": [],
   "source": []
  }
 ],
 "metadata": {
  "kernelspec": {
   "display_name": "Python 3",
   "language": "python",
   "name": "python3"
  },
  "language_info": {
   "codemirror_mode": {
    "name": "ipython",
    "version": 3
   },
   "file_extension": ".py",
   "mimetype": "text/x-python",
   "name": "python",
   "nbconvert_exporter": "python",
   "pygments_lexer": "ipython3",
   "version": "3.8.2"
  }
 },
 "nbformat": 4,
 "nbformat_minor": 4
}