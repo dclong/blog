{
 "cells": [
  {
   "cell_type": "markdown",
   "metadata": {},
   "source": [
    "- Title: Create a Date Range in Python\n",
    "- Slug: python-date-range\n",
    "- Date: 2020-03-11 14:58:42\n",
    "- Category: Computer Science\n",
    "- Tags: programming, Python, date, datetime, time, range, sequence\n",
    "- Author: Ben Du"
   ]
  },
  {
   "cell_type": "markdown",
   "metadata": {},
   "source": [
    "## `pandas.date_range`"
   ]
  },
  {
   "cell_type": "code",
   "execution_count": 9,
   "metadata": {},
   "outputs": [],
   "source": [
    "import pandas as pd\n",
    "import datetime"
   ]
  },
  {
   "cell_type": "code",
   "execution_count": 10,
   "metadata": {},
   "outputs": [
    {
     "data": {
      "text/plain": [
       "DatetimeIndex(['2018-01-01', '2018-01-02', '2018-01-03', '2018-01-04',\n",
       "               '2018-01-05', '2018-01-06', '2018-01-07', '2018-01-08',\n",
       "               '2018-01-09', '2018-01-10'],\n",
       "              dtype='datetime64[ns]', freq='D')"
      ]
     },
     "execution_count": 10,
     "metadata": {},
     "output_type": "execute_result"
    }
   ],
   "source": [
    "pd.date_range('2018-01-01', '2018-01-10')"
   ]
  },
  {
   "cell_type": "code",
   "execution_count": 12,
   "metadata": {},
   "outputs": [
    {
     "data": {
      "text/plain": [
       "DatetimeIndex(['2019-12-23 15:28:54.378343', '2019-12-24 15:28:54.378343',\n",
       "               '2019-12-25 15:28:54.378343', '2019-12-26 15:28:54.378343',\n",
       "               '2019-12-27 15:28:54.378343', '2019-12-28 15:28:54.378343',\n",
       "               '2019-12-29 15:28:54.378343', '2019-12-30 15:28:54.378343',\n",
       "               '2019-12-31 15:28:54.378343', '2020-01-01 15:28:54.378343',\n",
       "               '2020-01-02 15:28:54.378343'],\n",
       "              dtype='datetime64[ns]', freq='D')"
      ]
     },
     "execution_count": 12,
     "metadata": {},
     "output_type": "execute_result"
    }
   ],
   "source": [
    "t1 = datetime.datetime.now()\n",
    "t2 = datetime.datetime.now() + datetime.timedelta(days=10)\n",
    "pd.date_range(t1, t2)"
   ]
  },
  {
   "cell_type": "markdown",
   "metadata": {},
   "source": [
    "## Install the Python Package `dsutil`\n",
    "\n",
    "Notice that the pip you use must have a version of 20.0+."
   ]
  },
  {
   "cell_type": "code",
   "execution_count": 1,
   "metadata": {},
   "outputs": [
    {
     "name": "stdout",
     "output_type": "stream",
     "text": "Collecting git+https://github.com/dclong/dsutil\n  Cloning https://github.com/dclong/dsutil to /private/var/folders/v1/_07wbqzs1pv6tz4qmm7czrvr0000gn/T/pip-req-build-d7dr2_58\n  Running command git clone -q https://github.com/dclong/dsutil /private/var/folders/v1/_07wbqzs1pv6tz4qmm7czrvr0000gn/T/pip-req-build-d7dr2_58\n  Installing build dependencies ... \u001b[?25ldone\n\u001b[?25h  Getting requirements to build wheel ... \u001b[?25ldone\n\u001b[?25h    Preparing wheel metadata ... \u001b[?25ldone\n\u001b[?25hRequirement already satisfied (use --upgrade to upgrade): dsutil==0.10.3 from git+https://github.com/dclong/dsutil in /Users/dclong/Library/Python/3.7/lib/python/site-packages\nRequirement already satisfied: dateparser>=0.7.1 in /usr/local/lib/python3.7/site-packages (from dsutil==0.10.3) (0.7.2)\nRequirement already satisfied: pandas>=0.22.0 in /usr/local/lib/python3.7/site-packages (from dsutil==0.10.3) (0.24.2)\nRequirement already satisfied: yapf>=0.28.0 in /usr/local/lib/python3.7/site-packages (from dsutil==0.10.3) (0.28.0)\nRequirement already satisfied: loguru>=0.3.2 in /usr/local/lib/python3.7/site-packages (from dsutil==0.10.3) (0.3.2)\nRequirement already satisfied: toml>=0.10.0 in /usr/local/lib/python3.7/site-packages (from dsutil==0.10.3) (0.10.0)\nRequirement already satisfied: pylint>=2.4.0 in /usr/local/lib/python3.7/site-packages (from dsutil==0.10.3) (2.4.2)\nRequirement already satisfied: PyPDF2>=1.26.0 in /Users/dclong/Library/Python/3.7/lib/python/site-packages (from dsutil==0.10.3) (1.26.0)\nRequirement already satisfied: python-dateutil in /Users/dclong/Library/Python/3.7/lib/python/site-packages (from dateparser>=0.7.1->dsutil==0.10.3) (2.8.0)\nRequirement already satisfied: tzlocal in /usr/local/lib/python3.7/site-packages (from dateparser>=0.7.1->dsutil==0.10.3) (2.0.0)\nRequirement already satisfied: regex in /usr/local/lib/python3.7/site-packages (from dateparser>=0.7.1->dsutil==0.10.3) (2019.8.19)\nRequirement already satisfied: pytz in /Users/dclong/Library/Python/3.7/lib/python/site-packages (from dateparser>=0.7.1->dsutil==0.10.3) (2018.9)\nRequirement already satisfied: numpy>=1.12.0 in /usr/local/lib/python3.7/site-packages (from pandas>=0.22.0->dsutil==0.10.3) (1.16.2)\nRequirement already satisfied: astroid<2.4,>=2.3.0 in /usr/local/lib/python3.7/site-packages (from pylint>=2.4.0->dsutil==0.10.3) (2.3.1)\nRequirement already satisfied: isort<5,>=4.2.5 in /Users/dclong/Library/Python/3.7/lib/python/site-packages (from pylint>=2.4.0->dsutil==0.10.3) (4.3.17)\nRequirement already satisfied: mccabe<0.7,>=0.6 in /Users/dclong/Library/Python/3.7/lib/python/site-packages (from pylint>=2.4.0->dsutil==0.10.3) (0.6.1)\nRequirement already satisfied: six>=1.5 in /usr/local/lib/python3.7/site-packages (from python-dateutil->dateparser>=0.7.1->dsutil==0.10.3) (1.12.0)\nRequirement already satisfied: wrapt==1.11.* in /Users/dclong/Library/Python/3.7/lib/python/site-packages (from astroid<2.4,>=2.3.0->pylint>=2.4.0->dsutil==0.10.3) (1.11.1)\nRequirement already satisfied: typed-ast<1.5,>=1.4.0; implementation_name == \"cpython\" and python_version < \"3.8\" in /usr/local/lib/python3.7/site-packages (from astroid<2.4,>=2.3.0->pylint>=2.4.0->dsutil==0.10.3) (1.4.0)\nRequirement already satisfied: lazy-object-proxy==1.4.* in /usr/local/lib/python3.7/site-packages (from astroid<2.4,>=2.3.0->pylint>=2.4.0->dsutil==0.10.3) (1.4.2)\nBuilding wheels for collected packages: dsutil\n  Building wheel for dsutil (PEP 517) ... \u001b[?25ldone\n\u001b[?25h  Created wheel for dsutil: filename=dsutil-0.10.3-cp37-none-any.whl size=16195 sha256=d3d21b8e51b3b0c866d1caed997aa64bc0a555c3577df8bc31384a1f5aafb1e1\n  Stored in directory: /private/var/folders/v1/_07wbqzs1pv6tz4qmm7czrvr0000gn/T/pip-ephem-wheel-cache-be0r7kdi/wheels/91/33/f6/f1a6aa6fcb335eda109afe0f0a1e07ff3ca6284a9eabc0c7a5\nSuccessfully built dsutil\n"
    }
   ],
   "source": [
    "pip3 install git+https://github.com/dclong/dsutil"
   ]
  },
  {
   "cell_type": "code",
   "execution_count": 6,
   "metadata": {},
   "outputs": [],
   "source": [
    "import dsutil"
   ]
  },
  {
   "cell_type": "code",
   "execution_count": 7,
   "metadata": {},
   "outputs": [
    {
     "data": {
      "text/plain": [
       "\u001b[0;31mSignature:\u001b[0m \u001b[0mdsutil\u001b[0m\u001b[0;34m.\u001b[0m\u001b[0mdatetime\u001b[0m\u001b[0;34m.\u001b[0m\u001b[0mrange\u001b[0m\u001b[0;34m(\u001b[0m\u001b[0mstart\u001b[0m\u001b[0;34m,\u001b[0m \u001b[0mstop\u001b[0m\u001b[0;34m,\u001b[0m \u001b[0mstep\u001b[0m\u001b[0;34m=\u001b[0m\u001b[0mdatetime\u001b[0m\u001b[0;34m.\u001b[0m\u001b[0mtimedelta\u001b[0m\u001b[0;34m(\u001b[0m\u001b[0mdays\u001b[0m\u001b[0;34m=\u001b[0m\u001b[0;36m1\u001b[0m\u001b[0;34m)\u001b[0m\u001b[0;34m)\u001b[0m \u001b[0;34m->\u001b[0m \u001b[0mIterable\u001b[0m\u001b[0;34m[\u001b[0m\u001b[0mdatetime\u001b[0m\u001b[0;34m.\u001b[0m\u001b[0mdatetime\u001b[0m\u001b[0;34m]\u001b[0m\u001b[0;34m\u001b[0m\u001b[0;34m\u001b[0m\u001b[0m\n",
       "\u001b[0;31mDocstring:\u001b[0m\n",
       "Generate a range of datetime objects.\n",
       ":param start: A datetime object or a string that can be parsed into a datetime.\n",
       ":param stop: A datetime object or a string that can be parsed into a datetime.\n",
       ":param step: A timedelta object specifying how much the values in the sequence increase at each step. \n",
       "\u001b[0;31mFile:\u001b[0m      /usr/local/lib/python3.7/dist-packages/dsutil/datetime.py\n",
       "\u001b[0;31mType:\u001b[0m      function\n"
      ]
     },
     "metadata": {},
     "output_type": "display_data"
    }
   ],
   "source": [
    "dsutil.datetime.range?"
   ]
  },
  {
   "cell_type": "code",
   "execution_count": 8,
   "metadata": {},
   "outputs": [
    {
     "data": {
      "text/plain": [
       "<generator object range at 0x7f44b94040c0>"
      ]
     },
     "execution_count": 8,
     "metadata": {},
     "output_type": "execute_result"
    }
   ],
   "source": [
    "dsutil.datetime.range(\"2020-01-01\", \"2020-01-10\")"
   ]
  },
  {
   "cell_type": "code",
   "execution_count": 9,
   "metadata": {},
   "outputs": [
    {
     "data": {
      "text/plain": [
       "[Timestamp('2020-01-01 00:00:00'),\n",
       " Timestamp('2020-01-02 00:00:00'),\n",
       " Timestamp('2020-01-03 00:00:00'),\n",
       " Timestamp('2020-01-04 00:00:00'),\n",
       " Timestamp('2020-01-05 00:00:00'),\n",
       " Timestamp('2020-01-06 00:00:00'),\n",
       " Timestamp('2020-01-07 00:00:00'),\n",
       " Timestamp('2020-01-08 00:00:00'),\n",
       " Timestamp('2020-01-09 00:00:00')]"
      ]
     },
     "execution_count": 9,
     "metadata": {},
     "output_type": "execute_result"
    }
   ],
   "source": [
    "list(dsutil.datetime.range(\"2020-01-01\", \"2020-01-10\"))"
   ]
  },
  {
   "cell_type": "markdown",
   "metadata": {},
   "source": [
    "## References\n",
    "\n",
    "https://pandas.pydata.org/pandas-docs/stable/reference/api/pandas.date_range.html"
   ]
  },
  {
   "cell_type": "code",
   "execution_count": null,
   "metadata": {},
   "outputs": [],
   "source": []
  }
 ],
 "metadata": {
  "kernelspec": {
   "display_name": "Python 3",
   "language": "python",
   "name": "python3"
  },
  "language_info": {
   "codemirror_mode": {
    "name": "ipython",
    "version": 3
   },
   "file_extension": ".py",
   "mimetype": "text/x-python",
   "name": "python",
   "nbconvert_exporter": "python",
   "pygments_lexer": "ipython3",
   "version": "3.7.6-final"
  }
 },
 "nbformat": 4,
 "nbformat_minor": 4
}