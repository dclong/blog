{
 "cells": [
  {
   "cell_type": "markdown",
   "metadata": {},
   "source": [
    "- Title: My Configuration Script for Docker Containers Based on dclong/jupyterhub-ds\n",
    "- Slug: my-configuration-script-for-docker-jupyterhub-ds\n",
    "- Date: 2020-08-07 22:41:03\n",
    "- Category: OS\n",
    "- Tags: Linux, Ubuntu, Docker, dclong/jupyterhub-ds\n",
    "- Author: Ben Du"
   ]
  },
  {
   "cell_type": "code",
   "execution_count": 1,
   "metadata": {},
   "outputs": [
    {
     "name": "stdout",
     "output_type": "stream",
     "text": [
      "cat: home/media/config_docker.sh: No such file or directory\r\n",
      "highlight: Undefined language definition. Use --syntax option.\r\n"
     ]
    }
   ],
   "source": [
    "!cat home/media/config_docker.sh | highlight -O ansi"
   ]
  },
  {
   "cell_type": "markdown",
   "metadata": {},
   "source": [
    "The script can be run directly using the following comamnd. \n",
    "    \n",
    "    curl -sSL www.legendu.net/media/config_docker.sh | bash"
   ]
  },
  {
   "cell_type": "markdown",
   "metadata": {},
   "source": [
    "The script is also available at the location `/scripts/config.sh` \n",
    "in the Docker image [dclong/jupyterhub-ds](https://github.com/dclong/docker-jupyterhub-ds),\n",
    "so that you can run it by the following command in a Docker container of the image. \n",
    "\n",
    "    /scripts/config.sh"
   ]
  },
  {
   "cell_type": "code",
   "execution_count": null,
   "metadata": {},
   "outputs": [],
   "source": []
  }
 ],
 "metadata": {
  "kernelspec": {
   "display_name": "Python 3",
   "language": "python",
   "name": "python3"
  },
  "language_info": {
   "codemirror_mode": {
    "name": "ipython",
    "version": 3
   },
   "file_extension": ".py",
   "mimetype": "text/x-python",
   "name": "python",
   "nbconvert_exporter": "python",
   "pygments_lexer": "ipython3",
   "version": "3.7.5"
  }
 },
 "nbformat": 4,
 "nbformat_minor": 4
}