{
 "cells": [
  {
   "cell_type": "markdown",
   "metadata": {},
   "source": [
    "- Title: My Configuration Script for Docker Containers Based on dclong/jupyterhub-ds\n",
    "- Slug: my-configuration-script-for-docker-jupyterhub-ds\n",
    "- Date: 2019-10-23\n",
    "- Category: Linux\n",
    "- Tags: Linux, Ubuntu, Docker, dclong/jupyterhub-ds\n",
    "- Author: Ben Du"
   ]
  },
  {
   "cell_type": "code",
   "execution_count": 1,
   "metadata": {},
   "outputs": [
    {
     "name": "stdout",
     "output_type": "stream",
     "text": [
      "\u001b[00;34m#!/bin/bash\u001b[m\n",
      "\n",
      "\u001b[00;34m# link from home_host\u001b[m\n",
      "\u001b[00;32mcp\u001b[m \u001b[00;32m-r\u001b[m \u001b[00;00m/\u001b[mhome_host\u001b[00;00m/\u001b[m$\u001b[00;00m(\u001b[mid \u001b[00;32m-un\u001b[m\u001b[00;00m)/\u001b[m.\u001b[00;32mssh\u001b[m \u001b[00;32m$HOME\u001b[m\u001b[00;00m/\u001b[m\n",
      "\u001b[00;32mln\u001b[m \u001b[00;32m-svf\u001b[m \u001b[00;00m/\u001b[mhome_host\u001b[00;00m/\u001b[m$\u001b[00;00m(\u001b[mid \u001b[00;32m-un\u001b[m\u001b[00;00m)/\u001b[marchives \u001b[00;32m$HOME\u001b[m\u001b[00;00m/\u001b[m\n",
      "\u001b[00;32mln\u001b[m \u001b[00;32m-svf\u001b[m \u001b[00;00m/\u001b[mhome_host\u001b[00;00m/\u001b[m$\u001b[00;00m(\u001b[mid \u001b[00;32m-un\u001b[m\u001b[00;00m)/\u001b[m.dbay_profile \u001b[00;32m$HOME\u001b[m\u001b[00;00m/\u001b[m\n",
      "\u001b[00;32mln\u001b[m \u001b[00;32m-svfT\u001b[m \u001b[00;00m/\u001b[mworkdir\u001b[00;00m/\u001b[muser\u001b[00;00m/\u001b[m$\u001b[00;00m(\u001b[mid \u001b[00;32m-un\u001b[m\u001b[00;00m)\u001b[m \u001b[00;32m$HOME\u001b[m\u001b[00;00m/\u001b[mprojects\n",
      "\n",
      "\u001b[00;34m# install Python packages\u001b[m\n",
      "pip3 \u001b[00;32minstall\u001b[m \u001b[00;32m--user --upgrade\u001b[m \u001b[00;00m/\u001b[mworkdir\u001b[00;00m/\u001b[mpkgs\u001b[00;00m/\u001b[mdbay-\u001b[00;00m*\u001b[m.\u001b[00;00m*\u001b[m.\u001b[00;00m*\u001b[m.whl\n",
      "pip3 \u001b[00;32minstall\u001b[m \u001b[00;32m--user --upgrade\u001b[m \u001b[00;00m/\u001b[mworkdir\u001b[00;00m/\u001b[mpkgs\u001b[00;00m/\u001b[mdsutil-\u001b[00;00m*\u001b[m.\u001b[00;00m*\u001b[m.\u001b[00;00m*\u001b[m.whl\n",
      "\n",
      "\u001b[00;32m$HOME\u001b[m\u001b[00;00m/\u001b[marchives\u001b[00;00m/\u001b[mconfig\u001b[00;00m/\u001b[mlinstall.py git \u001b[00;32m-c\u001b[m\n",
      "\u001b[00;32m$HOME\u001b[m\u001b[00;00m/\u001b[marchives\u001b[00;00m/\u001b[mconfig\u001b[00;00m/\u001b[mlinstall.py ipy3 \u001b[00;32m-c\u001b[m\n"
     ]
    }
   ],
   "source": [
    "!cat ../../home/media/config_docker.sh | highlight -O ansi"
   ]
  },
  {
   "cell_type": "markdown",
   "metadata": {},
   "source": [
    "The script can be run directly using the following comamnd. \n",
    "    \n",
    "    curl -sSL www.legendu.net/media/config_docker.sh | bash"
   ]
  },
  {
   "cell_type": "code",
   "execution_count": null,
   "metadata": {},
   "outputs": [],
   "source": []
  }
 ],
 "metadata": {
  "kernelspec": {
   "display_name": "Python 3",
   "language": "python",
   "name": "python3"
  },
  "language_info": {
   "codemirror_mode": {
    "name": "ipython",
    "version": 3
   },
   "file_extension": ".py",
   "mimetype": "text/x-python",
   "name": "python",
   "nbconvert_exporter": "python",
   "pygments_lexer": "ipython3",
   "version": "3.7.3"
  }
 },
 "nbformat": 4,
 "nbformat_minor": 4
}
