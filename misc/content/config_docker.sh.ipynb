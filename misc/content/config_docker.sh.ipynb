{
 "cells": [
  {
   "cell_type": "markdown",
   "metadata": {},
   "source": [
    "- Title: My Configuration Script for Docker Containers Based on dclong/jupyterhub-ds\n",
    "- Slug: my-configuration-script-for-docker-jupyterhub-ds\n",
    "- Date: 2019-11-17 13:07:18\n",
    "- Category: Linux\n",
    "- Tags: Linux, Ubuntu, Docker, dclong/jupyterhub-ds\n",
    "- Author: Ben Du"
   ]
  },
  {
   "cell_type": "code",
   "execution_count": 1,
   "metadata": {},
   "outputs": [
    {
     "name": "stdout",
     "output_type": "stream",
     "text": [
      "\u001b[00;34m#!/bin/bash\u001b[m\n",
      "\n",
      "\u001b[00;32mln\u001b[m \u001b[00;32m-svf\u001b[m \u001b[00;00m/\u001b[mhome_host\u001b[00;00m/\u001b[m$\u001b[00;00m(\u001b[mid \u001b[00;32m-un\u001b[m\u001b[00;00m)/\u001b[marchives \u001b[00;32m$HOME\u001b[m\u001b[00;00m/\u001b[m\n",
      "\u001b[00;32mln\u001b[m \u001b[00;32m-svfT\u001b[m \u001b[00;00m/\u001b[mworkdir\u001b[00;00m/\u001b[muser\u001b[00;00m/\u001b[m$\u001b[00;00m(\u001b[mid \u001b[00;32m-un\u001b[m\u001b[00;00m)\u001b[m \u001b[00;32m$HOME\u001b[m\u001b[00;00m/\u001b[mprojects\n",
      "\n",
      "xinstall sshc \u001b[00;32m-c\u001b[m\n",
      "xinstall \u001b[00;32m--sudo\u001b[m git \u001b[00;32m-ic\u001b[m\n",
      "xinstall svim \u001b[00;32m-ic\u001b[m\n",
      "xinstall ipy3 \u001b[00;32m-c\u001b[m\n",
      "xinstall dsutil \u001b[00;32m-ic\u001b[m\n"
     ]
    }
   ],
   "source": [
    "!cat ../../home/media/config_docker.sh | highlight -O ansi"
   ]
  },
  {
   "cell_type": "markdown",
   "metadata": {},
   "source": [
    "The script can be run directly using the following comamnd. \n",
    "    \n",
    "    curl -sSL www.legendu.net/media/config_docker.sh | bash"
   ]
  },
  {
   "cell_type": "markdown",
   "metadata": {},
   "source": [
    "The script is also available at the location `/scripts/config.sh` \n",
    "in the Docker image [dclong/jupyterhub-ds](https://github.com/dclong/docker-jupyterhub-ds),\n",
    "so that you can run it by the following command in a Docker container of the image. \n",
    "\n",
    "    /scripts/config.sh"
   ]
  },
  {
   "cell_type": "code",
   "execution_count": null,
   "metadata": {},
   "outputs": [],
   "source": []
  }
 ],
 "metadata": {
  "kernelspec": {
   "display_name": "Python 3",
   "language": "python",
   "name": "python3"
  },
  "language_info": {
   "codemirror_mode": {
    "name": "ipython",
    "version": 3
   },
   "file_extension": ".py",
   "mimetype": "text/x-python",
   "name": "python",
   "nbconvert_exporter": "python",
   "pygments_lexer": "ipython3",
   "version": "3.7.3"
  }
 },
 "nbformat": 4,
 "nbformat_minor": 4
}
