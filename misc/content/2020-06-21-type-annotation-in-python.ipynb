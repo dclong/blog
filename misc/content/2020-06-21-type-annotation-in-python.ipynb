{
 "cells": [
  {
   "cell_type": "markdown",
   "metadata": {},
   "source": [
    "- Author: Ben Du\n",
    "- Date: 2020-07-23 15:28:45\n",
    "- Title: Type Annotation in Python\n",
    "- Slug: type-annotation-in-python\n",
    "- Category: Computer Science\n",
    "- Tags: Computer Science, Python, type annotation, forward reference"
   ]
  },
  {
   "cell_type": "markdown",
   "metadata": {},
   "source": [
    "1. forward reference \n",
    "2. Python 3.7+"
   ]
  },
  {
   "cell_type": "code",
   "execution_count": null,
   "metadata": {},
   "outputs": [],
   "source": [
    "from __future__ import annotations"
   ]
  },
  {
   "cell_type": "markdown",
   "execution_count": null,
   "metadata": {},
   "outputs": [],
   "source": [
    "## [MonkeyType](https://github.com/Instagram/MonkeyType)\n",
    "\n",
    "1. Run the following command to annotate your Python script.\n",
    "\n",
    "        :::bash\n",
    "        monkeytype run yourscript.py\n",
    "\n",
    "\n",
    "2. MonkeyType supports pytest.\n",
    "\n",
    "        :::bash\n",
    "        monkeytype run `which pytest`\n"
   ]
  },
  {
   "cell_type": "markdown",
   "execution_count": null,
   "metadata": {},
   "outputs": [],
   "source": [
    "## [mypy](http://www.legendu.net/misc/blog/mypy-tips/)"
   ]
  },
  {
   "cell_type": "markdown",
   "execution_count": null,
   "metadata": {},
   "outputs": [],
   "source": [
    "https://github.com/google/pytype\n",
    "\n",
    "https://github.com/python/mypy\n",
    "\n",
    "https://github.com/seandstewart/typical/\n",
    "\n",
    "https://github.com/agronholm/typeguard"
   ]
  },
  {
   "cell_type": "markdown",
   "metadata": {},
   "source": [
    "## Third-party Stubs\n",
    "\n",
    "https://github.com/zero323/pyspark-stubs\n",
    "\n",
    "https://github.com/predictive-analytics-lab/data-science-types\n",
    "\n",
    "https://github.com/ramonhagenaars/nptyping"
   ]
  },
  {
   "cell_type": "markdown",
   "metadata": {},
   "source": [
    "## References\n",
    "\n",
    "http://www.legendu.net/misc/blog/mypy-tips/\n",
    "\n",
    "https://stackoverflow.com/questions/15853469/putting-current-class-as-return-type-annotation\n",
    "\n",
    "[Forward References](https://www.python.org/dev/peps/pep-0484/#forward-references)"
   ]
  },
  {
   "cell_type": "code",
   "execution_count": null,
   "metadata": {},
   "outputs": [],
   "source": []
  }
 ],
 "metadata": {
  "language_info": {
   "name": "python",
   "codemirror_mode": {
    "name": "ipython",
    "version": 3
   }
  },
  "orig_nbformat": 2,
  "file_extension": ".py",
  "mimetype": "text/x-python",
  "name": "python",
  "npconvert_exporter": "python",
  "pygments_lexer": "ipython3",
  "version": 3
 },
 "nbformat": 4,
 "nbformat_minor": 2
}