{
 "cells": [
  {
   "cell_type": "markdown",
   "metadata": {},
   "source": [
    "- Title: Tips on Dataset in PyTorch\n",
    "- Slug: python-pytorch-dataset\n",
    "- Date: 2020-02-26 22:40:06\n",
    "- Category: Programming\n",
    "- Tags: programming, Python, AI, data science, machine learning, deep learning, PyTorch, Dataset\n",
    "- Author: Ben Du"
   ]
  },
  {
   "cell_type": "markdown",
   "metadata": {},
   "source": [
    "## Tips\n",
    "\n",
    "1. When you implement your own Dataset class,\n",
    "    you need to inherit from \n",
    "    [torch.utils.data.Dataset](https://pytorch.org/docs/stable/data.html#torch.utils.data.Dataset)\n",
    "    (or one of its subclasses).\n",
    "    You must overwrite the 2 methods `__len__` and `__getitem__`.\n",
    "\n",
    "2. When you implement your own Dataset class for image classification,\n",
    "    it is best to inherit from \n",
    "    [torchvision.datasets.vision.VisionDataset](https://github.com/pytorch/vision/blob/master/torchvision/datasets/vision.py#L6)\n",
    "    .\n",
    "    For example, \n",
    "    [torchvision.datasets.MNIST](https://github.com/pytorch/vision/blob/master/torchvision/datasets/mnist.py)\n",
    "    subclasses \n",
    "    [torchvision.datasets.vision.VisionDataset](https://github.com/pytorch/vision/blob/master/torchvision/datasets/vision.py#L6)\n",
    "    . \n",
    "    You can use it as a template.\n",
    "    Notice you still only have to overwrite the 2 methods `__len__` and `__getitem__`\n",
    "    (even though the implementation of \n",
    "    [torchvision.datasets.MNIST](https://github.com/pytorch/vision/blob/master/torchvision/datasets/mnist.py)\n",
    "    is much more complicated than that).\n",
    "    [torchvision.datasets.MNIST](https://github.com/pytorch/vision/blob/master/torchvision/datasets/mnist.py)\n",
    "    downloads data into the directory `MNIST/raw` \n",
    "    and make a copy of ready-to-use data into the directory `MNIST/processed`. \n",
    "    It doesn't matter whether you follow this convention or not\n",
    "    as long as you overwrite the 2 methods `__len__` and `__getitem__`.\n",
    "    What's more, the parameter `root` for the constructor of \n",
    "    [torchvision.datasets.vision.VisionDataset](https://github.com/pytorch/vision/blob/master/torchvision/datasets/vision.py#L6)\n",
    "    is not critical \n",
    "    as long as your Dataset subclass knows where and how to load the data\n",
    "    (e.g., you can pass the full path of the data file as parameter for your Dataset subclass). \n",
    "    You can set it to `None` if you like. \n",
    "  \n",
    "\n",
    "3. When you implement a Dataset class for image classification,\n",
    "    it is best to have the method `__getitem__` return `(PIL.Image, target)`\n",
    "    and then use `torchvision.transforms.ToTensor` to convert `PIL.Image` to tensor\n",
    "    in the DataLoader.\n",
    "    The reason is that transforming modules in `trochvision.transforms` \n",
    "    behave differently on `PIL.Image` \n",
    "    and their equivalent numpy array. \n",
    "    You might get surprises if you have `__getitem__` return `(torch.Tensor, target)`.\n",
    "    If you do have `__getitem__` return `(torch.Tensor, target)`,\n",
    "    make sure to double check that they tensors are as expected \n",
    "    before feeding them into your model for training/prediction.\n",
    "\n",
    "1. `torchvision.transforms.ToTensor` (refered to as `ToTensor` in the following) \n",
    "    converts a PIL image to a numerical tensor with each value between [0, 1].\n",
    "    `ToTensor` on a boolean numpy array returns a tensor of booleans. \n",
    "    It does not automatically convert booleans to numerical values (0/1 or 0/255). \n",
    "    `ToTensor` on a boolean numpy array of boolean values generate a tensor of 0/255 instead of 0/1!!!???\n",
    "\n",
    "\n",
    "    \n",
    "3. tensor.float, tensor.double on boolean tensor is suprising ...!!!\n",
    "\n",
    "4. a boolean numpy array (black/white image), can be read in as a grayscale image (mode=\"L\") -> 0/255\n",
    "    but when use mode=\"1\" doesn't look right!!!\n",
    "    \n",
    "5. no need to return target as tensor as DataLoader will automatically do that\n",
    "\n"
   ]
  },
  {
   "cell_type": "code",
   "execution_count": 42,
   "metadata": {},
   "outputs": [],
   "source": [
    "import torch"
   ]
  },
  {
   "cell_type": "markdown",
   "metadata": {},
   "source": [
    "## References\n",
    "\n",
    "https://github.com/pytorch/vision/blob/master/torchvision/datasets/mnist.py\n",
    "\n",
    "[VisionDataset](https://github.com/pytorch/vision/blob/master/torchvision/datasets/vision.py#L6)\n",
    "\n",
    "https://pytorch.org/docs/stable/data.html#torch.utils.data.Dataset\n",
    "\n",
    "https://pytorch.org/docs/stable/data.html#torch.utils.data.DataLoader\n",
    "\n",
    "https://pytorch.org/docs/stable/data.html"
   ]
  },
  {
   "cell_type": "code",
   "execution_count": null,
   "metadata": {},
   "outputs": [],
   "source": []
  }
 ],
 "metadata": {
  "kernelspec": {
   "display_name": "Python 3",
   "language": "python",
   "name": "python3"
  },
  "language_info": {
   "codemirror_mode": {
    "name": "ipython",
    "version": 3
   },
   "file_extension": ".py",
   "mimetype": "text/x-python",
   "name": "python",
   "nbconvert_exporter": "python",
   "pygments_lexer": "ipython3",
   "version": "3.7.3"
  }
 },
 "nbformat": 4,
 "nbformat_minor": 4
}
