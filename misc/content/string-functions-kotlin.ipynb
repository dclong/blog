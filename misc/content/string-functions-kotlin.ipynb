{
 "cells": [
  {
   "cell_type": "markdown",
   "metadata": {},
   "source": [
    "- Title: String functions in Kotlin \n",
    "- Slug: string-functions-kotlin\n",
    "- Date: 2019-11-01\n",
    "- Category: Programming\n",
    "- Tags: programming, Kotlin, JVM, text, string\n",
    "- Author: Ben Du"
   ]
  },
  {
   "cell_type": "markdown",
   "metadata": {},
   "source": [
    "https://kotlinlang.org/api/latest/jvm/stdlib/kotlin.text/index.html"
   ]
  },
  {
   "cell_type": "markdown",
   "metadata": {},
   "source": [
    "## [trimIndent](https://kotlinlang.org/api/latest/jvm/stdlib/kotlin.text/trim-indent.html)"
   ]
  },
  {
   "cell_type": "code",
   "execution_count": 10,
   "metadata": {},
   "outputs": [
    {
     "data": {
      "text/plain": [
       "ABC\n",
       "123\n",
       "456"
      ]
     },
     "execution_count": 10,
     "metadata": {},
     "output_type": "execute_result"
    }
   ],
   "source": [
    "val withoutIndent =\"\"\"\n",
    "        ABC\n",
    "        123\n",
    "        456\n",
    "    \"\"\".trimIndent()\n",
    "withoutIndent"
   ]
  },
  {
   "cell_type": "code",
   "execution_count": 11,
   "metadata": {},
   "outputs": [
    {
     "data": {
      "text/plain": [
       "select\n",
       "*\n",
       "from\n",
       "some_table\n",
       "where\n",
       "id = 100\n",
       "order by\n",
       "id"
      ]
     },
     "execution_count": 11,
     "metadata": {},
     "output_type": "execute_result"
    }
   ],
   "source": [
    "val sql =\"\"\"\n",
    "    select\n",
    "        *\n",
    "    from\n",
    "        some_table\n",
    "    where\n",
    "        id = 100\n",
    "    order by\n",
    "        id\n",
    "    \"\"\".trimIndent()\n",
    "sql"
   ]
  },
  {
   "cell_type": "markdown",
   "metadata": {},
   "source": [
    "## [trimMargin](https://kotlinlang.org/api/latest/jvm/stdlib/kotlin.text/trim-margin.html)\n",
    "\n",
    "`trimMargin` is more flexible and useful than `trimIndent`."
   ]
  },
  {
   "cell_type": "code",
   "execution_count": 12,
   "metadata": {},
   "outputs": [
    {
     "data": {
      "text/plain": [
       "ABC\n",
       "123\n",
       "456"
      ]
     },
     "execution_count": 12,
     "metadata": {},
     "output_type": "execute_result"
    }
   ],
   "source": [
    "val withoutMargin1 = \"\"\"ABC\n",
    "                |123\n",
    "                |456\"\"\".trimMargin()\n",
    "withoutMargin1"
   ]
  },
  {
   "cell_type": "code",
   "execution_count": 13,
   "metadata": {},
   "outputs": [
    {
     "data": {
      "text/plain": [
       "XYZ\n",
       "foo\n",
       "bar"
      ]
     },
     "execution_count": 13,
     "metadata": {},
     "output_type": "execute_result"
    }
   ],
   "source": [
    "val withoutMargin2 = \"\"\"\n",
    "    #XYZ\n",
    "    #foo\n",
    "    #bar\n",
    "\"\"\".trimMargin(\"#\")\n",
    "withoutMargin2"
   ]
  },
  {
   "cell_type": "code",
   "execution_count": 15,
   "metadata": {},
   "outputs": [
    {
     "data": {
      "text/plain": [
       "select\n",
       "    *\n",
       "from\n",
       "    some_table\n",
       "where\n",
       "    id = 100\n",
       "order by\n",
       "    id"
      ]
     },
     "execution_count": 15,
     "metadata": {},
     "output_type": "execute_result"
    }
   ],
   "source": [
    "val sql =\"\"\"\n",
    "    |select\n",
    "    |    *\n",
    "    |from\n",
    "    |    some_table\n",
    "    |where\n",
    "    |    id = 100\n",
    "    |order by\n",
    "    |    id\n",
    "    \"\"\".trimMargin()\n",
    "sql"
   ]
  },
  {
   "cell_type": "markdown",
   "metadata": {},
   "source": [
    "## [isBlank](https://kotlinlang.org/api/latest/jvm/stdlib/kotlin.text/is-blank.html#isblank)"
   ]
  },
  {
   "cell_type": "code",
   "execution_count": 16,
   "metadata": {},
   "outputs": [
    {
     "data": {
      "text/plain": [
       "true"
      ]
     },
     "execution_count": 16,
     "metadata": {},
     "output_type": "execute_result"
    }
   ],
   "source": [
    "\"\".isBlank()"
   ]
  },
  {
   "cell_type": "code",
   "execution_count": 17,
   "metadata": {},
   "outputs": [
    {
     "data": {
      "text/plain": [
       "true"
      ]
     },
     "execution_count": 17,
     "metadata": {},
     "output_type": "execute_result"
    }
   ],
   "source": [
    "\"\"\"\n",
    "                  \n",
    "\"\"\".isBlank()"
   ]
  },
  {
   "cell_type": "code",
   "execution_count": 18,
   "metadata": {},
   "outputs": [
    {
     "data": {
      "text/plain": [
       "false"
      ]
     },
     "execution_count": 18,
     "metadata": {},
     "output_type": "execute_result"
    }
   ],
   "source": [
    "\"a\".isBlank()"
   ]
  },
  {
   "cell_type": "code",
   "execution_count": null,
   "metadata": {},
   "outputs": [],
   "source": []
  }
 ],
 "metadata": {
  "kernelspec": {
   "display_name": "Kotlin",
   "language": "kotlin",
   "name": "kotlin"
  },
  "language_info": {
   "codemirror_mode": "kotlin",
   "file_extension": ".kt",
   "mimetype": "",
   "name": "Kotlin",
   "nbconverter_exporter": "",
   "version": "1.2.21"
  }
 },
 "nbformat": 4,
 "nbformat_minor": 4
}
