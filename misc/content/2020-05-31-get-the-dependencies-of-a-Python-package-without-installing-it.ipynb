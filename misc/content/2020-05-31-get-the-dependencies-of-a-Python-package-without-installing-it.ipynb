{
 "cells": [
  {
   "cell_type": "markdown",
   "metadata": {},
   "source": [
    "- Date: 2020-07-19 17:19:55",
    "- Author: Ben Du- Date: 2020-05-31 16:38:43\n",
    "- Title: Get the Dependencies of a Python Package Without Installing It\n",
    "- Slug: get-the-dependencies-of-a-Python-package-without-installing-it\n",
    "- Category: Computer Science\n",
    "- Tags: Computer Science, Python, package, module, dependency"
   ]
  },
  {
   "cell_type": "markdown",
   "metadata": {},
   "source": [
    "After installing a Python package,\n",
    "you can use the command `pip3 show pkg` to check detailed information about it.\n",
    "What if you want to get information about a Python package without installing?\n",
    "The RESTAPI https://pypi.org/pypi/pkg/json returns detailed information of the Python package `pkg`."
   ]
  },
  {
   "cell_type": "code",
   "execution_count": 13,
   "metadata": {},
   "outputs": [],
   "source": [
    "import requests"
   ]
  },
  {
   "cell_type": "code",
   "execution_count": 14,
   "metadata": {},
   "outputs": [],
   "source": [
    "def dep(pkg):\n",
    "    url = f\"https://pypi.org/pypi/{pkg}/json\"\n",
    "    return requests.get(url).json()[\"info\"][\"requires_dist\"]"
   ]
  },
  {
   "cell_type": "code",
   "execution_count": 15,
   "metadata": {},
   "outputs": [
    {
     "data": {
      "text/plain": [
       "['python-dateutil (>=2.6.1)',\n",
       " 'pytz (>=2017.2)',\n",
       " 'numpy (>=1.13.3)',\n",
       " \"pytest (>=4.0.2) ; extra == 'test'\",\n",
       " \"pytest-xdist ; extra == 'test'\",\n",
       " \"hypothesis (>=3.58) ; extra == 'test'\"]"
      ]
     },
     "execution_count": 15,
     "metadata": {},
     "output_type": "execute_result"
    }
   ],
   "source": [
    "dep(\"pandas\")"
   ]
  },
  {
   "cell_type": "markdown",
   "execution_count": null,
   "metadata": {},
   "outputs": [],
   "source": [
    "## Other Python Depedency Tools\n",
    "\n",
    "https://github.com/naiquevin/pipdeptree\n",
    "\n",
    "https://github.com/jazzband/pip-tools\n",
    "\n",
    "https://stackoverflow.com/questions/21336323/show-reverse-dependencies-with-pip\n",
    "\n"
   ]
  },
  {
   "cell_type": "markdown",
   "metadata": {},
   "source": [
    "## References\n",
    "\n",
    "https://stackoverflow.com/questions/41816693/how-to-list-dependencies-for-a-python-library-without-installing"
   ]
  }
 ],
 "metadata": {
  "file_extension": ".py",
  "kernelspec": {
   "display_name": "Python 3",
   "language": "python",
   "name": "python3"
  },
  "language_info": {
   "codemirror_mode": {
    "name": "ipython",
    "version": 3
   },
   "file_extension": ".py",
   "mimetype": "text/x-python",
   "name": "python",
   "nbconvert_exporter": "python",
   "pygments_lexer": "ipython3",
   "version": "3.7.5"
  },
  "mimetype": "text/x-python",
  "name": "python",
  "npconvert_exporter": "python",
  "pygments_lexer": "ipython3",
  "version": 3
 },
 "nbformat": 4,
 "nbformat_minor": 4
}