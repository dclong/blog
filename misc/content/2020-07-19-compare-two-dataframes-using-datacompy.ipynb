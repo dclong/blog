{
 "nbformat": 4,
 "nbformat_minor": 2,
 "metadata": {
  "language_info": {
   "name": "python",
   "codemirror_mode": {
    "name": "ipython",
    "version": 3
   }
  },
  "orig_nbformat": 2,
  "file_extension": ".py",
  "mimetype": "text/x-python",
  "name": "python",
  "npconvert_exporter": "python",
  "pygments_lexer": "ipython3",
  "version": 3
 },
 "cells": [
  {
   "cell_type": "markdown",
   "execution_count": null,
   "metadata": {},
   "outputs": [],
   "source": [
    "- Author: Ben Du\n",
    "- Date: 2020-07-19 15:23:17\n",
    "- Title: Compare Two Dataframes Using Datacompy\n",
    "- Slug: compare-two-dataframes-using-datacompy\n",
    "- Category: Computer Science\n",
    "- Tags: Computer Science, DataCompy, data, comparison, compare, big data, Spark, Python"
   ]
  },
  {
   "cell_type": "code",
   "execution_count": null,
   "metadata": {},
   "outputs": [],
   "source": [
    "import datacompy\n",
    "from pyspark.sql import SparkSession\n",
    "spark = SparkSession.builder.appName(\"Data_Comparison\") \\\n",
    "    .enableHiveSupport().getOrCreate()\n",
    "prod = spark.read.parquet(\"/path/to/prod\").drop(\"part_id\", \"local_rank\")\n",
    "dev = spark.read.parquet(\"/path/to/dev\")\n",
    "comparison = datacompy.SparkCompare(\n",
    "    spark,\n",
    "    prod,\n",
    "    dev,\n",
    "    join_columns=[\"site_id\", \"item_id\"],\n",
    "    cache_intermediates=True,\n",
    "    match_rates=True\n",
    ")\n",
    "comparison.report()"
   ]
  },
  {
   "cell_type": "markdown",
   "execution_count": null,
   "metadata": {},
   "outputs": [],
   "source": [
    "## References\n",
    "\n",
    "https://capitalone.github.io/datacompy/#\n",
    "\n",
    "https://github.com/capitalone/datacompy"
   ]
  },
  {
   "cell_type": "code",
   "execution_count": null,
   "metadata": {},
   "outputs": [],
   "source": []
  }
 ]
}