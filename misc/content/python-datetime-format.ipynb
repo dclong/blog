{
 "cells": [
  {
   "cell_type": "markdown",
   "metadata": {},
   "source": [
    "- Title: Format Date and Time in Python\n",
    "- Slug: python-datetime-format\n",
    "- Date: 2020-03-11 11:14:05\n",
    "- Category: Computer Science\n",
    "- Tags: programming, Python, time, datetime, date, format\n",
    "- Author: Ben Du"
   ]
  },
  {
   "cell_type": "markdown",
   "metadata": {},
   "source": [
    "## Date/Time Format and Examples"
   ]
  },
  {
   "cell_type": "markdown",
   "metadata": {},
   "source": [
    "\n",
    "    %a 星期几的简写 Weekday name, abbr.\n",
    "    %A 星期几的全称 Weekday name, full\n",
    "    %b 月分的简写 Month name, abbr.\n",
    "    %B 月份的全称 Month name, full\n",
    "    %c 标准的日期的时间串 Complete date and time representation\n",
    "    %d 十进制表示的每月的第几天 Day of the month\n",
    "    %H 24小时制的小时 Hour (24-hour clock)\n",
    "    %I 12小时制的小时 Hour (12-hour clock)\n",
    "    %j 十进制表示的每年的第几天 Day of the year\n",
    "    %m 十进制表示的月份 Month number\n",
    "    %M 十时制表示的分钟数 Minute number\n",
    "    %S 十进制的秒数 Second number\n",
    "    %U 第年的第几周，把星期日做为第一天（值从0到53）Week number (Sunday first weekday)\n",
    "    %w 十进制表示的星期几（值从0到6，星期天为0）weekday number\n",
    "    %W 每年的第几周，把星期一做为第一天（值从0到53） Week number (Monday first weekday)\n",
    "    %x 标准的日期串 Complete date representation (e.g. 13/01/08)\n",
    "    %X 标准的时间串 Complete time representation (e.g. 17:02:10)\n",
    "    %y 不带世纪的十进制年份（值从0到99）Year number within century\n",
    "    %Y 带世纪部分的十制年份 Year number\n",
    "    %z，%Z 时区名称，如果不能得到时区名称则返回空字符。Name of time zone\n",
    "    %% 百分号\n",
    "\n"
   ]
  },
  {
   "cell_type": "code",
   "execution_count": 2,
   "metadata": {},
   "outputs": [
    {
     "data": {
      "text/html": [
       "<div>\n",
       "<style scoped>\n",
       "    .dataframe tbody tr th:only-of-type {\n",
       "        vertical-align: middle;\n",
       "    }\n",
       "\n",
       "    .dataframe tbody tr th {\n",
       "        vertical-align: top;\n",
       "    }\n",
       "\n",
       "    .dataframe thead th {\n",
       "        text-align: right;\n",
       "    }\n",
       "</style>\n",
       "<table border=\"1\" class=\"dataframe\">\n",
       "  <thead>\n",
       "    <tr style=\"text-align: right;\">\n",
       "      <th></th>\n",
       "      <th>format</th>\n",
       "      <th>example</th>\n",
       "    </tr>\n",
       "  </thead>\n",
       "  <tbody>\n",
       "    <tr>\n",
       "      <th>0</th>\n",
       "      <td>%Y-%m-%d</td>\n",
       "      <td>2017-11-23</td>\n",
       "    </tr>\n",
       "    <tr>\n",
       "      <th>1</th>\n",
       "      <td>%y-%m-%d</td>\n",
       "      <td>17-11-23</td>\n",
       "    </tr>\n",
       "    <tr>\n",
       "      <th>2</th>\n",
       "      <td>%x</td>\n",
       "      <td>11/23/17</td>\n",
       "    </tr>\n",
       "    <tr>\n",
       "      <th>3</th>\n",
       "      <td>%Y-%m-%d %H:%M:%S</td>\n",
       "      <td>2017-11-23 11:41:57</td>\n",
       "    </tr>\n",
       "    <tr>\n",
       "      <th>4</th>\n",
       "      <td>%Y-%m-%d %H:%M:%S.%f</td>\n",
       "      <td>2017-11-23 11:41:57.920359</td>\n",
       "    </tr>\n",
       "    <tr>\n",
       "      <th>5</th>\n",
       "      <td>%Y-%m-%d %X</td>\n",
       "      <td>2017-11-23 11:41:57</td>\n",
       "    </tr>\n",
       "    <tr>\n",
       "      <th>6</th>\n",
       "      <td>%Y-%m-%d %H:%M:%S %z</td>\n",
       "      <td>2017-11-23 11:41:57</td>\n",
       "    </tr>\n",
       "    <tr>\n",
       "      <th>7</th>\n",
       "      <td>%W</td>\n",
       "      <td>47</td>\n",
       "    </tr>\n",
       "    <tr>\n",
       "      <th>8</th>\n",
       "      <td>%w</td>\n",
       "      <td>4</td>\n",
       "    </tr>\n",
       "    <tr>\n",
       "      <th>9</th>\n",
       "      <td>%c</td>\n",
       "      <td>Thu Nov 23 11:41:57 2017</td>\n",
       "    </tr>\n",
       "    <tr>\n",
       "      <th>10</th>\n",
       "      <td>%B</td>\n",
       "      <td>November</td>\n",
       "    </tr>\n",
       "    <tr>\n",
       "      <th>11</th>\n",
       "      <td>%b</td>\n",
       "      <td>Nov</td>\n",
       "    </tr>\n",
       "    <tr>\n",
       "      <th>12</th>\n",
       "      <td>%A</td>\n",
       "      <td>Thursday</td>\n",
       "    </tr>\n",
       "    <tr>\n",
       "      <th>13</th>\n",
       "      <td>%a</td>\n",
       "      <td>Thu</td>\n",
       "    </tr>\n",
       "  </tbody>\n",
       "</table>\n",
       "</div>"
      ],
      "text/plain": [
       "                  format                     example\n",
       "0               %Y-%m-%d                  2017-11-23\n",
       "1               %y-%m-%d                    17-11-23\n",
       "2                     %x                    11/23/17\n",
       "3      %Y-%m-%d %H:%M:%S         2017-11-23 11:41:57\n",
       "4   %Y-%m-%d %H:%M:%S.%f  2017-11-23 11:41:57.920359\n",
       "5            %Y-%m-%d %X         2017-11-23 11:41:57\n",
       "6   %Y-%m-%d %H:%M:%S %z        2017-11-23 11:41:57 \n",
       "7                     %W                          47\n",
       "8                     %w                           4\n",
       "9                     %c    Thu Nov 23 11:41:57 2017\n",
       "10                    %B                    November\n",
       "11                    %b                         Nov\n",
       "12                    %A                    Thursday\n",
       "13                    %a                         Thu"
      ]
     },
     "execution_count": 2,
     "metadata": {},
     "output_type": "execute_result"
    }
   ],
   "source": [
    "from datetime import datetime\n",
    "import pandas as pd\n",
    "now = datetime.now()\n",
    "formats = [\n",
    "    '%Y-%m-%d',\n",
    "    '%y-%m-%d',\n",
    "    '%x',\n",
    "    '%Y-%m-%d %H:%M:%S',\n",
    "    '%Y-%m-%d %H:%M:%S.%f',\n",
    "    '%Y-%m-%d %X',\n",
    "    '%Y-%m-%d %H:%M:%S %z',\n",
    "    '%W',\n",
    "    '%w',\n",
    "    '%c',\n",
    "    '%B',\n",
    "    '%b',\n",
    "    '%A',\n",
    "    '%a'\n",
    "]\n",
    "examples = [[f, now.strftime(f)] for f in formats]\n",
    "pd.DataFrame(examples, columns = ['format', 'example'])"
   ]
  },
  {
   "cell_type": "markdown",
   "metadata": {},
   "source": [
    "## Date to String"
   ]
  },
  {
   "cell_type": "code",
   "execution_count": 16,
   "metadata": {},
   "outputs": [
    {
     "data": {
      "text/plain": [
       "'2017-01-09'"
      ]
     },
     "execution_count": 16,
     "metadata": {},
     "output_type": "execute_result"
    }
   ],
   "source": [
    "d.strftime('%Y-%m-%d')"
   ]
  }
 ],
 "metadata": {
  "kernelspec": {
   "display_name": "Python 3",
   "language": "python",
   "name": "python3"
  },
  "language_info": {
   "codemirror_mode": {
    "name": "ipython",
    "version": 3
   },
   "file_extension": ".py",
   "mimetype": "text/x-python",
   "name": "python",
   "nbconvert_exporter": "python",
   "pygments_lexer": "ipython3",
   "version": "3.7.3"
  }
 },
 "nbformat": 4,
 "nbformat_minor": 4
}
