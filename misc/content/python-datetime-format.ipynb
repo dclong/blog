{
 "cells": [
  {
   "cell_type": "markdown",
   "metadata": {},
   "source": [
    "- Title: Format Date and Time in Python\n",
    "- Slug: python-datetime-format\n",
    "- Date: 2020-03-11 12:34:08\n",
    "- Category: Computer Science\n",
    "- Tags: programming, Python, time, datetime, date, format\n",
    "- Author: Ben Du"
   ]
  },
  {
   "cell_type": "markdown",
   "metadata": {},
   "source": [
    "## Date/Time Format and Examples"
   ]
  },
  {
   "cell_type": "markdown",
   "metadata": {},
   "source": [
    "\n",
    "    %a \u661f\u671f\u51e0\u7684\u7b80\u5199 Weekday name, abbr.\n",
    "    %A \u661f\u671f\u51e0\u7684\u5168\u79f0 Weekday name, full\n",
    "    %b \u6708\u5206\u7684\u7b80\u5199 Month name, abbr.\n",
    "    %B \u6708\u4efd\u7684\u5168\u79f0 Month name, full\n",
    "    %c \u6807\u51c6\u7684\u65e5\u671f\u7684\u65f6\u95f4\u4e32 Complete date and time representation\n",
    "    %d \u5341\u8fdb\u5236\u8868\u793a\u7684\u6bcf\u6708\u7684\u7b2c\u51e0\u5929 Day of the month\n",
    "    %H 24\u5c0f\u65f6\u5236\u7684\u5c0f\u65f6 Hour (24-hour clock)\n",
    "    %I 12\u5c0f\u65f6\u5236\u7684\u5c0f\u65f6 Hour (12-hour clock)\n",
    "    %j \u5341\u8fdb\u5236\u8868\u793a\u7684\u6bcf\u5e74\u7684\u7b2c\u51e0\u5929 Day of the year\n",
    "    %m \u5341\u8fdb\u5236\u8868\u793a\u7684\u6708\u4efd Month number\n",
    "    %M \u5341\u65f6\u5236\u8868\u793a\u7684\u5206\u949f\u6570 Minute number\n",
    "    %S \u5341\u8fdb\u5236\u7684\u79d2\u6570 Second number\n",
    "    %U \u7b2c\u5e74\u7684\u7b2c\u51e0\u5468\uff0c\u628a\u661f\u671f\u65e5\u505a\u4e3a\u7b2c\u4e00\u5929\uff08\u503c\u4ece0\u523053\uff09Week number (Sunday first weekday)\n",
    "    %w \u5341\u8fdb\u5236\u8868\u793a\u7684\u661f\u671f\u51e0\uff08\u503c\u4ece0\u52306\uff0c\u661f\u671f\u5929\u4e3a0\uff09weekday number\n",
    "    %W \u6bcf\u5e74\u7684\u7b2c\u51e0\u5468\uff0c\u628a\u661f\u671f\u4e00\u505a\u4e3a\u7b2c\u4e00\u5929\uff08\u503c\u4ece0\u523053\uff09 Week number (Monday first weekday)\n",
    "    %x \u6807\u51c6\u7684\u65e5\u671f\u4e32 Complete date representation (e.g. 13/01/08)\n",
    "    %X \u6807\u51c6\u7684\u65f6\u95f4\u4e32 Complete time representation (e.g. 17:02:10)\n",
    "    %y \u4e0d\u5e26\u4e16\u7eaa\u7684\u5341\u8fdb\u5236\u5e74\u4efd\uff08\u503c\u4ece0\u523099\uff09Year number within century\n",
    "    %Y \u5e26\u4e16\u7eaa\u90e8\u5206\u7684\u5341\u5236\u5e74\u4efd Year number\n",
    "    %z\uff0c%Z \u65f6\u533a\u540d\u79f0\uff0c\u5982\u679c\u4e0d\u80fd\u5f97\u5230\u65f6\u533a\u540d\u79f0\u5219\u8fd4\u56de\u7a7a\u5b57\u7b26\u3002Name of time zone\n",
    "    %% \u767e\u5206\u53f7\n",
    "\n"
   ]
  },
  {
   "cell_type": "code",
   "execution_count": 19,
   "metadata": {},
   "outputs": [
    {
     "data": {
      "text/html": "<div>\n<style scoped>\n    .dataframe tbody tr th:only-of-type {\n        vertical-align: middle;\n    }\n\n    .dataframe tbody tr th {\n        vertical-align: top;\n    }\n\n    .dataframe thead th {\n        text-align: right;\n    }\n</style>\n<table border=\"1\" class=\"dataframe\">\n  <thead>\n    <tr style=\"text-align: right;\">\n      <th></th>\n      <th>Fomat</th>\n      <th>Examples</th>\n      <th>Comment</th>\n    </tr>\n  </thead>\n  <tbody>\n    <tr>\n      <th>0</th>\n      <td>%Y-%m-%d</td>\n      <td>2020-03-11</td>\n      <td></td>\n    </tr>\n    <tr>\n      <th>1</th>\n      <td>%y-%m-%d</td>\n      <td>20-03-11</td>\n      <td></td>\n    </tr>\n    <tr>\n      <th>2</th>\n      <td>%x</td>\n      <td>03/11/20</td>\n      <td></td>\n    </tr>\n    <tr>\n      <th>3</th>\n      <td>%Y-%m-%d %H:%M:%S</td>\n      <td>2020-03-11 12:32:11</td>\n      <td></td>\n    </tr>\n    <tr>\n      <th>4</th>\n      <td>%Y-%m-%d %H:%M:%S.%f</td>\n      <td>2020-03-11 12:32:11.349915</td>\n      <td>The default format when convert a datetime object to string.</td>\n    </tr>\n    <tr>\n      <th>5</th>\n      <td>%Y-%m-%d %X</td>\n      <td>2020-03-11 12:32:11</td>\n      <td></td>\n    </tr>\n    <tr>\n      <th>6</th>\n      <td>%Y-%m-%d %H:%M:%S %z</td>\n      <td>2020-03-11 12:32:11</td>\n      <td></td>\n    </tr>\n    <tr>\n      <th>7</th>\n      <td>%W</td>\n      <td>10</td>\n      <td></td>\n    </tr>\n    <tr>\n      <th>8</th>\n      <td>%w</td>\n      <td>3</td>\n      <td></td>\n    </tr>\n    <tr>\n      <th>9</th>\n      <td>%c</td>\n      <td>Wed Mar 11 12:32:11 2020</td>\n      <td></td>\n    </tr>\n    <tr>\n      <th>10</th>\n      <td>%B</td>\n      <td>March</td>\n      <td></td>\n    </tr>\n    <tr>\n      <th>11</th>\n      <td>%b</td>\n      <td>Mar</td>\n      <td></td>\n    </tr>\n    <tr>\n      <th>12</th>\n      <td>%A</td>\n      <td>Wednesday</td>\n      <td></td>\n    </tr>\n    <tr>\n      <th>13</th>\n      <td>%a</td>\n      <td>Wed</td>\n      <td></td>\n    </tr>\n  </tbody>\n</table>\n</div>",
      "text/plain": "                   Fomat                    Examples  \\\n0               %Y-%m-%d                  2020-03-11   \n1               %y-%m-%d                    20-03-11   \n2                     %x                    03/11/20   \n3      %Y-%m-%d %H:%M:%S         2020-03-11 12:32:11   \n4   %Y-%m-%d %H:%M:%S.%f  2020-03-11 12:32:11.349915   \n5            %Y-%m-%d %X         2020-03-11 12:32:11   \n6   %Y-%m-%d %H:%M:%S %z        2020-03-11 12:32:11    \n7                     %W                          10   \n8                     %w                           3   \n9                     %c    Wed Mar 11 12:32:11 2020   \n10                    %B                       March   \n11                    %b                         Mar   \n12                    %A                   Wednesday   \n13                    %a                         Wed   \n\n                                                         Comment  \n0                                                                 \n1                                                                 \n2                                                                 \n3                                                                 \n4   The default format when convert a datetime object to string.  \n5                                                                 \n6                                                                 \n7                                                                 \n8                                                                 \n9                                                                 \n10                                                                \n11                                                                \n12                                                                \n13                                                                "
     },
     "execution_count": 19,
     "metadata": {},
     "output_type": "execute_result"
    }
   ],
   "source": [
    "from datetime import datetime\n",
    "import pandas as pd\n",
    "pd.options.display.max_colwidth = 100\n",
    "now = datetime.now()\n",
    "formats = [\n",
    "    (\"%Y-%m-%d\", \"\"), \n",
    "    (\"%y-%m-%d\", \"\"),\n",
    "    (\"%x\", \"\"),\n",
    "    (\"%Y-%m-%d %H:%M:%S\", \"\"),\n",
    "    (\"%Y-%m-%d %H:%M:%S.%f\", \"The default format when convert a datetime object to string.\"),\n",
    "    (\"%Y-%m-%d %X\", \"\"),\n",
    "    (\"%Y-%m-%d %H:%M:%S %z\", \"\"),\n",
    "    (\"%W\", \"\"),\n",
    "    (\"%w\", \"\"),\n",
    "    (\"%c\", \"\"),\n",
    "    (\"%B\", \"\"),\n",
    "    (\"%b\", \"\"),\n",
    "    (\"%A\", \"\"),\n",
    "    (\"%a\", \"\")\n",
    "]\n",
    "# examples = [[f, now.strftime(f)] for f in formats]\n",
    "df = pd.DataFrame(formats, columns = [\"Fomat\", \"Comment\"])\n",
    "df.insert(1, column=\"Examples\", value=[now.strftime(fmt) for fmt, _ in formats])\n",
    "df"
   ]
  },
  {
   "cell_type": "markdown",
   "metadata": {},
   "source": [
    "## Date to String"
   ]
  },
  {
   "cell_type": "code",
   "execution_count": 16,
   "metadata": {},
   "outputs": [
    {
     "data": {
      "text/plain": [
       "'2017-01-09'"
      ]
     },
     "execution_count": 16,
     "metadata": {},
     "output_type": "execute_result"
    }
   ],
   "source": [
    "d.strftime('%Y-%m-%d')"
   ]
  }
 ],
 "metadata": {
  "kernelspec": {
   "display_name": "Python 3",
   "language": "python",
   "name": "python3"
  },
  "language_info": {
   "codemirror_mode": {
    "name": "ipython",
    "version": 3
   },
   "file_extension": ".py",
   "mimetype": "text/x-python",
   "name": "python",
   "nbconvert_exporter": "python",
   "pygments_lexer": "ipython3",
   "version": "3.7.6-final"
  }
 },
 "nbformat": 4,
 "nbformat_minor": 4
}