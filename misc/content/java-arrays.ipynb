{
 "cells": [
  {
   "cell_type": "markdown",
   "metadata": {},
   "source": [
    "- Title: Arrays in Java\n",
    "- Slug: arrays-in-java\n",
    "- Date: 2019-11-05\n",
    "- Category: Programming\n",
    "- Tags: programming, JVM, Java, array, compare, comparison, Arrays.equals\n",
    "- Author: Ben Du"
   ]
  },
  {
   "cell_type": "markdown",
   "metadata": {},
   "source": [
    "## Compare Arrays in Java"
   ]
  },
  {
   "cell_type": "markdown",
   "metadata": {},
   "source": [
    "https://www.geeksforgeeks.org/compare-two-arrays-java/"
   ]
  },
  {
   "cell_type": "markdown",
   "metadata": {},
   "source": [
    "## Instantiate Array Using Curly Braces"
   ]
  },
  {
   "cell_type": "code",
   "execution_count": 13,
   "metadata": {},
   "outputs": [
    {
     "name": "stdout",
     "output_type": "stream",
     "text": [
      "1\n",
      "2\n",
      "3\n"
     ]
    },
    {
     "data": {
      "text/plain": [
       "null"
      ]
     },
     "execution_count": 13,
     "metadata": {},
     "output_type": "execute_result"
    }
   ],
   "source": [
    "import java.util.Arrays;\n",
    "\n",
    "long[] arr = new long[] {1, 2, 3};\n",
    "Arrays.stream(arr).forEach(i -> System.out.println(i));"
   ]
  },
  {
   "cell_type": "markdown",
   "metadata": {},
   "source": [
    "## Cast Arrays"
   ]
  },
  {
   "cell_type": "markdown",
   "metadata": {},
   "source": [
    "https://stackoverflow.com/questions/1018750/how-to-convert-object-array-to-string-array-in-java\n",
    "\n",
    "https://stackoverflow.com/questions/4581407/how-can-i-convert-arraylistobject-to-arrayliststring"
   ]
  },
  {
   "cell_type": "markdown",
   "metadata": {},
   "source": [
    "### System.arraycopy"
   ]
  },
  {
   "cell_type": "code",
   "execution_count": null,
   "metadata": {},
   "outputs": [],
   "source": [
    "String[] stringArray = Arrays.copyOf(objectArray, objectArray.length, String[].class);"
   ]
  },
  {
   "cell_type": "markdown",
   "metadata": {},
   "source": [
    "### Stream"
   ]
  },
  {
   "cell_type": "code",
   "execution_count": null,
   "metadata": {},
   "outputs": [],
   "source": [
    "String[] strings = Arrays.stream(objects).toArray(String[]::new);"
   ]
  },
  {
   "cell_type": "code",
   "execution_count": null,
   "metadata": {},
   "outputs": [],
   "source": [
    "String[] strings = Arrays.stream(obj).map(Object::toString).toArray(String[]::new);"
   ]
  }
 ],
 "metadata": {
  "kernelspec": {
   "display_name": "Java",
   "language": "java",
   "name": "java"
  },
  "language_info": {
   "codemirror_mode": "text/x-java",
   "file_extension": ".java",
   "mimetype": "",
   "name": "Java",
   "nbconverter_exporter": "",
   "version": "1.8.0_222"
  }
 },
 "nbformat": 4,
 "nbformat_minor": 4
}
