{
 "cells": [
  {
   "cell_type": "markdown",
   "metadata": {},
   "source": [
    "- Title: Regular Expression in Python\n",
    "- Slug: regular-expression-python\n",
    "- Date: 2019-11-13\n",
    "- Category: Programming\n",
    "- Tags: programming, Python, regex, regular expression\n",
    "- Author: Ben Du"
   ]
  },
  {
   "cell_type": "markdown",
   "metadata": {},
   "source": [
    "\n",
    "[Online Regular Expression Tester](https://regex101.com/)\n",
    "\n",
    "\n",
    "1. re.search vs pattern.search: no performance difference. \n",
    "  Python compiles and caches regular expression internally. \n",
    "  If you have to given the pattern a nice name or if you don't copy the regular expression multiple times, then compile it.\n",
    "\n",
    "1. (?i) case-insensitive matching\n",
    "\n",
    "2. `re.match` matches the regular expression pattern from the beginning of the string\n",
    "    while `re.search` matches the regular expression pattern anywhere in the string.\n",
    "    Generally speaking `re.search` is preferred over `re.match`\n",
    "    as it is more flexible.\n",
    "\n",
    "3. Passing `re.DOTALL` to the argument `flag` makes the dot (`.`) matches anything\n",
    "    including a newline (by default the dot does not matches a newline).\n",
    "\n",
    "1. `re.search` search for the first match anywhere in the string.\n",
    "\n",
    "2. `re.match` search for the first match at the beginning of the string. \n",
    "\n",
    "3. `re.findall` find all matches in the string. \n",
    "\n",
    "4. `re.finditer` find all matches and return an iterator of the matches.\n",
    "\n",
    "5. Passing `re.DOTALL` to the `flags` option make the dot matches anything including the newline."
   ]
  },
  {
   "cell_type": "markdown",
   "metadata": {},
   "source": [
    "## Tips"
   ]
  },
  {
   "cell_type": "markdown",
   "metadata": {},
   "source": [
    "If a pattern is used many times, \n",
    "it is suggested that you compile it using `re.compile` to improve performance."
   ]
  },
  {
   "cell_type": "markdown",
   "metadata": {},
   "source": [
    "groups, i.e., matched strings in parentheses can be accessed by .group or groups method."
   ]
  },
  {
   "cell_type": "code",
   "execution_count": 1,
   "metadata": {},
   "outputs": [],
   "source": [
    "import re"
   ]
  },
  {
   "cell_type": "markdown",
   "metadata": {},
   "source": [
    "## re.compile"
   ]
  },
  {
   "cell_type": "markdown",
   "metadata": {},
   "source": [
    "The compiled object is of type `_sre.SRE_Pattern` \n",
    "and has method `search`, `match`, `sub`, etc."
   ]
  },
  {
   "cell_type": "code",
   "execution_count": 9,
   "metadata": {},
   "outputs": [],
   "source": [
    "p = re.compile('\\d{4}-\\d{2}-\\d{2}$')"
   ]
  },
  {
   "cell_type": "code",
   "execution_count": 11,
   "metadata": {},
   "outputs": [
    {
     "data": {
      "text/plain": [
       "_sre.SRE_Pattern"
      ]
     },
     "execution_count": 11,
     "metadata": {},
     "output_type": "execute_result"
    }
   ],
   "source": [
    "type(p)"
   ]
  },
  {
   "cell_type": "code",
   "execution_count": 7,
   "metadata": {},
   "outputs": [
    {
     "name": "stdout",
     "output_type": "stream",
     "text": [
      "Help on built-in function sub:\n",
      "\n",
      "sub(repl, string, count=0) method of _sre.SRE_Pattern instance\n",
      "    Return the string obtained by replacing the leftmost non-overlapping occurrences of pattern in string by the replacement repl.\n",
      "\n"
     ]
    }
   ],
   "source": [
    "help(p.sub)"
   ]
  },
  {
   "cell_type": "code",
   "execution_count": 10,
   "metadata": {},
   "outputs": [
    {
     "data": {
      "text/plain": [
       "'Today is YYYY-mm-dd'"
      ]
     },
     "execution_count": 10,
     "metadata": {},
     "output_type": "execute_result"
    }
   ],
   "source": [
    "p.sub('YYYY-mm-dd', 'Today is 2018-05-01')"
   ]
  },
  {
   "cell_type": "markdown",
   "metadata": {},
   "source": [
    "## re.sub"
   ]
  },
  {
   "cell_type": "code",
   "execution_count": 4,
   "metadata": {},
   "outputs": [
    {
     "data": {
      "text/plain": [
       "'abc'"
      ]
     },
     "execution_count": 4,
     "metadata": {},
     "output_type": "execute_result"
    }
   ],
   "source": [
    "re.sub(\"\\s\", \"\", \"a b\\tc\")"
   ]
  },
  {
   "cell_type": "markdown",
   "metadata": {},
   "source": [
    "## re.match"
   ]
  },
  {
   "cell_type": "code",
   "execution_count": 6,
   "metadata": {},
   "outputs": [
    {
     "data": {
      "text/plain": [
       "<_sre.SRE_Match object; span=(0, 10), match='2018-07-01'>"
      ]
     },
     "execution_count": 6,
     "metadata": {},
     "output_type": "execute_result"
    }
   ],
   "source": [
    "import re\n",
    "\n",
    "re.match('^\\d{4}-\\d{2}-\\d{2}$', '2018-07-01')"
   ]
  },
  {
   "cell_type": "code",
   "execution_count": 10,
   "metadata": {},
   "outputs": [],
   "source": [
    "import re\n",
    "\n",
    "re.match('\\d{4}-\\d{2}-\\d{2}', 'Today is 2018-07-01.')"
   ]
  },
  {
   "cell_type": "markdown",
   "metadata": {},
   "source": [
    "## re.search"
   ]
  },
  {
   "cell_type": "code",
   "execution_count": 5,
   "metadata": {},
   "outputs": [
    {
     "data": {
      "text/plain": [
       "<_sre.SRE_Match object; span=(0, 10), match='2018-07-01'>"
      ]
     },
     "execution_count": 5,
     "metadata": {},
     "output_type": "execute_result"
    }
   ],
   "source": [
    "import re\n",
    "\n",
    "re.search('^\\d{4}-\\d{2}-\\d{2}$', '2018-07-01')"
   ]
  },
  {
   "cell_type": "code",
   "execution_count": 9,
   "metadata": {},
   "outputs": [
    {
     "data": {
      "text/plain": [
       "<_sre.SRE_Match object; span=(9, 19), match='2018-07-01'>"
      ]
     },
     "execution_count": 9,
     "metadata": {},
     "output_type": "execute_result"
    }
   ],
   "source": [
    "import re\n",
    "\n",
    "re.search('\\d{4}-\\d{2}-\\d{2}', 'Today is 2018-07-01.')"
   ]
  },
  {
   "cell_type": "markdown",
   "metadata": {},
   "source": [
    "## re.findall\n",
    "\n",
    "Find all matching strings."
   ]
  },
  {
   "cell_type": "code",
   "execution_count": 5,
   "metadata": {},
   "outputs": [
    {
     "data": {
      "text/plain": [
       "['\"a\"', '\"day\"']"
      ]
     },
     "execution_count": 5,
     "metadata": {},
     "output_type": "execute_result"
    }
   ],
   "source": [
    "import re\n",
    "\n",
    "s = 'It is \"a\" good \"day\" today.'\n",
    "re.findall('\".*?\"', s)"
   ]
  },
  {
   "cell_type": "code",
   "execution_count": 1,
   "metadata": {},
   "outputs": [],
   "source": [
    "import re\n",
    "\n",
    "s = '''this is \n",
    "/* BEGIN{NIMA}\n",
    "what \n",
    "ever\n",
    "END{NIMA} */\n",
    "an example\n",
    "'''"
   ]
  },
  {
   "cell_type": "code",
   "execution_count": 6,
   "metadata": {},
   "outputs": [
    {
     "data": {
      "text/plain": [
       "'this is \\n\\nan example\\n'"
      ]
     },
     "execution_count": 6,
     "metadata": {},
     "output_type": "execute_result"
    }
   ],
   "source": [
    "re.sub('(?s)/\\* BEGIN{NIMA}.*END{NIMA} \\*/', '', s)"
   ]
  },
  {
   "cell_type": "markdown",
   "metadata": {},
   "source": [
    "## Escape & Non-escape"
   ]
  },
  {
   "cell_type": "markdown",
   "metadata": {},
   "source": [
    "`{` and `}` need not to be escaped."
   ]
  },
  {
   "cell_type": "code",
   "execution_count": null,
   "metadata": {},
   "outputs": [],
   "source": []
  }
 ],
 "metadata": {
  "kernelspec": {
   "display_name": "Python 3",
   "language": "python",
   "name": "python3"
  },
  "language_info": {
   "codemirror_mode": {
    "name": "ipython",
    "version": 3
   },
   "file_extension": ".py",
   "mimetype": "text/x-python",
   "name": "python",
   "nbconvert_exporter": "python",
   "pygments_lexer": "ipython3",
   "version": "3.7.3"
  }
 },
 "nbformat": 4,
 "nbformat_minor": 4
}
