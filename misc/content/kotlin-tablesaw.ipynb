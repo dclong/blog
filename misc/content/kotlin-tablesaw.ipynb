{
 "cells": [
  {
   "cell_type": "markdown",
   "metadata": {},
   "source": [
    "- Title: Use Tablesaw with Kotlin \n",
    "- Slug: kotlin-tablesaw\n",
    "- Date: 2019-12-12\n",
    "- Category: Programming\n",
    "- Tags: programming, Kotlin, DataFrame, Tablesaw\n",
    "- Author: Ben Du"
   ]
  },
  {
   "cell_type": "code",
   "execution_count": 1,
   "metadata": {},
   "outputs": [
    {
     "data": {
      "application/vnd.jupyter.widget-view+json": {
       "model_id": "",
       "version_major": 2,
       "version_minor": 0
      },
      "method": "display_data"
     },
     "metadata": {},
     "output_type": "display_data"
    },
    {
     "data": {
      "application/vnd.jupyter.widget-view+json": {
       "model_id": "a355f4c0-0915-4453-af92-9bf7fa474aa1",
       "version_major": 2,
       "version_minor": 0
      },
      "method": "display_data"
     },
     "metadata": {},
     "output_type": "display_data"
    }
   ],
   "source": [
    "%classpath add mvn tech.tablesaw tablesaw-core 0.36.0"
   ]
  },
  {
   "cell_type": "code",
   "execution_count": 2,
   "metadata": {},
   "outputs": [
    {
     "ename": "error",
     "evalue": " expecting ')'",
     "output_type": "error",
     "text": "error: expecting ')'\nval column = new DoubleColumn(\"column_\" + i, (0 until 10).map(j => (j + 10 * i).toDouble).toArray)\n                                           ^\nerror: unexpected tokens (use ';' to separate expressions on the same line)\nval column = new DoubleColumn(\"column_\" + i, (0 until 10).map(j => (j + 10 * i).toDouble).toArray)\n                                           ^\n",
     "traceback": [
      "\u001b[1;31merror: expecting ')'\u001b[0;0m",
      "\u001b[1;31mval column = new DoubleColumn(\"column_\" + i, (0 until 10).map(j => (j + 10 * i).toDouble).toArray)\u001b[0;0m",
      "\u001b[1;31m                                           ^\u001b[0;0m",
      "\u001b[1;31merror: unexpected tokens (use ';' to separate expressions on the same line)\u001b[0;0m",
      "\u001b[1;31mval column = new DoubleColumn(\"column_\" + i, (0 until 10).map(j => (j + 10 * i).toDouble).toArray)\u001b[0;0m",
      "\u001b[1;31m                                           ^\u001b[0;0m"
     ]
    }
   ],
   "source": [
    "import tech.tablesaw.api._\n",
    "val table = Table.create(\"Table1\")\n",
    "\n",
    "for (i in 0.until(10)) {\n",
    "    val column = new DoubleColumn(\"column_\" + i, (0 until 10).map(j => (j + 10 * i).toDouble).toArray)\n",
    "    table.addColumn(column)\n",
    "}\n",
    "table.print()"
   ]
  },
  {
   "cell_type": "code",
   "execution_count": 2,
   "metadata": {},
   "outputs": [
    {
     "data": {
      "text/plain": [
       "null"
      ]
     },
     "execution_count": 2,
     "metadata": {},
     "output_type": "execute_result"
    }
   ],
   "source": [
    "import tech.tablesaw.api.Table\n",
    "import tech.tablesaw.api.DoubleColumn"
   ]
  },
  {
   "cell_type": "code",
   "execution_count": 3,
   "metadata": {},
   "outputs": [
    {
     "data": {
      "text/plain": [
       "null"
      ]
     },
     "execution_count": 3,
     "metadata": {},
     "output_type": "execute_result"
    }
   ],
   "source": [
    "val table = Table.create(\"Table1\")"
   ]
  },
  {
   "cell_type": "code",
   "execution_count": 4,
   "metadata": {},
   "outputs": [
    {
     "ename": "error",
     "evalue": " expecting ')'",
     "output_type": "error",
     "text": "error: expecting ')'\nval column = DoubleColumn(\"column_\" + i, 0.until(10).map(j -> (j + 10 * i).toDouble()).toArray)\n                                                          ^\nerror: unexpected tokens (use ';' to separate expressions on the same line)\nval column = DoubleColumn(\"column_\" + i, 0.until(10).map(j -> (j + 10 * i).toDouble()).toArray)\n                                                           ^\n",
     "traceback": [
      "\u001b[1;31merror: expecting ')'\u001b[0;0m",
      "\u001b[1;31mval column = DoubleColumn(\"column_\" + i, 0.until(10).map(j -> (j + 10 * i).toDouble()).toArray)\u001b[0;0m",
      "\u001b[1;31m                                                          ^\u001b[0;0m",
      "\u001b[1;31merror: unexpected tokens (use ';' to separate expressions on the same line)\u001b[0;0m",
      "\u001b[1;31mval column = DoubleColumn(\"column_\" + i, 0.until(10).map(j -> (j + 10 * i).toDouble()).toArray)\u001b[0;0m",
      "\u001b[1;31m                                                           ^\u001b[0;0m"
     ]
    }
   ],
   "source": [
    "0.until(10).forEach{\n",
    "    val column = DoubleColumn(\"column_\" + i, 0.until(10).map(j -> (j + 10 * i).toDouble()).toArray)\n",
    "    table.addColumn(column)\n",
    "}"
   ]
  },
  {
   "cell_type": "markdown",
   "metadata": {},
   "source": [
    "## References\n",
    "\n",
    "https://github.com/jtablesaw/tablesaw\n",
    "\n",
    "https://jtablesaw.wordpress.com/"
   ]
  },
  {
   "cell_type": "code",
   "execution_count": 15,
   "metadata": {},
   "outputs": [
    {
     "ename": "error",
     "evalue": " cannot access '<init>'",
     "output_type": "error",
     "text": "error: cannot access '<init>': it is protected/*protected and package*/ in 'DoubleColumn'\nDoubleColumn(\"col\", x)\n^\nerror: type mismatch: inferred type is Array<Int> but DoubleArrayList! was expected\nDoubleColumn(\"col\", x)\n                    ^\n",
     "traceback": [
      "\u001b[1;31merror: cannot access '<init>': it is protected/*protected and package*/ in 'DoubleColumn'\u001b[0;0m",
      "\u001b[1;31mDoubleColumn(\"col\", x)\u001b[0;0m",
      "\u001b[1;31m^\u001b[0;0m",
      "\u001b[1;31merror: type mismatch: inferred type is Array<Int> but DoubleArrayList! was expected\u001b[0;0m",
      "\u001b[1;31mDoubleColumn(\"col\", x)\u001b[0;0m",
      "\u001b[1;31m                    ^\u001b[0;0m"
     ]
    }
   ],
   "source": [
    "DoubleColumn(\"col\", x)"
   ]
  },
  {
   "cell_type": "code",
   "execution_count": 14,
   "metadata": {},
   "outputs": [
    {
     "data": {
      "text/plain": [
       "null"
      ]
     },
     "execution_count": 14,
     "metadata": {},
     "output_type": "execute_result"
    }
   ],
   "source": [
    "val x = arrayOf(1, 2, 3)"
   ]
  },
  {
   "cell_type": "code",
   "execution_count": null,
   "metadata": {},
   "outputs": [],
   "source": [
    "listOf"
   ]
  }
 ],
 "metadata": {
  "kernelspec": {
   "display_name": "Kotlin",
   "language": "kotlin",
   "name": "kotlin"
  },
  "language_info": {
   "codemirror_mode": "kotlin",
   "file_extension": ".kt",
   "mimetype": "",
   "name": "Kotlin",
   "nbconverter_exporter": "",
   "version": "1.2.21"
  }
 },
 "nbformat": 4,
 "nbformat_minor": 4
}
