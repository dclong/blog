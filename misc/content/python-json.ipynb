{
 "cells": [
  {
   "cell_type": "markdown",
   "metadata": {},
   "source": [
    "- Title: Hands on the json Module in Python\n",
    "- Slug: hands-on-json-python.path\n",
    "- Date: 2020-10-25 17:19:15\n",
    "- Category: Computer Science\n",
    "- Tags: programming, Python, json\n",
    "- Author: Ben Du"
   ]
  },
  {
   "cell_type": "markdown",
   "metadata": {},
   "source": [
    "https://docs.python.org/3/library/json.html"
   ]
  },
  {
   "cell_type": "markdown",
   "metadata": {},
   "source": [
    "## Comment"
   ]
  },
  {
   "cell_type": "markdown",
   "metadata": {},
   "source": [
    "Notice that json does not throw error or given any warning if you have multiple records for the same key in the JSON file!!!\n",
    "This can cause issue if an user is not careful when handling a large JSON configuration file."
   ]
  },
  {
   "cell_type": "code",
   "execution_count": 1,
   "metadata": {},
   "outputs": [],
   "source": [
    "import json"
   ]
  },
  {
   "cell_type": "code",
   "execution_count": 3,
   "metadata": {},
   "outputs": [
    {
     "data": {
      "text/plain": [
       "{'x': 2}"
      ]
     },
     "execution_count": 3,
     "metadata": {},
     "output_type": "execute_result"
    }
   ],
   "source": [
    "json.load(open('data.json'))"
   ]
  },
  {
   "cell_type": "markdown",
   "metadata": {},
   "source": [
    "## json.dumps"
   ]
  },
  {
   "cell_type": "markdown",
   "metadata": {},
   "source": [
    "Convert an object to a json string."
   ]
  },
  {
   "cell_type": "markdown",
   "metadata": {},
   "source": [
    "## json.dump"
   ]
  },
  {
   "cell_type": "markdown",
   "metadata": {},
   "source": [
    "Serialize obj as a JSON formatted stream to fp (a .write()-supporting file-like object) \n",
    "using this [conversion table](https://docs.python.org/3/library/json.html#py-to-json-table)."
   ]
  },
  {
   "cell_type": "markdown",
   "metadata": {},
   "source": [
    "## Formatting"
   ]
  },
  {
   "cell_type": "code",
   "execution_count": 1,
   "metadata": {},
   "outputs": [],
   "source": [
    "import json"
   ]
  },
  {
   "cell_type": "code",
   "execution_count": 3,
   "metadata": {},
   "outputs": [
    {
     "data": {
      "text/plain": [
       "'[\\n    {}\\n]'"
      ]
     },
     "execution_count": 3,
     "metadata": {},
     "output_type": "execute_result"
    }
   ],
   "source": [
    "json.dumps(json.loads('[{}]'), indent=4, sort_keys=True)"
   ]
  },
  {
   "cell_type": "code",
   "execution_count": 4,
   "metadata": {},
   "outputs": [
    {
     "data": {
      "text/plain": [
       "'[\\n    {}\\n]'"
      ]
     },
     "execution_count": 4,
     "metadata": {},
     "output_type": "execute_result"
    }
   ],
   "source": [
    "json.dumps(json.loads(' [{ }]\\n'), indent=4, sort_keys=True)"
   ]
  },
  {
   "source": [
    "## Seriallizablle Types in JSON Format\n",
    "\n",
    "- int, float \n",
    "- str"
   ],
   "cell_type": "markdown",
   "metadata": {}
  },
  {
   "source": [
    "## Non-serializable Types\n",
    "\n",
    "JSON is not a good serialization format as lots of objects in Python cannot be serialized in JSON.\n",
    "`pickle` is a much better alternative for serializing objects."
   ],
   "cell_type": "markdown",
   "metadata": {}
  },
  {
   "source": [
    "### datetime.datetime, etc.\n",
    "\n",
    "`datetime.datetime`, `datetime.date`, `datetime.timedelta` are not serializable.\n",
    "A possible alternative is to use timestamp instead."
   ],
   "cell_type": "markdown",
   "metadata": {}
  },
  {
   "cell_type": "code",
   "execution_count": null,
   "metadata": {},
   "outputs": [],
   "source": []
  }
 ],
 "metadata": {
  "kernelspec": {
   "display_name": "Python 3",
   "language": "python",
   "name": "python3"
  },
  "language_info": {
   "codemirror_mode": {
    "name": "ipython",
    "version": 3
   },
   "file_extension": ".py",
   "mimetype": "text/x-python",
   "name": "python",
   "nbconvert_exporter": "python",
   "pygments_lexer": "ipython3",
   "version": "3.7.3"
  }
 },
 "nbformat": 4,
 "nbformat_minor": 4
}