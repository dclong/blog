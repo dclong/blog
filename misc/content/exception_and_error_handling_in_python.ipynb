{
 "cells": [
  {
   "cell_type": "markdown",
   "metadata": {},
   "source": [
    "- Title: Exception and Error Handling in Python\n",
    "- Slug: exception-and-error-handling-in-python\n",
    "- Date: 2019-10-17\n",
    "- Category: Programming\n",
    "- Tags: programming, Python, exception, error, exception and error handling\n",
    "- Author: Ben Du"
   ]
  },
  {
   "cell_type": "markdown",
   "metadata": {},
   "source": [
    "https://docs.python.org/3/library/exceptions.html"
   ]
  },
  {
   "cell_type": "markdown",
   "metadata": {},
   "source": [
    "https://docs.python.org/3/tutorial/errors.html"
   ]
  },
  {
   "cell_type": "markdown",
   "metadata": {},
   "source": [
    "http://nbviewer.jupyter.org/github/jakevdp/WhirlwindTourOfPython/blob/master/09-Errors-and-Exceptions.ipynb"
   ]
  },
  {
   "cell_type": "markdown",
   "metadata": {},
   "source": [
    "Below is an example of user-defined exception NetworkError."
   ]
  },
  {
   "cell_type": "code",
   "execution_count": null,
   "metadata": {
    "collapsed": true
   },
   "outputs": [],
   "source": [
    "import requests\n",
    "import shutil\n",
    "\n",
    "class NetworkError(Exception):\n",
    "\n",
    "    \"\"\"Exception due to network.\"\"\"\n",
    "\n",
    "    def __init__(self, value):\n",
    "        self.value = 'Request to \"{value}\" failed.'.format(value = value)\n",
    "\n",
    "    def __str__(self):\n",
    "        return repr(self.value)\n",
    "        \n",
    "def download(id, output = None):\n",
    "    url = 'https://api.crowdflower.com/v1/jobs/{id}.csv?type=full&key=QKozzkJJvuqJfq7hkSbT'\n",
    "    url = url.format(id = id)\n",
    "    resp = requests.get(url, stream = True)\n",
    "    if not resp.ok:\n",
    "        raise NetworkError(url)\n",
    "    #end if\n",
    "    if not output:\n",
    "        output = 'f{id}.csv.zip'.format(id = id)\n",
    "    #end if\n",
    "    with open(output, 'wb') as f:\n",
    "        shutil.copyfileobj(resp.raw, f)\n",
    "#end def\n"
   ]
  }
 ],
 "metadata": {
  "kernelspec": {
   "display_name": "Python 3",
   "language": "python",
   "name": "python3"
  },
  "language_info": {
   "codemirror_mode": {
    "name": "ipython",
    "version": 3
   },
   "file_extension": ".py",
   "mimetype": "text/x-python",
   "name": "python",
   "nbconvert_exporter": "python",
   "pygments_lexer": "ipython3",
   "version": "3.6.8"
  }
 },
 "nbformat": 4,
 "nbformat_minor": 2
}
