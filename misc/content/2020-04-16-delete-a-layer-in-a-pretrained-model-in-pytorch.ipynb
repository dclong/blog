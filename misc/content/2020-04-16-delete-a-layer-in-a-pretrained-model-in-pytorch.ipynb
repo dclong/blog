{
 "nbformat": 4,
 "nbformat_minor": 2,
 "metadata": {
  "language_info": {
   "name": "python",
   "codemirror_mode": {
    "name": "ipython",
    "version": 3
   }
  },
  "orig_nbformat": 2,
  "file_extension": ".py",
  "mimetype": "text/x-python",
  "name": "python",
  "npconvert_exporter": "python",
  "pygments_lexer": "ipython3",
  "version": 3
 },
 "cells": [
  {
   "cell_type": "markdown",
   "execution_count": null,
   "metadata": {},
   "outputs": [],
   "source": [
    "- Title: Delete a Layer in a Pretrained Model in PyTorch\n",
    "- Slug: delete-a-layer-in-a-pretrained-model-in-pytorch\n",
    "- Date: 2020-04-16 09:48:27\n",
    "- Category: Computer Science\n",
    "- Tags: Computer Science\n",
    "- Author: Ben Du"
   ]
  },
  {
   "cell_type": "code",
   "execution_count": null,
   "metadata": {},
   "outputs": [],
   "source": []
  }
 ]
}
