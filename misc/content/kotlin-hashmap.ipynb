{
 "cells": [
  {
   "cell_type": "markdown",
   "metadata": {},
   "source": [
    "- Title: Hashmap in Kotlin \n",
    "- Slug: hashmap-kotlin\n",
    "- Date: 2019-11-22 08:58:49\n",
    "- Category: Programming\n",
    "- Tags: programming, Kotlin, JVM, collections, Hashmap, Hashtable, dictionary\n",
    "- Author: Ben Du"
   ]
  },
  {
   "cell_type": "markdown",
   "metadata": {},
   "source": [
    "## References\n",
    "\n",
    "https://kotlinlang.org/api/latest/jvm/stdlib/kotlin.collections/-map/index.html#kotlin.collections.Map"
   ]
  },
  {
   "cell_type": "code",
   "execution_count": 5,
   "metadata": {},
   "outputs": [
    {
     "name": "stdout",
     "output_type": "stream",
     "text": [
      "{-1=zz, 1=x, 2=y}\n"
     ]
    },
    {
     "data": {
      "text/plain": [
       "null"
      ]
     },
     "execution_count": 5,
     "metadata": {},
     "output_type": "execute_result"
    }
   ],
   "source": [
    "val map: HashMap<Int, String> = hashMapOf(1 to \"x\", 2 to \"y\", -1 to \"zz\")\n",
    "println(map)"
   ]
  },
  {
   "cell_type": "code",
   "execution_count": 7,
   "metadata": {},
   "outputs": [
    {
     "ename": "org.jetbrains.kotlin.cli.common.repl.ReplEvalResult$Incomplete@5e19a2a9",
     "evalue": "org.jetbrains.kotlin.cli.common.repl.ReplEvalResult$Incomplete@5e19a2a9",
     "output_type": "error",
     "text": "org.jetbrains.kotlin.cli.common.repl.ReplEvalResult$Incomplete@5e19a2a9",
     "traceback": [
      "\u001b[1;31morg.jetbrains.kotlin.cli.common.repl.ReplEvalResult$Incomplete@5e19a2a9\u001b[0;0m"
     ]
    }
   ],
   "source": [
    "val map: HashMap<Int, String> = hashMapOf{\n",
    "    1 to \"x\", 2 to \"y\", -1 to \"zz\"\n",
    "}\n",
    "println(map)"
   ]
  },
  {
   "cell_type": "code",
   "execution_count": null,
   "metadata": {},
   "outputs": [],
   "source": []
  }
 ],
 "metadata": {
  "kernelspec": {
   "display_name": "Kotlin",
   "language": "kotlin",
   "name": "kotlin"
  },
  "language_info": {
   "codemirror_mode": "kotlin",
   "file_extension": ".kt",
   "mimetype": "",
   "name": "Kotlin",
   "nbconverter_exporter": "",
   "version": "1.2.21"
  }
 },
 "nbformat": 4,
 "nbformat_minor": 4
}