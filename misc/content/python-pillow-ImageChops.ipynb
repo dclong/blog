{
 "cells": [
  {
   "cell_type": "markdown",
   "metadata": {},
   "source": [
    "- Title: Hands-on the ImageChops class in Pillow in Python\n",
    "- Slug: python-pillow-ImageChops\n",
    "- Date: 2019-02-16\n",
    "- Category: Programming\n",
    "- Tags: programming, Python, Pillow, computer vision, CV, image, PIL, ImageChops\n",
    "- Author: Ben Du"
   ]
  },
  {
   "cell_type": "code",
   "execution_count": 1,
   "metadata": {},
   "outputs": [],
   "source": [
    "import numpy as np\n",
    "from PIL import Image, ImageOps, ImageChops"
   ]
  },
  {
   "cell_type": "markdown",
   "metadata": {},
   "source": [
    "## References\n",
    "\n",
    "https://pillow.readthedocs.io/en/latest/reference/ImageChops.html#PIL.ImageChops.offset"
   ]
  },
  {
   "cell_type": "code",
   "execution_count": null,
   "metadata": {},
   "outputs": [],
   "source": []
  }
 ],
 "metadata": {
  "kernelspec": {
   "display_name": "Python 3",
   "language": "python",
   "name": "python3"
  },
  "language_info": {
   "codemirror_mode": {
    "name": "ipython",
    "version": 3
   },
   "file_extension": ".py",
   "mimetype": "text/x-python",
   "name": "python",
   "nbconvert_exporter": "python",
   "pygments_lexer": "ipython3",
   "version": "3.7.3"
  }
 },
 "nbformat": 4,
 "nbformat_minor": 4
}
