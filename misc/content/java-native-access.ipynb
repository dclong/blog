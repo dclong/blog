{
 "cells": [
  {
   "cell_type": "markdown",
   "metadata": {},
   "source": [
    "- Title: Java Native Access\n",
    "- Slug: java-native-access\n",
    "- Date: 2019-11-05\n",
    "- Category: Programming\n",
    "- Tags: programming, JVM, Java, JNA, Java Native Access\n",
    "- Author: Ben Du"
   ]
  },
  {
   "cell_type": "markdown",
   "metadata": {},
   "source": [
    "An example of calling a system DLL/SO/dynamic load."
   ]
  },
  {
   "cell_type": "code",
   "execution_count": null,
   "metadata": {},
   "outputs": [],
   "source": [
    "\n",
    "import com.sun.jna.Library;\n",
    "import com.sun.jna.Native;\n",
    "import com.sun.jna.Platform;\n",
    "\n",
    "public class TestSystemDLL {\n",
    "\tpublic interface CLibrary extends Library {\n",
    "        CLibrary INSTANCE = (CLibrary)\n",
    "            Native.loadLibrary((Platform.isWindows() ? \"msvcrt\" : \"c\"),\n",
    "                               CLibrary.class);\n",
    "   \n",
    "        void printf(String format, Object... args);\n",
    "    }\n",
    " \n",
    "    public static void main(String[] args) {\n",
    "        CLibrary.INSTANCE.printf(\"Hello, World\\n\");\n",
    "        for (int i=0;i < args.length;i++) {\n",
    "            CLibrary.INSTANCE.printf(\"Argument %d: %s\\n\", i, args[i]);\n",
    "        }\n",
    "    }\n",
    "}"
   ]
  },
  {
   "cell_type": "markdown",
   "metadata": {},
   "source": [
    "An example of calling a user SO."
   ]
  },
  {
   "cell_type": "code",
   "execution_count": null,
   "metadata": {},
   "outputs": [],
   "source": [
    "import com.sun.jna.Library;\n",
    "import com.sun.jna.Native;\n",
    "\n",
    "public class TestUserDLL {\n",
    "\tpublic interface MyDLL extends Library {\n",
    "\t\t\n",
    "\t\tMyDLL INSTANCE = (MyDLL) Native.loadLibrary(\"/home/dclong/test/sum.so\",\n",
    "\t\t\t\tMyDLL.class);\n",
    "\n",
    "\t\tpublic double sum(double x, double y);\n",
    "\n",
    "\t}\n",
    "\n",
    "\tpublic static void main(String[] args) {\n",
    "\t\tSystem.out.println(MyDLL.INSTANCE.sum(1,2));\n",
    "\t}\n",
    "}"
   ]
  }
 ],
 "metadata": {
  "kernelspec": {
   "display_name": "Java",
   "language": "java",
   "name": "java"
  },
  "language_info": {
   "codemirror_mode": "text/x-java",
   "file_extension": ".java",
   "mimetype": "",
   "name": "Java",
   "nbconverter_exporter": "",
   "version": "1.8.0_222"
  }
 },
 "nbformat": 4,
 "nbformat_minor": 4
}
