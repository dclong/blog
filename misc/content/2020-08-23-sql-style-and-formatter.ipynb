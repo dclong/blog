{
 "nbformat": 4,
 "nbformat_minor": 2,
 "metadata": {
  "language_info": {
   "name": "python",
   "codemirror_mode": {
    "name": "ipython",
    "version": 3
   },
   "version": "3.8.2"
  },
  "orig_nbformat": 2,
  "file_extension": ".py",
  "mimetype": "text/x-python",
  "name": "python",
  "npconvert_exporter": "python",
  "pygments_lexer": "ipython3",
  "version": 3
 },
 "cells": [
  {
   "cell_type": "markdown",
   "metadata": {},
   "source": [
    "- Author: Ben Du\n",
    "- Date: 2020-08-24 10:20:09\n",
    "- Title: Sql Style And Formatter\n",
    "- Slug: sql-style-and-formatter\n",
    "- Category: Computer Science\n",
    "- Tags: Computer Science, SQL, programming, format, formatter"
   ]
  },
  {
   "cell_type": "markdown",
   "metadata": {},
   "source": [
    "[SQL translation](https://www.jooq.org/translate/)\n",
    "\n",
    "## SQL Formatter\n",
    "\n",
    "You can use online SQL formatters to help you format SQL queries.\n",
    "\n",
    "1. [SQL-Formatter](https://www.freeformatter.com/sql-formatter.html) seems to be a good one.\n",
    "\n",
    "2. [SQL formatter from ExtendsClass](https://extendsclass.com/sql-formatter.html)\n",
    "\n",
    "2. [EverSQL Query Formatter](https://www.eversql.com/sql-query-formatter/)\n",
    "\n",
    "1. [Instant SQL Formatter](http://www.dpriver.com/pp/sqlformat.htm)\n",
    "\n",
    "2. [SQLFormat](https://sqlformat.org/)\n",
    "\n",
    "3. [SQL Formatter](http://www.sql-format.com/)\n",
    "\n",
    "4. [SQL Formatter - Code Beautify](https://codebeautify.org/sqlformatter)\n",
    "\n",
    "5. [Poor SQL](https://poorsql.com/)\n"
   ]
  },
  {
   "cell_type": "markdown",
   "metadata": {},
   "source": [
    "## Python Libraries\n",
    "\n",
    "You can also use the Python library \n",
    "[andialbrecht/sqlparse](https://github.com/andialbrecht/sqlparse)\n",
    "to help you format SQL queries.\n",
    "It is actually the backend of [SQLFormat](https://sqlformat.org/)."
   ]
  },
  {
   "source": [
    "import sqlparse as sp\n",
    "sql = \"\"\"\n",
    "    select c1, c2 /* this is a comment */\n",
    "    from t where c1 > 1\"\n",
    "    \"\"\"\n",
    "sql_fmt = sp.format(sql,\n",
    "    keyword_case= \"upper\",\n",
    "    identifier_case=\"lower\",\n",
    "    strip_comments=False,\n",
    "    reindent=True,\n",
    "    indent_width=2\n",
    ")\n",
    "print(sql_fmt)"
   ],
   "cell_type": "code",
   "outputs": [
    {
     "output_type": "stream",
     "name": "stdout",
     "text": "\nSELECT c1,\n       c2 /* this is a comment */\nFROM t\nWHERE c1 > 1\"\n"
    }
   ],
   "metadata": {},
   "execution_count": 1
  },
  {
   "source": [
    "## JavaScipt/TypeScript Libraries\n",
    "\n",
    "https://github.com/zeroturnaround/sql-formatter\n",
    "\n",
    "## Java Libraries\n",
    "\n",
    "[vertical-blank/sql-formatter](https://github.com/vertical-blank/sql-formatter)\n",
    "is Java port of the great JS-based SQL formatter \n",
    "[zeroturnaround/sql-formatter](https://github.com/zeroturnaround/sql-formatter)\n",
    "(which is itself a JS port of the PHP-based SQL formatter.)\n",
    "\n",
    "## PHP Libraries\n",
    "\n",
    "[jdorn/sql-formatter](https://github.com/jdorn/sql-formatter)\n",
    "\n",
    "## SQL Style and Formatting\n",
    "\n",
    "https://www.sqlstyle.guide/\n",
    "\n",
    "1. `||` works differently on different date types. \n",
    "    This is because different data types have different (default) padding/formatting styles.\n",
    "    You can manually cast date types to produce the format you want. \n",
    "\n",
    "2. some people like to put `,` \n",
    "    before column names in select, \n",
    "    I don't think this is a good practices, \n",
    "    as what if we want to remove the first column? \n",
    "    it similarly inconvenient to removing the last column when put comma after column names\n",
    "\n",
    "## References\n",
    "\n",
    "https://stackoverflow.com/questions/3310188/what-free-sql-formatting-tools-exist\n",
    "\n",
    "http://stackoverflow.com/questions/1394998/parsing-sql-with-python\n"
   ],
   "cell_type": "markdown",
   "metadata": {}
  }
 ]
}