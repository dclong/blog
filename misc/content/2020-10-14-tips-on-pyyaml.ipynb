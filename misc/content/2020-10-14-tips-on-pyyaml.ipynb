{
 "nbformat": 4,
 "nbformat_minor": 2,
 "metadata": {
  "language_info": {
   "name": "python",
   "codemirror_mode": {
    "name": "ipython",
    "version": 3
   },
   "version": "3.8.2"
  },
  "orig_nbformat": 2,
  "file_extension": ".py",
  "mimetype": "text/x-python",
  "name": "python",
  "npconvert_exporter": "python",
  "pygments_lexer": "ipython3",
  "version": 3,
  "kernelspec": {
   "name": "Python 3.8.5 64-bit",
   "display_name": "Python 3.8.5 64-bit",
   "metadata": {
    "interpreter": {
     "hash": "aee8b7b246df8f9039afb4144a1f6fd8d2ca17a180786b69acc140d282b71a49"
    }
   }
  }
 },
 "cells": [
  {
   "cell_type": "markdown",
   "metadata": {},
   "source": [
    "- Author: Ben Du\n",
    "- Date: 2020-10-17 12:32:23\n",
    "- Title: Tips on PyYAML\n",
    "- Slug: tips-on-pyyaml\n",
    "- Category: Computer Science\n",
    "- Tags: Computer Science, PyYAML, YAML, IO, JSON"
   ]
  },
  {
   "cell_type": "markdown",
   "metadata": {},
   "source": [
    "- [ruamel.yaml](https://bitbucket.org/ruamel/yaml/src/default/) (YAML 1.2)\n",
    "- [PyYAML](https://github.com/yaml/pyyaml) (YAML 1.1 currently)\n",
    "\n",
    "PyYAML is more widely used currently.\n",
    "\n",
    "\n",
    "http://sweetohm.net/article/introduction-yaml.en.html\n",
    "\n",
    "https://pyyaml.org/wiki/PyYAMLDocumentation\n",
    "\n",
    "\n",
    "1. PyYAML is the most popular Python library for parsing YAML.\n",
    "\n",
    "2. [SnakeYaml](https://bitbucket.org/asomov/snakeyaml/src/default/)\n",
    "  is a high quality YAML library for JVM-based languages (Java, Scala, etc.)\n",
    "  [circe-yaml](https://github.com/circe/circe-yaml)\n",
    "  is a Scala library for parsing YAML.\n",
    "\n"
   ]
  },
  {
   "cell_type": "code",
   "execution_count": 1,
   "metadata": {},
   "outputs": [
    {
     "output_type": "stream",
     "name": "stdout",
     "text": [
      "Requirement already satisfied: pyyaml in /usr/local/lib/python3.8/site-packages (5.3.1)\n"
     ]
    }
   ],
   "source": [
    "!pip3 install pyyaml"
   ]
  },
  {
   "source": [
    "import yaml"
   ],
   "cell_type": "code",
   "outputs": [],
   "metadata": {},
   "execution_count": 3
  },
  {
   "cell_type": "code",
   "execution_count": 5,
   "metadata": {},
   "outputs": [],
   "source": [
    "doc = \"\"\"\n",
    "  a: 1\n",
    "  b:\n",
    "    c: 3\n",
    "    d: 4\n",
    "\"\"\""
   ]
  },
  {
   "cell_type": "code",
   "execution_count": 7,
   "metadata": {},
   "outputs": [
    {
     "output_type": "execute_result",
     "data": {
      "text/plain": [
       "{'a': 1, 'b': {'c': 3, 'd': 4}}"
      ]
     },
     "metadata": {},
     "execution_count": 7
    }
   ],
   "source": [
    "dic = yaml.load(doc)\n",
    "dic"
   ]
  },
  {
   "cell_type": "code",
   "execution_count": 12,
   "metadata": {},
   "outputs": [],
   "source": [
    "yaml.dump(dic, open(\"test.yml\", \"w\"))"
   ]
  },
  {
   "cell_type": "code",
   "execution_count": 14,
   "metadata": {},
   "outputs": [
    {
     "output_type": "execute_result",
     "data": {
      "text/plain": [
       "{'a': 1, 'b': {'c': 3, 'd': 4}}"
      ]
     },
     "metadata": {},
     "execution_count": 14
    }
   ],
   "source": [
    "yaml.load(open(\"test.yml\"))"
   ]
  },
  {
   "cell_type": "markdown",
   "metadata": {},
   "source": [
    "## Read YAML from a String"
   ]
  },
  {
   "source": [
    "doc = \"\"\"\n",
    "- \n",
    "    cal_dt: 2019-01-01\n",
    "- \n",
    "    cal_dt: 2019-01-02\n",
    "    \n",
    "    \n",
    "\"\"\"\n",
    "yaml.load(doc, Loader=yaml.FullLoader)"
   ],
   "cell_type": "code",
   "outputs": [
    {
     "output_type": "execute_result",
     "data": {
      "text/plain": "[{'cal_dt': datetime.date(2019, 1, 1)}, {'cal_dt': datetime.date(2019, 1, 2)}]"
     },
     "metadata": {},
     "execution_count": 4
    }
   ],
   "metadata": {},
   "execution_count": 4
  },
  {
   "cell_type": "markdown",
   "metadata": {},
   "source": [
    "## Read YAML Form File (Single Doc)"
   ]
  },
  {
   "source": [
    "with open('items.yaml') as fin:\n",
    "    data = yaml.load(fin, Loader=yaml.FullLoader)\n",
    "print(data)"
   ],
   "cell_type": "code",
   "outputs": [
    {
     "output_type": "stream",
     "name": "stdout",
     "text": "{'raincoat': 1, 'coins': 5, 'books': 23, 'spectacles': 2, 'chairs': 12, 'pens': 6}\n"
    }
   ],
   "metadata": {},
   "execution_count": 8
  },
  {
   "cell_type": "markdown",
   "metadata": {},
   "source": [
    "## Read YAML (Multiple Docs)\n",
    "\n",
    "Notice that the method yaml.load_all returns a generator!\n"
   ]
  },
  {
   "source": [
    "with open('data.yaml') as f:\n",
    "    docs = yaml.load_all(f, Loader=yaml.FullLoader)\n",
    "    for doc in docs:\n",
    "        for k, v in doc.items():\n",
    "            print(k, \"->\", v)"
   ],
   "cell_type": "code",
   "outputs": [
    {
     "output_type": "stream",
     "name": "stdout",
     "text": "cities -> ['Bratislava', 'Kosice', 'Trnava', 'Moldava', 'Trencin']\ncompanies -> ['Eset', 'Slovnaft', 'Duslo Sala', 'Matador Puchov']\n"
    }
   ],
   "metadata": {},
   "execution_count": 9
  },
  {
   "cell_type": "markdown",
   "metadata": {},
   "source": [
    "Convert generator to a list so that you use it out of the with block.\n"
   ]
  },
  {
   "source": [
    "with open('data.yaml') as f:\n",
    "    docs = list(yaml.load_all(f, Loader=yaml.FullLoader))"
   ],
   "cell_type": "code",
   "outputs": [],
   "metadata": {},
   "execution_count": 11
  },
  {
   "source": [
    "docs"
   ],
   "cell_type": "code",
   "outputs": [
    {
     "output_type": "execute_result",
     "data": {
      "text/plain": "[{'cities': ['Bratislava', 'Kosice', 'Trnava', 'Moldava', 'Trencin']},\n {'companies': ['Eset', 'Slovnaft', 'Duslo Sala', 'Matador Puchov']}]"
     },
     "metadata": {},
     "execution_count": 12
    }
   ],
   "metadata": {},
   "execution_count": 12
  },
  {
   "source": [
    "for doc in docs:\n",
    "    for k, v in doc.items():\n",
    "        print(k, \"->\", v)"
   ],
   "cell_type": "code",
   "outputs": [
    {
     "output_type": "stream",
     "name": "stdout",
     "text": "cities -> ['Bratislava', 'Kosice', 'Trnava', 'Moldava', 'Trencin']\ncompanies -> ['Eset', 'Slovnaft', 'Duslo Sala', 'Matador Puchov']\n"
    }
   ],
   "metadata": {},
   "execution_count": 13
  },
  {
   "cell_type": "markdown",
   "metadata": {},
   "source": [
    "## YAML Dump to String"
   ]
  },
  {
   "source": [
    "users = [\n",
    "    {'name': 'John Doe', 'occupation': 'gardener'},\n",
    "    {'name': 'Lucy Black', 'occupation': 'teacher'}\n",
    "]\n",
    "\n",
    "print(yaml.dump(users))"
   ],
   "cell_type": "code",
   "outputs": [
    {
     "output_type": "stream",
     "name": "stdout",
     "text": "- name: John Doe\n  occupation: gardener\n- name: Lucy Black\n  occupation: teacher\n\n"
    }
   ],
   "metadata": {},
   "execution_count": 14
  },
  {
   "cell_type": "markdown",
   "metadata": {},
   "source": [
    "## YAML Dump to File"
   ]
  },
  {
   "source": [
    "with open('users.yaml', 'w') as fout:\n",
    "    data = yaml.dump(users, fout)"
   ],
   "cell_type": "code",
   "outputs": [],
   "metadata": {},
   "execution_count": 15
  },
  {
   "cell_type": "markdown",
   "metadata": {},
   "source": [
    "## Tokens\n",
    "\n",
    "PyYAML can work with a lower-level API when parsing YAML files. The mehtod scan scans a YAML stream and produces scanning tokens.\n",
    "\n",
    "The following example scans and prints tokens."
   ]
  },
  {
   "source": [
    "with open('items.yaml') as f:\n",
    "    data = yaml.scan(f, Loader=yaml.FullLoader)\n",
    "    for token in data:\n",
    "        print(token)"
   ],
   "cell_type": "code",
   "outputs": [
    {
     "output_type": "stream",
     "name": "stdout",
     "text": "StreamStartToken(encoding=None)\nBlockMappingStartToken()\nKeyToken()\nScalarToken(plain=True, style=None, value='raincoat')\nValueToken()\nScalarToken(plain=True, style=None, value='1')\nKeyToken()\nScalarToken(plain=True, style=None, value='coins')\nValueToken()\nScalarToken(plain=True, style=None, value='5')\nKeyToken()\nScalarToken(plain=True, style=None, value='books')\nValueToken()\nScalarToken(plain=True, style=None, value='23')\nKeyToken()\nScalarToken(plain=True, style=None, value='spectacles')\nValueToken()\nScalarToken(plain=True, style=None, value='2')\nKeyToken()\nScalarToken(plain=True, style=None, value='chairs')\nValueToken()\nScalarToken(plain=True, style=None, value='12')\nKeyToken()\nScalarToken(plain=True, style=None, value='pens')\nValueToken()\nScalarToken(plain=True, style=None, value='6')\nBlockEndToken()\nStreamEndToken()\n"
    }
   ],
   "metadata": {},
   "execution_count": 17
  },
  {
   "source": [
    "## Examples"
   ],
   "cell_type": "markdown",
   "metadata": {}
  },
  {
   "source": [
    "with open('ex1.yaml', 'r') as fin:\n",
    "    data = yaml.load(fin, Loader=yaml.FullLoader)\n",
    "print(data)"
   ],
   "cell_type": "code",
   "outputs": [
    {
     "output_type": "stream",
     "name": "stdout",
     "text": "{'args': [{'cal_dt': '2019-01-01', 'path': '/path/1'}, {'cal_dt': '2019-01-02', 'path': '/path/2'}]}\n"
    }
   ],
   "metadata": {},
   "execution_count": 20
  },
  {
   "source": [
    "with open('ex2.yaml', 'r') as fin:\n",
    "    data = yaml.load(fin, Loader=yaml.FullLoader)\n",
    "print(data)"
   ],
   "cell_type": "code",
   "outputs": [
    {
     "output_type": "stream",
     "name": "stdout",
     "text": "[{'cal_dt': datetime.date(2019, 1, 1), 'path': '/path/1'}, {'cal_dt': datetime.date(2019, 1, 2), 'path': '/path/2'}]\n"
    }
   ],
   "metadata": {},
   "execution_count": 21
  },
  {
   "source": [
    "type(data[0]['cal_dt'])"
   ],
   "cell_type": "code",
   "outputs": [
    {
     "output_type": "execute_result",
     "data": {
      "text/plain": "datetime.date"
     },
     "metadata": {},
     "execution_count": 22
    }
   ],
   "metadata": {},
   "execution_count": 22
  },
  {
   "source": [
    "with open('ex3.yaml', 'r') as fin:\n",
    "    data = yaml.load(fin, Loader=yaml.FullLoader)\n",
    "print(data)"
   ],
   "cell_type": "code",
   "outputs": [
    {
     "output_type": "stream",
     "name": "stdout",
     "text": "{'args': {'x': [1, 2, 3], 'y': ['a', 'b', 'c']}}\n"
    }
   ],
   "metadata": {},
   "execution_count": 23
  },
  {
   "source": [
    "with open('ex4.yaml', 'r') as fin:\n",
    "    data = yaml.load(fin, Loader=yaml.FullLoader)\n",
    "print(data)"
   ],
   "cell_type": "code",
   "outputs": [
    {
     "output_type": "stream",
     "name": "stdout",
     "text": "{'x': [1, 2, 3], 'y': ['a', 'b', 'c']}\n"
    }
   ],
   "metadata": {},
   "execution_count": 24
  },
  {
   "cell_type": "markdown",
   "metadata": {},
   "source": [
    "## Embed Python Code\n",
    "\n",
    "https://stackoverflow.com/questions/26062256/execute-python-code-embedded-in-yaml-file\n"
   ]
  },
  {
   "source": [
    "with open('ex5.yaml', 'r') as fin:\n",
    "    data = yaml.load(fin, Loader=yaml.FullLoader)\n",
    "data"
   ],
   "cell_type": "code",
   "outputs": [
    {
     "output_type": "execute_result",
     "data": {
      "text/plain": "{'x': [1, 2, 3],\n 'y': \"import dsutil\\ndsutil.datetime.range('2019-01-01', '2019-01-05')\"}"
     },
     "metadata": {},
     "execution_count": 26
    }
   ],
   "metadata": {},
   "execution_count": 26
  },
  {
   "source": [
    "data['y']"
   ],
   "cell_type": "code",
   "outputs": [
    {
     "output_type": "execute_result",
     "data": {
      "text/plain": "\"import dsutil\\ndsutil.datetime.range('2019-01-01', '2019-01-05')\""
     },
     "metadata": {},
     "execution_count": 27
    }
   ],
   "metadata": {},
   "execution_count": 27
  },
  {
   "source": [
    "eval(compile(data['y'], 'some_file', 'exec'))\n"
   ],
   "cell_type": "code",
   "outputs": [],
   "metadata": {},
   "execution_count": 28
  },
  {
   "source": [
    "x = eval('range(10)')\n"
   ],
   "cell_type": "code",
   "outputs": [],
   "metadata": {},
   "execution_count": 31
  },
  {
   "source": [
    "x"
   ],
   "cell_type": "code",
   "outputs": [
    {
     "output_type": "execute_result",
     "data": {
      "text/plain": "range(0, 10)"
     },
     "metadata": {},
     "execution_count": 32
    }
   ],
   "metadata": {},
   "execution_count": 32
  },
  {
   "source": [
    "import json\n",
    "json.dumps(list(x))"
   ],
   "cell_type": "code",
   "outputs": [
    {
     "output_type": "execute_result",
     "data": {
      "text/plain": "'[0, 1, 2, 3, 4, 5, 6, 7, 8, 9]'"
     },
     "metadata": {},
     "execution_count": 33
    }
   ],
   "metadata": {},
   "execution_count": 33
  },
  {
   "source": [
    "list(exec(data['y']))\n"
   ],
   "cell_type": "code",
   "outputs": [
    {
     "output_type": "error",
     "ename": "TypeError",
     "evalue": "'NoneType' object is not iterable",
     "traceback": [
      "\u001b[0;31m---------------------------------------------------------------------------\u001b[0m",
      "\u001b[0;31mTypeError\u001b[0m                                 Traceback (most recent call last)",
      "\u001b[0;32m<ipython-input-34-42675847b9bb>\u001b[0m in \u001b[0;36m<module>\u001b[0;34m\u001b[0m\n\u001b[0;32m----> 1\u001b[0;31m \u001b[0mlist\u001b[0m\u001b[0;34m(\u001b[0m\u001b[0mexec\u001b[0m\u001b[0;34m(\u001b[0m\u001b[0mdata\u001b[0m\u001b[0;34m[\u001b[0m\u001b[0;34m'y'\u001b[0m\u001b[0;34m]\u001b[0m\u001b[0;34m)\u001b[0m\u001b[0;34m)\u001b[0m\u001b[0;34m\u001b[0m\u001b[0;34m\u001b[0m\u001b[0m\n\u001b[0m",
      "\u001b[0;31mTypeError\u001b[0m: 'NoneType' object is not iterable"
     ]
    }
   ],
   "metadata": {},
   "execution_count": 34
  },
  {
   "cell_type": "markdown",
   "metadata": {},
   "source": [
    "eval, exec, single, compile\n",
    "\n",
    "\n",
    "1. simple 1 line python code which requires you to have every library ready ...\n",
    "\n",
    "2. multiple: need a way to reliably run the code and return the result ..."
   ]
  },
  {
   "cell_type": "code",
   "execution_count": null,
   "metadata": {},
   "outputs": [],
   "source": [
    "yaml.load('''!!python/list(range(10))''', Loader=yaml.FullLoader)\n"
   ]
  },
  {
   "cell_type": "code",
   "execution_count": null,
   "metadata": {},
   "outputs": [],
   "source": []
  },
  {
   "source": [
    "## References \n",
    "\n",
    "https://github.com/yaml/pyyaml\n",
    "\n",
    "http://zetcode.com/python/yaml/"
   ],
   "cell_type": "markdown",
   "metadata": {}
  },
  {
   "cell_type": "code",
   "execution_count": null,
   "metadata": {},
   "outputs": [],
   "source": []
  }
 ]
}