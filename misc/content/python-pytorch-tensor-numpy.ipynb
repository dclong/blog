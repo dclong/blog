{
 "cells": [
  {
   "cell_type": "markdown",
   "metadata": {},
   "source": [
    "- Title: Convert a Tensor to a Numpy Array in PyTorch\n",
    "- Slug: python-pytorch-tensor-numpy\n",
    "- Date: 2020-03-03 11:45:08\n",
    "- Category: Programming\n",
    "- Tags: programming, Python, AI, data science, machine learning, deep learning, PyTorch, tensor, numpy, array\n",
    "- Author: Ben Du"
   ]
  },
  {
   "cell_type": "markdown",
   "metadata": {},
   "source": [
    "## Tips\n",
    "\n",
    "There are multiple ways to convert a Tensor to a numpy array in PyTorch.\n",
    "First,\n",
    "you can call the method `Tensor.numpy`.\n",
    "\n",
    "    my_tensor.numpy()\n",
    "    \n",
    "Second,\n",
    "you can use the function `numpy.array`.\n",
    "\n",
    "    import numpy as np\n",
    "    np.array(my_tensor)\n",
    "    \n",
    "It is suggested that you use the function `numpy.array` \n",
    "to convert a Tensor to a numpy array.\n",
    "The reason is that `numpy.array` is more generic. \n",
    "You can also use it to convert other objects (e.g., PIL.Image)\n",
    "to numpy arrays\n",
    "while those objects might not have a method named `numpy`.\n",
    "\n",
    "\n",
    "Notice that a Tensor on CUDA cannot be converted to a numpy array directly.\n",
    "You have to move it to CPU first and then convert to a numpy array.\n",
    "\n",
    "    import numpy as np\n",
    "    np.array(my_tensor.to(\"cpu\"))\n",
    "    \n",
    "As a matter of fact,\n",
    "**this is the suggested way to convert a Tensor to a numpy array** \n",
    "as it works for Tensors on different devices."
   ]
  },
  {
   "cell_type": "code",
   "execution_count": 14,
   "metadata": {},
   "outputs": [],
   "source": [
    "import torch\n",
    "import numpy as np"
   ]
  },
  {
   "cell_type": "code",
   "execution_count": 12,
   "metadata": {},
   "outputs": [
    {
     "data": {
      "text/plain": [
       "tensor([[ 1,  2,  3,  4,  5],\n",
       "        [ 6,  7,  8,  9, 10]])"
      ]
     },
     "execution_count": 12,
     "metadata": {},
     "output_type": "execute_result"
    }
   ],
   "source": [
    "x = torch.tensor([\n",
    "    [1, 2, 3, 4, 5],\n",
    "    [6, 7, 8, 9, 10],\n",
    "])\n",
    "x"
   ]
  },
  {
   "cell_type": "code",
   "execution_count": 13,
   "metadata": {},
   "outputs": [
    {
     "data": {
      "text/plain": [
       "array([[ 1,  2,  3,  4,  5],\n",
       "       [ 6,  7,  8,  9, 10]])"
      ]
     },
     "execution_count": 13,
     "metadata": {},
     "output_type": "execute_result"
    }
   ],
   "source": [
    "x.numpy()"
   ]
  },
  {
   "cell_type": "code",
   "execution_count": 15,
   "metadata": {},
   "outputs": [
    {
     "data": {
      "text/plain": [
       "array([[ 1,  2,  3,  4,  5],\n",
       "       [ 6,  7,  8,  9, 10]])"
      ]
     },
     "execution_count": 15,
     "metadata": {},
     "output_type": "execute_result"
    }
   ],
   "source": [
    "np.array(x)"
   ]
  },
  {
   "cell_type": "markdown",
   "metadata": {},
   "source": [
    "Move a Tensor to CPU and then convert it to a numpy array.\n",
    "**This is the suggested way to convert a Tensor to a numpy array**."
   ]
  },
  {
   "cell_type": "code",
   "execution_count": 16,
   "metadata": {},
   "outputs": [
    {
     "data": {
      "text/plain": [
       "array([[ 1,  2,  3,  4,  5],\n",
       "       [ 6,  7,  8,  9, 10]])"
      ]
     },
     "execution_count": 16,
     "metadata": {},
     "output_type": "execute_result"
    }
   ],
   "source": [
    "np.array(x.to(\"cpu\"))"
   ]
  },
  {
   "cell_type": "code",
   "execution_count": null,
   "metadata": {},
   "outputs": [],
   "source": []
  }
 ],
 "metadata": {
  "kernelspec": {
   "display_name": "Python 3",
   "language": "python",
   "name": "python3"
  },
  "language_info": {
   "codemirror_mode": {
    "name": "ipython",
    "version": 3
   },
   "file_extension": ".py",
   "mimetype": "text/x-python",
   "name": "python",
   "nbconvert_exporter": "python",
   "pygments_lexer": "ipython3",
   "version": "3.7.3"
  }
 },
 "nbformat": 4,
 "nbformat_minor": 4
}
