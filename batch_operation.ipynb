{
 "cells": [
  {
   "cell_type": "code",
   "execution_count": 1,
   "metadata": {},
   "outputs": [],
   "source": [
    "from pathlib import Path\n",
    "import shutil\n",
    "from blogger import is_post, Post"
   ]
  },
  {
   "cell_type": "code",
   "execution_count": 2,
   "metadata": {},
   "outputs": [],
   "source": [
    "for path in Path().glob(\"*/*/*/**/*\"):\n",
    "    if is_post(path):\n",
    "        post = Post(path)\n",
    "        post.update_meta_field({\n",
    "            \"Modified\": post.record().date\n",
    "        })"
   ]
  },
  {
   "cell_type": "markdown",
   "metadata": {},
   "source": [
    "## Disclaimer"
   ]
  },
  {
   "cell_type": "markdown",
   "metadata": {},
   "source": [
    "### misc"
   ]
  },
  {
   "cell_type": "code",
   "execution_count": 1,
   "metadata": {},
   "outputs": [],
   "source": [
    "s1 = \"It is not meant to readers\\nbut rather for convenient reference of the author and future improvement.\"\n",
    "s2 = \"Please read with your own judgement!\""
   ]
  },
  {
   "cell_type": "code",
   "execution_count": 2,
   "metadata": {},
   "outputs": [],
   "source": [
    "from pathlib import Path"
   ]
  },
  {
   "cell_type": "code",
   "execution_count": 3,
   "metadata": {},
   "outputs": [],
   "source": [
    "for path in Path(\"misc/content/\").glob(\"*.markdown\"):\n",
    "    text = path.read_text().replace(s1, s2)\n",
    "    with path.open(\"w\") as fout:\n",
    "        fout.write(text)"
   ]
  },
  {
   "cell_type": "markdown",
   "metadata": {},
   "source": [
    "### outdated"
   ]
  },
  {
   "cell_type": "code",
   "execution_count": 1,
   "metadata": {},
   "outputs": [],
   "source": [
    "olds = [\"\"\"\n",
    "Things on this page are\n",
    "fragmentary and immature notes/thoughts of the author.\n",
    "It is not meant to readers\n",
    "but rather for convenient reference of the author and future improvement.\n",
    "\"\"\".strip(),\n",
    "\"\"\"\n",
    "Things on this page are fragmentary and immature notes/thoughts of the author. \n",
    "Please read with your own judgement!\n",
    "\"\"\".strip(),\n",
    "\"\"\"\n",
    "Things on this page are\n",
    "fragmentary and immature notes/thoughts of the author.\n",
    "Please read with your own judgement!\n",
    "\"\"\".strip()\n",
    "]\n",
    "new = \"\"\"\n",
    "Things under legendu.net/outdated are outdated technologies \n",
    "that the author does not plan to update any more. \n",
    "Please look for better alternatives. \n",
    "\"\"\".strip()"
   ]
  },
  {
   "cell_type": "code",
   "execution_count": 5,
   "metadata": {},
   "outputs": [],
   "source": [
    "for path in Path(\"outdated/content\").glob(\"**/*.markdown\"):\n",
    "    text = path.read_text()\n",
    "    for old in olds:\n",
    "        text = text.replace(old, new)\n",
    "    with path.open(\"w\") as fout:\n",
    "        fout.write(text)"
   ]
  },
  {
   "cell_type": "code",
   "execution_count": null,
   "metadata": {},
   "outputs": [],
   "source": []
  }
 ],
 "metadata": {
  "kernelspec": {
   "display_name": "Python 3",
   "language": "python",
   "name": "python3"
  },
  "language_info": {
   "codemirror_mode": {
    "name": "ipython",
    "version": 3
   },
   "file_extension": ".py",
   "mimetype": "text/x-python",
   "name": "python",
   "nbconvert_exporter": "python",
   "pygments_lexer": "ipython3",
   "version": "3.8.5"
  }
 },
 "nbformat": 4,
 "nbformat_minor": 4
}
