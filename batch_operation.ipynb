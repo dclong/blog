{
 "cells": [
  {
   "cell_type": "code",
   "execution_count": 1,
   "metadata": {},
   "outputs": [],
   "source": [
    "from pathlib import Path\n",
    "import shutil\n",
    "from blog import Post"
   ]
  },
  {
   "cell_type": "markdown",
   "metadata": {},
   "source": [
    "## Nest Dirs\n",
    "\n",
    "Move posts which are not in nested date dirs to corresponding nested date dirs."
   ]
  },
  {
   "cell_type": "code",
   "execution_count": 6,
   "metadata": {},
   "outputs": [],
   "source": [
    "def nest_dir():\n",
    "    paths = [path for path in Path().glob(\"*/**/*\") if path.suffix in (\".markdown\", \".ipynb\")]\n",
    "    for path in paths:\n",
    "        dir_ = path.parent / path.stem\n",
    "        dir_.mkdir(parents=True, exist_ok=True)\n",
    "        #print(f\"{path} -> {dir_ / path.name}\")\n",
    "        shutil.move(path, dir_ / path.name)"
   ]
  },
  {
   "cell_type": "code",
   "execution_count": 7,
   "metadata": {},
   "outputs": [],
   "source": [
    "nest_dir()"
   ]
  },
  {
   "cell_type": "markdown",
   "metadata": {},
   "source": [
    "## Disclaimer"
   ]
  },
  {
   "cell_type": "markdown",
   "metadata": {},
   "source": [
    "### misc"
   ]
  },
  {
   "cell_type": "code",
   "execution_count": 1,
   "metadata": {},
   "outputs": [],
   "source": [
    "s1 = \"It is not meant to readers\\nbut rather for convenient reference of the author and future improvement.\"\n",
    "s2 = \"Please read with your own judgement!\""
   ]
  },
  {
   "cell_type": "code",
   "execution_count": 2,
   "metadata": {},
   "outputs": [],
   "source": [
    "from pathlib import Path"
   ]
  },
  {
   "cell_type": "code",
   "execution_count": 3,
   "metadata": {},
   "outputs": [],
   "source": [
    "for path in Path(\"misc/content/\").glob(\"*.markdown\"):\n",
    "    text = path.read_text().replace(s1, s2)\n",
    "    with path.open(\"w\") as fout:\n",
    "        fout.write(text)"
   ]
  },
  {
   "cell_type": "markdown",
   "metadata": {},
   "source": [
    "### outdated"
   ]
  },
  {
   "cell_type": "code",
   "execution_count": 1,
   "metadata": {},
   "outputs": [],
   "source": [
    "olds = [\"\"\"\n",
    "Things on this page are\n",
    "fragmentary and immature notes/thoughts of the author.\n",
    "It is not meant to readers\n",
    "but rather for convenient reference of the author and future improvement.\n",
    "\"\"\".strip(),\n",
    "\"\"\"\n",
    "Things on this page are fragmentary and immature notes/thoughts of the author. \n",
    "Please read with your own judgement!\n",
    "\"\"\".strip(),\n",
    "\"\"\"\n",
    "Things on this page are\n",
    "fragmentary and immature notes/thoughts of the author.\n",
    "Please read with your own judgement!\n",
    "\"\"\".strip()\n",
    "]\n",
    "new = \"\"\"\n",
    "Things under legendu.net/outdated are outdated technologies \n",
    "that the author does not plan to update any more. \n",
    "Please look for better alternatives. \n",
    "\"\"\".strip()"
   ]
  },
  {
   "cell_type": "code",
   "execution_count": 5,
   "metadata": {},
   "outputs": [],
   "source": [
    "for path in Path(\"outdated/content\").glob(\"**/*.markdown\"):\n",
    "    text = path.read_text()\n",
    "    for old in olds:\n",
    "        text = text.replace(old, new)\n",
    "    with path.open(\"w\") as fout:\n",
    "        fout.write(text)"
   ]
  },
  {
   "cell_type": "code",
   "execution_count": null,
   "metadata": {},
   "outputs": [],
   "source": []
  }
 ],
 "metadata": {
  "kernelspec": {
   "display_name": "Python 3",
   "language": "python",
   "name": "python3"
  },
  "language_info": {
   "codemirror_mode": {
    "name": "ipython",
    "version": 3
   },
   "file_extension": ".py",
   "mimetype": "text/x-python",
   "name": "python",
   "nbconvert_exporter": "python",
   "pygments_lexer": "ipython3",
   "version": "3.8.5"
  }
 },
 "nbformat": 4,
 "nbformat_minor": 4
}
